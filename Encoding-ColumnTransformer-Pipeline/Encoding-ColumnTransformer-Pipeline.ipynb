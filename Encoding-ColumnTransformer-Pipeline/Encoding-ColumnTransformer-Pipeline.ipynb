{
 "cells": [
  {
   "cell_type": "markdown",
   "id": "a452529e",
   "metadata": {},
   "source": [
    "<div class=\"alert alert-block alert-danger\">   \n",
    "    <h1 style=\"text-align: center; color:purple;\">Encoding, ColumnTransformer, Pipeline</h1>\n",
    "    <h3 style=\"text-align: center; color:purple;\">(Data Preprocessing | Model Building | Prediction)</h3>\n",
    "</div>"
   ]
  },
  {
   "cell_type": "markdown",
   "id": "cae38d28",
   "metadata": {},
   "source": [
    "Data preprocessing in Machine Learning is a crucial step and refers to the technique of preparing (cleaning and organizing) the data to make it suitable for a building and training Machine Learning models.\n",
    "\n",
    "Machine learning models require all input variables to be numeric. So, you must encode categorical data to numbers before fitting and evaluating a model.\n",
    "\n",
    "Different methods can be used to encode categorical features and building a machine learning model. We will use \"Health Insurance Charges\" data for encoding and model building. "
   ]
  },
  {
   "cell_type": "markdown",
   "id": "be949dbc",
   "metadata": {},
   "source": [
    "### CONTENT\n",
    "<a id='content'></a>\n",
    "\n",
    "\n",
    "- 1) [Data Review](#data)\n",
    "\n",
    "\n",
    "- 2) [Data pre-processing, Model Building and Prediction (pandas get_dummies)](#phase1)<br>\n",
    "    * 2.1 [encoding and scaling (pandas get_dummies)](#pre-process1)    \n",
    "    * 2.2 [simple linear regression model building](#model1)\n",
    "    * 2.3 [prediction](#prediction1-1)\n",
    "    * 2.4 [prediction with pickle](#prediction1-2)\n",
    "    \n",
    "    \n",
    "- 3) [Data pre-processing, Model Building and Prediction With Encoders, ColumnTransformer and Pipeline](#phase2)\n",
    "    * 3.1 [encoding with OrdinalEncoder and OneHotEncoder](#pre-process2)\n",
    "    * 3.2 [how to use encoders in column transformer](#pre-process3)\n",
    "    * 3.3 [building a regression model with ColumnTransformer and Pipeline](#model2)\n",
    "    * 3.4 [building a regression model with make_column_transformer and make_pipeline](#model3)\n",
    "    * 3.5 [prediction](#prediction2-1)\n",
    "    * 3.6 [prediction with pickle](#prediction2-2)\n",
    "    \n",
    "    \n",
    "- 4) [Grid Search with Pipeline and make_pipeline](#phase3)\n",
    "    * 4.1 [ColumnTransformer and Pipeline](#GSearch-1)\n",
    "    * 4.2 [make_column_transformer and make_pipeline](#GSearch-2)\n",
    "    \n",
    "    \n",
    "- 5) [Conclusion](#conc)"
   ]
  },
  {
   "cell_type": "markdown",
   "id": "88248c5f",
   "metadata": {},
   "source": [
    "<div class=\"alert alert-block alert-success\">\n",
    "    \n",
    "<b>1. Data Review<a id='data'></a></b>\n",
    "    \n",
    "</div>"
   ]
  },
  {
   "cell_type": "code",
   "execution_count": 1,
   "id": "31c09310",
   "metadata": {},
   "outputs": [],
   "source": [
    "import numpy as np\n",
    "import pandas as pd\n",
    "\n",
    "import seaborn as sns\n",
    "from yellowbrick.style import set_palette\n",
    "set_palette('flatui')\n",
    "\n",
    "import warnings\n",
    "warnings.filterwarnings(\"ignore\")\n",
    "\n",
    "pd.set_option('display.float_format', lambda x: '%.3f' % x)"
   ]
  },
  {
   "cell_type": "code",
   "execution_count": 2,
   "id": "544a5fbd",
   "metadata": {},
   "outputs": [
    {
     "data": {
      "text/html": [
       "<div>\n",
       "<style scoped>\n",
       "    .dataframe tbody tr th:only-of-type {\n",
       "        vertical-align: middle;\n",
       "    }\n",
       "\n",
       "    .dataframe tbody tr th {\n",
       "        vertical-align: top;\n",
       "    }\n",
       "\n",
       "    .dataframe thead th {\n",
       "        text-align: right;\n",
       "    }\n",
       "</style>\n",
       "<table border=\"1\" class=\"dataframe\">\n",
       "  <thead>\n",
       "    <tr style=\"text-align: right;\">\n",
       "      <th></th>\n",
       "      <th>age</th>\n",
       "      <th>sex</th>\n",
       "      <th>bmi</th>\n",
       "      <th>smoker</th>\n",
       "      <th>region</th>\n",
       "      <th>children</th>\n",
       "      <th>charges</th>\n",
       "    </tr>\n",
       "  </thead>\n",
       "  <tbody>\n",
       "    <tr>\n",
       "      <th>0</th>\n",
       "      <td>21</td>\n",
       "      <td>male</td>\n",
       "      <td>25.745</td>\n",
       "      <td>no</td>\n",
       "      <td>northeast</td>\n",
       "      <td>2</td>\n",
       "      <td>3279.869</td>\n",
       "    </tr>\n",
       "    <tr>\n",
       "      <th>1</th>\n",
       "      <td>37</td>\n",
       "      <td>female</td>\n",
       "      <td>25.744</td>\n",
       "      <td>yes</td>\n",
       "      <td>southeast</td>\n",
       "      <td>3</td>\n",
       "      <td>21454.494</td>\n",
       "    </tr>\n",
       "    <tr>\n",
       "      <th>2</th>\n",
       "      <td>18</td>\n",
       "      <td>male</td>\n",
       "      <td>30.030</td>\n",
       "      <td>no</td>\n",
       "      <td>southeast</td>\n",
       "      <td>1</td>\n",
       "      <td>1720.354</td>\n",
       "    </tr>\n",
       "    <tr>\n",
       "      <th>3</th>\n",
       "      <td>37</td>\n",
       "      <td>male</td>\n",
       "      <td>30.677</td>\n",
       "      <td>no</td>\n",
       "      <td>northeast</td>\n",
       "      <td>3</td>\n",
       "      <td>6801.438</td>\n",
       "    </tr>\n",
       "    <tr>\n",
       "      <th>4</th>\n",
       "      <td>58</td>\n",
       "      <td>male</td>\n",
       "      <td>32.010</td>\n",
       "      <td>no</td>\n",
       "      <td>southeast</td>\n",
       "      <td>1</td>\n",
       "      <td>11946.626</td>\n",
       "    </tr>\n",
       "  </tbody>\n",
       "</table>\n",
       "</div>"
      ],
      "text/plain": [
       "   age     sex    bmi smoker     region  children   charges\n",
       "0   21    male 25.745     no  northeast         2  3279.869\n",
       "1   37  female 25.744    yes  southeast         3 21454.494\n",
       "2   18    male 30.030     no  southeast         1  1720.354\n",
       "3   37    male 30.677     no  northeast         3  6801.438\n",
       "4   58    male 32.010     no  southeast         1 11946.626"
      ]
     },
     "execution_count": 2,
     "metadata": {},
     "output_type": "execute_result"
    }
   ],
   "source": [
    "data=pd.read_csv(\"health_insurance_charges.csv\")\n",
    "data.head()"
   ]
  },
  {
   "cell_type": "code",
   "execution_count": 3,
   "id": "709735be",
   "metadata": {},
   "outputs": [
    {
     "name": "stdout",
     "output_type": "stream",
     "text": [
      "<class 'pandas.core.frame.DataFrame'>\n",
      "RangeIndex: 2500 entries, 0 to 2499\n",
      "Data columns (total 7 columns):\n",
      " #   Column    Non-Null Count  Dtype  \n",
      "---  ------    --------------  -----  \n",
      " 0   age       2500 non-null   int64  \n",
      " 1   sex       2500 non-null   object \n",
      " 2   bmi       2500 non-null   float64\n",
      " 3   smoker    2500 non-null   object \n",
      " 4   region    2500 non-null   object \n",
      " 5   children  2500 non-null   int64  \n",
      " 6   charges   2500 non-null   float64\n",
      "dtypes: float64(2), int64(2), object(3)\n",
      "memory usage: 136.8+ KB\n"
     ]
    }
   ],
   "source": [
    "data.info()"
   ]
  },
  {
   "cell_type": "code",
   "execution_count": 4,
   "id": "d55e430f",
   "metadata": {},
   "outputs": [
    {
     "data": {
      "text/plain": [
       "((2500, 7), 17500)"
      ]
     },
     "execution_count": 4,
     "metadata": {},
     "output_type": "execute_result"
    }
   ],
   "source": [
    "data.shape, data.size"
   ]
  },
  {
   "cell_type": "code",
   "execution_count": 5,
   "id": "e03b43f0",
   "metadata": {},
   "outputs": [
    {
     "data": {
      "text/plain": [
       "(False, False)"
      ]
     },
     "execution_count": 5,
     "metadata": {},
     "output_type": "execute_result"
    }
   ],
   "source": [
    "data.isnull().sum().any(), \\\n",
    "data.duplicated().any()"
   ]
  },
  {
   "cell_type": "code",
   "execution_count": 6,
   "id": "56eff57c",
   "metadata": {},
   "outputs": [
    {
     "data": {
      "text/html": [
       "<div>\n",
       "<style scoped>\n",
       "    .dataframe tbody tr th:only-of-type {\n",
       "        vertical-align: middle;\n",
       "    }\n",
       "\n",
       "    .dataframe tbody tr th {\n",
       "        vertical-align: top;\n",
       "    }\n",
       "\n",
       "    .dataframe thead th {\n",
       "        text-align: right;\n",
       "    }\n",
       "</style>\n",
       "<table border=\"1\" class=\"dataframe\">\n",
       "  <thead>\n",
       "    <tr style=\"text-align: right;\">\n",
       "      <th></th>\n",
       "      <th>age</th>\n",
       "      <th>bmi</th>\n",
       "      <th>children</th>\n",
       "      <th>charges</th>\n",
       "    </tr>\n",
       "  </thead>\n",
       "  <tbody>\n",
       "    <tr>\n",
       "      <th>count</th>\n",
       "      <td>2500.000</td>\n",
       "      <td>2500.000</td>\n",
       "      <td>2500.000</td>\n",
       "      <td>2500.000</td>\n",
       "    </tr>\n",
       "    <tr>\n",
       "      <th>mean</th>\n",
       "      <td>39.007</td>\n",
       "      <td>30.575</td>\n",
       "      <td>2.488</td>\n",
       "      <td>12679.312</td>\n",
       "    </tr>\n",
       "    <tr>\n",
       "      <th>std</th>\n",
       "      <td>12.264</td>\n",
       "      <td>5.390</td>\n",
       "      <td>1.707</td>\n",
       "      <td>10593.270</td>\n",
       "    </tr>\n",
       "    <tr>\n",
       "      <th>min</th>\n",
       "      <td>18.000</td>\n",
       "      <td>15.960</td>\n",
       "      <td>0.000</td>\n",
       "      <td>1121.874</td>\n",
       "    </tr>\n",
       "    <tr>\n",
       "      <th>25%</th>\n",
       "      <td>29.000</td>\n",
       "      <td>26.718</td>\n",
       "      <td>1.000</td>\n",
       "      <td>5612.781</td>\n",
       "    </tr>\n",
       "    <tr>\n",
       "      <th>50%</th>\n",
       "      <td>39.000</td>\n",
       "      <td>30.200</td>\n",
       "      <td>2.000</td>\n",
       "      <td>9455.047</td>\n",
       "    </tr>\n",
       "    <tr>\n",
       "      <th>75%</th>\n",
       "      <td>49.000</td>\n",
       "      <td>34.046</td>\n",
       "      <td>4.000</td>\n",
       "      <td>14440.628</td>\n",
       "    </tr>\n",
       "    <tr>\n",
       "      <th>max</th>\n",
       "      <td>64.000</td>\n",
       "      <td>53.130</td>\n",
       "      <td>5.000</td>\n",
       "      <td>63770.428</td>\n",
       "    </tr>\n",
       "  </tbody>\n",
       "</table>\n",
       "</div>"
      ],
      "text/plain": [
       "           age      bmi  children   charges\n",
       "count 2500.000 2500.000  2500.000  2500.000\n",
       "mean    39.007   30.575     2.488 12679.312\n",
       "std     12.264    5.390     1.707 10593.270\n",
       "min     18.000   15.960     0.000  1121.874\n",
       "25%     29.000   26.718     1.000  5612.781\n",
       "50%     39.000   30.200     2.000  9455.047\n",
       "75%     49.000   34.046     4.000 14440.628\n",
       "max     64.000   53.130     5.000 63770.428"
      ]
     },
     "execution_count": 6,
     "metadata": {},
     "output_type": "execute_result"
    }
   ],
   "source": [
    "data.describe()"
   ]
  },
  {
   "cell_type": "code",
   "execution_count": 7,
   "id": "a6eed993",
   "metadata": {},
   "outputs": [
    {
     "data": {
      "image/png": "[encoded data removed]",
      "text/plain": [
       "<Figure size 720x720 with 20 Axes>"
      ]
     },
     "metadata": {},
     "output_type": "display_data"
    }
   ],
   "source": [
    "sns.pairplot(data);"
   ]
  },
  {
   "cell_type": "code",
   "execution_count": 8,
   "id": "f9f15b37",
   "metadata": {},
   "outputs": [
    {
     "data": {
      "image/png": "[encoded data removed]",
      "text/plain": [
       "<Figure size 576x396 with 2 Axes>"
      ]
     },
     "metadata": {},
     "output_type": "display_data"
    }
   ],
   "source": [
    "sns.heatmap(data.corr(), annot=True);"
   ]
  },
  {
   "cell_type": "markdown",
   "id": "97dbd8ea",
   "metadata": {},
   "source": [
    "***converting age column to categorical (ordinal) data***\n",
    "\n",
    "While this is not required, it is applied to show the use of the OrdinalEncoder and ColumnTransformer."
   ]
  },
  {
   "cell_type": "code",
   "execution_count": 9,
   "id": "b1ba5422",
   "metadata": {},
   "outputs": [
    {
     "data": {
      "text/plain": [
       "array([18, 19, 20, 21, 22, 23, 24, 25, 26, 27, 28, 29, 30, 31, 32, 33, 34,\n",
       "       35, 36, 37, 38, 39, 40, 41, 42, 43, 44, 45, 46, 47, 48, 49, 50, 51,\n",
       "       52, 53, 54, 55, 56, 57, 58, 59, 60, 61, 62, 63, 64], dtype=int64)"
      ]
     },
     "execution_count": 9,
     "metadata": {},
     "output_type": "execute_result"
    }
   ],
   "source": [
    "np.sort(data.age.unique())"
   ]
  },
  {
   "cell_type": "code",
   "execution_count": 10,
   "id": "ac2a7b35",
   "metadata": {},
   "outputs": [],
   "source": [
    "data['age'] = data.age.apply(lambda x: '15-20' if x < 21 else '21-30' if x < 31 else '31-40' if x < 41 else '41-50' if x < 51\n",
    "                                    else '51-60' if x < 61 else '60-65')"
   ]
  },
  {
   "cell_type": "code",
   "execution_count": 11,
   "id": "33a9df5e",
   "metadata": {},
   "outputs": [
    {
     "data": {
      "text/plain": [
       "41-50    695\n",
       "31-40    600\n",
       "21-30    539\n",
       "51-60    389\n",
       "15-20    189\n",
       "60-65     88\n",
       "Name: age, dtype: int64"
      ]
     },
     "execution_count": 11,
     "metadata": {},
     "output_type": "execute_result"
    }
   ],
   "source": [
    "data['age'].value_counts()"
   ]
  },
  {
   "cell_type": "markdown",
   "id": "5e6e3b24",
   "metadata": {},
   "source": [
    "<div class=\"alert alert-block alert-success\">\n",
    "    \n",
    "<b>2. Data pre-processing, Model Building and Prediction (pandas get_dummies)<a id='phase1'></a></b>\n",
    "    \n",
    "</div>"
   ]
  },
  {
   "cell_type": "markdown",
   "id": "9e18e99a",
   "metadata": {},
   "source": [
    "[CONTENT](#content)"
   ]
  },
  {
   "cell_type": "code",
   "execution_count": 12,
   "id": "10aca39a",
   "metadata": {},
   "outputs": [],
   "source": [
    "from sklearn.model_selection import train_test_split, cross_val_score\n",
    "from sklearn.preprocessing import MinMaxScaler\n",
    "from sklearn.metrics import mean_squared_error, r2_score"
   ]
  },
  {
   "cell_type": "code",
   "execution_count": 13,
   "id": "4b3e3a89",
   "metadata": {},
   "outputs": [],
   "source": [
    "df = data.copy()"
   ]
  },
  {
   "cell_type": "markdown",
   "id": "18773885",
   "metadata": {},
   "source": [
    "## 2.1 encoding and scaling (pandas get_dummies)\n",
    "<a id='pre-process1'></a>"
   ]
  },
  {
   "cell_type": "markdown",
   "id": "cdc3316a",
   "metadata": {},
   "source": [
    "***encoding for nominal features***"
   ]
  },
  {
   "cell_type": "code",
   "execution_count": 14,
   "id": "90283f2f",
   "metadata": {},
   "outputs": [],
   "source": [
    "# In the next part, OrdinalEncoder will be used to convert categorical data to numeric.\n",
    "# note the order of categories when converting to numeric for ordinal data.\n",
    "\n",
    "df.age.replace(np.sort(df.age.unique()), range(df.age.nunique()), inplace=True)"
   ]
  },
  {
   "cell_type": "code",
   "execution_count": 15,
   "id": "993469b6",
   "metadata": {},
   "outputs": [
    {
     "data": {
      "text/plain": [
       "3    695\n",
       "2    600\n",
       "1    539\n",
       "4    389\n",
       "0    189\n",
       "5     88\n",
       "Name: age, dtype: int64"
      ]
     },
     "execution_count": 15,
     "metadata": {},
     "output_type": "execute_result"
    }
   ],
   "source": [
    "df.age.value_counts()"
   ]
  },
  {
   "cell_type": "markdown",
   "id": "a9073bee",
   "metadata": {},
   "source": [
    "***encoding for ordinal features***\n",
    "\n",
    "When using dummy variables in a regression model, you should be careful of the Dummy Variable Trap. The Dummy Variable Trap is a scenario in which two or more variables are highly correlated; in simple terms one variable can be predicted from the others. The solution to the dummy variable trap is to drop one of the categorical variables.\n",
    "\n",
    "(use dummy variable encoding with drop_first=True in a regression model)"
   ]
  },
  {
   "cell_type": "code",
   "execution_count": 16,
   "id": "a353892f",
   "metadata": {},
   "outputs": [],
   "source": [
    "df = pd.get_dummies(df, drop_first=True)"
   ]
  },
  {
   "cell_type": "code",
   "execution_count": 17,
   "id": "b0adfa46",
   "metadata": {},
   "outputs": [
    {
     "data": {
      "text/html": [
       "<div>\n",
       "<style scoped>\n",
       "    .dataframe tbody tr th:only-of-type {\n",
       "        vertical-align: middle;\n",
       "    }\n",
       "\n",
       "    .dataframe tbody tr th {\n",
       "        vertical-align: top;\n",
       "    }\n",
       "\n",
       "    .dataframe thead th {\n",
       "        text-align: right;\n",
       "    }\n",
       "</style>\n",
       "<table border=\"1\" class=\"dataframe\">\n",
       "  <thead>\n",
       "    <tr style=\"text-align: right;\">\n",
       "      <th></th>\n",
       "      <th>age</th>\n",
       "      <th>bmi</th>\n",
       "      <th>children</th>\n",
       "      <th>charges</th>\n",
       "      <th>sex_male</th>\n",
       "      <th>smoker_yes</th>\n",
       "      <th>region_northwest</th>\n",
       "      <th>region_southeast</th>\n",
       "      <th>region_southwest</th>\n",
       "    </tr>\n",
       "  </thead>\n",
       "  <tbody>\n",
       "    <tr>\n",
       "      <th>0</th>\n",
       "      <td>1</td>\n",
       "      <td>25.745</td>\n",
       "      <td>2</td>\n",
       "      <td>3279.869</td>\n",
       "      <td>1</td>\n",
       "      <td>0</td>\n",
       "      <td>0</td>\n",
       "      <td>0</td>\n",
       "      <td>0</td>\n",
       "    </tr>\n",
       "    <tr>\n",
       "      <th>1</th>\n",
       "      <td>2</td>\n",
       "      <td>25.744</td>\n",
       "      <td>3</td>\n",
       "      <td>21454.494</td>\n",
       "      <td>0</td>\n",
       "      <td>1</td>\n",
       "      <td>0</td>\n",
       "      <td>1</td>\n",
       "      <td>0</td>\n",
       "    </tr>\n",
       "    <tr>\n",
       "      <th>2</th>\n",
       "      <td>0</td>\n",
       "      <td>30.030</td>\n",
       "      <td>1</td>\n",
       "      <td>1720.354</td>\n",
       "      <td>1</td>\n",
       "      <td>0</td>\n",
       "      <td>0</td>\n",
       "      <td>1</td>\n",
       "      <td>0</td>\n",
       "    </tr>\n",
       "    <tr>\n",
       "      <th>3</th>\n",
       "      <td>2</td>\n",
       "      <td>30.677</td>\n",
       "      <td>3</td>\n",
       "      <td>6801.438</td>\n",
       "      <td>1</td>\n",
       "      <td>0</td>\n",
       "      <td>0</td>\n",
       "      <td>0</td>\n",
       "      <td>0</td>\n",
       "    </tr>\n",
       "    <tr>\n",
       "      <th>4</th>\n",
       "      <td>4</td>\n",
       "      <td>32.010</td>\n",
       "      <td>1</td>\n",
       "      <td>11946.626</td>\n",
       "      <td>1</td>\n",
       "      <td>0</td>\n",
       "      <td>0</td>\n",
       "      <td>1</td>\n",
       "      <td>0</td>\n",
       "    </tr>\n",
       "  </tbody>\n",
       "</table>\n",
       "</div>"
      ],
      "text/plain": [
       "   age    bmi  children   charges  sex_male  smoker_yes  region_northwest  \\\n",
       "0    1 25.745         2  3279.869         1           0                 0   \n",
       "1    2 25.744         3 21454.494         0           1                 0   \n",
       "2    0 30.030         1  1720.354         1           0                 0   \n",
       "3    2 30.677         3  6801.438         1           0                 0   \n",
       "4    4 32.010         1 11946.626         1           0                 0   \n",
       "\n",
       "   region_southeast  region_southwest  \n",
       "0                 0                 0  \n",
       "1                 1                 0  \n",
       "2                 1                 0  \n",
       "3                 0                 0  \n",
       "4                 1                 0  "
      ]
     },
     "execution_count": 17,
     "metadata": {},
     "output_type": "execute_result"
    }
   ],
   "source": [
    "df.head()"
   ]
  },
  {
   "cell_type": "markdown",
   "id": "420d8540",
   "metadata": {},
   "source": [
    "## 2.2 simple linear regression model building\n",
    "<a id='model1'></a>"
   ]
  },
  {
   "cell_type": "markdown",
   "id": "9dccbbc0",
   "metadata": {},
   "source": [
    "***splitting data into training and testing sets***"
   ]
  },
  {
   "cell_type": "code",
   "execution_count": 18,
   "id": "a96a7282",
   "metadata": {},
   "outputs": [],
   "source": [
    "X = df.drop('charges', axis=1)\n",
    "y = df['charges']"
   ]
  },
  {
   "cell_type": "code",
   "execution_count": 19,
   "id": "361ba193",
   "metadata": {},
   "outputs": [],
   "source": [
    "X_train, X_test, y_train, y_test = train_test_split(X, y, test_size=0.2, random_state=101)"
   ]
  },
  {
   "cell_type": "code",
   "execution_count": 20,
   "id": "346dc8be",
   "metadata": {},
   "outputs": [
    {
     "data": {
      "text/html": [
       "<div>\n",
       "<style scoped>\n",
       "    .dataframe tbody tr th:only-of-type {\n",
       "        vertical-align: middle;\n",
       "    }\n",
       "\n",
       "    .dataframe tbody tr th {\n",
       "        vertical-align: top;\n",
       "    }\n",
       "\n",
       "    .dataframe thead th {\n",
       "        text-align: right;\n",
       "    }\n",
       "</style>\n",
       "<table border=\"1\" class=\"dataframe\">\n",
       "  <thead>\n",
       "    <tr style=\"text-align: right;\">\n",
       "      <th></th>\n",
       "      <th>age</th>\n",
       "      <th>bmi</th>\n",
       "      <th>children</th>\n",
       "      <th>sex_male</th>\n",
       "      <th>smoker_yes</th>\n",
       "      <th>region_northwest</th>\n",
       "      <th>region_southeast</th>\n",
       "      <th>region_southwest</th>\n",
       "    </tr>\n",
       "  </thead>\n",
       "  <tbody>\n",
       "    <tr>\n",
       "      <th>1026</th>\n",
       "      <td>3</td>\n",
       "      <td>29.096</td>\n",
       "      <td>1</td>\n",
       "      <td>0</td>\n",
       "      <td>0</td>\n",
       "      <td>0</td>\n",
       "      <td>0</td>\n",
       "      <td>1</td>\n",
       "    </tr>\n",
       "    <tr>\n",
       "      <th>1459</th>\n",
       "      <td>3</td>\n",
       "      <td>39.175</td>\n",
       "      <td>4</td>\n",
       "      <td>0</td>\n",
       "      <td>0</td>\n",
       "      <td>1</td>\n",
       "      <td>0</td>\n",
       "      <td>0</td>\n",
       "    </tr>\n",
       "    <tr>\n",
       "      <th>2164</th>\n",
       "      <td>3</td>\n",
       "      <td>30.603</td>\n",
       "      <td>4</td>\n",
       "      <td>1</td>\n",
       "      <td>1</td>\n",
       "      <td>0</td>\n",
       "      <td>0</td>\n",
       "      <td>0</td>\n",
       "    </tr>\n",
       "    <tr>\n",
       "      <th>2098</th>\n",
       "      <td>3</td>\n",
       "      <td>24.644</td>\n",
       "      <td>5</td>\n",
       "      <td>0</td>\n",
       "      <td>0</td>\n",
       "      <td>0</td>\n",
       "      <td>1</td>\n",
       "      <td>0</td>\n",
       "    </tr>\n",
       "    <tr>\n",
       "      <th>852</th>\n",
       "      <td>0</td>\n",
       "      <td>53.130</td>\n",
       "      <td>0</td>\n",
       "      <td>1</td>\n",
       "      <td>0</td>\n",
       "      <td>0</td>\n",
       "      <td>1</td>\n",
       "      <td>0</td>\n",
       "    </tr>\n",
       "  </tbody>\n",
       "</table>\n",
       "</div>"
      ],
      "text/plain": [
       "      age    bmi  children  sex_male  smoker_yes  region_northwest  \\\n",
       "1026    3 29.096         1         0           0                 0   \n",
       "1459    3 39.175         4         0           0                 1   \n",
       "2164    3 30.603         4         1           1                 0   \n",
       "2098    3 24.644         5         0           0                 0   \n",
       "852     0 53.130         0         1           0                 0   \n",
       "\n",
       "      region_southeast  region_southwest  \n",
       "1026                 0                 1  \n",
       "1459                 0                 0  \n",
       "2164                 0                 0  \n",
       "2098                 1                 0  \n",
       "852                  1                 0  "
      ]
     },
     "execution_count": 20,
     "metadata": {},
     "output_type": "execute_result"
    }
   ],
   "source": [
    "X_train.head()"
   ]
  },
  {
   "cell_type": "code",
   "execution_count": 21,
   "id": "5035d20a",
   "metadata": {},
   "outputs": [
    {
     "name": "stdout",
     "output_type": "stream",
     "text": [
      "Train features shape :  (2000, 8)\n",
      "Test features shape  :  (500, 8)\n"
     ]
    }
   ],
   "source": [
    "print(\"Train features shape : \", X_train.shape)\n",
    "print(\"Test features shape  : \", X_test.shape)"
   ]
  },
  {
   "cell_type": "markdown",
   "id": "d1d43908",
   "metadata": {},
   "source": [
    "***scaling***"
   ]
  },
  {
   "cell_type": "code",
   "execution_count": 22,
   "id": "ac7cf491",
   "metadata": {},
   "outputs": [],
   "source": [
    "scaler = MinMaxScaler()\n",
    "\n",
    "X_train_scaled = scaler.fit_transform(X_train)\n",
    "X_test_scaled = scaler.transform(X_test)"
   ]
  },
  {
   "cell_type": "code",
   "execution_count": 23,
   "id": "5e35da94",
   "metadata": {},
   "outputs": [
    {
     "data": {
      "text/html": [
       "<div>\n",
       "<style scoped>\n",
       "    .dataframe tbody tr th:only-of-type {\n",
       "        vertical-align: middle;\n",
       "    }\n",
       "\n",
       "    .dataframe tbody tr th {\n",
       "        vertical-align: top;\n",
       "    }\n",
       "\n",
       "    .dataframe thead th {\n",
       "        text-align: right;\n",
       "    }\n",
       "</style>\n",
       "<table border=\"1\" class=\"dataframe\">\n",
       "  <thead>\n",
       "    <tr style=\"text-align: right;\">\n",
       "      <th></th>\n",
       "      <th>0</th>\n",
       "      <th>1</th>\n",
       "      <th>2</th>\n",
       "      <th>3</th>\n",
       "      <th>4</th>\n",
       "      <th>5</th>\n",
       "      <th>6</th>\n",
       "      <th>7</th>\n",
       "    </tr>\n",
       "  </thead>\n",
       "  <tbody>\n",
       "    <tr>\n",
       "      <th>0</th>\n",
       "      <td>0.600</td>\n",
       "      <td>0.338</td>\n",
       "      <td>0.200</td>\n",
       "      <td>0.000</td>\n",
       "      <td>0.000</td>\n",
       "      <td>0.000</td>\n",
       "      <td>0.000</td>\n",
       "      <td>1.000</td>\n",
       "    </tr>\n",
       "    <tr>\n",
       "      <th>1</th>\n",
       "      <td>0.600</td>\n",
       "      <td>0.616</td>\n",
       "      <td>0.800</td>\n",
       "      <td>0.000</td>\n",
       "      <td>0.000</td>\n",
       "      <td>1.000</td>\n",
       "      <td>0.000</td>\n",
       "      <td>0.000</td>\n",
       "    </tr>\n",
       "    <tr>\n",
       "      <th>2</th>\n",
       "      <td>0.600</td>\n",
       "      <td>0.380</td>\n",
       "      <td>0.800</td>\n",
       "      <td>1.000</td>\n",
       "      <td>1.000</td>\n",
       "      <td>0.000</td>\n",
       "      <td>0.000</td>\n",
       "      <td>0.000</td>\n",
       "    </tr>\n",
       "    <tr>\n",
       "      <th>3</th>\n",
       "      <td>0.600</td>\n",
       "      <td>0.216</td>\n",
       "      <td>1.000</td>\n",
       "      <td>0.000</td>\n",
       "      <td>0.000</td>\n",
       "      <td>0.000</td>\n",
       "      <td>1.000</td>\n",
       "      <td>0.000</td>\n",
       "    </tr>\n",
       "    <tr>\n",
       "      <th>4</th>\n",
       "      <td>0.000</td>\n",
       "      <td>1.000</td>\n",
       "      <td>0.000</td>\n",
       "      <td>1.000</td>\n",
       "      <td>0.000</td>\n",
       "      <td>0.000</td>\n",
       "      <td>1.000</td>\n",
       "      <td>0.000</td>\n",
       "    </tr>\n",
       "  </tbody>\n",
       "</table>\n",
       "</div>"
      ],
      "text/plain": [
       "      0     1     2     3     4     5     6     7\n",
       "0 0.600 0.338 0.200 0.000 0.000 0.000 0.000 1.000\n",
       "1 0.600 0.616 0.800 0.000 0.000 1.000 0.000 0.000\n",
       "2 0.600 0.380 0.800 1.000 1.000 0.000 0.000 0.000\n",
       "3 0.600 0.216 1.000 0.000 0.000 0.000 1.000 0.000\n",
       "4 0.000 1.000 0.000 1.000 0.000 0.000 1.000 0.000"
      ]
     },
     "execution_count": 23,
     "metadata": {},
     "output_type": "execute_result"
    }
   ],
   "source": [
    "pd.DataFrame(X_train_scaled[:5])"
   ]
  },
  {
   "cell_type": "markdown",
   "id": "e2e7f3f7",
   "metadata": {},
   "source": [
    "***model building***"
   ]
  },
  {
   "cell_type": "code",
   "execution_count": 24,
   "id": "0bbdcf4b",
   "metadata": {},
   "outputs": [],
   "source": [
    "from sklearn.linear_model import LinearRegression"
   ]
  },
  {
   "cell_type": "code",
   "execution_count": 25,
   "id": "d8420461",
   "metadata": {},
   "outputs": [
    {
     "data": {
      "text/plain": [
       "LinearRegression()"
      ]
     },
     "execution_count": 25,
     "metadata": {},
     "output_type": "execute_result"
    }
   ],
   "source": [
    "model = LinearRegression()\n",
    "model.fit(X_train_scaled, y_train) #use scaled X_train"
   ]
  },
  {
   "cell_type": "code",
   "execution_count": 26,
   "id": "1b872468",
   "metadata": {},
   "outputs": [
    {
     "name": "stdout",
     "output_type": "stream",
     "text": [
      "R2 score   : 0.752\n",
      "rmse score : 5275.00\n"
     ]
    }
   ],
   "source": [
    "y_pred = model.predict(X_test_scaled) #use scaled X_test\n",
    "\n",
    "R2 = r2_score(y_test, y_pred)\n",
    "rmse = np.sqrt(mean_squared_error(y_test, y_pred))\n",
    "\n",
    "print(f'R2 score   : {R2:.3f}')\n",
    "print(f'rmse score : {rmse:.2f}')"
   ]
  },
  {
   "cell_type": "code",
   "execution_count": 27,
   "id": "61335916",
   "metadata": {},
   "outputs": [
    {
     "data": {
      "text/plain": [
       "5825.597221266161"
      ]
     },
     "execution_count": 27,
     "metadata": {},
     "output_type": "execute_result"
    }
   ],
   "source": [
    "abs(cross_val_score(model, X_train_scaled, y_train, cv=10, scoring='neg_root_mean_squared_error').mean())"
   ]
  },
  {
   "cell_type": "code",
   "execution_count": 28,
   "id": "1ea23676",
   "metadata": {},
   "outputs": [
    {
     "data": {
      "text/html": [
       "<div>\n",
       "<style scoped>\n",
       "    .dataframe tbody tr th:only-of-type {\n",
       "        vertical-align: middle;\n",
       "    }\n",
       "\n",
       "    .dataframe tbody tr th {\n",
       "        vertical-align: top;\n",
       "    }\n",
       "\n",
       "    .dataframe thead th {\n",
       "        text-align: right;\n",
       "    }\n",
       "</style>\n",
       "<table border=\"1\" class=\"dataframe\">\n",
       "  <thead>\n",
       "    <tr style=\"text-align: right;\">\n",
       "      <th></th>\n",
       "      <th>Actual</th>\n",
       "      <th>Prediction</th>\n",
       "    </tr>\n",
       "  </thead>\n",
       "  <tbody>\n",
       "    <tr>\n",
       "      <th>2415</th>\n",
       "      <td>15181.169</td>\n",
       "      <td>10481.138</td>\n",
       "    </tr>\n",
       "    <tr>\n",
       "      <th>218</th>\n",
       "      <td>10104.560</td>\n",
       "      <td>12096.514</td>\n",
       "    </tr>\n",
       "    <tr>\n",
       "      <th>469</th>\n",
       "      <td>3292.530</td>\n",
       "      <td>6491.600</td>\n",
       "    </tr>\n",
       "    <tr>\n",
       "      <th>1166</th>\n",
       "      <td>42656.691</td>\n",
       "      <td>35926.803</td>\n",
       "    </tr>\n",
       "    <tr>\n",
       "      <th>254</th>\n",
       "      <td>12026.095</td>\n",
       "      <td>11548.323</td>\n",
       "    </tr>\n",
       "  </tbody>\n",
       "</table>\n",
       "</div>"
      ],
      "text/plain": [
       "        Actual  Prediction\n",
       "2415 15181.169   10481.138\n",
       "218  10104.560   12096.514\n",
       "469   3292.530    6491.600\n",
       "1166 42656.691   35926.803\n",
       "254  12026.095   11548.323"
      ]
     },
     "execution_count": 28,
     "metadata": {},
     "output_type": "execute_result"
    }
   ],
   "source": [
    "pd.DataFrame({'Actual': y_test[:5], 'Prediction': model.predict(X_test_scaled)[:5]})"
   ]
  },
  {
   "cell_type": "markdown",
   "id": "9cd84ea4",
   "metadata": {},
   "source": [
    "## 2.3 prediction\n",
    "<a id='prediction1-1'></a>"
   ]
  },
  {
   "cell_type": "code",
   "execution_count": 29,
   "id": "32f990b8",
   "metadata": {},
   "outputs": [],
   "source": [
    "final_scaler = MinMaxScaler()\n",
    "final_scaler.fit(X)\n",
    "X_scaled = final_scaler.transform(X)"
   ]
  },
  {
   "cell_type": "code",
   "execution_count": 30,
   "id": "94f64864",
   "metadata": {},
   "outputs": [
    {
     "data": {
      "text/plain": [
       "LinearRegression()"
      ]
     },
     "execution_count": 30,
     "metadata": {},
     "output_type": "execute_result"
    }
   ],
   "source": [
    "final_model = LinearRegression()\n",
    "final_model.fit(X_scaled,y)"
   ]
  },
  {
   "cell_type": "code",
   "execution_count": 31,
   "id": "7db8416d",
   "metadata": {},
   "outputs": [
    {
     "data": {
      "text/html": [
       "<div>\n",
       "<style scoped>\n",
       "    .dataframe tbody tr th:only-of-type {\n",
       "        vertical-align: middle;\n",
       "    }\n",
       "\n",
       "    .dataframe tbody tr th {\n",
       "        vertical-align: top;\n",
       "    }\n",
       "\n",
       "    .dataframe thead th {\n",
       "        text-align: right;\n",
       "    }\n",
       "</style>\n",
       "<table border=\"1\" class=\"dataframe\">\n",
       "  <thead>\n",
       "    <tr style=\"text-align: right;\">\n",
       "      <th></th>\n",
       "      <th>age</th>\n",
       "      <th>sex</th>\n",
       "      <th>bmi</th>\n",
       "      <th>smoker</th>\n",
       "      <th>region</th>\n",
       "      <th>children</th>\n",
       "    </tr>\n",
       "  </thead>\n",
       "  <tbody>\n",
       "    <tr>\n",
       "      <th>0</th>\n",
       "      <td>15-20</td>\n",
       "      <td>male</td>\n",
       "      <td>25.754</td>\n",
       "      <td>yes</td>\n",
       "      <td>southwest</td>\n",
       "      <td>2</td>\n",
       "    </tr>\n",
       "    <tr>\n",
       "      <th>1</th>\n",
       "      <td>31-40</td>\n",
       "      <td>male</td>\n",
       "      <td>34.313</td>\n",
       "      <td>no</td>\n",
       "      <td>northeast</td>\n",
       "      <td>0</td>\n",
       "    </tr>\n",
       "    <tr>\n",
       "      <th>2</th>\n",
       "      <td>60-65</td>\n",
       "      <td>female</td>\n",
       "      <td>48.700</td>\n",
       "      <td>no</td>\n",
       "      <td>northeast</td>\n",
       "      <td>4</td>\n",
       "    </tr>\n",
       "    <tr>\n",
       "      <th>3</th>\n",
       "      <td>31-40</td>\n",
       "      <td>female</td>\n",
       "      <td>19.111</td>\n",
       "      <td>yes</td>\n",
       "      <td>southeast</td>\n",
       "      <td>4</td>\n",
       "    </tr>\n",
       "    <tr>\n",
       "      <th>4</th>\n",
       "      <td>21-30</td>\n",
       "      <td>male</td>\n",
       "      <td>40.642</td>\n",
       "      <td>yes</td>\n",
       "      <td>northwest</td>\n",
       "      <td>1</td>\n",
       "    </tr>\n",
       "  </tbody>\n",
       "</table>\n",
       "</div>"
      ],
      "text/plain": [
       "     age     sex    bmi smoker     region  children\n",
       "0  15-20    male 25.754    yes  southwest         2\n",
       "1  31-40    male 34.313     no  northeast         0\n",
       "2  60-65  female 48.700     no  northeast         4\n",
       "3  31-40  female 19.111    yes  southeast         4\n",
       "4  21-30    male 40.642    yes  northwest         1"
      ]
     },
     "execution_count": 31,
     "metadata": {},
     "output_type": "execute_result"
    }
   ],
   "source": [
    "df_new = pd.DataFrame({\n",
    "        'age': ['15-20', '31-40', '60-65', '31-40', '21-30'],\n",
    "        'sex': ['male', 'male', 'female', 'female', 'male'],\n",
    "        'bmi': [25.754, 34.313, 48.700, 19.111, 40.642],\n",
    "        'smoker': ['yes', 'no', 'no', 'yes', 'yes'],\n",
    "        'region': ['southwest', 'northeast', 'northeast', 'southeast', 'northwest'],\n",
    "        'children': [2, 0, 4, 4, 1],\n",
    "})\n",
    "\n",
    "df_new"
   ]
  },
  {
   "cell_type": "code",
   "execution_count": 32,
   "id": "24f30a48",
   "metadata": {},
   "outputs": [],
   "source": [
    "df_new.age.replace(['15-20', '21-30', '31-40', '60-65'], [0,1,2,5], inplace=True)\n",
    "# Encoding should be performed carefully when transformers are not used"
   ]
  },
  {
   "cell_type": "code",
   "execution_count": 33,
   "id": "2a5bfb25",
   "metadata": {},
   "outputs": [
    {
     "data": {
      "text/html": [
       "<div>\n",
       "<style scoped>\n",
       "    .dataframe tbody tr th:only-of-type {\n",
       "        vertical-align: middle;\n",
       "    }\n",
       "\n",
       "    .dataframe tbody tr th {\n",
       "        vertical-align: top;\n",
       "    }\n",
       "\n",
       "    .dataframe thead th {\n",
       "        text-align: right;\n",
       "    }\n",
       "</style>\n",
       "<table border=\"1\" class=\"dataframe\">\n",
       "  <thead>\n",
       "    <tr style=\"text-align: right;\">\n",
       "      <th></th>\n",
       "      <th>age</th>\n",
       "      <th>bmi</th>\n",
       "      <th>children</th>\n",
       "      <th>sex_female</th>\n",
       "      <th>sex_male</th>\n",
       "      <th>smoker_no</th>\n",
       "      <th>smoker_yes</th>\n",
       "      <th>region_northeast</th>\n",
       "      <th>region_northwest</th>\n",
       "      <th>region_southeast</th>\n",
       "      <th>region_southwest</th>\n",
       "    </tr>\n",
       "  </thead>\n",
       "  <tbody>\n",
       "    <tr>\n",
       "      <th>0</th>\n",
       "      <td>0</td>\n",
       "      <td>25.754</td>\n",
       "      <td>2</td>\n",
       "      <td>0</td>\n",
       "      <td>1</td>\n",
       "      <td>0</td>\n",
       "      <td>1</td>\n",
       "      <td>0</td>\n",
       "      <td>0</td>\n",
       "      <td>0</td>\n",
       "      <td>1</td>\n",
       "    </tr>\n",
       "    <tr>\n",
       "      <th>1</th>\n",
       "      <td>2</td>\n",
       "      <td>34.313</td>\n",
       "      <td>0</td>\n",
       "      <td>0</td>\n",
       "      <td>1</td>\n",
       "      <td>1</td>\n",
       "      <td>0</td>\n",
       "      <td>1</td>\n",
       "      <td>0</td>\n",
       "      <td>0</td>\n",
       "      <td>0</td>\n",
       "    </tr>\n",
       "    <tr>\n",
       "      <th>2</th>\n",
       "      <td>5</td>\n",
       "      <td>48.700</td>\n",
       "      <td>4</td>\n",
       "      <td>1</td>\n",
       "      <td>0</td>\n",
       "      <td>1</td>\n",
       "      <td>0</td>\n",
       "      <td>1</td>\n",
       "      <td>0</td>\n",
       "      <td>0</td>\n",
       "      <td>0</td>\n",
       "    </tr>\n",
       "    <tr>\n",
       "      <th>3</th>\n",
       "      <td>2</td>\n",
       "      <td>19.111</td>\n",
       "      <td>4</td>\n",
       "      <td>1</td>\n",
       "      <td>0</td>\n",
       "      <td>0</td>\n",
       "      <td>1</td>\n",
       "      <td>0</td>\n",
       "      <td>0</td>\n",
       "      <td>1</td>\n",
       "      <td>0</td>\n",
       "    </tr>\n",
       "    <tr>\n",
       "      <th>4</th>\n",
       "      <td>1</td>\n",
       "      <td>40.642</td>\n",
       "      <td>1</td>\n",
       "      <td>0</td>\n",
       "      <td>1</td>\n",
       "      <td>0</td>\n",
       "      <td>1</td>\n",
       "      <td>0</td>\n",
       "      <td>1</td>\n",
       "      <td>0</td>\n",
       "      <td>0</td>\n",
       "    </tr>\n",
       "  </tbody>\n",
       "</table>\n",
       "</div>"
      ],
      "text/plain": [
       "   age    bmi  children  sex_female  sex_male  smoker_no  smoker_yes  \\\n",
       "0    0 25.754         2           0         1          0           1   \n",
       "1    2 34.313         0           0         1          1           0   \n",
       "2    5 48.700         4           1         0          1           0   \n",
       "3    2 19.111         4           1         0          0           1   \n",
       "4    1 40.642         1           0         1          0           1   \n",
       "\n",
       "   region_northeast  region_northwest  region_southeast  region_southwest  \n",
       "0                 0                 0                 0                 1  \n",
       "1                 1                 0                 0                 0  \n",
       "2                 1                 0                 0                 0  \n",
       "3                 0                 0                 1                 0  \n",
       "4                 0                 1                 0                 0  "
      ]
     },
     "execution_count": 33,
     "metadata": {},
     "output_type": "execute_result"
    }
   ],
   "source": [
    "df_new = pd.get_dummies(df_new)\n",
    "df_new"
   ]
  },
  {
   "cell_type": "code",
   "execution_count": 34,
   "id": "ca3131ff",
   "metadata": {},
   "outputs": [
    {
     "data": {
      "text/html": [
       "<div>\n",
       "<style scoped>\n",
       "    .dataframe tbody tr th:only-of-type {\n",
       "        vertical-align: middle;\n",
       "    }\n",
       "\n",
       "    .dataframe tbody tr th {\n",
       "        vertical-align: top;\n",
       "    }\n",
       "\n",
       "    .dataframe thead th {\n",
       "        text-align: right;\n",
       "    }\n",
       "</style>\n",
       "<table border=\"1\" class=\"dataframe\">\n",
       "  <thead>\n",
       "    <tr style=\"text-align: right;\">\n",
       "      <th></th>\n",
       "      <th>age</th>\n",
       "      <th>bmi</th>\n",
       "      <th>children</th>\n",
       "      <th>sex_male</th>\n",
       "      <th>smoker_yes</th>\n",
       "      <th>region_northwest</th>\n",
       "      <th>region_southeast</th>\n",
       "      <th>region_southwest</th>\n",
       "    </tr>\n",
       "  </thead>\n",
       "  <tbody>\n",
       "    <tr>\n",
       "      <th>0</th>\n",
       "      <td>0</td>\n",
       "      <td>25.754</td>\n",
       "      <td>2</td>\n",
       "      <td>1</td>\n",
       "      <td>1</td>\n",
       "      <td>0</td>\n",
       "      <td>0</td>\n",
       "      <td>1</td>\n",
       "    </tr>\n",
       "    <tr>\n",
       "      <th>1</th>\n",
       "      <td>2</td>\n",
       "      <td>34.313</td>\n",
       "      <td>0</td>\n",
       "      <td>1</td>\n",
       "      <td>0</td>\n",
       "      <td>0</td>\n",
       "      <td>0</td>\n",
       "      <td>0</td>\n",
       "    </tr>\n",
       "    <tr>\n",
       "      <th>2</th>\n",
       "      <td>5</td>\n",
       "      <td>48.700</td>\n",
       "      <td>4</td>\n",
       "      <td>0</td>\n",
       "      <td>0</td>\n",
       "      <td>0</td>\n",
       "      <td>0</td>\n",
       "      <td>0</td>\n",
       "    </tr>\n",
       "    <tr>\n",
       "      <th>3</th>\n",
       "      <td>2</td>\n",
       "      <td>19.111</td>\n",
       "      <td>4</td>\n",
       "      <td>0</td>\n",
       "      <td>1</td>\n",
       "      <td>0</td>\n",
       "      <td>1</td>\n",
       "      <td>0</td>\n",
       "    </tr>\n",
       "    <tr>\n",
       "      <th>4</th>\n",
       "      <td>1</td>\n",
       "      <td>40.642</td>\n",
       "      <td>1</td>\n",
       "      <td>1</td>\n",
       "      <td>1</td>\n",
       "      <td>1</td>\n",
       "      <td>0</td>\n",
       "      <td>0</td>\n",
       "    </tr>\n",
       "  </tbody>\n",
       "</table>\n",
       "</div>"
      ],
      "text/plain": [
       "   age    bmi  children  sex_male  smoker_yes  region_northwest  \\\n",
       "0    0 25.754         2         1           1                 0   \n",
       "1    2 34.313         0         1           0                 0   \n",
       "2    5 48.700         4         0           0                 0   \n",
       "3    2 19.111         4         0           1                 0   \n",
       "4    1 40.642         1         1           1                 1   \n",
       "\n",
       "   region_southeast  region_southwest  \n",
       "0                 0                 1  \n",
       "1                 0                 0  \n",
       "2                 0                 0  \n",
       "3                 1                 0  \n",
       "4                 0                 0  "
      ]
     },
     "execution_count": 34,
     "metadata": {},
     "output_type": "execute_result"
    }
   ],
   "source": [
    "df_new = df_new.reindex(columns=X.columns, fill_value=0)\n",
    "df_new"
   ]
  },
  {
   "cell_type": "code",
   "execution_count": 35,
   "id": "28a7e0a5",
   "metadata": {},
   "outputs": [
    {
     "data": {
      "text/plain": [
       "array([[0.        , 0.26349206, 0.4       , 1.        , 1.        ,\n",
       "        0.        , 0.        , 1.        ],\n",
       "       [0.4       , 0.49375841, 0.        , 1.        , 0.        ,\n",
       "        0.        , 0.        , 0.        ],\n",
       "       [1.        , 0.88081786, 0.8       , 0.        , 0.        ,\n",
       "        0.        , 0.        , 0.        ],\n",
       "       [0.4       , 0.08477267, 0.8       , 0.        , 1.        ,\n",
       "        0.        , 1.        , 0.        ],\n",
       "       [0.2       , 0.66403013, 0.2       , 1.        , 1.        ,\n",
       "        1.        , 0.        , 0.        ]])"
      ]
     },
     "execution_count": 35,
     "metadata": {},
     "output_type": "execute_result"
    }
   ],
   "source": [
    "df_new_scaled = final_scaler.transform(df_new)\n",
    "df_new_scaled"
   ]
  },
  {
   "cell_type": "code",
   "execution_count": 36,
   "id": "7939eadf",
   "metadata": {},
   "outputs": [
    {
     "data": {
      "text/plain": [
       "array([24516.31586475, 10349.72657311, 22420.18437239, 27815.51386477,\n",
       "       30793.77249807])"
      ]
     },
     "execution_count": 36,
     "metadata": {},
     "output_type": "execute_result"
    }
   ],
   "source": [
    "final_model.predict(df_new_scaled)"
   ]
  },
  {
   "cell_type": "markdown",
   "id": "ba83bc09",
   "metadata": {},
   "source": [
    "## 2.4 prediction with pickle\n",
    "<a id='prediction1-2'></a>"
   ]
  },
  {
   "cell_type": "code",
   "execution_count": 37,
   "id": "cd963e15",
   "metadata": {},
   "outputs": [],
   "source": [
    "import pickle\n",
    "pickle.dump(final_scaler, open('final_scaler.pkl','wb'))\n",
    "pickle.dump(final_model, open('final_model.pkl', 'wb'))"
   ]
  },
  {
   "cell_type": "code",
   "execution_count": 38,
   "id": "abb68c8d",
   "metadata": {},
   "outputs": [
    {
     "data": {
      "text/html": [
       "<div>\n",
       "<style scoped>\n",
       "    .dataframe tbody tr th:only-of-type {\n",
       "        vertical-align: middle;\n",
       "    }\n",
       "\n",
       "    .dataframe tbody tr th {\n",
       "        vertical-align: top;\n",
       "    }\n",
       "\n",
       "    .dataframe thead th {\n",
       "        text-align: right;\n",
       "    }\n",
       "</style>\n",
       "<table border=\"1\" class=\"dataframe\">\n",
       "  <thead>\n",
       "    <tr style=\"text-align: right;\">\n",
       "      <th></th>\n",
       "      <th>age</th>\n",
       "      <th>sex</th>\n",
       "      <th>bmi</th>\n",
       "      <th>smoker</th>\n",
       "      <th>region</th>\n",
       "      <th>children</th>\n",
       "    </tr>\n",
       "  </thead>\n",
       "  <tbody>\n",
       "    <tr>\n",
       "      <th>0</th>\n",
       "      <td>15-20</td>\n",
       "      <td>male</td>\n",
       "      <td>25.754</td>\n",
       "      <td>yes</td>\n",
       "      <td>southwest</td>\n",
       "      <td>2</td>\n",
       "    </tr>\n",
       "    <tr>\n",
       "      <th>1</th>\n",
       "      <td>31-40</td>\n",
       "      <td>male</td>\n",
       "      <td>34.313</td>\n",
       "      <td>no</td>\n",
       "      <td>northeast</td>\n",
       "      <td>0</td>\n",
       "    </tr>\n",
       "    <tr>\n",
       "      <th>2</th>\n",
       "      <td>60-65</td>\n",
       "      <td>female</td>\n",
       "      <td>48.700</td>\n",
       "      <td>no</td>\n",
       "      <td>northeast</td>\n",
       "      <td>4</td>\n",
       "    </tr>\n",
       "    <tr>\n",
       "      <th>3</th>\n",
       "      <td>31-40</td>\n",
       "      <td>female</td>\n",
       "      <td>19.111</td>\n",
       "      <td>yes</td>\n",
       "      <td>southeast</td>\n",
       "      <td>4</td>\n",
       "    </tr>\n",
       "    <tr>\n",
       "      <th>4</th>\n",
       "      <td>21-30</td>\n",
       "      <td>male</td>\n",
       "      <td>40.642</td>\n",
       "      <td>yes</td>\n",
       "      <td>northwest</td>\n",
       "      <td>1</td>\n",
       "    </tr>\n",
       "  </tbody>\n",
       "</table>\n",
       "</div>"
      ],
      "text/plain": [
       "     age     sex    bmi smoker     region  children\n",
       "0  15-20    male 25.754    yes  southwest         2\n",
       "1  31-40    male 34.313     no  northeast         0\n",
       "2  60-65  female 48.700     no  northeast         4\n",
       "3  31-40  female 19.111    yes  southeast         4\n",
       "4  21-30    male 40.642    yes  northwest         1"
      ]
     },
     "execution_count": 38,
     "metadata": {},
     "output_type": "execute_result"
    }
   ],
   "source": [
    "df_new = pd.DataFrame({\n",
    "        'age': ['15-20', '31-40', '60-65', '31-40', '21-30'],\n",
    "        'sex': ['male', 'male', 'female', 'female', 'male'],\n",
    "        'bmi': [25.754, 34.313, 48.700, 19.111, 40.642],\n",
    "        'smoker': ['yes', 'no', 'no', 'yes', 'yes'],\n",
    "        'region': ['southwest', 'northeast', 'northeast', 'southeast', 'northwest'],\n",
    "        'children': [2, 0, 4, 4, 1],\n",
    "})\n",
    "\n",
    "df_new"
   ]
  },
  {
   "cell_type": "code",
   "execution_count": 39,
   "id": "4d1704b4",
   "metadata": {},
   "outputs": [],
   "source": [
    "df_new.age.replace(['15-20', '21-30', '31-40', '60-65'], [0,1,2,5], inplace=True)\n",
    "# Encoding should be performed carefully when transformers are not used"
   ]
  },
  {
   "cell_type": "code",
   "execution_count": 40,
   "id": "964b0e65",
   "metadata": {},
   "outputs": [
    {
     "data": {
      "text/html": [
       "<div>\n",
       "<style scoped>\n",
       "    .dataframe tbody tr th:only-of-type {\n",
       "        vertical-align: middle;\n",
       "    }\n",
       "\n",
       "    .dataframe tbody tr th {\n",
       "        vertical-align: top;\n",
       "    }\n",
       "\n",
       "    .dataframe thead th {\n",
       "        text-align: right;\n",
       "    }\n",
       "</style>\n",
       "<table border=\"1\" class=\"dataframe\">\n",
       "  <thead>\n",
       "    <tr style=\"text-align: right;\">\n",
       "      <th></th>\n",
       "      <th>age</th>\n",
       "      <th>bmi</th>\n",
       "      <th>children</th>\n",
       "      <th>sex_male</th>\n",
       "      <th>smoker_yes</th>\n",
       "      <th>region_northwest</th>\n",
       "      <th>region_southeast</th>\n",
       "      <th>region_southwest</th>\n",
       "    </tr>\n",
       "  </thead>\n",
       "  <tbody>\n",
       "    <tr>\n",
       "      <th>0</th>\n",
       "      <td>0</td>\n",
       "      <td>25.754</td>\n",
       "      <td>2</td>\n",
       "      <td>1</td>\n",
       "      <td>1</td>\n",
       "      <td>0</td>\n",
       "      <td>0</td>\n",
       "      <td>1</td>\n",
       "    </tr>\n",
       "    <tr>\n",
       "      <th>1</th>\n",
       "      <td>2</td>\n",
       "      <td>34.313</td>\n",
       "      <td>0</td>\n",
       "      <td>1</td>\n",
       "      <td>0</td>\n",
       "      <td>0</td>\n",
       "      <td>0</td>\n",
       "      <td>0</td>\n",
       "    </tr>\n",
       "    <tr>\n",
       "      <th>2</th>\n",
       "      <td>5</td>\n",
       "      <td>48.700</td>\n",
       "      <td>4</td>\n",
       "      <td>0</td>\n",
       "      <td>0</td>\n",
       "      <td>0</td>\n",
       "      <td>0</td>\n",
       "      <td>0</td>\n",
       "    </tr>\n",
       "    <tr>\n",
       "      <th>3</th>\n",
       "      <td>2</td>\n",
       "      <td>19.111</td>\n",
       "      <td>4</td>\n",
       "      <td>0</td>\n",
       "      <td>1</td>\n",
       "      <td>0</td>\n",
       "      <td>1</td>\n",
       "      <td>0</td>\n",
       "    </tr>\n",
       "    <tr>\n",
       "      <th>4</th>\n",
       "      <td>1</td>\n",
       "      <td>40.642</td>\n",
       "      <td>1</td>\n",
       "      <td>1</td>\n",
       "      <td>1</td>\n",
       "      <td>1</td>\n",
       "      <td>0</td>\n",
       "      <td>0</td>\n",
       "    </tr>\n",
       "  </tbody>\n",
       "</table>\n",
       "</div>"
      ],
      "text/plain": [
       "   age    bmi  children  sex_male  smoker_yes  region_northwest  \\\n",
       "0    0 25.754         2         1           1                 0   \n",
       "1    2 34.313         0         1           0                 0   \n",
       "2    5 48.700         4         0           0                 0   \n",
       "3    2 19.111         4         0           1                 0   \n",
       "4    1 40.642         1         1           1                 1   \n",
       "\n",
       "   region_southeast  region_southwest  \n",
       "0                 0                 1  \n",
       "1                 0                 0  \n",
       "2                 0                 0  \n",
       "3                 1                 0  \n",
       "4                 0                 0  "
      ]
     },
     "execution_count": 40,
     "metadata": {},
     "output_type": "execute_result"
    }
   ],
   "source": [
    "df_new = pd.get_dummies(df_new).reindex(columns=X.columns, fill_value=0)\n",
    "df_new"
   ]
  },
  {
   "cell_type": "code",
   "execution_count": 41,
   "id": "8bc62b32",
   "metadata": {},
   "outputs": [],
   "source": [
    "scaler = pickle.load(open('final_scaler.pkl', 'rb'))\n",
    "model = pickle.load(open('final_model.pkl', 'rb'))"
   ]
  },
  {
   "cell_type": "code",
   "execution_count": 42,
   "id": "984a57fc",
   "metadata": {},
   "outputs": [],
   "source": [
    "df_new_scaled = scaler.transform(df_new)"
   ]
  },
  {
   "cell_type": "code",
   "execution_count": 43,
   "id": "e4240eba",
   "metadata": {},
   "outputs": [
    {
     "data": {
      "text/plain": [
       "array([24516.31586475, 10349.72657311, 22420.18437239, 27815.51386477,\n",
       "       30793.77249807])"
      ]
     },
     "execution_count": 43,
     "metadata": {},
     "output_type": "execute_result"
    }
   ],
   "source": [
    "model.predict(df_new_scaled)"
   ]
  },
  {
   "cell_type": "markdown",
   "id": "7c0e1918",
   "metadata": {},
   "source": [
    "<div class=\"alert alert-block alert-success\">\n",
    "    \n",
    "<b>3. Data pre-processing, Model Building and Prediction With Encoders, ColumnTransformer and Pipeline<a id='phase2'></a></b>\n",
    "    \n",
    "</div>"
   ]
  },
  {
   "cell_type": "markdown",
   "id": "19ebd470",
   "metadata": {},
   "source": [
    "[CONTENT](#content)"
   ]
  },
  {
   "cell_type": "code",
   "execution_count": 44,
   "id": "12dbb74c",
   "metadata": {},
   "outputs": [],
   "source": [
    "from sklearn.preprocessing import OneHotEncoder, OrdinalEncoder\n",
    "from sklearn.compose import ColumnTransformer, make_column_transformer\n",
    "from sklearn.pipeline import Pipeline, make_pipeline"
   ]
  },
  {
   "cell_type": "code",
   "execution_count": 45,
   "id": "09b24ee0",
   "metadata": {},
   "outputs": [],
   "source": [
    "df = data.copy()"
   ]
  },
  {
   "cell_type": "markdown",
   "id": "f0a52000",
   "metadata": {},
   "source": [
    "## 3.1 encoding with OrdinalEncoder and OneHotEncoder\n",
    "\n",
    "<a id='pre-process2'></a>"
   ]
  },
  {
   "cell_type": "markdown",
   "id": "f7c65266",
   "metadata": {},
   "source": [
    "Nominal data is classified without a natural order or rank, whereas ordinal data has a predetermined or natural order.\n",
    "\n",
    "Two common ways to encode categorical features:\n",
    "\n",
    "* OneHotEncoder for unordered (nominal) data \n",
    "* OrdinalEncoder for ordered (ordinal) data\n",
    "\n",
    "In some cases (especially when modeling with tree-based algorithms), nominal data can be encoded with an ordinal encoder \n",
    "\n",
    "NOTE:\n",
    "\n",
    "* OneHotEncoder and OrdinalEncoder encodes target values according to their alphabetic order.\n",
    "* When using one hot encoder in a pipeline, it may need to be used with a column transformer."
   ]
  },
  {
   "cell_type": "markdown",
   "id": "b8ed8eba",
   "metadata": {},
   "source": [
    "***Ordinal Encoding***"
   ]
  },
  {
   "cell_type": "code",
   "execution_count": 46,
   "id": "8e932c72",
   "metadata": {},
   "outputs": [
    {
     "data": {
      "text/plain": [
       "array(['15-20', '21-30', '31-40', '41-50', '51-60', '60-65'], dtype=object)"
      ]
     },
     "execution_count": 46,
     "metadata": {},
     "output_type": "execute_result"
    }
   ],
   "source": [
    "np.sort(df.age.unique())"
   ]
  },
  {
   "cell_type": "code",
   "execution_count": 47,
   "id": "191eecba",
   "metadata": {},
   "outputs": [],
   "source": [
    "enc = OrdinalEncoder(categories=[np.sort(df.age.unique())])\n",
    "df['age'] = enc.fit_transform(df[['age']])"
   ]
  },
  {
   "cell_type": "raw",
   "id": "bde77d17",
   "metadata": {},
   "source": [
    "# SAMPLES FOR DIFFERENT CATEGORIES\n",
    "\n",
    "# OrdinalEncoder(categories=[['S', 'M', 'L', 'XL']])\n",
    "# OrdinalEncoder(categories=[['first', 'second', 'third']])"
   ]
  },
  {
   "cell_type": "code",
   "execution_count": 48,
   "id": "f4261618",
   "metadata": {},
   "outputs": [
    {
     "data": {
      "text/html": [
       "<div>\n",
       "<style scoped>\n",
       "    .dataframe tbody tr th:only-of-type {\n",
       "        vertical-align: middle;\n",
       "    }\n",
       "\n",
       "    .dataframe tbody tr th {\n",
       "        vertical-align: top;\n",
       "    }\n",
       "\n",
       "    .dataframe thead th {\n",
       "        text-align: right;\n",
       "    }\n",
       "</style>\n",
       "<table border=\"1\" class=\"dataframe\">\n",
       "  <thead>\n",
       "    <tr style=\"text-align: right;\">\n",
       "      <th></th>\n",
       "      <th>age</th>\n",
       "      <th>sex</th>\n",
       "      <th>bmi</th>\n",
       "      <th>smoker</th>\n",
       "      <th>region</th>\n",
       "      <th>children</th>\n",
       "      <th>charges</th>\n",
       "    </tr>\n",
       "  </thead>\n",
       "  <tbody>\n",
       "    <tr>\n",
       "      <th>0</th>\n",
       "      <td>1.000</td>\n",
       "      <td>male</td>\n",
       "      <td>25.745</td>\n",
       "      <td>no</td>\n",
       "      <td>northeast</td>\n",
       "      <td>2</td>\n",
       "      <td>3279.869</td>\n",
       "    </tr>\n",
       "    <tr>\n",
       "      <th>1</th>\n",
       "      <td>2.000</td>\n",
       "      <td>female</td>\n",
       "      <td>25.744</td>\n",
       "      <td>yes</td>\n",
       "      <td>southeast</td>\n",
       "      <td>3</td>\n",
       "      <td>21454.494</td>\n",
       "    </tr>\n",
       "    <tr>\n",
       "      <th>2</th>\n",
       "      <td>0.000</td>\n",
       "      <td>male</td>\n",
       "      <td>30.030</td>\n",
       "      <td>no</td>\n",
       "      <td>southeast</td>\n",
       "      <td>1</td>\n",
       "      <td>1720.354</td>\n",
       "    </tr>\n",
       "    <tr>\n",
       "      <th>3</th>\n",
       "      <td>2.000</td>\n",
       "      <td>male</td>\n",
       "      <td>30.677</td>\n",
       "      <td>no</td>\n",
       "      <td>northeast</td>\n",
       "      <td>3</td>\n",
       "      <td>6801.438</td>\n",
       "    </tr>\n",
       "    <tr>\n",
       "      <th>4</th>\n",
       "      <td>4.000</td>\n",
       "      <td>male</td>\n",
       "      <td>32.010</td>\n",
       "      <td>no</td>\n",
       "      <td>southeast</td>\n",
       "      <td>1</td>\n",
       "      <td>11946.626</td>\n",
       "    </tr>\n",
       "  </tbody>\n",
       "</table>\n",
       "</div>"
      ],
      "text/plain": [
       "    age     sex    bmi smoker     region  children   charges\n",
       "0 1.000    male 25.745     no  northeast         2  3279.869\n",
       "1 2.000  female 25.744    yes  southeast         3 21454.494\n",
       "2 0.000    male 30.030     no  southeast         1  1720.354\n",
       "3 2.000    male 30.677     no  northeast         3  6801.438\n",
       "4 4.000    male 32.010     no  southeast         1 11946.626"
      ]
     },
     "execution_count": 48,
     "metadata": {},
     "output_type": "execute_result"
    }
   ],
   "source": [
    "df.head()"
   ]
  },
  {
   "cell_type": "code",
   "execution_count": 49,
   "id": "4a3c7cfa",
   "metadata": {},
   "outputs": [
    {
     "data": {
      "text/plain": [
       "3.000    695\n",
       "2.000    600\n",
       "1.000    539\n",
       "4.000    389\n",
       "0.000    189\n",
       "5.000     88\n",
       "Name: age, dtype: int64"
      ]
     },
     "execution_count": 49,
     "metadata": {},
     "output_type": "execute_result"
    }
   ],
   "source": [
    "df.age.value_counts()"
   ]
  },
  {
   "cell_type": "markdown",
   "id": "7fe531fc",
   "metadata": {},
   "source": [
    "***One Hot Encoding***\n",
    "\n",
    "OneHotEncoder creates a binary column for each category and returns a sparse matrix or dense array (depending on the sparse parameter)"
   ]
  },
  {
   "cell_type": "code",
   "execution_count": 50,
   "id": "b20e122b",
   "metadata": {},
   "outputs": [],
   "source": [
    "cat_features = ['sex', 'smoker', 'region']"
   ]
  },
  {
   "cell_type": "code",
   "execution_count": 51,
   "id": "9d50a61c",
   "metadata": {},
   "outputs": [
    {
     "data": {
      "text/plain": [
       "array([[1., 0., 0., 0., 0.],\n",
       "       [0., 1., 0., 1., 0.],\n",
       "       [1., 0., 0., 1., 0.],\n",
       "       ...,\n",
       "       [0., 0., 1., 0., 0.],\n",
       "       [1., 0., 1., 0., 0.],\n",
       "       [1., 0., 0., 0., 1.]])"
      ]
     },
     "execution_count": 51,
     "metadata": {},
     "output_type": "execute_result"
    }
   ],
   "source": [
    "ohe = OneHotEncoder(drop='first')  \n",
    "ohe.fit_transform(df[cat_features]).toarray()"
   ]
  },
  {
   "cell_type": "code",
   "execution_count": 52,
   "id": "45f38733",
   "metadata": {},
   "outputs": [
    {
     "data": {
      "text/plain": [
       "array([[1., 0., 0., 0., 0.],\n",
       "       [0., 1., 0., 1., 0.],\n",
       "       [1., 0., 0., 1., 0.],\n",
       "       ...,\n",
       "       [0., 0., 1., 0., 0.],\n",
       "       [1., 0., 1., 0., 0.],\n",
       "       [1., 0., 0., 0., 1.]])"
      ]
     },
     "execution_count": 52,
     "metadata": {},
     "output_type": "execute_result"
    }
   ],
   "source": [
    "ohe = OneHotEncoder(drop='first', sparse=False)  #sparse=False returns an array\n",
    "ohe.fit_transform(df[cat_features])"
   ]
  },
  {
   "cell_type": "markdown",
   "id": "e90a5dd8",
   "metadata": {},
   "source": [
    "## 3.2 how to use encoders in column transformer\n",
    "<a id='pre-process3'></a>\n",
    "\n",
    "ColumnTransformer allows different columns or column subsets of the input to be transformed separately and the features generated by each transformer will be concatenated to form a single feature space. [scikit-learn](https://scikit-learn.org/stable/modules/generated/sklearn.compose.ColumnTransformer.html)\n",
    "\n",
    "You can use column transformer to do preprocessing all of dataframe's columns at the same time without doing it in pandas."
   ]
  },
  {
   "cell_type": "code",
   "execution_count": 53,
   "id": "0dd49972",
   "metadata": {},
   "outputs": [],
   "source": [
    "df = data.copy()"
   ]
  },
  {
   "cell_type": "code",
   "execution_count": 54,
   "id": "59a5357c",
   "metadata": {},
   "outputs": [
    {
     "data": {
      "text/plain": [
       "{'age': ['21-30', '31-40', '15-20', '51-60', '41-50', '60-65'],\n",
       " 'sex': ['male', 'female'],\n",
       " 'smoker': ['no', 'yes'],\n",
       " 'region': ['northeast', 'southeast', 'northwest', 'southwest']}"
      ]
     },
     "execution_count": 54,
     "metadata": {},
     "output_type": "execute_result"
    }
   ],
   "source": [
    "{column: list(df[column].unique()) for column in df.select_dtypes('O').columns}"
   ]
  },
  {
   "cell_type": "code",
   "execution_count": 55,
   "id": "26a86f73",
   "metadata": {},
   "outputs": [],
   "source": [
    "cat_nominal = ['sex', 'smoker', 'region']\n",
    "\n",
    "ct = ColumnTransformer(transformers=[\n",
    "        ('encoder_ordinal', OrdinalEncoder(categories=[np.sort(df.age.unique())]), ['age']),  #for ordinal features\n",
    "        ('encoder_nominal', OneHotEncoder(drop='first'), cat_nominal)                         #for nominal features\n",
    "], remainder='passthrough')\n",
    "# remainder='passthrough' ===> returns all features of the data frame"
   ]
  },
  {
   "cell_type": "code",
   "execution_count": 56,
   "id": "e07fea2f",
   "metadata": {},
   "outputs": [
    {
     "data": {
      "text/html": [
       "<div>\n",
       "<style scoped>\n",
       "    .dataframe tbody tr th:only-of-type {\n",
       "        vertical-align: middle;\n",
       "    }\n",
       "\n",
       "    .dataframe tbody tr th {\n",
       "        vertical-align: top;\n",
       "    }\n",
       "\n",
       "    .dataframe thead th {\n",
       "        text-align: right;\n",
       "    }\n",
       "</style>\n",
       "<table border=\"1\" class=\"dataframe\">\n",
       "  <thead>\n",
       "    <tr style=\"text-align: right;\">\n",
       "      <th></th>\n",
       "      <th>0</th>\n",
       "      <th>1</th>\n",
       "      <th>2</th>\n",
       "      <th>3</th>\n",
       "      <th>4</th>\n",
       "      <th>5</th>\n",
       "      <th>6</th>\n",
       "      <th>7</th>\n",
       "      <th>8</th>\n",
       "    </tr>\n",
       "  </thead>\n",
       "  <tbody>\n",
       "    <tr>\n",
       "      <th>0</th>\n",
       "      <td>1.000</td>\n",
       "      <td>1.000</td>\n",
       "      <td>0.000</td>\n",
       "      <td>0.000</td>\n",
       "      <td>0.000</td>\n",
       "      <td>0.000</td>\n",
       "      <td>25.745</td>\n",
       "      <td>2.000</td>\n",
       "      <td>3279.869</td>\n",
       "    </tr>\n",
       "    <tr>\n",
       "      <th>1</th>\n",
       "      <td>2.000</td>\n",
       "      <td>0.000</td>\n",
       "      <td>1.000</td>\n",
       "      <td>0.000</td>\n",
       "      <td>1.000</td>\n",
       "      <td>0.000</td>\n",
       "      <td>25.744</td>\n",
       "      <td>3.000</td>\n",
       "      <td>21454.494</td>\n",
       "    </tr>\n",
       "    <tr>\n",
       "      <th>2</th>\n",
       "      <td>0.000</td>\n",
       "      <td>1.000</td>\n",
       "      <td>0.000</td>\n",
       "      <td>0.000</td>\n",
       "      <td>1.000</td>\n",
       "      <td>0.000</td>\n",
       "      <td>30.030</td>\n",
       "      <td>1.000</td>\n",
       "      <td>1720.354</td>\n",
       "    </tr>\n",
       "    <tr>\n",
       "      <th>3</th>\n",
       "      <td>2.000</td>\n",
       "      <td>1.000</td>\n",
       "      <td>0.000</td>\n",
       "      <td>0.000</td>\n",
       "      <td>0.000</td>\n",
       "      <td>0.000</td>\n",
       "      <td>30.677</td>\n",
       "      <td>3.000</td>\n",
       "      <td>6801.438</td>\n",
       "    </tr>\n",
       "    <tr>\n",
       "      <th>4</th>\n",
       "      <td>4.000</td>\n",
       "      <td>1.000</td>\n",
       "      <td>0.000</td>\n",
       "      <td>0.000</td>\n",
       "      <td>1.000</td>\n",
       "      <td>0.000</td>\n",
       "      <td>32.010</td>\n",
       "      <td>1.000</td>\n",
       "      <td>11946.626</td>\n",
       "    </tr>\n",
       "    <tr>\n",
       "      <th>...</th>\n",
       "      <td>...</td>\n",
       "      <td>...</td>\n",
       "      <td>...</td>\n",
       "      <td>...</td>\n",
       "      <td>...</td>\n",
       "      <td>...</td>\n",
       "      <td>...</td>\n",
       "      <td>...</td>\n",
       "      <td>...</td>\n",
       "    </tr>\n",
       "    <tr>\n",
       "      <th>2495</th>\n",
       "      <td>2.000</td>\n",
       "      <td>1.000</td>\n",
       "      <td>0.000</td>\n",
       "      <td>0.000</td>\n",
       "      <td>1.000</td>\n",
       "      <td>0.000</td>\n",
       "      <td>27.555</td>\n",
       "      <td>4.000</td>\n",
       "      <td>5889.104</td>\n",
       "    </tr>\n",
       "    <tr>\n",
       "      <th>2496</th>\n",
       "      <td>2.000</td>\n",
       "      <td>1.000</td>\n",
       "      <td>0.000</td>\n",
       "      <td>0.000</td>\n",
       "      <td>0.000</td>\n",
       "      <td>0.000</td>\n",
       "      <td>30.322</td>\n",
       "      <td>3.000</td>\n",
       "      <td>6788.534</td>\n",
       "    </tr>\n",
       "    <tr>\n",
       "      <th>2497</th>\n",
       "      <td>4.000</td>\n",
       "      <td>0.000</td>\n",
       "      <td>0.000</td>\n",
       "      <td>1.000</td>\n",
       "      <td>0.000</td>\n",
       "      <td>0.000</td>\n",
       "      <td>36.180</td>\n",
       "      <td>2.000</td>\n",
       "      <td>12401.747</td>\n",
       "    </tr>\n",
       "    <tr>\n",
       "      <th>2498</th>\n",
       "      <td>3.000</td>\n",
       "      <td>1.000</td>\n",
       "      <td>0.000</td>\n",
       "      <td>1.000</td>\n",
       "      <td>0.000</td>\n",
       "      <td>0.000</td>\n",
       "      <td>36.430</td>\n",
       "      <td>3.000</td>\n",
       "      <td>10376.295</td>\n",
       "    </tr>\n",
       "    <tr>\n",
       "      <th>2499</th>\n",
       "      <td>2.000</td>\n",
       "      <td>1.000</td>\n",
       "      <td>0.000</td>\n",
       "      <td>0.000</td>\n",
       "      <td>0.000</td>\n",
       "      <td>1.000</td>\n",
       "      <td>36.641</td>\n",
       "      <td>5.000</td>\n",
       "      <td>6658.237</td>\n",
       "    </tr>\n",
       "  </tbody>\n",
       "</table>\n",
       "<p>2500 rows × 9 columns</p>\n",
       "</div>"
      ],
      "text/plain": [
       "         0     1     2     3     4     5      6     7         8\n",
       "0    1.000 1.000 0.000 0.000 0.000 0.000 25.745 2.000  3279.869\n",
       "1    2.000 0.000 1.000 0.000 1.000 0.000 25.744 3.000 21454.494\n",
       "2    0.000 1.000 0.000 0.000 1.000 0.000 30.030 1.000  1720.354\n",
       "3    2.000 1.000 0.000 0.000 0.000 0.000 30.677 3.000  6801.438\n",
       "4    4.000 1.000 0.000 0.000 1.000 0.000 32.010 1.000 11946.626\n",
       "...    ...   ...   ...   ...   ...   ...    ...   ...       ...\n",
       "2495 2.000 1.000 0.000 0.000 1.000 0.000 27.555 4.000  5889.104\n",
       "2496 2.000 1.000 0.000 0.000 0.000 0.000 30.322 3.000  6788.534\n",
       "2497 4.000 0.000 0.000 1.000 0.000 0.000 36.180 2.000 12401.747\n",
       "2498 3.000 1.000 0.000 1.000 0.000 0.000 36.430 3.000 10376.295\n",
       "2499 2.000 1.000 0.000 0.000 0.000 1.000 36.641 5.000  6658.237\n",
       "\n",
       "[2500 rows x 9 columns]"
      ]
     },
     "execution_count": 56,
     "metadata": {},
     "output_type": "execute_result"
    }
   ],
   "source": [
    "pd.DataFrame(ct.fit_transform(df))"
   ]
  },
  {
   "cell_type": "markdown",
   "id": "1dabef87",
   "metadata": {},
   "source": [
    "## 3.3 building a regression model with ColumnTransformer and Pipeline\n",
    "<a id='model2'></a>"
   ]
  },
  {
   "cell_type": "markdown",
   "id": "9dd2645c",
   "metadata": {},
   "source": [
    "***splitting data into training and testing sets***"
   ]
  },
  {
   "cell_type": "code",
   "execution_count": 57,
   "id": "c0653afd",
   "metadata": {},
   "outputs": [
    {
     "data": {
      "text/plain": [
       "Index(['age', 'sex', 'bmi', 'smoker', 'region', 'children', 'charges'], dtype='object')"
      ]
     },
     "execution_count": 57,
     "metadata": {},
     "output_type": "execute_result"
    }
   ],
   "source": [
    "df.keys()  # df.columns"
   ]
  },
  {
   "cell_type": "code",
   "execution_count": 58,
   "id": "e42db8a7",
   "metadata": {},
   "outputs": [],
   "source": [
    "X = df.drop('charges', axis=1)\n",
    "y = df['charges']"
   ]
  },
  {
   "cell_type": "code",
   "execution_count": 59,
   "id": "fc8771e2",
   "metadata": {},
   "outputs": [],
   "source": [
    "X_train, X_test, y_train, y_test = train_test_split(X, y, test_size=0.2, random_state=101)"
   ]
  },
  {
   "cell_type": "code",
   "execution_count": 60,
   "id": "ab961b89",
   "metadata": {},
   "outputs": [
    {
     "data": {
      "text/html": [
       "<div>\n",
       "<style scoped>\n",
       "    .dataframe tbody tr th:only-of-type {\n",
       "        vertical-align: middle;\n",
       "    }\n",
       "\n",
       "    .dataframe tbody tr th {\n",
       "        vertical-align: top;\n",
       "    }\n",
       "\n",
       "    .dataframe thead th {\n",
       "        text-align: right;\n",
       "    }\n",
       "</style>\n",
       "<table border=\"1\" class=\"dataframe\">\n",
       "  <thead>\n",
       "    <tr style=\"text-align: right;\">\n",
       "      <th></th>\n",
       "      <th>age</th>\n",
       "      <th>sex</th>\n",
       "      <th>bmi</th>\n",
       "      <th>smoker</th>\n",
       "      <th>region</th>\n",
       "      <th>children</th>\n",
       "    </tr>\n",
       "  </thead>\n",
       "  <tbody>\n",
       "    <tr>\n",
       "      <th>1026</th>\n",
       "      <td>41-50</td>\n",
       "      <td>female</td>\n",
       "      <td>29.096</td>\n",
       "      <td>no</td>\n",
       "      <td>southwest</td>\n",
       "      <td>1</td>\n",
       "    </tr>\n",
       "    <tr>\n",
       "      <th>1459</th>\n",
       "      <td>41-50</td>\n",
       "      <td>female</td>\n",
       "      <td>39.175</td>\n",
       "      <td>no</td>\n",
       "      <td>northwest</td>\n",
       "      <td>4</td>\n",
       "    </tr>\n",
       "    <tr>\n",
       "      <th>2164</th>\n",
       "      <td>41-50</td>\n",
       "      <td>male</td>\n",
       "      <td>30.603</td>\n",
       "      <td>yes</td>\n",
       "      <td>northeast</td>\n",
       "      <td>4</td>\n",
       "    </tr>\n",
       "    <tr>\n",
       "      <th>2098</th>\n",
       "      <td>41-50</td>\n",
       "      <td>female</td>\n",
       "      <td>24.644</td>\n",
       "      <td>no</td>\n",
       "      <td>southeast</td>\n",
       "      <td>5</td>\n",
       "    </tr>\n",
       "    <tr>\n",
       "      <th>852</th>\n",
       "      <td>15-20</td>\n",
       "      <td>male</td>\n",
       "      <td>53.130</td>\n",
       "      <td>no</td>\n",
       "      <td>southeast</td>\n",
       "      <td>0</td>\n",
       "    </tr>\n",
       "  </tbody>\n",
       "</table>\n",
       "</div>"
      ],
      "text/plain": [
       "        age     sex    bmi smoker     region  children\n",
       "1026  41-50  female 29.096     no  southwest         1\n",
       "1459  41-50  female 39.175     no  northwest         4\n",
       "2164  41-50    male 30.603    yes  northeast         4\n",
       "2098  41-50  female 24.644     no  southeast         5\n",
       "852   15-20    male 53.130     no  southeast         0"
      ]
     },
     "execution_count": 60,
     "metadata": {},
     "output_type": "execute_result"
    }
   ],
   "source": [
    "X_train.head()"
   ]
  },
  {
   "cell_type": "markdown",
   "id": "f7ec4917",
   "metadata": {},
   "source": [
    "***model building***"
   ]
  },
  {
   "cell_type": "code",
   "execution_count": 61,
   "id": "571eb92b",
   "metadata": {},
   "outputs": [
    {
     "data": {
      "text/plain": [
       "Pipeline(steps=[('preprocessor',\n",
       "                 ColumnTransformer(remainder='passthrough',\n",
       "                                   transformers=[('encoder_ordinal',\n",
       "                                                  OrdinalEncoder(categories=[array(['15-20', '21-30', '31-40', '41-50', '51-60', '60-65'], dtype=object)]),\n",
       "                                                  ['age']),\n",
       "                                                 ('encoder_nominal',\n",
       "                                                  OneHotEncoder(drop='first'),\n",
       "                                                  ['sex', 'smoker',\n",
       "                                                   'region'])])),\n",
       "                ('scaler', MinMaxScaler()), ('regressor', LinearRegression())])"
      ]
     },
     "execution_count": 61,
     "metadata": {},
     "output_type": "execute_result"
    }
   ],
   "source": [
    "# categorical (nominal) features\n",
    "cat_nominal = ['sex', 'smoker', 'region']\n",
    "\n",
    "preprocessor = ColumnTransformer(transformers=[\n",
    "        ('encoder_ordinal', OrdinalEncoder(categories=[np.sort(df.age.unique())]), ['age']),\n",
    "        ('encoder_nominal', OneHotEncoder(drop='first'), cat_nominal)\n",
    "], remainder='passthrough')\n",
    "\n",
    "# pipeline chains steps together sequentially\n",
    "model = Pipeline(steps=[\n",
    "    ('preprocessor', preprocessor),\n",
    "    ('scaler', MinMaxScaler()),\n",
    "    ('regressor', LinearRegression())\n",
    "])\n",
    "\n",
    "model.fit(X_train, y_train)"
   ]
  },
  {
   "cell_type": "code",
   "execution_count": 62,
   "id": "8ababfeb",
   "metadata": {},
   "outputs": [
    {
     "name": "stdout",
     "output_type": "stream",
     "text": [
      "R2 score   : 0.752\n",
      "rmse score : 5275.00\n"
     ]
    }
   ],
   "source": [
    "y_pred = model.predict(X_test)\n",
    "\n",
    "R2 = r2_score(y_test, y_pred)\n",
    "rmse = np.sqrt(mean_squared_error(y_test, y_pred))\n",
    "\n",
    "print(f'R2 score   : {R2:.3f}')\n",
    "print(f'rmse score : {rmse:.2f}')"
   ]
  },
  {
   "cell_type": "code",
   "execution_count": 63,
   "id": "5346ee96",
   "metadata": {},
   "outputs": [
    {
     "data": {
      "text/plain": [
       "5825.59722126616"
      ]
     },
     "execution_count": 63,
     "metadata": {},
     "output_type": "execute_result"
    }
   ],
   "source": [
    "abs(cross_val_score(model, X_train, y_train, cv=10, scoring='neg_root_mean_squared_error').mean())"
   ]
  },
  {
   "cell_type": "code",
   "execution_count": 64,
   "id": "8b88dc19",
   "metadata": {},
   "outputs": [
    {
     "data": {
      "text/html": [
       "<div>\n",
       "<style scoped>\n",
       "    .dataframe tbody tr th:only-of-type {\n",
       "        vertical-align: middle;\n",
       "    }\n",
       "\n",
       "    .dataframe tbody tr th {\n",
       "        vertical-align: top;\n",
       "    }\n",
       "\n",
       "    .dataframe thead th {\n",
       "        text-align: right;\n",
       "    }\n",
       "</style>\n",
       "<table border=\"1\" class=\"dataframe\">\n",
       "  <thead>\n",
       "    <tr style=\"text-align: right;\">\n",
       "      <th></th>\n",
       "      <th>Actual</th>\n",
       "      <th>Prediction</th>\n",
       "    </tr>\n",
       "  </thead>\n",
       "  <tbody>\n",
       "    <tr>\n",
       "      <th>2415</th>\n",
       "      <td>15181.169</td>\n",
       "      <td>10481.138</td>\n",
       "    </tr>\n",
       "    <tr>\n",
       "      <th>218</th>\n",
       "      <td>10104.560</td>\n",
       "      <td>12096.514</td>\n",
       "    </tr>\n",
       "    <tr>\n",
       "      <th>469</th>\n",
       "      <td>3292.530</td>\n",
       "      <td>6491.600</td>\n",
       "    </tr>\n",
       "    <tr>\n",
       "      <th>1166</th>\n",
       "      <td>42656.691</td>\n",
       "      <td>35926.803</td>\n",
       "    </tr>\n",
       "    <tr>\n",
       "      <th>254</th>\n",
       "      <td>12026.095</td>\n",
       "      <td>11548.323</td>\n",
       "    </tr>\n",
       "  </tbody>\n",
       "</table>\n",
       "</div>"
      ],
      "text/plain": [
       "        Actual  Prediction\n",
       "2415 15181.169   10481.138\n",
       "218  10104.560   12096.514\n",
       "469   3292.530    6491.600\n",
       "1166 42656.691   35926.803\n",
       "254  12026.095   11548.323"
      ]
     },
     "execution_count": 64,
     "metadata": {},
     "output_type": "execute_result"
    }
   ],
   "source": [
    "pd.DataFrame({'Actual': y_test[:5], 'Prediction': model.predict(X_test)[:5]})"
   ]
  },
  {
   "cell_type": "markdown",
   "id": "60a50fb8",
   "metadata": {},
   "source": [
    "## 3.4 building a regression model with make_column_transformer and make_pipeline\n",
    "<a id='model3'></a>"
   ]
  },
  {
   "cell_type": "markdown",
   "id": "9f9b2ba9",
   "metadata": {},
   "source": [
    "**ColumnTransformer  |  make_column_transformer**\n",
    "\n",
    "* There is no such major difference between the two. They both give the same result.\n",
    "* ColumnTransformer uses a list of a tuple with a name and make_column_transformer is just a tuple without a name. (Name given to tuple is helpful when we use Gridsearchcv or Randomsearchcv)\n",
    "* make_column_transformer does not allow weighting with transformer_weights."
   ]
  },
  {
   "cell_type": "markdown",
   "id": "44def450",
   "metadata": {},
   "source": [
    "**pipeline | make_pipeline**\n",
    "\n",
    "with Pipeline:\n",
    "  \n",
    "* names are explicit, you don't have to figure them out if you need them; \n",
    "* name doesn't change if you change estimator/transformer used in a step, e.g. if you replace LogisticRegression() with LinearSVC() you can still use 'clf__C'.\n",
    "      \n",
    "make_pipeline:\n",
    "  \n",
    "* shorter and more readable; \n",
    "* lowercase of the estimator's name must be used when we use GridSearchCV"
   ]
  },
  {
   "cell_type": "code",
   "execution_count": 65,
   "id": "c3b18e71",
   "metadata": {},
   "outputs": [
    {
     "data": {
      "text/plain": [
       "Pipeline(steps=[('columntransformer',\n",
       "                 ColumnTransformer(remainder='passthrough',\n",
       "                                   transformers=[('ordinalencoder',\n",
       "                                                  OrdinalEncoder(categories=[array(['15-20', '21-30', '31-40', '41-50', '51-60', '60-65'], dtype=object)]),\n",
       "                                                  ['age']),\n",
       "                                                 ('onehotencoder',\n",
       "                                                  OneHotEncoder(drop='first'),\n",
       "                                                  ['sex', 'smoker',\n",
       "                                                   'region'])])),\n",
       "                ('minmaxscaler', MinMaxScaler()),\n",
       "                ('linearregression', LinearRegression())])"
      ]
     },
     "execution_count": 65,
     "metadata": {},
     "output_type": "execute_result"
    }
   ],
   "source": [
    "lr_model = LinearRegression()\n",
    "scaler = MinMaxScaler()\n",
    "\n",
    "column_trans = make_column_transformer(\n",
    "    (OrdinalEncoder(categories=[np.sort(df.age.unique())]), ['age']),\n",
    "    (OneHotEncoder(drop='first'), ['sex', 'smoker', 'region']),\n",
    "remainder='passthrough')\n",
    "\n",
    "model = make_pipeline(column_trans, scaler, lr_model)\n",
    "\n",
    "model.fit(X_train, y_train)"
   ]
  },
  {
   "cell_type": "code",
   "execution_count": 66,
   "id": "249a9632",
   "metadata": {},
   "outputs": [
    {
     "name": "stdout",
     "output_type": "stream",
     "text": [
      "R2 score   : 0.752\n",
      "rmse score : 5275.00\n"
     ]
    }
   ],
   "source": [
    "y_pred = model.predict(X_test)\n",
    "\n",
    "R2 = r2_score(y_test, y_pred)\n",
    "rmse = np.sqrt(mean_squared_error(y_test, y_pred))\n",
    "\n",
    "print(f'R2 score   : {R2:.3f}')\n",
    "print(f'rmse score : {rmse:.2f}')"
   ]
  },
  {
   "cell_type": "code",
   "execution_count": 67,
   "id": "9b285326",
   "metadata": {},
   "outputs": [
    {
     "data": {
      "text/plain": [
       "5825.59722126616"
      ]
     },
     "execution_count": 67,
     "metadata": {},
     "output_type": "execute_result"
    }
   ],
   "source": [
    "abs(cross_val_score(model, X_train, y_train, cv=10, scoring='neg_root_mean_squared_error').mean())"
   ]
  },
  {
   "cell_type": "code",
   "execution_count": 68,
   "id": "0b26939b",
   "metadata": {},
   "outputs": [
    {
     "data": {
      "text/html": [
       "<div>\n",
       "<style scoped>\n",
       "    .dataframe tbody tr th:only-of-type {\n",
       "        vertical-align: middle;\n",
       "    }\n",
       "\n",
       "    .dataframe tbody tr th {\n",
       "        vertical-align: top;\n",
       "    }\n",
       "\n",
       "    .dataframe thead th {\n",
       "        text-align: right;\n",
       "    }\n",
       "</style>\n",
       "<table border=\"1\" class=\"dataframe\">\n",
       "  <thead>\n",
       "    <tr style=\"text-align: right;\">\n",
       "      <th></th>\n",
       "      <th>Actual</th>\n",
       "      <th>Prediction</th>\n",
       "    </tr>\n",
       "  </thead>\n",
       "  <tbody>\n",
       "    <tr>\n",
       "      <th>2415</th>\n",
       "      <td>15181.169</td>\n",
       "      <td>10481.138</td>\n",
       "    </tr>\n",
       "    <tr>\n",
       "      <th>218</th>\n",
       "      <td>10104.560</td>\n",
       "      <td>12096.514</td>\n",
       "    </tr>\n",
       "    <tr>\n",
       "      <th>469</th>\n",
       "      <td>3292.530</td>\n",
       "      <td>6491.600</td>\n",
       "    </tr>\n",
       "    <tr>\n",
       "      <th>1166</th>\n",
       "      <td>42656.691</td>\n",
       "      <td>35926.803</td>\n",
       "    </tr>\n",
       "    <tr>\n",
       "      <th>254</th>\n",
       "      <td>12026.095</td>\n",
       "      <td>11548.323</td>\n",
       "    </tr>\n",
       "  </tbody>\n",
       "</table>\n",
       "</div>"
      ],
      "text/plain": [
       "        Actual  Prediction\n",
       "2415 15181.169   10481.138\n",
       "218  10104.560   12096.514\n",
       "469   3292.530    6491.600\n",
       "1166 42656.691   35926.803\n",
       "254  12026.095   11548.323"
      ]
     },
     "execution_count": 68,
     "metadata": {},
     "output_type": "execute_result"
    }
   ],
   "source": [
    "pd.DataFrame({'Actual': y_test[:5], 'Prediction': model.predict(X_test)[:5]})"
   ]
  },
  {
   "cell_type": "markdown",
   "id": "86a33cc5",
   "metadata": {},
   "source": [
    "## 3.5 prediction\n",
    "<a id='prediction2-1'></a>"
   ]
  },
  {
   "cell_type": "code",
   "execution_count": 69,
   "id": "625c21b9",
   "metadata": {},
   "outputs": [
    {
     "data": {
      "text/plain": [
       "Pipeline(steps=[('preprocessor',\n",
       "                 ColumnTransformer(remainder='passthrough',\n",
       "                                   transformers=[('encoder_ordinal',\n",
       "                                                  OrdinalEncoder(categories=[array(['15-20', '21-30', '31-40', '41-50', '51-60', '60-65'], dtype=object)]),\n",
       "                                                  ['age']),\n",
       "                                                 ('encoder_nominal',\n",
       "                                                  OneHotEncoder(drop='first'),\n",
       "                                                  ['sex', 'smoker',\n",
       "                                                   'region'])])),\n",
       "                ('scaler', MinMaxScaler()), ('regressor', LinearRegression())])"
      ]
     },
     "execution_count": 69,
     "metadata": {},
     "output_type": "execute_result"
    }
   ],
   "source": [
    "cat_nominal = ['sex', 'smoker', 'region']\n",
    "\n",
    "preprocessor = ColumnTransformer(transformers=[\n",
    "        ('encoder_ordinal', OrdinalEncoder(categories=[np.sort(df.age.unique())]), ['age']),\n",
    "        ('encoder_nominal', OneHotEncoder(drop='first'), cat_nominal)\n",
    "], remainder='passthrough')\n",
    "\n",
    "final_model = Pipeline(steps=[\n",
    "    ('preprocessor', preprocessor),\n",
    "    ('scaler', MinMaxScaler()),\n",
    "    ('regressor', LinearRegression())\n",
    "])\n",
    "\n",
    "final_model.fit(X, y)"
   ]
  },
  {
   "cell_type": "code",
   "execution_count": 70,
   "id": "25da8c7e",
   "metadata": {},
   "outputs": [
    {
     "data": {
      "text/html": [
       "<div>\n",
       "<style scoped>\n",
       "    .dataframe tbody tr th:only-of-type {\n",
       "        vertical-align: middle;\n",
       "    }\n",
       "\n",
       "    .dataframe tbody tr th {\n",
       "        vertical-align: top;\n",
       "    }\n",
       "\n",
       "    .dataframe thead th {\n",
       "        text-align: right;\n",
       "    }\n",
       "</style>\n",
       "<table border=\"1\" class=\"dataframe\">\n",
       "  <thead>\n",
       "    <tr style=\"text-align: right;\">\n",
       "      <th></th>\n",
       "      <th>age</th>\n",
       "      <th>sex</th>\n",
       "      <th>bmi</th>\n",
       "      <th>smoker</th>\n",
       "      <th>region</th>\n",
       "      <th>children</th>\n",
       "    </tr>\n",
       "  </thead>\n",
       "  <tbody>\n",
       "    <tr>\n",
       "      <th>0</th>\n",
       "      <td>15-20</td>\n",
       "      <td>male</td>\n",
       "      <td>25.754</td>\n",
       "      <td>yes</td>\n",
       "      <td>southwest</td>\n",
       "      <td>2</td>\n",
       "    </tr>\n",
       "    <tr>\n",
       "      <th>1</th>\n",
       "      <td>31-40</td>\n",
       "      <td>male</td>\n",
       "      <td>34.313</td>\n",
       "      <td>no</td>\n",
       "      <td>northeast</td>\n",
       "      <td>0</td>\n",
       "    </tr>\n",
       "    <tr>\n",
       "      <th>2</th>\n",
       "      <td>60-65</td>\n",
       "      <td>female</td>\n",
       "      <td>48.700</td>\n",
       "      <td>no</td>\n",
       "      <td>northeast</td>\n",
       "      <td>4</td>\n",
       "    </tr>\n",
       "    <tr>\n",
       "      <th>3</th>\n",
       "      <td>31-40</td>\n",
       "      <td>female</td>\n",
       "      <td>19.111</td>\n",
       "      <td>yes</td>\n",
       "      <td>southeast</td>\n",
       "      <td>4</td>\n",
       "    </tr>\n",
       "    <tr>\n",
       "      <th>4</th>\n",
       "      <td>21-30</td>\n",
       "      <td>male</td>\n",
       "      <td>40.642</td>\n",
       "      <td>yes</td>\n",
       "      <td>northwest</td>\n",
       "      <td>1</td>\n",
       "    </tr>\n",
       "  </tbody>\n",
       "</table>\n",
       "</div>"
      ],
      "text/plain": [
       "     age     sex    bmi smoker     region  children\n",
       "0  15-20    male 25.754    yes  southwest         2\n",
       "1  31-40    male 34.313     no  northeast         0\n",
       "2  60-65  female 48.700     no  northeast         4\n",
       "3  31-40  female 19.111    yes  southeast         4\n",
       "4  21-30    male 40.642    yes  northwest         1"
      ]
     },
     "execution_count": 70,
     "metadata": {},
     "output_type": "execute_result"
    }
   ],
   "source": [
    "df_new = pd.DataFrame({\n",
    "        'age': ['15-20', '31-40', '60-65', '31-40', '21-30'],\n",
    "        'sex': ['male', 'male', 'female', 'female', 'male'],\n",
    "        'bmi': [25.754, 34.313, 48.700, 19.111, 40.642],\n",
    "        'smoker': ['yes', 'no', 'no', 'yes', 'yes'],\n",
    "        'region': ['southwest', 'northeast', 'northeast', 'southeast', 'northwest'],\n",
    "        'children': [2, 0, 4, 4, 1],\n",
    "})\n",
    "\n",
    "df_new"
   ]
  },
  {
   "cell_type": "code",
   "execution_count": 71,
   "id": "1fd705e9",
   "metadata": {},
   "outputs": [
    {
     "data": {
      "text/plain": [
       "array([24516.31586475, 10349.72657311, 22420.18437239, 27815.51386477,\n",
       "       30793.77249807])"
      ]
     },
     "execution_count": 71,
     "metadata": {},
     "output_type": "execute_result"
    }
   ],
   "source": [
    "final_model.predict(df_new)"
   ]
  },
  {
   "cell_type": "markdown",
   "id": "c87f79cc",
   "metadata": {},
   "source": [
    "## 3.6 prediction with pickle\n",
    "<a id='prediction2-2'></a>"
   ]
  },
  {
   "cell_type": "code",
   "execution_count": 72,
   "id": "0b854cc5",
   "metadata": {},
   "outputs": [],
   "source": [
    "import pickle\n",
    "pickle.dump(final_model, open('pipe_model.pkl', 'wb'))"
   ]
  },
  {
   "cell_type": "code",
   "execution_count": 73,
   "id": "8581871d",
   "metadata": {},
   "outputs": [
    {
     "data": {
      "text/html": [
       "<div>\n",
       "<style scoped>\n",
       "    .dataframe tbody tr th:only-of-type {\n",
       "        vertical-align: middle;\n",
       "    }\n",
       "\n",
       "    .dataframe tbody tr th {\n",
       "        vertical-align: top;\n",
       "    }\n",
       "\n",
       "    .dataframe thead th {\n",
       "        text-align: right;\n",
       "    }\n",
       "</style>\n",
       "<table border=\"1\" class=\"dataframe\">\n",
       "  <thead>\n",
       "    <tr style=\"text-align: right;\">\n",
       "      <th></th>\n",
       "      <th>age</th>\n",
       "      <th>sex</th>\n",
       "      <th>bmi</th>\n",
       "      <th>smoker</th>\n",
       "      <th>region</th>\n",
       "      <th>children</th>\n",
       "    </tr>\n",
       "  </thead>\n",
       "  <tbody>\n",
       "    <tr>\n",
       "      <th>0</th>\n",
       "      <td>15-20</td>\n",
       "      <td>male</td>\n",
       "      <td>25.754</td>\n",
       "      <td>yes</td>\n",
       "      <td>southwest</td>\n",
       "      <td>2</td>\n",
       "    </tr>\n",
       "    <tr>\n",
       "      <th>1</th>\n",
       "      <td>31-40</td>\n",
       "      <td>male</td>\n",
       "      <td>34.313</td>\n",
       "      <td>no</td>\n",
       "      <td>northeast</td>\n",
       "      <td>0</td>\n",
       "    </tr>\n",
       "    <tr>\n",
       "      <th>2</th>\n",
       "      <td>60-65</td>\n",
       "      <td>female</td>\n",
       "      <td>48.700</td>\n",
       "      <td>no</td>\n",
       "      <td>northeast</td>\n",
       "      <td>4</td>\n",
       "    </tr>\n",
       "    <tr>\n",
       "      <th>3</th>\n",
       "      <td>31-40</td>\n",
       "      <td>female</td>\n",
       "      <td>19.111</td>\n",
       "      <td>yes</td>\n",
       "      <td>southeast</td>\n",
       "      <td>4</td>\n",
       "    </tr>\n",
       "    <tr>\n",
       "      <th>4</th>\n",
       "      <td>21-30</td>\n",
       "      <td>male</td>\n",
       "      <td>40.642</td>\n",
       "      <td>yes</td>\n",
       "      <td>northwest</td>\n",
       "      <td>1</td>\n",
       "    </tr>\n",
       "  </tbody>\n",
       "</table>\n",
       "</div>"
      ],
      "text/plain": [
       "     age     sex    bmi smoker     region  children\n",
       "0  15-20    male 25.754    yes  southwest         2\n",
       "1  31-40    male 34.313     no  northeast         0\n",
       "2  60-65  female 48.700     no  northeast         4\n",
       "3  31-40  female 19.111    yes  southeast         4\n",
       "4  21-30    male 40.642    yes  northwest         1"
      ]
     },
     "execution_count": 73,
     "metadata": {},
     "output_type": "execute_result"
    }
   ],
   "source": [
    "df_new = pd.DataFrame({\n",
    "        'age': ['15-20', '31-40', '60-65', '31-40', '21-30'],\n",
    "        'sex': ['male', 'male', 'female', 'female', 'male'],\n",
    "        'bmi': [25.754, 34.313, 48.700, 19.111, 40.642],\n",
    "        'smoker': ['yes', 'no', 'no', 'yes', 'yes'],\n",
    "        'region': ['southwest', 'northeast', 'northeast', 'southeast', 'northwest'],\n",
    "        'children': [2, 0, 4, 4, 1],\n",
    "})\n",
    "\n",
    "df_new"
   ]
  },
  {
   "cell_type": "code",
   "execution_count": 74,
   "id": "39d5f812",
   "metadata": {},
   "outputs": [],
   "source": [
    "pipe_model = pickle.load(open('pipe_model.pkl', 'rb'))"
   ]
  },
  {
   "cell_type": "code",
   "execution_count": 75,
   "id": "966822e8",
   "metadata": {},
   "outputs": [
    {
     "data": {
      "text/plain": [
       "array([24516.31586475, 10349.72657311, 22420.18437239, 27815.51386477,\n",
       "       30793.77249807])"
      ]
     },
     "execution_count": 75,
     "metadata": {},
     "output_type": "execute_result"
    }
   ],
   "source": [
    "pipe_model.predict(df_new)"
   ]
  },
  {
   "cell_type": "markdown",
   "id": "03ed3557",
   "metadata": {},
   "source": [
    "<div class=\"alert alert-block alert-success\">\n",
    "    \n",
    "<b>4. Grid Search with Pipeline and make_pipeline<a id='phase3'></a></b>\n",
    "    \n",
    "</div>"
   ]
  },
  {
   "cell_type": "markdown",
   "id": "ee4a6aaf",
   "metadata": {},
   "source": [
    "[CONTENT](#content)"
   ]
  },
  {
   "cell_type": "markdown",
   "id": "1cb1cd5c",
   "metadata": {},
   "source": [
    "pipeline allows you to do a grid search or randomize search of both tuning parameters for model and the pre-processing steps."
   ]
  },
  {
   "cell_type": "code",
   "execution_count": 76,
   "id": "84a5bf3c",
   "metadata": {},
   "outputs": [],
   "source": [
    "from sklearn.model_selection import GridSearchCV\n",
    "from sklearn.svm import SVR"
   ]
  },
  {
   "cell_type": "code",
   "execution_count": 77,
   "id": "162e2612",
   "metadata": {},
   "outputs": [
    {
     "data": {
      "text/html": [
       "<div>\n",
       "<style scoped>\n",
       "    .dataframe tbody tr th:only-of-type {\n",
       "        vertical-align: middle;\n",
       "    }\n",
       "\n",
       "    .dataframe tbody tr th {\n",
       "        vertical-align: top;\n",
       "    }\n",
       "\n",
       "    .dataframe thead th {\n",
       "        text-align: right;\n",
       "    }\n",
       "</style>\n",
       "<table border=\"1\" class=\"dataframe\">\n",
       "  <thead>\n",
       "    <tr style=\"text-align: right;\">\n",
       "      <th></th>\n",
       "      <th>age</th>\n",
       "      <th>sex</th>\n",
       "      <th>bmi</th>\n",
       "      <th>smoker</th>\n",
       "      <th>region</th>\n",
       "      <th>children</th>\n",
       "    </tr>\n",
       "  </thead>\n",
       "  <tbody>\n",
       "    <tr>\n",
       "      <th>1026</th>\n",
       "      <td>41-50</td>\n",
       "      <td>female</td>\n",
       "      <td>29.096</td>\n",
       "      <td>no</td>\n",
       "      <td>southwest</td>\n",
       "      <td>1</td>\n",
       "    </tr>\n",
       "    <tr>\n",
       "      <th>1459</th>\n",
       "      <td>41-50</td>\n",
       "      <td>female</td>\n",
       "      <td>39.175</td>\n",
       "      <td>no</td>\n",
       "      <td>northwest</td>\n",
       "      <td>4</td>\n",
       "    </tr>\n",
       "    <tr>\n",
       "      <th>2164</th>\n",
       "      <td>41-50</td>\n",
       "      <td>male</td>\n",
       "      <td>30.603</td>\n",
       "      <td>yes</td>\n",
       "      <td>northeast</td>\n",
       "      <td>4</td>\n",
       "    </tr>\n",
       "    <tr>\n",
       "      <th>2098</th>\n",
       "      <td>41-50</td>\n",
       "      <td>female</td>\n",
       "      <td>24.644</td>\n",
       "      <td>no</td>\n",
       "      <td>southeast</td>\n",
       "      <td>5</td>\n",
       "    </tr>\n",
       "    <tr>\n",
       "      <th>852</th>\n",
       "      <td>15-20</td>\n",
       "      <td>male</td>\n",
       "      <td>53.130</td>\n",
       "      <td>no</td>\n",
       "      <td>southeast</td>\n",
       "      <td>0</td>\n",
       "    </tr>\n",
       "  </tbody>\n",
       "</table>\n",
       "</div>"
      ],
      "text/plain": [
       "        age     sex    bmi smoker     region  children\n",
       "1026  41-50  female 29.096     no  southwest         1\n",
       "1459  41-50  female 39.175     no  northwest         4\n",
       "2164  41-50    male 30.603    yes  northeast         4\n",
       "2098  41-50  female 24.644     no  southeast         5\n",
       "852   15-20    male 53.130     no  southeast         0"
      ]
     },
     "execution_count": 77,
     "metadata": {},
     "output_type": "execute_result"
    }
   ],
   "source": [
    "X_train.head()"
   ]
  },
  {
   "cell_type": "markdown",
   "id": "59864c4e",
   "metadata": {},
   "source": [
    "### 4.1 ColumnTransformer and Pipeline\n",
    "<a id='GSearch1'></a>"
   ]
  },
  {
   "cell_type": "code",
   "execution_count": 78,
   "id": "1099fbbf",
   "metadata": {},
   "outputs": [],
   "source": [
    "cat_nominal = ['sex', 'smoker', 'region']\n",
    "\n",
    "preprocessor = ColumnTransformer(transformers=[\n",
    "        ('encoder_ordinal', OrdinalEncoder(categories=[np.sort(df.age.unique())]), ['age']),\n",
    "        ('encoder_nominal', OneHotEncoder(drop='first'), cat_nominal)\n",
    "], remainder='passthrough')\n",
    "\n",
    "model = Pipeline(steps=[\n",
    "    ('preprocessor', preprocessor),\n",
    "    ('scaler', MinMaxScaler()),\n",
    "    ('regressor', SVR())\n",
    "])"
   ]
  },
  {
   "cell_type": "code",
   "execution_count": 79,
   "id": "17492ce8",
   "metadata": {},
   "outputs": [
    {
     "name": "stdout",
     "output_type": "stream",
     "text": [
      "Fitting 5 folds for each of 40 candidates, totalling 200 fits\n",
      "Wall time: 15.9 s\n",
      "\n",
      " {'regressor__C': 100, 'regressor__degree': 4, 'regressor__gamma': 1, 'regressor__kernel': 'poly'}\n",
      "\n",
      " Pipeline(steps=[('preprocessor',\n",
      "                 ColumnTransformer(remainder='passthrough',\n",
      "                                   transformers=[('encoder_ordinal',\n",
      "                                                  OrdinalEncoder(categories=[array(['15-20', '21-30', '31-40', '41-50', '51-60', '60-65'], dtype=object)]),\n",
      "                                                  ['age']),\n",
      "                                                 ('encoder_nominal',\n",
      "                                                  OneHotEncoder(drop='first'),\n",
      "                                                  ['sex', 'smoker',\n",
      "                                                   'region'])])),\n",
      "                ('scaler', MinMaxScaler()),\n",
      "                ('regressor', SVR(C=100, degree=4, gamma=1, kernel='poly'))])\n",
      "\n",
      " Best Score : -5131.3412558527325\n"
     ]
    }
   ],
   "source": [
    "param_grid = [\n",
    "        {'regressor__kernel': ['linear'], 'regressor__C': [0.1, 1, 10, 100]},\n",
    "        {'regressor__kernel': ['poly'], 'regressor__degree':[3, 4, 5], 'regressor__gamma':['auto', 'scale', 1], \n",
    "         'regressor__C':[0.1, 1, 10, 100]}\n",
    "]\n",
    "\n",
    "%time grid_model = GridSearchCV(estimator=model, param_grid=param_grid, verbose=1, \\\n",
    "                                      scoring='neg_root_mean_squared_error', cv=5, n_jobs=-1).fit(X_train, y_train)\n",
    "\n",
    "print('\\n', grid_model.best_params_)\n",
    "print('\\n', grid_model.best_estimator_)\n",
    "print('\\n', 'Best Score :', grid_model.best_score_)"
   ]
  },
  {
   "cell_type": "code",
   "execution_count": 80,
   "id": "0f9909d7",
   "metadata": {},
   "outputs": [
    {
     "name": "stdout",
     "output_type": "stream",
     "text": [
      "R2 score   : 0.830\n",
      "rmse score : 4369.10\n"
     ]
    }
   ],
   "source": [
    "y_pred = grid_model.predict(X_test)\n",
    "\n",
    "R2 = r2_score(y_test, y_pred)\n",
    "rmse = np.sqrt(mean_squared_error(y_test, y_pred))\n",
    "\n",
    "print(f'R2 score   : {R2:.3f}')\n",
    "print(f'rmse score : {rmse:.2f}')"
   ]
  },
  {
   "cell_type": "markdown",
   "id": "04d40052",
   "metadata": {},
   "source": [
    "### 4.2 make_column_transformer and make_pipeline\n",
    "<a id='GSearch2'></a>"
   ]
  },
  {
   "cell_type": "code",
   "execution_count": 81,
   "id": "f05a2ec4",
   "metadata": {},
   "outputs": [],
   "source": [
    "column_trans = make_column_transformer(\n",
    "    (OrdinalEncoder(categories=[np.sort(df.age.unique())]), ['age']),\n",
    "    (OneHotEncoder(drop='first'), ['sex', 'smoker', 'region']),\n",
    "remainder='passthrough')\n",
    "\n",
    "model = make_pipeline(column_trans, MinMaxScaler(), SVR())"
   ]
  },
  {
   "cell_type": "code",
   "execution_count": 82,
   "id": "3bd2b2df",
   "metadata": {},
   "outputs": [
    {
     "name": "stdout",
     "output_type": "stream",
     "text": [
      "Fitting 5 folds for each of 40 candidates, totalling 200 fits\n",
      "Wall time: 12.5 s\n",
      "\n",
      " {'svr__C': 100, 'svr__degree': 4, 'svr__gamma': 1, 'svr__kernel': 'poly'}\n",
      "\n",
      " Pipeline(steps=[('columntransformer',\n",
      "                 ColumnTransformer(remainder='passthrough',\n",
      "                                   transformers=[('ordinalencoder',\n",
      "                                                  OrdinalEncoder(categories=[array(['15-20', '21-30', '31-40', '41-50', '51-60', '60-65'], dtype=object)]),\n",
      "                                                  ['age']),\n",
      "                                                 ('onehotencoder',\n",
      "                                                  OneHotEncoder(drop='first'),\n",
      "                                                  ['sex', 'smoker',\n",
      "                                                   'region'])])),\n",
      "                ('minmaxscaler', MinMaxScaler()),\n",
      "                ('svr', SVR(C=100, degree=4, gamma=1, kernel='poly'))])\n",
      "\n",
      " Best Score : -5131.3412558527325\n"
     ]
    }
   ],
   "source": [
    "# prefix must be lowercase of the estimator's name\n",
    "\n",
    "param_grid = [\n",
    "        {'svr__kernel': ['linear'], 'svr__C': [0.1, 1, 10, 100]},\n",
    "        {'svr__kernel': ['poly'], 'svr__degree':[3, 4, 5], 'svr__gamma':['auto', 'scale', 1], 'svr__C':[0.1, 1, 10, 100]}\n",
    "]\n",
    "\n",
    "%time grid_model = GridSearchCV(estimator=model, param_grid=param_grid, verbose=1, \\\n",
    "                                scoring='neg_root_mean_squared_error', cv=5, n_jobs=-1).fit(X_train, y_train)\n",
    "\n",
    "print('\\n', grid_model.best_params_)\n",
    "print('\\n', grid_model.best_estimator_)\n",
    "print('\\n', 'Best Score :', grid_model.best_score_)"
   ]
  },
  {
   "cell_type": "code",
   "execution_count": 83,
   "id": "c29c21db",
   "metadata": {},
   "outputs": [
    {
     "name": "stdout",
     "output_type": "stream",
     "text": [
      "R2 score   : 0.830\n",
      "rmse score : 4369.10\n"
     ]
    }
   ],
   "source": [
    "y_pred = grid_model.predict(X_test)\n",
    "\n",
    "R2 = r2_score(y_test, y_pred)\n",
    "rmse = np.sqrt(mean_squared_error(y_test, y_pred))\n",
    "\n",
    "print(f'R2 score   : {R2:.3f}')\n",
    "print(f'rmse score : {rmse:.2f}')"
   ]
  },
  {
   "cell_type": "markdown",
   "id": "7fd5800f",
   "metadata": {},
   "source": [
    "<div class=\"alert alert-block alert-success\">\n",
    "    \n",
    "<b>5. Conclusion<a id='conc'></a></b>\n",
    "    \n",
    "</div>"
   ]
  },
  {
   "cell_type": "markdown",
   "id": "5ad90918",
   "metadata": {},
   "source": [
    "[CONTENT](#content)"
   ]
  },
  {
   "cell_type": "markdown",
   "id": "13247114",
   "metadata": {},
   "source": [
    "Generally, we use pipeline to chain data preprocessing steps with model-building steps together. It allows us to reduce the complexity of the process. And, it allows us to properly cross validate a process, preventing data leakage. \n",
    "\n",
    "We use column transformer to preprocess all the data simultaneously and only to the columns we want. In particular, a few steps such as handling missing values, encoding categorical data (in some cases different encoders may need to be used on the same data) and feature scaling can be easily done using column transformer and pipeline.\n",
    "\n",
    "With our model built with the pipeline, we don't need to reprocess the sample data for every prediction."
   ]
  }
 ],
 "metadata": {
  "kernelspec": {
   "display_name": "Python 3 (ipykernel)",
   "language": "python",
   "name": "python3"
  },
  "language_info": {
   "codemirror_mode": {
    "name": "ipython",
    "version": 3
   },
   "file_extension": ".py",
   "mimetype": "text/x-python",
   "name": "python",
   "nbconvert_exporter": "python",
   "pygments_lexer": "ipython3",
   "version": "3.9.6"
  }
 },
 "nbformat": 4,
 "nbformat_minor": 5
}
