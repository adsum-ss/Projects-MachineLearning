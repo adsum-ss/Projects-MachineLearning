{
 "cells": [
  {
   "cell_type": "markdown",
   "id": "d14c4b95",
   "metadata": {},
   "source": [
    "<div class=\"alert alert-block alert-warning\">\n",
    "\n",
    "<b>CAR PRICE PREDICTION EDA</b>\n",
    "    \n",
    "</div>"
   ]
  },
  {
   "cell_type": "markdown",
   "id": "6a499934",
   "metadata": {},
   "source": [
    "<div class=\"alert alert-block alert-danger\">\n",
    "    \n",
    "<b>PART - 1 (Data Cleaning)</b>\n",
    "    \n",
    "</div>"
   ]
  },
  {
   "cell_type": "code",
   "execution_count": 1,
   "id": "2a6cde68",
   "metadata": {},
   "outputs": [],
   "source": [
    "# Basic Library\n",
    "import numpy as np\n",
    "import pandas as pd\n",
    "\n",
    "# Libraries for Visualization\n",
    "import matplotlib.pyplot as plt\n",
    "%matplotlib inline\n",
    "import seaborn as sns\n",
    "\n",
    "# Libraries for Style\n",
    "from colorama import Fore\n",
    "from colorama import Style\n",
    "\n",
    "import scipy.stats as stats\n",
    "\n",
    "import warnings;\n",
    "warnings.filterwarnings('ignore')\n",
    "\n",
    "# plt.rcParams[\"figure.figsize\"] = (10,6)\n",
    "# plt.rcParams['figure.dpi'] = 100\n",
    "\n",
    "sns.set_style(\"whitegrid\")\n",
    "\n",
    "pd.set_option('display.max_rows', 100)\n",
    "pd.set_option('display.max_columns', 100)\n",
    "# pd.options.display.max_rows = 100\n",
    "# pd.options.display.max_columns = 100\n",
    "\n",
    "pd.set_option('display.float_format', lambda x: '%.2f' % x)"
   ]
  },
  {
   "cell_type": "code",
   "execution_count": 2,
   "id": "b358d466",
   "metadata": {},
   "outputs": [],
   "source": [
    "df = pd.read_json('scout_car.json', lines=True)"
   ]
  },
  {
   "cell_type": "markdown",
   "id": "d2f85dbb",
   "metadata": {},
   "source": [
    "<div class=\"alert alert-block alert-danger\">\n",
    "    \n",
    "<b>DataFrame Review</b>\n",
    "    \n",
    "</div>"
   ]
  },
  {
   "cell_type": "code",
   "execution_count": 3,
   "id": "8c6d06be",
   "metadata": {},
   "outputs": [
    {
     "data": {
      "text/html": [
       "<div>\n",
       "<style scoped>\n",
       "    .dataframe tbody tr th:only-of-type {\n",
       "        vertical-align: middle;\n",
       "    }\n",
       "\n",
       "    .dataframe tbody tr th {\n",
       "        vertical-align: top;\n",
       "    }\n",
       "\n",
       "    .dataframe thead th {\n",
       "        text-align: right;\n",
       "    }\n",
       "</style>\n",
       "<table border=\"1\" class=\"dataframe\">\n",
       "  <thead>\n",
       "    <tr style=\"text-align: right;\">\n",
       "      <th></th>\n",
       "      <th>url</th>\n",
       "      <th>make_model</th>\n",
       "      <th>short_description</th>\n",
       "      <th>body_type</th>\n",
       "      <th>price</th>\n",
       "      <th>vat</th>\n",
       "      <th>km</th>\n",
       "      <th>registration</th>\n",
       "      <th>prev_owner</th>\n",
       "      <th>kW</th>\n",
       "      <th>hp</th>\n",
       "      <th>Type</th>\n",
       "      <th>Previous Owners</th>\n",
       "      <th>Next Inspection</th>\n",
       "      <th>Inspection new</th>\n",
       "      <th>Warranty</th>\n",
       "      <th>Full Service</th>\n",
       "      <th>Non-smoking Vehicle</th>\n",
       "      <th>null</th>\n",
       "      <th>Make</th>\n",
       "      <th>Model</th>\n",
       "      <th>Offer Number</th>\n",
       "      <th>First Registration</th>\n",
       "      <th>Body Color</th>\n",
       "      <th>Paint Type</th>\n",
       "      <th>Body Color Original</th>\n",
       "      <th>Upholstery</th>\n",
       "      <th>Body</th>\n",
       "      <th>Nr. of Doors</th>\n",
       "      <th>Nr. of Seats</th>\n",
       "      <th>Model Code</th>\n",
       "      <th>Gearing Type</th>\n",
       "      <th>Displacement</th>\n",
       "      <th>Cylinders</th>\n",
       "      <th>Weight</th>\n",
       "      <th>Drive chain</th>\n",
       "      <th>Fuel</th>\n",
       "      <th>Consumption</th>\n",
       "      <th>CO2 Emission</th>\n",
       "      <th>Emission Class</th>\n",
       "      <th>\\nComfort &amp; Convenience\\n</th>\n",
       "      <th>\\nEntertainment &amp; Media\\n</th>\n",
       "      <th>\\nExtras\\n</th>\n",
       "      <th>\\nSafety &amp; Security\\n</th>\n",
       "      <th>description</th>\n",
       "      <th>Emission Label</th>\n",
       "      <th>Gears</th>\n",
       "      <th>Country version</th>\n",
       "      <th>Electricity consumption</th>\n",
       "      <th>Last Service Date</th>\n",
       "      <th>Other Fuel Types</th>\n",
       "      <th>Availability</th>\n",
       "      <th>Last Timing Belt Service Date</th>\n",
       "      <th>Available from</th>\n",
       "    </tr>\n",
       "  </thead>\n",
       "  <tbody>\n",
       "    <tr>\n",
       "      <th>0</th>\n",
       "      <td>https://www.autoscout24.com//offers/audi-a1-sp...</td>\n",
       "      <td>Audi A1</td>\n",
       "      <td>Sportback 1.4 TDI S-tronic Xenon Navi Klima</td>\n",
       "      <td>Sedans</td>\n",
       "      <td>15770</td>\n",
       "      <td>VAT deductible</td>\n",
       "      <td>56,013 km</td>\n",
       "      <td>01/2016</td>\n",
       "      <td>2 previous owners</td>\n",
       "      <td>NaN</td>\n",
       "      <td>66 kW</td>\n",
       "      <td>[, Used, , Diesel (Particulate Filter)]</td>\n",
       "      <td>\\n2\\n</td>\n",
       "      <td>[\\n06/2021\\n, \\n99 g CO2/km (comb)\\n]</td>\n",
       "      <td>[\\nYes\\n, \\nEuro 6\\n]</td>\n",
       "      <td>[\\n, \\n, \\n4 (Green)\\n]</td>\n",
       "      <td>[\\n, \\n]</td>\n",
       "      <td>[\\n, \\n]</td>\n",
       "      <td>[]</td>\n",
       "      <td>\\nAudi\\n</td>\n",
       "      <td>[\\n, A1, \\n]</td>\n",
       "      <td>[\\nLR-062483\\n]</td>\n",
       "      <td>[\\n, 2016, \\n]</td>\n",
       "      <td>[\\n, Black, \\n]</td>\n",
       "      <td>[\\nMetallic\\n]</td>\n",
       "      <td>[\\nMythosschwarz\\n]</td>\n",
       "      <td>[\\nCloth, Black\\n]</td>\n",
       "      <td>[\\n, Sedans, \\n]</td>\n",
       "      <td>[\\n5\\n]</td>\n",
       "      <td>[\\n5\\n]</td>\n",
       "      <td>[\\n0588/BDF\\n]</td>\n",
       "      <td>[\\n, Automatic, \\n]</td>\n",
       "      <td>[\\n1,422 cc\\n]</td>\n",
       "      <td>[\\n3\\n]</td>\n",
       "      <td>[\\n1,220 kg\\n]</td>\n",
       "      <td>[\\nfront\\n]</td>\n",
       "      <td>[\\n, Diesel (Particulate Filter), \\n]</td>\n",
       "      <td>[[3.8 l/100 km (comb)], [4.3 l/100 km (city)],...</td>\n",
       "      <td>[\\n99 g CO2/km (comb)\\n]</td>\n",
       "      <td>[\\nEuro 6\\n]</td>\n",
       "      <td>[Air conditioning, Armrest, Automatic climate ...</td>\n",
       "      <td>[Bluetooth, Hands-free equipment, On-board com...</td>\n",
       "      <td>[Alloy wheels, Catalytic Converter, Voice Cont...</td>\n",
       "      <td>[ABS, Central door lock, Daytime running light...</td>\n",
       "      <td>[\\n, Sicherheit:,  , Deaktivierung für Beifahr...</td>\n",
       "      <td>NaN</td>\n",
       "      <td>NaN</td>\n",
       "      <td>NaN</td>\n",
       "      <td>NaN</td>\n",
       "      <td>NaN</td>\n",
       "      <td>NaN</td>\n",
       "      <td>NaN</td>\n",
       "      <td>NaN</td>\n",
       "      <td>NaN</td>\n",
       "    </tr>\n",
       "    <tr>\n",
       "      <th>1</th>\n",
       "      <td>https://www.autoscout24.com//offers/audi-a1-1-...</td>\n",
       "      <td>Audi A1</td>\n",
       "      <td>1.8 TFSI sport</td>\n",
       "      <td>Sedans</td>\n",
       "      <td>14500</td>\n",
       "      <td>Price negotiable</td>\n",
       "      <td>80,000 km</td>\n",
       "      <td>03/2017</td>\n",
       "      <td>None</td>\n",
       "      <td>NaN</td>\n",
       "      <td>141 kW</td>\n",
       "      <td>[, Used, , Gasoline]</td>\n",
       "      <td>NaN</td>\n",
       "      <td>NaN</td>\n",
       "      <td>NaN</td>\n",
       "      <td>NaN</td>\n",
       "      <td>NaN</td>\n",
       "      <td>NaN</td>\n",
       "      <td>[]</td>\n",
       "      <td>\\nAudi\\n</td>\n",
       "      <td>[\\n, A1, \\n]</td>\n",
       "      <td>NaN</td>\n",
       "      <td>[\\n, 2017, \\n]</td>\n",
       "      <td>[\\n, Red, \\n]</td>\n",
       "      <td>NaN</td>\n",
       "      <td>NaN</td>\n",
       "      <td>[\\nCloth, Grey\\n]</td>\n",
       "      <td>[\\n, Sedans, \\n]</td>\n",
       "      <td>[\\n3\\n]</td>\n",
       "      <td>[\\n4\\n]</td>\n",
       "      <td>[\\n0588/BCY\\n]</td>\n",
       "      <td>[\\n, Automatic, \\n]</td>\n",
       "      <td>[\\n1,798 cc\\n]</td>\n",
       "      <td>[\\n4\\n]</td>\n",
       "      <td>[\\n1,255 kg\\n]</td>\n",
       "      <td>[\\nfront\\n]</td>\n",
       "      <td>[\\n, Gasoline, \\n]</td>\n",
       "      <td>[[5.6 l/100 km (comb)], [7.1 l/100 km (city)],...</td>\n",
       "      <td>[\\n129 g CO2/km (comb)\\n]</td>\n",
       "      <td>[\\nEuro 6\\n]</td>\n",
       "      <td>[Air conditioning, Automatic climate control, ...</td>\n",
       "      <td>[Bluetooth, Hands-free equipment, On-board com...</td>\n",
       "      <td>[Alloy wheels, Sport seats, Sport suspension, ...</td>\n",
       "      <td>[ABS, Central door lock, Central door lock wit...</td>\n",
       "      <td>[\\nLangstreckenfahrzeug daher die hohe Kilomet...</td>\n",
       "      <td>[\\n4 (Green)\\n]</td>\n",
       "      <td>[\\n7\\n]</td>\n",
       "      <td>NaN</td>\n",
       "      <td>NaN</td>\n",
       "      <td>NaN</td>\n",
       "      <td>NaN</td>\n",
       "      <td>NaN</td>\n",
       "      <td>NaN</td>\n",
       "      <td>NaN</td>\n",
       "    </tr>\n",
       "    <tr>\n",
       "      <th>2</th>\n",
       "      <td>https://www.autoscout24.com//offers/audi-a1-sp...</td>\n",
       "      <td>Audi A1</td>\n",
       "      <td>Sportback 1.6 TDI S tronic Einparkhilfe plus+m...</td>\n",
       "      <td>Sedans</td>\n",
       "      <td>14640</td>\n",
       "      <td>VAT deductible</td>\n",
       "      <td>83,450 km</td>\n",
       "      <td>02/2016</td>\n",
       "      <td>1 previous owner</td>\n",
       "      <td>NaN</td>\n",
       "      <td>85 kW</td>\n",
       "      <td>[, Used, , Diesel (Particulate Filter)]</td>\n",
       "      <td>\\n1\\n</td>\n",
       "      <td>NaN</td>\n",
       "      <td>NaN</td>\n",
       "      <td>[\\n, \\n, \\n99 g CO2/km (comb)\\n]</td>\n",
       "      <td>NaN</td>\n",
       "      <td>NaN</td>\n",
       "      <td>[]</td>\n",
       "      <td>\\nAudi\\n</td>\n",
       "      <td>[\\n, A1, \\n]</td>\n",
       "      <td>[\\nAM-95365\\n]</td>\n",
       "      <td>[\\n, 2016, \\n]</td>\n",
       "      <td>[\\n, Black, \\n]</td>\n",
       "      <td>[\\nMetallic\\n]</td>\n",
       "      <td>[\\nmythosschwarz metallic\\n]</td>\n",
       "      <td>[\\nCloth, Black\\n]</td>\n",
       "      <td>[\\n, Sedans, \\n]</td>\n",
       "      <td>[\\n4\\n]</td>\n",
       "      <td>[\\n4\\n]</td>\n",
       "      <td>NaN</td>\n",
       "      <td>[\\n, Automatic, \\n]</td>\n",
       "      <td>[\\n1,598 cc\\n]</td>\n",
       "      <td>NaN</td>\n",
       "      <td>NaN</td>\n",
       "      <td>[\\nfront\\n]</td>\n",
       "      <td>[\\n, Diesel (Particulate Filter), \\n]</td>\n",
       "      <td>[[3.8 l/100 km (comb)], [4.4 l/100 km (city)],...</td>\n",
       "      <td>[\\n99 g CO2/km (comb)\\n]</td>\n",
       "      <td>[\\nEuro 6\\n]</td>\n",
       "      <td>[Air conditioning, Cruise control, Electrical ...</td>\n",
       "      <td>[MP3, On-board computer]</td>\n",
       "      <td>[Alloy wheels, Voice Control]</td>\n",
       "      <td>[ABS, Central door lock, Daytime running light...</td>\n",
       "      <td>[\\n, Fahrzeug-Nummer: AM-95365,  , Ehem. UPE 2...</td>\n",
       "      <td>[\\n4 (Green)\\n]</td>\n",
       "      <td>NaN</td>\n",
       "      <td>NaN</td>\n",
       "      <td>NaN</td>\n",
       "      <td>NaN</td>\n",
       "      <td>NaN</td>\n",
       "      <td>NaN</td>\n",
       "      <td>NaN</td>\n",
       "      <td>NaN</td>\n",
       "    </tr>\n",
       "    <tr>\n",
       "      <th>3</th>\n",
       "      <td>https://www.autoscout24.com//offers/audi-a1-1-...</td>\n",
       "      <td>Audi A1</td>\n",
       "      <td>1.4 TDi Design S tronic</td>\n",
       "      <td>Sedans</td>\n",
       "      <td>14500</td>\n",
       "      <td>None</td>\n",
       "      <td>73,000 km</td>\n",
       "      <td>08/2016</td>\n",
       "      <td>1 previous owner</td>\n",
       "      <td>NaN</td>\n",
       "      <td>66 kW</td>\n",
       "      <td>[, Used, , Diesel (Particulate Filter)]</td>\n",
       "      <td>\\n1\\n</td>\n",
       "      <td>NaN</td>\n",
       "      <td>NaN</td>\n",
       "      <td>NaN</td>\n",
       "      <td>[\\n, \\n, \\n99 g CO2/km (comb)\\n]</td>\n",
       "      <td>[\\n, \\n, \\nEuro 6\\n]</td>\n",
       "      <td>[]</td>\n",
       "      <td>\\nAudi\\n</td>\n",
       "      <td>[\\n, A1, \\n]</td>\n",
       "      <td>NaN</td>\n",
       "      <td>[\\n, 2016, \\n]</td>\n",
       "      <td>[\\n, Brown, \\n]</td>\n",
       "      <td>[\\nMetallic\\n]</td>\n",
       "      <td>NaN</td>\n",
       "      <td>NaN</td>\n",
       "      <td>[\\n, Sedans, \\n]</td>\n",
       "      <td>[\\n3\\n]</td>\n",
       "      <td>[\\n4\\n]</td>\n",
       "      <td>NaN</td>\n",
       "      <td>[\\n, Automatic, \\n]</td>\n",
       "      <td>[\\n1,422 cc\\n]</td>\n",
       "      <td>[\\n3\\n]</td>\n",
       "      <td>[\\n1,195 kg\\n]</td>\n",
       "      <td>NaN</td>\n",
       "      <td>[\\n, Diesel (Particulate Filter), \\n]</td>\n",
       "      <td>[[3.8 l/100 km (comb)], [4.3 l/100 km (city)],...</td>\n",
       "      <td>[\\n99 g CO2/km (comb)\\n]</td>\n",
       "      <td>[\\nEuro 6\\n]</td>\n",
       "      <td>[Air suspension, Armrest, Auxiliary heating, E...</td>\n",
       "      <td>[Bluetooth, CD player, Hands-free equipment, M...</td>\n",
       "      <td>[Alloy wheels, Sport seats, Voice Control]</td>\n",
       "      <td>[ABS, Alarm system, Central door lock with rem...</td>\n",
       "      <td>[\\nAudi A1: , - 1e eigenaar , - Perfecte staat...</td>\n",
       "      <td>NaN</td>\n",
       "      <td>[\\n6\\n]</td>\n",
       "      <td>NaN</td>\n",
       "      <td>NaN</td>\n",
       "      <td>NaN</td>\n",
       "      <td>NaN</td>\n",
       "      <td>NaN</td>\n",
       "      <td>NaN</td>\n",
       "      <td>NaN</td>\n",
       "    </tr>\n",
       "    <tr>\n",
       "      <th>4</th>\n",
       "      <td>https://www.autoscout24.com//offers/audi-a1-sp...</td>\n",
       "      <td>Audi A1</td>\n",
       "      <td>Sportback 1.4 TDI S-Tronic S-Line Ext. admired...</td>\n",
       "      <td>Sedans</td>\n",
       "      <td>16790</td>\n",
       "      <td>None</td>\n",
       "      <td>16,200 km</td>\n",
       "      <td>05/2016</td>\n",
       "      <td>1 previous owner</td>\n",
       "      <td>NaN</td>\n",
       "      <td>66 kW</td>\n",
       "      <td>[, Used, , Diesel (Particulate Filter)]</td>\n",
       "      <td>\\n1\\n</td>\n",
       "      <td>NaN</td>\n",
       "      <td>[\\nYes\\n, \\n109 g CO2/km (comb)\\n]</td>\n",
       "      <td>[\\n, \\n, \\nEuro 6\\n]</td>\n",
       "      <td>[\\n, \\n, \\n4 (Green)\\n]</td>\n",
       "      <td>[\\n, \\n]</td>\n",
       "      <td>[]</td>\n",
       "      <td>\\nAudi\\n</td>\n",
       "      <td>[\\n, A1, \\n]</td>\n",
       "      <td>[\\nC1626\\n]</td>\n",
       "      <td>[\\n, 2016, \\n]</td>\n",
       "      <td>[\\n, Black, \\n]</td>\n",
       "      <td>[\\nMetallic\\n]</td>\n",
       "      <td>[\\nMythosschwarz Metallic\\n]</td>\n",
       "      <td>[\\nCloth, Black\\n]</td>\n",
       "      <td>[\\n, Sedans, \\n]</td>\n",
       "      <td>[\\n5\\n]</td>\n",
       "      <td>[\\n5\\n]</td>\n",
       "      <td>[\\n0588/BDF\\n]</td>\n",
       "      <td>[\\n, Automatic, \\n]</td>\n",
       "      <td>[\\n1,422 cc\\n]</td>\n",
       "      <td>[\\n3\\n]</td>\n",
       "      <td>NaN</td>\n",
       "      <td>[\\nfront\\n]</td>\n",
       "      <td>[\\n, Diesel (Particulate Filter), \\n]</td>\n",
       "      <td>[[4.1 l/100 km (comb)], [4.6 l/100 km (city)],...</td>\n",
       "      <td>[\\n109 g CO2/km (comb)\\n]</td>\n",
       "      <td>[\\nEuro 6\\n]</td>\n",
       "      <td>[Air conditioning, Armrest, Automatic climate ...</td>\n",
       "      <td>[Bluetooth, CD player, Hands-free equipment, M...</td>\n",
       "      <td>[Alloy wheels, Sport package, Sport suspension...</td>\n",
       "      <td>[ABS, Central door lock, Driver-side airbag, E...</td>\n",
       "      <td>[\\n, Technik &amp; Sicherheit:, Xenon plus, Klimaa...</td>\n",
       "      <td>NaN</td>\n",
       "      <td>NaN</td>\n",
       "      <td>[\\nGermany\\n]</td>\n",
       "      <td>NaN</td>\n",
       "      <td>NaN</td>\n",
       "      <td>NaN</td>\n",
       "      <td>NaN</td>\n",
       "      <td>NaN</td>\n",
       "      <td>NaN</td>\n",
       "    </tr>\n",
       "  </tbody>\n",
       "</table>\n",
       "</div>"
      ],
      "text/plain": [
       "                                                 url make_model  \\\n",
       "0  https://www.autoscout24.com//offers/audi-a1-sp...    Audi A1   \n",
       "1  https://www.autoscout24.com//offers/audi-a1-1-...    Audi A1   \n",
       "2  https://www.autoscout24.com//offers/audi-a1-sp...    Audi A1   \n",
       "3  https://www.autoscout24.com//offers/audi-a1-1-...    Audi A1   \n",
       "4  https://www.autoscout24.com//offers/audi-a1-sp...    Audi A1   \n",
       "\n",
       "                                   short_description body_type  price  \\\n",
       "0        Sportback 1.4 TDI S-tronic Xenon Navi Klima    Sedans  15770   \n",
       "1                                     1.8 TFSI sport    Sedans  14500   \n",
       "2  Sportback 1.6 TDI S tronic Einparkhilfe plus+m...    Sedans  14640   \n",
       "3                            1.4 TDi Design S tronic    Sedans  14500   \n",
       "4  Sportback 1.4 TDI S-Tronic S-Line Ext. admired...    Sedans  16790   \n",
       "\n",
       "                vat         km registration         prev_owner  kW      hp  \\\n",
       "0    VAT deductible  56,013 km      01/2016  2 previous owners NaN   66 kW   \n",
       "1  Price negotiable  80,000 km      03/2017               None NaN  141 kW   \n",
       "2    VAT deductible  83,450 km      02/2016   1 previous owner NaN   85 kW   \n",
       "3              None  73,000 km      08/2016   1 previous owner NaN   66 kW   \n",
       "4              None  16,200 km      05/2016   1 previous owner NaN   66 kW   \n",
       "\n",
       "                                      Type Previous Owners  \\\n",
       "0  [, Used, , Diesel (Particulate Filter)]           \\n2\\n   \n",
       "1                     [, Used, , Gasoline]             NaN   \n",
       "2  [, Used, , Diesel (Particulate Filter)]           \\n1\\n   \n",
       "3  [, Used, , Diesel (Particulate Filter)]           \\n1\\n   \n",
       "4  [, Used, , Diesel (Particulate Filter)]           \\n1\\n   \n",
       "\n",
       "                         Next Inspection                      Inspection new  \\\n",
       "0  [\\n06/2021\\n, \\n99 g CO2/km (comb)\\n]               [\\nYes\\n, \\nEuro 6\\n]   \n",
       "1                                    NaN                                 NaN   \n",
       "2                                    NaN                                 NaN   \n",
       "3                                    NaN                                 NaN   \n",
       "4                                    NaN  [\\nYes\\n, \\n109 g CO2/km (comb)\\n]   \n",
       "\n",
       "                           Warranty                      Full Service  \\\n",
       "0           [\\n, \\n, \\n4 (Green)\\n]                          [\\n, \\n]   \n",
       "1                               NaN                               NaN   \n",
       "2  [\\n, \\n, \\n99 g CO2/km (comb)\\n]                               NaN   \n",
       "3                               NaN  [\\n, \\n, \\n99 g CO2/km (comb)\\n]   \n",
       "4              [\\n, \\n, \\nEuro 6\\n]           [\\n, \\n, \\n4 (Green)\\n]   \n",
       "\n",
       "    Non-smoking Vehicle null      Make         Model     Offer Number  \\\n",
       "0              [\\n, \\n]   []  \\nAudi\\n  [\\n, A1, \\n]  [\\nLR-062483\\n]   \n",
       "1                   NaN   []  \\nAudi\\n  [\\n, A1, \\n]              NaN   \n",
       "2                   NaN   []  \\nAudi\\n  [\\n, A1, \\n]   [\\nAM-95365\\n]   \n",
       "3  [\\n, \\n, \\nEuro 6\\n]   []  \\nAudi\\n  [\\n, A1, \\n]              NaN   \n",
       "4              [\\n, \\n]   []  \\nAudi\\n  [\\n, A1, \\n]      [\\nC1626\\n]   \n",
       "\n",
       "  First Registration       Body Color      Paint Type  \\\n",
       "0     [\\n, 2016, \\n]  [\\n, Black, \\n]  [\\nMetallic\\n]   \n",
       "1     [\\n, 2017, \\n]    [\\n, Red, \\n]             NaN   \n",
       "2     [\\n, 2016, \\n]  [\\n, Black, \\n]  [\\nMetallic\\n]   \n",
       "3     [\\n, 2016, \\n]  [\\n, Brown, \\n]  [\\nMetallic\\n]   \n",
       "4     [\\n, 2016, \\n]  [\\n, Black, \\n]  [\\nMetallic\\n]   \n",
       "\n",
       "            Body Color Original          Upholstery              Body  \\\n",
       "0           [\\nMythosschwarz\\n]  [\\nCloth, Black\\n]  [\\n, Sedans, \\n]   \n",
       "1                           NaN   [\\nCloth, Grey\\n]  [\\n, Sedans, \\n]   \n",
       "2  [\\nmythosschwarz metallic\\n]  [\\nCloth, Black\\n]  [\\n, Sedans, \\n]   \n",
       "3                           NaN                 NaN  [\\n, Sedans, \\n]   \n",
       "4  [\\nMythosschwarz Metallic\\n]  [\\nCloth, Black\\n]  [\\n, Sedans, \\n]   \n",
       "\n",
       "  Nr. of Doors Nr. of Seats      Model Code         Gearing Type  \\\n",
       "0      [\\n5\\n]      [\\n5\\n]  [\\n0588/BDF\\n]  [\\n, Automatic, \\n]   \n",
       "1      [\\n3\\n]      [\\n4\\n]  [\\n0588/BCY\\n]  [\\n, Automatic, \\n]   \n",
       "2      [\\n4\\n]      [\\n4\\n]             NaN  [\\n, Automatic, \\n]   \n",
       "3      [\\n3\\n]      [\\n4\\n]             NaN  [\\n, Automatic, \\n]   \n",
       "4      [\\n5\\n]      [\\n5\\n]  [\\n0588/BDF\\n]  [\\n, Automatic, \\n]   \n",
       "\n",
       "     Displacement Cylinders          Weight  Drive chain  \\\n",
       "0  [\\n1,422 cc\\n]   [\\n3\\n]  [\\n1,220 kg\\n]  [\\nfront\\n]   \n",
       "1  [\\n1,798 cc\\n]   [\\n4\\n]  [\\n1,255 kg\\n]  [\\nfront\\n]   \n",
       "2  [\\n1,598 cc\\n]       NaN             NaN  [\\nfront\\n]   \n",
       "3  [\\n1,422 cc\\n]   [\\n3\\n]  [\\n1,195 kg\\n]          NaN   \n",
       "4  [\\n1,422 cc\\n]   [\\n3\\n]             NaN  [\\nfront\\n]   \n",
       "\n",
       "                                    Fuel  \\\n",
       "0  [\\n, Diesel (Particulate Filter), \\n]   \n",
       "1                     [\\n, Gasoline, \\n]   \n",
       "2  [\\n, Diesel (Particulate Filter), \\n]   \n",
       "3  [\\n, Diesel (Particulate Filter), \\n]   \n",
       "4  [\\n, Diesel (Particulate Filter), \\n]   \n",
       "\n",
       "                                         Consumption  \\\n",
       "0  [[3.8 l/100 km (comb)], [4.3 l/100 km (city)],...   \n",
       "1  [[5.6 l/100 km (comb)], [7.1 l/100 km (city)],...   \n",
       "2  [[3.8 l/100 km (comb)], [4.4 l/100 km (city)],...   \n",
       "3  [[3.8 l/100 km (comb)], [4.3 l/100 km (city)],...   \n",
       "4  [[4.1 l/100 km (comb)], [4.6 l/100 km (city)],...   \n",
       "\n",
       "                CO2 Emission Emission Class  \\\n",
       "0   [\\n99 g CO2/km (comb)\\n]   [\\nEuro 6\\n]   \n",
       "1  [\\n129 g CO2/km (comb)\\n]   [\\nEuro 6\\n]   \n",
       "2   [\\n99 g CO2/km (comb)\\n]   [\\nEuro 6\\n]   \n",
       "3   [\\n99 g CO2/km (comb)\\n]   [\\nEuro 6\\n]   \n",
       "4  [\\n109 g CO2/km (comb)\\n]   [\\nEuro 6\\n]   \n",
       "\n",
       "                           \\nComfort & Convenience\\n  \\\n",
       "0  [Air conditioning, Armrest, Automatic climate ...   \n",
       "1  [Air conditioning, Automatic climate control, ...   \n",
       "2  [Air conditioning, Cruise control, Electrical ...   \n",
       "3  [Air suspension, Armrest, Auxiliary heating, E...   \n",
       "4  [Air conditioning, Armrest, Automatic climate ...   \n",
       "\n",
       "                           \\nEntertainment & Media\\n  \\\n",
       "0  [Bluetooth, Hands-free equipment, On-board com...   \n",
       "1  [Bluetooth, Hands-free equipment, On-board com...   \n",
       "2                           [MP3, On-board computer]   \n",
       "3  [Bluetooth, CD player, Hands-free equipment, M...   \n",
       "4  [Bluetooth, CD player, Hands-free equipment, M...   \n",
       "\n",
       "                                          \\nExtras\\n  \\\n",
       "0  [Alloy wheels, Catalytic Converter, Voice Cont...   \n",
       "1  [Alloy wheels, Sport seats, Sport suspension, ...   \n",
       "2                      [Alloy wheels, Voice Control]   \n",
       "3         [Alloy wheels, Sport seats, Voice Control]   \n",
       "4  [Alloy wheels, Sport package, Sport suspension...   \n",
       "\n",
       "                               \\nSafety & Security\\n  \\\n",
       "0  [ABS, Central door lock, Daytime running light...   \n",
       "1  [ABS, Central door lock, Central door lock wit...   \n",
       "2  [ABS, Central door lock, Daytime running light...   \n",
       "3  [ABS, Alarm system, Central door lock with rem...   \n",
       "4  [ABS, Central door lock, Driver-side airbag, E...   \n",
       "\n",
       "                                         description   Emission Label  \\\n",
       "0  [\\n, Sicherheit:,  , Deaktivierung für Beifahr...              NaN   \n",
       "1  [\\nLangstreckenfahrzeug daher die hohe Kilomet...  [\\n4 (Green)\\n]   \n",
       "2  [\\n, Fahrzeug-Nummer: AM-95365,  , Ehem. UPE 2...  [\\n4 (Green)\\n]   \n",
       "3  [\\nAudi A1: , - 1e eigenaar , - Perfecte staat...              NaN   \n",
       "4  [\\n, Technik & Sicherheit:, Xenon plus, Klimaa...              NaN   \n",
       "\n",
       "     Gears Country version Electricity consumption Last Service Date  \\\n",
       "0      NaN             NaN                     NaN               NaN   \n",
       "1  [\\n7\\n]             NaN                     NaN               NaN   \n",
       "2      NaN             NaN                     NaN               NaN   \n",
       "3  [\\n6\\n]             NaN                     NaN               NaN   \n",
       "4      NaN   [\\nGermany\\n]                     NaN               NaN   \n",
       "\n",
       "  Other Fuel Types Availability Last Timing Belt Service Date Available from  \n",
       "0              NaN          NaN                           NaN            NaN  \n",
       "1              NaN          NaN                           NaN            NaN  \n",
       "2              NaN          NaN                           NaN            NaN  \n",
       "3              NaN          NaN                           NaN            NaN  \n",
       "4              NaN          NaN                           NaN            NaN  "
      ]
     },
     "execution_count": 3,
     "metadata": {},
     "output_type": "execute_result"
    }
   ],
   "source": [
    "df.head()"
   ]
  },
  {
   "cell_type": "code",
   "execution_count": 4,
   "id": "b8139b67",
   "metadata": {
    "scrolled": false
   },
   "outputs": [
    {
     "name": "stdout",
     "output_type": "stream",
     "text": [
      "<class 'pandas.core.frame.DataFrame'>\n",
      "RangeIndex: 15919 entries, 0 to 15918\n",
      "Data columns (total 54 columns):\n",
      " #   Column                         Non-Null Count  Dtype  \n",
      "---  ------                         --------------  -----  \n",
      " 0   url                            15919 non-null  object \n",
      " 1   make_model                     15919 non-null  object \n",
      " 2   short_description              15873 non-null  object \n",
      " 3   body_type                      15859 non-null  object \n",
      " 4   price                          15919 non-null  int64  \n",
      " 5   vat                            11406 non-null  object \n",
      " 6   km                             15919 non-null  object \n",
      " 7   registration                   15919 non-null  object \n",
      " 8   prev_owner                     9091 non-null   object \n",
      " 9   kW                             0 non-null      float64\n",
      " 10  hp                             15919 non-null  object \n",
      " 11  Type                           15917 non-null  object \n",
      " 12  Previous Owners                9279 non-null   object \n",
      " 13  Next Inspection                3535 non-null   object \n",
      " 14  Inspection new                 3932 non-null   object \n",
      " 15  Warranty                       10499 non-null  object \n",
      " 16  Full Service                   8215 non-null   object \n",
      " 17  Non-smoking Vehicle            7177 non-null   object \n",
      " 18  null                           15919 non-null  object \n",
      " 19  Make                           15919 non-null  object \n",
      " 20  Model                          15919 non-null  object \n",
      " 21  Offer Number                   12744 non-null  object \n",
      " 22  First Registration             14322 non-null  object \n",
      " 23  Body Color                     15322 non-null  object \n",
      " 24  Paint Type                     10147 non-null  object \n",
      " 25  Body Color Original            12160 non-null  object \n",
      " 26  Upholstery                     12199 non-null  object \n",
      " 27  Body                           15859 non-null  object \n",
      " 28  Nr. of Doors                   15707 non-null  object \n",
      " 29  Nr. of Seats                   14942 non-null  object \n",
      " 30  Model Code                     4978 non-null   object \n",
      " 31  Gearing Type                   15919 non-null  object \n",
      " 32  Displacement                   15423 non-null  object \n",
      " 33  Cylinders                      10239 non-null  object \n",
      " 34  Weight                         8945 non-null   object \n",
      " 35  Drive chain                    9061 non-null   object \n",
      " 36  Fuel                           15919 non-null  object \n",
      " 37  Consumption                    14013 non-null  object \n",
      " 38  CO2 Emission                   14111 non-null  object \n",
      " 39  Emission Class                 12898 non-null  object \n",
      " 40  \n",
      "Comfort & Convenience\n",
      "        14999 non-null  object \n",
      " 41  \n",
      "Entertainment & Media\n",
      "        14545 non-null  object \n",
      " 42  \n",
      "Extras\n",
      "                       12957 non-null  object \n",
      " 43  \n",
      "Safety & Security\n",
      "            14937 non-null  object \n",
      " 44  description                    15919 non-null  object \n",
      " 45  Emission Label                 3985 non-null   object \n",
      " 46  Gears                          11207 non-null  object \n",
      " 47  Country version                7586 non-null   object \n",
      " 48  Electricity consumption        137 non-null    object \n",
      " 49  Last Service Date              566 non-null    object \n",
      " 50  Other Fuel Types               880 non-null    object \n",
      " 51  Availability                   635 non-null    object \n",
      " 52  Last Timing Belt Service Date  16 non-null     object \n",
      " 53  Available from                 272 non-null    object \n",
      "dtypes: float64(1), int64(1), object(52)\n",
      "memory usage: 6.6+ MB\n"
     ]
    }
   ],
   "source": [
    "df.info()"
   ]
  },
  {
   "cell_type": "code",
   "execution_count": 5,
   "id": "f5dddca8",
   "metadata": {},
   "outputs": [
    {
     "data": {
      "text/plain": [
       "Index(['url', 'make_model', 'short_description', 'body_type', 'price', 'vat',\n",
       "       'km', 'registration', 'prev_owner', 'kW', 'hp', 'Type',\n",
       "       'Previous Owners', 'Next Inspection', 'Inspection new', 'Warranty',\n",
       "       'Full Service', 'Non-smoking Vehicle', 'null', 'Make', 'Model',\n",
       "       'Offer Number', 'First Registration', 'Body Color', 'Paint Type',\n",
       "       'Body Color Original', 'Upholstery', 'Body', 'Nr. of Doors',\n",
       "       'Nr. of Seats', 'Model Code', 'Gearing Type', 'Displacement',\n",
       "       'Cylinders', 'Weight', 'Drive chain', 'Fuel', 'Consumption',\n",
       "       'CO2 Emission', 'Emission Class', '\\nComfort & Convenience\\n',\n",
       "       '\\nEntertainment & Media\\n', '\\nExtras\\n', '\\nSafety & Security\\n',\n",
       "       'description', 'Emission Label', 'Gears', 'Country version',\n",
       "       'Electricity consumption', 'Last Service Date', 'Other Fuel Types',\n",
       "       'Availability', 'Last Timing Belt Service Date', 'Available from'],\n",
       "      dtype='object')"
      ]
     },
     "execution_count": 5,
     "metadata": {},
     "output_type": "execute_result"
    }
   ],
   "source": [
    "df.columns"
   ]
  },
  {
   "cell_type": "code",
   "execution_count": 6,
   "id": "2d013572",
   "metadata": {},
   "outputs": [
    {
     "data": {
      "text/html": [
       "<div>\n",
       "<style scoped>\n",
       "    .dataframe tbody tr th:only-of-type {\n",
       "        vertical-align: middle;\n",
       "    }\n",
       "\n",
       "    .dataframe tbody tr th {\n",
       "        vertical-align: top;\n",
       "    }\n",
       "\n",
       "    .dataframe thead th {\n",
       "        text-align: right;\n",
       "    }\n",
       "</style>\n",
       "<table border=\"1\" class=\"dataframe\">\n",
       "  <thead>\n",
       "    <tr style=\"text-align: right;\">\n",
       "      <th></th>\n",
       "      <th>0</th>\n",
       "      <th>1</th>\n",
       "    </tr>\n",
       "  </thead>\n",
       "  <tbody>\n",
       "    <tr>\n",
       "      <th>url</th>\n",
       "      <td>https://www.autoscout24.com//offers/audi-a1-sp...</td>\n",
       "      <td>https://www.autoscout24.com//offers/audi-a1-1-...</td>\n",
       "    </tr>\n",
       "    <tr>\n",
       "      <th>make_model</th>\n",
       "      <td>Audi A1</td>\n",
       "      <td>Audi A1</td>\n",
       "    </tr>\n",
       "    <tr>\n",
       "      <th>short_description</th>\n",
       "      <td>Sportback 1.4 TDI S-tronic Xenon Navi Klima</td>\n",
       "      <td>1.8 TFSI sport</td>\n",
       "    </tr>\n",
       "    <tr>\n",
       "      <th>body_type</th>\n",
       "      <td>Sedans</td>\n",
       "      <td>Sedans</td>\n",
       "    </tr>\n",
       "    <tr>\n",
       "      <th>price</th>\n",
       "      <td>15770</td>\n",
       "      <td>14500</td>\n",
       "    </tr>\n",
       "    <tr>\n",
       "      <th>vat</th>\n",
       "      <td>VAT deductible</td>\n",
       "      <td>Price negotiable</td>\n",
       "    </tr>\n",
       "    <tr>\n",
       "      <th>km</th>\n",
       "      <td>56,013 km</td>\n",
       "      <td>80,000 km</td>\n",
       "    </tr>\n",
       "    <tr>\n",
       "      <th>registration</th>\n",
       "      <td>01/2016</td>\n",
       "      <td>03/2017</td>\n",
       "    </tr>\n",
       "    <tr>\n",
       "      <th>prev_owner</th>\n",
       "      <td>2 previous owners</td>\n",
       "      <td>None</td>\n",
       "    </tr>\n",
       "    <tr>\n",
       "      <th>kW</th>\n",
       "      <td>NaN</td>\n",
       "      <td>NaN</td>\n",
       "    </tr>\n",
       "    <tr>\n",
       "      <th>hp</th>\n",
       "      <td>66 kW</td>\n",
       "      <td>141 kW</td>\n",
       "    </tr>\n",
       "    <tr>\n",
       "      <th>Type</th>\n",
       "      <td>[, Used, , Diesel (Particulate Filter)]</td>\n",
       "      <td>[, Used, , Gasoline]</td>\n",
       "    </tr>\n",
       "    <tr>\n",
       "      <th>Previous Owners</th>\n",
       "      <td>\\n2\\n</td>\n",
       "      <td>NaN</td>\n",
       "    </tr>\n",
       "    <tr>\n",
       "      <th>Next Inspection</th>\n",
       "      <td>[\\n06/2021\\n, \\n99 g CO2/km (comb)\\n]</td>\n",
       "      <td>NaN</td>\n",
       "    </tr>\n",
       "    <tr>\n",
       "      <th>Inspection new</th>\n",
       "      <td>[\\nYes\\n, \\nEuro 6\\n]</td>\n",
       "      <td>NaN</td>\n",
       "    </tr>\n",
       "    <tr>\n",
       "      <th>Warranty</th>\n",
       "      <td>[\\n, \\n, \\n4 (Green)\\n]</td>\n",
       "      <td>NaN</td>\n",
       "    </tr>\n",
       "    <tr>\n",
       "      <th>Full Service</th>\n",
       "      <td>[\\n, \\n]</td>\n",
       "      <td>NaN</td>\n",
       "    </tr>\n",
       "    <tr>\n",
       "      <th>Non-smoking Vehicle</th>\n",
       "      <td>[\\n, \\n]</td>\n",
       "      <td>NaN</td>\n",
       "    </tr>\n",
       "    <tr>\n",
       "      <th>null</th>\n",
       "      <td>[]</td>\n",
       "      <td>[]</td>\n",
       "    </tr>\n",
       "    <tr>\n",
       "      <th>Make</th>\n",
       "      <td>\\nAudi\\n</td>\n",
       "      <td>\\nAudi\\n</td>\n",
       "    </tr>\n",
       "    <tr>\n",
       "      <th>Model</th>\n",
       "      <td>[\\n, A1, \\n]</td>\n",
       "      <td>[\\n, A1, \\n]</td>\n",
       "    </tr>\n",
       "    <tr>\n",
       "      <th>Offer Number</th>\n",
       "      <td>[\\nLR-062483\\n]</td>\n",
       "      <td>NaN</td>\n",
       "    </tr>\n",
       "    <tr>\n",
       "      <th>First Registration</th>\n",
       "      <td>[\\n, 2016, \\n]</td>\n",
       "      <td>[\\n, 2017, \\n]</td>\n",
       "    </tr>\n",
       "    <tr>\n",
       "      <th>Body Color</th>\n",
       "      <td>[\\n, Black, \\n]</td>\n",
       "      <td>[\\n, Red, \\n]</td>\n",
       "    </tr>\n",
       "    <tr>\n",
       "      <th>Paint Type</th>\n",
       "      <td>[\\nMetallic\\n]</td>\n",
       "      <td>NaN</td>\n",
       "    </tr>\n",
       "    <tr>\n",
       "      <th>Body Color Original</th>\n",
       "      <td>[\\nMythosschwarz\\n]</td>\n",
       "      <td>NaN</td>\n",
       "    </tr>\n",
       "    <tr>\n",
       "      <th>Upholstery</th>\n",
       "      <td>[\\nCloth, Black\\n]</td>\n",
       "      <td>[\\nCloth, Grey\\n]</td>\n",
       "    </tr>\n",
       "    <tr>\n",
       "      <th>Body</th>\n",
       "      <td>[\\n, Sedans, \\n]</td>\n",
       "      <td>[\\n, Sedans, \\n]</td>\n",
       "    </tr>\n",
       "    <tr>\n",
       "      <th>Nr. of Doors</th>\n",
       "      <td>[\\n5\\n]</td>\n",
       "      <td>[\\n3\\n]</td>\n",
       "    </tr>\n",
       "    <tr>\n",
       "      <th>Nr. of Seats</th>\n",
       "      <td>[\\n5\\n]</td>\n",
       "      <td>[\\n4\\n]</td>\n",
       "    </tr>\n",
       "    <tr>\n",
       "      <th>Model Code</th>\n",
       "      <td>[\\n0588/BDF\\n]</td>\n",
       "      <td>[\\n0588/BCY\\n]</td>\n",
       "    </tr>\n",
       "    <tr>\n",
       "      <th>Gearing Type</th>\n",
       "      <td>[\\n, Automatic, \\n]</td>\n",
       "      <td>[\\n, Automatic, \\n]</td>\n",
       "    </tr>\n",
       "    <tr>\n",
       "      <th>Displacement</th>\n",
       "      <td>[\\n1,422 cc\\n]</td>\n",
       "      <td>[\\n1,798 cc\\n]</td>\n",
       "    </tr>\n",
       "    <tr>\n",
       "      <th>Cylinders</th>\n",
       "      <td>[\\n3\\n]</td>\n",
       "      <td>[\\n4\\n]</td>\n",
       "    </tr>\n",
       "    <tr>\n",
       "      <th>Weight</th>\n",
       "      <td>[\\n1,220 kg\\n]</td>\n",
       "      <td>[\\n1,255 kg\\n]</td>\n",
       "    </tr>\n",
       "    <tr>\n",
       "      <th>Drive chain</th>\n",
       "      <td>[\\nfront\\n]</td>\n",
       "      <td>[\\nfront\\n]</td>\n",
       "    </tr>\n",
       "    <tr>\n",
       "      <th>Fuel</th>\n",
       "      <td>[\\n, Diesel (Particulate Filter), \\n]</td>\n",
       "      <td>[\\n, Gasoline, \\n]</td>\n",
       "    </tr>\n",
       "    <tr>\n",
       "      <th>Consumption</th>\n",
       "      <td>[[3.8 l/100 km (comb)], [4.3 l/100 km (city)],...</td>\n",
       "      <td>[[5.6 l/100 km (comb)], [7.1 l/100 km (city)],...</td>\n",
       "    </tr>\n",
       "    <tr>\n",
       "      <th>CO2 Emission</th>\n",
       "      <td>[\\n99 g CO2/km (comb)\\n]</td>\n",
       "      <td>[\\n129 g CO2/km (comb)\\n]</td>\n",
       "    </tr>\n",
       "    <tr>\n",
       "      <th>Emission Class</th>\n",
       "      <td>[\\nEuro 6\\n]</td>\n",
       "      <td>[\\nEuro 6\\n]</td>\n",
       "    </tr>\n",
       "    <tr>\n",
       "      <th>\\nComfort &amp; Convenience\\n</th>\n",
       "      <td>[Air conditioning, Armrest, Automatic climate ...</td>\n",
       "      <td>[Air conditioning, Automatic climate control, ...</td>\n",
       "    </tr>\n",
       "    <tr>\n",
       "      <th>\\nEntertainment &amp; Media\\n</th>\n",
       "      <td>[Bluetooth, Hands-free equipment, On-board com...</td>\n",
       "      <td>[Bluetooth, Hands-free equipment, On-board com...</td>\n",
       "    </tr>\n",
       "    <tr>\n",
       "      <th>\\nExtras\\n</th>\n",
       "      <td>[Alloy wheels, Catalytic Converter, Voice Cont...</td>\n",
       "      <td>[Alloy wheels, Sport seats, Sport suspension, ...</td>\n",
       "    </tr>\n",
       "    <tr>\n",
       "      <th>\\nSafety &amp; Security\\n</th>\n",
       "      <td>[ABS, Central door lock, Daytime running light...</td>\n",
       "      <td>[ABS, Central door lock, Central door lock wit...</td>\n",
       "    </tr>\n",
       "    <tr>\n",
       "      <th>description</th>\n",
       "      <td>[\\n, Sicherheit:,  , Deaktivierung für Beifahr...</td>\n",
       "      <td>[\\nLangstreckenfahrzeug daher die hohe Kilomet...</td>\n",
       "    </tr>\n",
       "    <tr>\n",
       "      <th>Emission Label</th>\n",
       "      <td>NaN</td>\n",
       "      <td>[\\n4 (Green)\\n]</td>\n",
       "    </tr>\n",
       "    <tr>\n",
       "      <th>Gears</th>\n",
       "      <td>NaN</td>\n",
       "      <td>[\\n7\\n]</td>\n",
       "    </tr>\n",
       "    <tr>\n",
       "      <th>Country version</th>\n",
       "      <td>NaN</td>\n",
       "      <td>NaN</td>\n",
       "    </tr>\n",
       "    <tr>\n",
       "      <th>Electricity consumption</th>\n",
       "      <td>NaN</td>\n",
       "      <td>NaN</td>\n",
       "    </tr>\n",
       "    <tr>\n",
       "      <th>Last Service Date</th>\n",
       "      <td>NaN</td>\n",
       "      <td>NaN</td>\n",
       "    </tr>\n",
       "    <tr>\n",
       "      <th>Other Fuel Types</th>\n",
       "      <td>NaN</td>\n",
       "      <td>NaN</td>\n",
       "    </tr>\n",
       "    <tr>\n",
       "      <th>Availability</th>\n",
       "      <td>NaN</td>\n",
       "      <td>NaN</td>\n",
       "    </tr>\n",
       "    <tr>\n",
       "      <th>Last Timing Belt Service Date</th>\n",
       "      <td>NaN</td>\n",
       "      <td>NaN</td>\n",
       "    </tr>\n",
       "    <tr>\n",
       "      <th>Available from</th>\n",
       "      <td>NaN</td>\n",
       "      <td>NaN</td>\n",
       "    </tr>\n",
       "  </tbody>\n",
       "</table>\n",
       "</div>"
      ],
      "text/plain": [
       "                                                                               0  \\\n",
       "url                            https://www.autoscout24.com//offers/audi-a1-sp...   \n",
       "make_model                                                               Audi A1   \n",
       "short_description                    Sportback 1.4 TDI S-tronic Xenon Navi Klima   \n",
       "body_type                                                                 Sedans   \n",
       "price                                                                      15770   \n",
       "vat                                                               VAT deductible   \n",
       "km                                                                     56,013 km   \n",
       "registration                                                             01/2016   \n",
       "prev_owner                                                     2 previous owners   \n",
       "kW                                                                           NaN   \n",
       "hp                                                                         66 kW   \n",
       "Type                                     [, Used, , Diesel (Particulate Filter)]   \n",
       "Previous Owners                                                            \\n2\\n   \n",
       "Next Inspection                            [\\n06/2021\\n, \\n99 g CO2/km (comb)\\n]   \n",
       "Inspection new                                             [\\nYes\\n, \\nEuro 6\\n]   \n",
       "Warranty                                                 [\\n, \\n, \\n4 (Green)\\n]   \n",
       "Full Service                                                            [\\n, \\n]   \n",
       "Non-smoking Vehicle                                                     [\\n, \\n]   \n",
       "null                                                                          []   \n",
       "Make                                                                    \\nAudi\\n   \n",
       "Model                                                               [\\n, A1, \\n]   \n",
       "Offer Number                                                     [\\nLR-062483\\n]   \n",
       "First Registration                                                [\\n, 2016, \\n]   \n",
       "Body Color                                                       [\\n, Black, \\n]   \n",
       "Paint Type                                                        [\\nMetallic\\n]   \n",
       "Body Color Original                                          [\\nMythosschwarz\\n]   \n",
       "Upholstery                                                    [\\nCloth, Black\\n]   \n",
       "Body                                                            [\\n, Sedans, \\n]   \n",
       "Nr. of Doors                                                             [\\n5\\n]   \n",
       "Nr. of Seats                                                             [\\n5\\n]   \n",
       "Model Code                                                        [\\n0588/BDF\\n]   \n",
       "Gearing Type                                                 [\\n, Automatic, \\n]   \n",
       "Displacement                                                      [\\n1,422 cc\\n]   \n",
       "Cylinders                                                                [\\n3\\n]   \n",
       "Weight                                                            [\\n1,220 kg\\n]   \n",
       "Drive chain                                                          [\\nfront\\n]   \n",
       "Fuel                                       [\\n, Diesel (Particulate Filter), \\n]   \n",
       "Consumption                    [[3.8 l/100 km (comb)], [4.3 l/100 km (city)],...   \n",
       "CO2 Emission                                            [\\n99 g CO2/km (comb)\\n]   \n",
       "Emission Class                                                      [\\nEuro 6\\n]   \n",
       "\\nComfort & Convenience\\n      [Air conditioning, Armrest, Automatic climate ...   \n",
       "\\nEntertainment & Media\\n      [Bluetooth, Hands-free equipment, On-board com...   \n",
       "\\nExtras\\n                     [Alloy wheels, Catalytic Converter, Voice Cont...   \n",
       "\\nSafety & Security\\n          [ABS, Central door lock, Daytime running light...   \n",
       "description                    [\\n, Sicherheit:,  , Deaktivierung für Beifahr...   \n",
       "Emission Label                                                               NaN   \n",
       "Gears                                                                        NaN   \n",
       "Country version                                                              NaN   \n",
       "Electricity consumption                                                      NaN   \n",
       "Last Service Date                                                            NaN   \n",
       "Other Fuel Types                                                             NaN   \n",
       "Availability                                                                 NaN   \n",
       "Last Timing Belt Service Date                                                NaN   \n",
       "Available from                                                               NaN   \n",
       "\n",
       "                                                                               1  \n",
       "url                            https://www.autoscout24.com//offers/audi-a1-1-...  \n",
       "make_model                                                               Audi A1  \n",
       "short_description                                                 1.8 TFSI sport  \n",
       "body_type                                                                 Sedans  \n",
       "price                                                                      14500  \n",
       "vat                                                             Price negotiable  \n",
       "km                                                                     80,000 km  \n",
       "registration                                                             03/2017  \n",
       "prev_owner                                                                  None  \n",
       "kW                                                                           NaN  \n",
       "hp                                                                        141 kW  \n",
       "Type                                                        [, Used, , Gasoline]  \n",
       "Previous Owners                                                              NaN  \n",
       "Next Inspection                                                              NaN  \n",
       "Inspection new                                                               NaN  \n",
       "Warranty                                                                     NaN  \n",
       "Full Service                                                                 NaN  \n",
       "Non-smoking Vehicle                                                          NaN  \n",
       "null                                                                          []  \n",
       "Make                                                                    \\nAudi\\n  \n",
       "Model                                                               [\\n, A1, \\n]  \n",
       "Offer Number                                                                 NaN  \n",
       "First Registration                                                [\\n, 2017, \\n]  \n",
       "Body Color                                                         [\\n, Red, \\n]  \n",
       "Paint Type                                                                   NaN  \n",
       "Body Color Original                                                          NaN  \n",
       "Upholstery                                                     [\\nCloth, Grey\\n]  \n",
       "Body                                                            [\\n, Sedans, \\n]  \n",
       "Nr. of Doors                                                             [\\n3\\n]  \n",
       "Nr. of Seats                                                             [\\n4\\n]  \n",
       "Model Code                                                        [\\n0588/BCY\\n]  \n",
       "Gearing Type                                                 [\\n, Automatic, \\n]  \n",
       "Displacement                                                      [\\n1,798 cc\\n]  \n",
       "Cylinders                                                                [\\n4\\n]  \n",
       "Weight                                                            [\\n1,255 kg\\n]  \n",
       "Drive chain                                                          [\\nfront\\n]  \n",
       "Fuel                                                          [\\n, Gasoline, \\n]  \n",
       "Consumption                    [[5.6 l/100 km (comb)], [7.1 l/100 km (city)],...  \n",
       "CO2 Emission                                           [\\n129 g CO2/km (comb)\\n]  \n",
       "Emission Class                                                      [\\nEuro 6\\n]  \n",
       "\\nComfort & Convenience\\n      [Air conditioning, Automatic climate control, ...  \n",
       "\\nEntertainment & Media\\n      [Bluetooth, Hands-free equipment, On-board com...  \n",
       "\\nExtras\\n                     [Alloy wheels, Sport seats, Sport suspension, ...  \n",
       "\\nSafety & Security\\n          [ABS, Central door lock, Central door lock wit...  \n",
       "description                    [\\nLangstreckenfahrzeug daher die hohe Kilomet...  \n",
       "Emission Label                                                   [\\n4 (Green)\\n]  \n",
       "Gears                                                                    [\\n7\\n]  \n",
       "Country version                                                              NaN  \n",
       "Electricity consumption                                                      NaN  \n",
       "Last Service Date                                                            NaN  \n",
       "Other Fuel Types                                                             NaN  \n",
       "Availability                                                                 NaN  \n",
       "Last Timing Belt Service Date                                                NaN  \n",
       "Available from                                                               NaN  "
      ]
     },
     "execution_count": 6,
     "metadata": {},
     "output_type": "execute_result"
    }
   ],
   "source": [
    "df.head(2).T"
   ]
  },
  {
   "cell_type": "code",
   "execution_count": 7,
   "id": "e1a3a035",
   "metadata": {},
   "outputs": [
    {
     "data": {
      "text/plain": [
       "Index(['Url', 'Make_Model', 'Short_Description', 'Body_Type', 'Price', 'Vat',\n",
       "       'Km', 'Registration', 'Prev_Owner', 'Kw', 'Hp', 'Type',\n",
       "       'Previous Owners', 'Next Inspection', 'Inspection New', 'Warranty',\n",
       "       'Full Service', 'Non-Smoking Vehicle', 'Null', 'Make', 'Model',\n",
       "       'Offer Number', 'First Registration', 'Body Color', 'Paint Type',\n",
       "       'Body Color Original', 'Upholstery', 'Body', 'Nr. Of Doors',\n",
       "       'Nr. Of Seats', 'Model Code', 'Gearing Type', 'Displacement',\n",
       "       'Cylinders', 'Weight', 'Drive Chain', 'Fuel', 'Consumption',\n",
       "       'Co2 Emission', 'Emission Class', 'Comfort & Convenience',\n",
       "       'Entertainment & Media', 'Extras', 'Safety & Security', 'Description',\n",
       "       'Emission Label', 'Gears', 'Country Version', 'Electricity Consumption',\n",
       "       'Last Service Date', 'Other Fuel Types', 'Availability',\n",
       "       'Last Timing Belt Service Date', 'Available From'],\n",
       "      dtype='object')"
      ]
     },
     "execution_count": 7,
     "metadata": {},
     "output_type": "execute_result"
    }
   ],
   "source": [
    "df.columns = df.columns.str.strip().str.title()\n",
    "df.columns"
   ]
  },
  {
   "cell_type": "code",
   "execution_count": 8,
   "id": "fc090c09",
   "metadata": {},
   "outputs": [
    {
     "data": {
      "text/plain": [
       "Url                               0.00\n",
       "Make_Model                        0.00\n",
       "Short_Description                 0.29\n",
       "Body_Type                         0.38\n",
       "Price                             0.00\n",
       "Vat                              28.35\n",
       "Km                                0.00\n",
       "Registration                      0.00\n",
       "Prev_Owner                       42.89\n",
       "Kw                              100.00\n",
       "Hp                                0.00\n",
       "Type                              0.01\n",
       "Previous Owners                  41.71\n",
       "Next Inspection                  77.79\n",
       "Inspection New                   75.30\n",
       "Warranty                         34.05\n",
       "Full Service                     48.39\n",
       "Non-Smoking Vehicle              54.92\n",
       "Null                              0.00\n",
       "Make                              0.00\n",
       "Model                             0.00\n",
       "Offer Number                     19.94\n",
       "First Registration               10.03\n",
       "Body Color                        3.75\n",
       "Paint Type                       36.26\n",
       "Body Color Original              23.61\n",
       "Upholstery                       23.37\n",
       "Body                              0.38\n",
       "Nr. Of Doors                      1.33\n",
       "Nr. Of Seats                      6.14\n",
       "Model Code                       68.73\n",
       "Gearing Type                      0.00\n",
       "Displacement                      3.12\n",
       "Cylinders                        35.68\n",
       "Weight                           43.81\n",
       "Drive Chain                      43.08\n",
       "Fuel                              0.00\n",
       "Consumption                      11.97\n",
       "Co2 Emission                     11.36\n",
       "Emission Class                   18.98\n",
       "Comfort & Convenience             5.78\n",
       "Entertainment & Media             8.63\n",
       "Extras                           18.61\n",
       "Safety & Security                 6.17\n",
       "Description                       0.00\n",
       "Emission Label                   74.97\n",
       "Gears                            29.60\n",
       "Country Version                  52.35\n",
       "Electricity Consumption          99.14\n",
       "Last Service Date                96.44\n",
       "Other Fuel Types                 94.47\n",
       "Availability                     96.01\n",
       "Last Timing Belt Service Date    99.90\n",
       "Available From                   98.29\n",
       "dtype: float64"
      ]
     },
     "execution_count": 8,
     "metadata": {},
     "output_type": "execute_result"
    }
   ],
   "source": [
    "df.isnull().sum() / len(df)*100\n",
    "# df.isnull().sum()*100/df.shape[0]"
   ]
  },
  {
   "cell_type": "markdown",
   "id": "dfb5860d",
   "metadata": {},
   "source": [
    "### ***Droping columns that have %90 percent and higher of missing values***"
   ]
  },
  {
   "cell_type": "code",
   "execution_count": 9,
   "id": "d1f99921",
   "metadata": {},
   "outputs": [],
   "source": [
    "def show_nans(df, limit):\n",
    "    missing = df.isnull().sum()*100/df.shape[0]\n",
    "    return missing.loc[lambda x : x >= limit]"
   ]
  },
  {
   "cell_type": "code",
   "execution_count": 10,
   "id": "1230c47e",
   "metadata": {},
   "outputs": [
    {
     "data": {
      "text/plain": [
       "Kw                              100.00\n",
       "Electricity Consumption          99.14\n",
       "Last Service Date                96.44\n",
       "Other Fuel Types                 94.47\n",
       "Availability                     96.01\n",
       "Last Timing Belt Service Date    99.90\n",
       "Available From                   98.29\n",
       "dtype: float64"
      ]
     },
     "execution_count": 10,
     "metadata": {},
     "output_type": "execute_result"
    }
   ],
   "source": [
    "show_nans(df,90)"
   ]
  },
  {
   "cell_type": "code",
   "execution_count": 11,
   "id": "882feb83",
   "metadata": {},
   "outputs": [
    {
     "data": {
      "text/plain": [
       "Index(['Kw', 'Electricity Consumption', 'Last Service Date',\n",
       "       'Other Fuel Types', 'Availability', 'Last Timing Belt Service Date',\n",
       "       'Available From'],\n",
       "      dtype='object')"
      ]
     },
     "execution_count": 11,
     "metadata": {},
     "output_type": "execute_result"
    }
   ],
   "source": [
    "drop_columns = show_nans(df,90).index\n",
    "drop_columns"
   ]
  },
  {
   "cell_type": "code",
   "execution_count": 12,
   "id": "bdb3b2e3",
   "metadata": {},
   "outputs": [],
   "source": [
    "df.drop(drop_columns, axis = 1, inplace = True)"
   ]
  },
  {
   "cell_type": "code",
   "execution_count": 13,
   "id": "3a1b7351",
   "metadata": {},
   "outputs": [
    {
     "name": "stdout",
     "output_type": "stream",
     "text": [
      "<class 'pandas.core.frame.DataFrame'>\n",
      "RangeIndex: 15919 entries, 0 to 15918\n",
      "Data columns (total 47 columns):\n",
      " #   Column                 Non-Null Count  Dtype \n",
      "---  ------                 --------------  ----- \n",
      " 0   Url                    15919 non-null  object\n",
      " 1   Make_Model             15919 non-null  object\n",
      " 2   Short_Description      15873 non-null  object\n",
      " 3   Body_Type              15859 non-null  object\n",
      " 4   Price                  15919 non-null  int64 \n",
      " 5   Vat                    11406 non-null  object\n",
      " 6   Km                     15919 non-null  object\n",
      " 7   Registration           15919 non-null  object\n",
      " 8   Prev_Owner             9091 non-null   object\n",
      " 9   Hp                     15919 non-null  object\n",
      " 10  Type                   15917 non-null  object\n",
      " 11  Previous Owners        9279 non-null   object\n",
      " 12  Next Inspection        3535 non-null   object\n",
      " 13  Inspection New         3932 non-null   object\n",
      " 14  Warranty               10499 non-null  object\n",
      " 15  Full Service           8215 non-null   object\n",
      " 16  Non-Smoking Vehicle    7177 non-null   object\n",
      " 17  Null                   15919 non-null  object\n",
      " 18  Make                   15919 non-null  object\n",
      " 19  Model                  15919 non-null  object\n",
      " 20  Offer Number           12744 non-null  object\n",
      " 21  First Registration     14322 non-null  object\n",
      " 22  Body Color             15322 non-null  object\n",
      " 23  Paint Type             10147 non-null  object\n",
      " 24  Body Color Original    12160 non-null  object\n",
      " 25  Upholstery             12199 non-null  object\n",
      " 26  Body                   15859 non-null  object\n",
      " 27  Nr. Of Doors           15707 non-null  object\n",
      " 28  Nr. Of Seats           14942 non-null  object\n",
      " 29  Model Code             4978 non-null   object\n",
      " 30  Gearing Type           15919 non-null  object\n",
      " 31  Displacement           15423 non-null  object\n",
      " 32  Cylinders              10239 non-null  object\n",
      " 33  Weight                 8945 non-null   object\n",
      " 34  Drive Chain            9061 non-null   object\n",
      " 35  Fuel                   15919 non-null  object\n",
      " 36  Consumption            14013 non-null  object\n",
      " 37  Co2 Emission           14111 non-null  object\n",
      " 38  Emission Class         12898 non-null  object\n",
      " 39  Comfort & Convenience  14999 non-null  object\n",
      " 40  Entertainment & Media  14545 non-null  object\n",
      " 41  Extras                 12957 non-null  object\n",
      " 42  Safety & Security      14937 non-null  object\n",
      " 43  Description            15919 non-null  object\n",
      " 44  Emission Label         3985 non-null   object\n",
      " 45  Gears                  11207 non-null  object\n",
      " 46  Country Version        7586 non-null   object\n",
      "dtypes: int64(1), object(46)\n",
      "memory usage: 5.7+ MB\n"
     ]
    }
   ],
   "source": [
    "df.info()"
   ]
  },
  {
   "cell_type": "code",
   "execution_count": 14,
   "id": "4994db49",
   "metadata": {},
   "outputs": [
    {
     "data": {
      "text/plain": [
       "object    46\n",
       "int64      1\n",
       "dtype: int64"
      ]
     },
     "execution_count": 14,
     "metadata": {},
     "output_type": "execute_result"
    }
   ],
   "source": [
    "df.dtypes.value_counts()"
   ]
  },
  {
   "cell_type": "code",
   "execution_count": 15,
   "id": "989cdc70",
   "metadata": {},
   "outputs": [
    {
     "data": {
      "text/plain": [
       "(15919, 47)"
      ]
     },
     "execution_count": 15,
     "metadata": {},
     "output_type": "execute_result"
    }
   ],
   "source": [
    "df.shape"
   ]
  },
  {
   "cell_type": "code",
   "execution_count": 16,
   "id": "886be308",
   "metadata": {},
   "outputs": [
    {
     "data": {
      "text/plain": [
       "748193"
      ]
     },
     "execution_count": 16,
     "metadata": {},
     "output_type": "execute_result"
    }
   ],
   "source": [
    "df.size"
   ]
  },
  {
   "cell_type": "code",
   "execution_count": 17,
   "id": "31b50e8c",
   "metadata": {},
   "outputs": [
    {
     "data": {
      "text/plain": [
       "False    15919\n",
       "dtype: int64"
      ]
     },
     "execution_count": 17,
     "metadata": {},
     "output_type": "execute_result"
    }
   ],
   "source": [
    "df.astype(str).duplicated(keep=False).value_counts()\n",
    "# df.loc[df.astype(str).drop_duplicates().index]"
   ]
  },
  {
   "cell_type": "markdown",
   "id": "325f7edf",
   "metadata": {},
   "source": [
    "<div class=\"alert alert-block alert-danger\">\n",
    "    \n",
    "<b>Functions</b>\n",
    "    \n",
    "</div>"
   ]
  },
  {
   "cell_type": "code",
   "execution_count": 18,
   "id": "29ad4ff6",
   "metadata": {},
   "outputs": [],
   "source": [
    "# if the data frame column contains list type elements, this function will return the element counts of the lists\n",
    "# and it will show whether the data frame contains nested list/lists\n",
    "\n",
    "# this function will be useful for detecting lists with different numbers of elements \n",
    "# that cannot be fully understood with the value_counts function\n",
    "\n",
    "def list_items(column):\n",
    "\n",
    "    len_of_lists = []\n",
    "    count = 0\n",
    "\n",
    "    for x in df[column]:\n",
    "        if type(x)==list:\n",
    "            len_of_lists.append(len(x))\n",
    "            \n",
    "            if any(type(i) == list for i in x):\n",
    "                count += 1 \n",
    "                            \n",
    "    print('Number of Items in all Lists:', set(len_of_lists))\n",
    "    \n",
    "    if count > 0: print(f'This column has {Fore.RED}nested list/lists{Style.RESET_ALL}')\n",
    "    else: print(f'There is {Fore.BLUE}no nested list{Style.RESET_ALL} in this column')"
   ]
  },
  {
   "cell_type": "code",
   "execution_count": 19,
   "id": "f6873036",
   "metadata": {},
   "outputs": [],
   "source": [
    "# this function returns lists with specified number of items\n",
    "\n",
    "def specified_lists(column, x):\n",
    "\n",
    "    count = 0\n",
    "    \n",
    "    for i in df[column]:\n",
    "        if type(i)==list and len(i)==x:\n",
    "            print(i)\n",
    "            count += 1\n",
    "            \n",
    "        if count == 20:\n",
    "            break;"
   ]
  },
  {
   "cell_type": "markdown",
   "id": "aa7e3877",
   "metadata": {},
   "source": [
    "<div class=\"alert alert-block alert-danger\">\n",
    "    \n",
    "<b>Columns Review</b>\n",
    "    \n",
    "</div>"
   ]
  },
  {
   "cell_type": "markdown",
   "id": "912ebb4f",
   "metadata": {},
   "source": [
    "<div class=\"alert alert-block alert-info\">\n",
    "\n",
    "<b>Url</b></div>"
   ]
  },
  {
   "cell_type": "code",
   "execution_count": 20,
   "id": "8d2a7fcf",
   "metadata": {},
   "outputs": [
    {
     "data": {
      "text/plain": [
       "https://www.autoscout24.com//offers/audi-a1-sportback-1-4-tdi-s-tronic-xenon-navi-klima-diesel-black-bdab349a-caa5-41b0-98eb-c1345b84445e                  1\n",
       "https://www.autoscout24.com//offers/opel-insignia-bus-inno-2-0-cdti-aut-navi-bi-xe-led-e6-diesel-black-8710b253-dd98-4ed0-9d46-cbad2d79532b                1\n",
       "https://www.autoscout24.com//offers/opel-insignia-sport-tourer-opel-sport-tourer-1-6-cdti-136-ch-a-c-diesel-silver-10b7463b-9f56-4348-af35-df3432b2b585    1\n",
       "https://www.autoscout24.com//offers/opel-insignia-2-0cdti-st-business-innovation-navi-bt-diesel-black-ba5a3368-dedc-4e51-9127-3976b26e93c2                 1\n",
       "https://www.autoscout24.com//offers/opel-insignia-sport-tourer-opel-sport-tourer-1-6-cdti-136-ch-a-c-diesel-silver-7b52f054-78d3-4d5e-9370-8a7d081d7edd    1\n",
       "                                                                                                                                                          ..\n",
       "https://www.autoscout24.com//offers/audi-a3-sb-30-1-6-tdi-business-116cv-s-tronic-diesel-black-cf50f7b1-4d7b-466f-93a2-4e11ec0b4107                        1\n",
       "https://www.autoscout24.com//offers/audi-a3-sb-30-1-6-tdi-business-116cv-s-tronic-diesel-grey-3f47eb34-15c4-4763-860d-78fcbbd2c9ff                         1\n",
       "https://www.autoscout24.com//offers/audi-a3-sb-30-1-6-tdi-business-116cv-s-tronic-diesel-silver-f7a4bc95-b2ef-4bac-9497-6bcbcd05db0b                       1\n",
       "https://www.autoscout24.com//offers/audi-a3-sb-30-1-6-tdi-business-116cv-s-tronic-diesel-silver-1c94c7a2-67b5-49ca-ae42-42a6800fb3f5                       1\n",
       "https://www.autoscout24.com//offers/renault-espace-initiale-paris-tce-225-edc-gpf-navi-shz-aux-gasoline-grey-0bd690d9-7e93-4cab-bc5a-9d5b63402481          1\n",
       "Name: Url, Length: 15919, dtype: int64"
      ]
     },
     "execution_count": 20,
     "metadata": {},
     "output_type": "execute_result"
    }
   ],
   "source": [
    "df['Url'].value_counts(dropna=False)"
   ]
  },
  {
   "cell_type": "code",
   "execution_count": 21,
   "id": "be03818f",
   "metadata": {},
   "outputs": [
    {
     "data": {
      "text/plain": [
       "<class 'str'>    15919\n",
       "Name: Url, dtype: int64"
      ]
     },
     "execution_count": 21,
     "metadata": {},
     "output_type": "execute_result"
    }
   ],
   "source": [
    "df['Url'].map(type).value_counts()"
   ]
  },
  {
   "cell_type": "code",
   "execution_count": 22,
   "id": "954bd997",
   "metadata": {},
   "outputs": [],
   "source": [
    "# df.Url column has unique values for each row\n",
    "\n",
    "del df['Url']\n",
    "# df.drop(\"Url\", axis = 1, inplace = True)"
   ]
  },
  {
   "cell_type": "markdown",
   "id": "dcb8102f",
   "metadata": {},
   "source": [
    "<div class=\"alert alert-block alert-info\">\n",
    "\n",
    "<b>Make Model - Make - Model</b></div>"
   ]
  },
  {
   "cell_type": "code",
   "execution_count": 23,
   "id": "f041ebf6",
   "metadata": {},
   "outputs": [
    {
     "data": {
      "text/plain": [
       "Audi A3           3097\n",
       "Audi A1           2614\n",
       "Opel Insignia     2598\n",
       "Opel Astra        2526\n",
       "Opel Corsa        2219\n",
       "Renault Clio      1839\n",
       "Renault Espace     991\n",
       "Renault Duster      34\n",
       "Audi A2              1\n",
       "Name: Make_Model, dtype: int64"
      ]
     },
     "execution_count": 23,
     "metadata": {},
     "output_type": "execute_result"
    }
   ],
   "source": [
    "df['Make_Model'].value_counts(dropna=False)"
   ]
  },
  {
   "cell_type": "code",
   "execution_count": 24,
   "id": "6090cbe0",
   "metadata": {},
   "outputs": [
    {
     "data": {
      "text/plain": [
       "\\nOpel\\n       7343\n",
       "\\nAudi\\n       5712\n",
       "\\nRenault\\n    2864\n",
       "Name: Make, dtype: int64"
      ]
     },
     "execution_count": 24,
     "metadata": {},
     "output_type": "execute_result"
    }
   ],
   "source": [
    "df.Make.value_counts(dropna=False)"
   ]
  },
  {
   "cell_type": "code",
   "execution_count": 25,
   "id": "73aa7f7f",
   "metadata": {},
   "outputs": [
    {
     "data": {
      "text/plain": [
       "['\\n', 'A3', '\\n']          3097\n",
       "['\\n', 'A1', '\\n']          2614\n",
       "['\\n', 'Insignia', '\\n']    2598\n",
       "['\\n', 'Astra', '\\n']       2526\n",
       "['\\n', 'Corsa', '\\n']       2219\n",
       "['\\n', 'Clio', '\\n']        1839\n",
       "['\\n', 'Espace', '\\n']       991\n",
       "['\\n', 'Duster', '\\n']        34\n",
       "['\\n', 'A2', '\\n']             1\n",
       "Name: Model, dtype: int64"
      ]
     },
     "execution_count": 25,
     "metadata": {},
     "output_type": "execute_result"
    }
   ],
   "source": [
    "df.Model.astype(str).value_counts(dropna=False)"
   ]
  },
  {
   "cell_type": "code",
   "execution_count": 26,
   "id": "029030cc",
   "metadata": {},
   "outputs": [],
   "source": [
    "# the values in the df['Make_Model'] column match the values in the df.Make and df.Model columns\n",
    "\n",
    "del df['Make'], df['Model']"
   ]
  },
  {
   "cell_type": "markdown",
   "id": "4105fe30",
   "metadata": {},
   "source": [
    "<div class=\"alert alert-block alert-info\">\n",
    "\n",
    "<b>Short Description - Description</b></div>"
   ]
  },
  {
   "cell_type": "code",
   "execution_count": 27,
   "id": "f198fb22",
   "metadata": {},
   "outputs": [
    {
     "data": {
      "text/plain": [
       "SPB 1.6 TDI 116 CV S tronic Sport                 64\n",
       "NaN                                               46\n",
       "1.4 66kW (90CV) Selective                         40\n",
       "MOVE KLIMA CD USB ALLWETTER BLUETOOTH             38\n",
       "SPB 30 TDI S tronic Business                      35\n",
       "                                                  ..\n",
       "K Sports Tourer Business **Navi*Voll**             1\n",
       "1.0 Turbo ecoFLEX Automatic Elective Park Navi     1\n",
       "1.6 CDTI Business *Navi*Automatik*Spurh.*          1\n",
       "1.6 136 CV Automatica Navi E 6 Garanzia Full       1\n",
       "TCe 225 EDC GPF LIM Deluxe Pano,RFK                1\n",
       "Name: Short_Description, Length: 10002, dtype: int64"
      ]
     },
     "execution_count": 27,
     "metadata": {},
     "output_type": "execute_result"
    }
   ],
   "source": [
    "df['Short_Description'].value_counts(dropna=False)"
   ]
  },
  {
   "cell_type": "code",
   "execution_count": 28,
   "id": "eb0ad0ff",
   "metadata": {},
   "outputs": [
    {
     "data": {
      "text/plain": [
       "<class 'str'>         15873\n",
       "<class 'NoneType'>       46\n",
       "Name: Short_Description, dtype: int64"
      ]
     },
     "execution_count": 28,
     "metadata": {},
     "output_type": "execute_result"
    }
   ],
   "source": [
    "df['Short_Description'].map(type).value_counts()"
   ]
  },
  {
   "cell_type": "code",
   "execution_count": 29,
   "id": "46b83e46",
   "metadata": {},
   "outputs": [
    {
     "data": {
      "text/plain": [
       "10002"
      ]
     },
     "execution_count": 29,
     "metadata": {},
     "output_type": "execute_result"
    }
   ],
   "source": [
    "df['Short_Description'].unique().shape[0]"
   ]
  },
  {
   "cell_type": "code",
   "execution_count": 30,
   "id": "21d9eab2",
   "metadata": {},
   "outputs": [],
   "source": [
    "# too many unique values and it doesn't look like useful\n",
    "\n",
    "del df['Short_Description']\n",
    "# df.drop(\"Short_Description\", axis = 1, inplace = True)"
   ]
  },
  {
   "cell_type": "markdown",
   "id": "3afa471a",
   "metadata": {},
   "source": [
    "***"
   ]
  },
  {
   "cell_type": "code",
   "execution_count": 31,
   "id": "70df68dd",
   "metadata": {},
   "outputs": [
    {
     "data": {
      "text/plain": [
       "[]                                                                                                                                                                                                                                                                                                                                                                                                                                                                                                                                                                                                                                                                                                                                                                                                                                                                                                                                                                                                                                                                                                                                                                                                                                                                                                                                                                                                                                                                                                                                                                                                                                                                                                                                                                                                                                                                                                                                                                                                                                                                                                                                                                                                                                                                                                                                                                                                                                                                                                                                                                                                                                                                                                                                                                                                                                                                                               636\n",
       "['\\n', '\\n']                                                                                                                                                                                                                                                                                                                                                                                                                                                                                                                                                                                                                                                                                                                                                                                                                                                                                                                                                                                                                                                                                                                                                                                                                                                                                                                                                                                                                                                                                                                                                                                                                                                                                                                                                                                                                                                                                                                                                                                                                                                                                                                                                                                                                                                                                                                                                                                                                                                                                                                                                                                                                                                                                                                                                                                                                                                                                      30\n",
       "['\\n', 'Fahrzeugbeschreibung', ' Sichern Sie sich diesen Renault Clio 1.6 TCE Energy Sport Trophy zum Top-Preis inklusive dem ', 'AUTOHERO-RUNDUM-SORGLOS-PAKET', ' ', 'Infos:', ' 1.Hand, deutsche Auslieferung, Unfallfrei, scheckheftgepflegt', ' ', 'Highlights', ' ', 'Audio-Navigationssystem R-Link Evolution mit Touchscreen und Carminat TomTom', ' ', 'Sportsitze ', ' ', 'Sportfahrwerk', ' ', 'Scheinwerfer Full-LED ', 'Komfort', ' ', 'Geschwindigkeits-Regelanlage (Tempomat) ', ' ', 'Klimaanlage', ' ', 'Einparkhilfe hinten', ' ', 'Multifunktionslenkrad (Sport/Leder) mit Schaltwippen/-tasten ', ' ', 'Fensterheber elektr. mit Impulsgeber links/rechts vorn', ' ', 'Zentralverriegelung / Startanlage Handsfree Entry & Drive ', ' ', 'Berganfahr-Assistent (HSA) ', 'Multimedia', ' ', 'Audiosystem: Radio R & GO (Bluetooth, DAB-Tuner)', ' ', 'Bordcomputer', ' ', 'Freisprecheinrichtung Bluetooth ', ' ', 'USB-Anschluss inkl. AUX-IN-Anschluss (Plug & Music) ', 'Licht und Sicht', ' ', 'Außenspiegel elektr. verstell- und heizbar ', ' ', 'Licht- und Regensensor ', ' ', 'Tagfahrlicht LED ', ' ', 'Nebelscheinwerfer LED ', ' ', 'Coming-Home-Lichtfunktion ', ' ', 'Heckleuchten LED ', 'Sicherheit', ' ', 'Isofix-Aufnahmen für Kindersitz ', ' ', 'Seitenairbag vorn', ' ', 'Wegfahrsperre', ' ', 'Differentialsperre', ' ', 'Bremsassistent ', ' ', 'Elektron. Stabilitäts-Programm (ESP)', ' ', 'Anti-Blockier-System (ABS)', ' ', 'Anti-Submarining-Airbag im Fond', ' ', 'Airbag Fahrer-/Beifahrerseite ', ' ', 'Differentialsperre ', ' ', 'Reifendruck-Kontrollsystem ', ' ', 'Untersteuerungskontrolle (USC) ', ' ', 'Antischlupfregelung (ASR) ', 'Weiteres', ' ', 'Start/Stop-Anlage ', ' ', 'Servolenkung geschwindigkeitsabhängig', ' ', 'R.S. Drive (Fahrmodusschalter) ', ' ', 'Gepäckraumabdeckung / Rollo ', ' ', 'Heckdiffusor ', ' ', 'LM-Felgen ', ' ', 'Heckspoiler (Renault Sport) ', ' ', 'Pedale Aluminium ', ' ', 'Energierückgewinnung (Energy Smart Management) ', ' ', 'Elektr. Bremskraftverteilung ', ' ', 'Reifen-Reparaturkit ', ' ', 'Sitzbezug / Polsterung: Stoff ', ' Ihr ', 'AUTOHERO-RUNDUM-SORGLOS-PAKET', ' beinhaltet:', 'Kostenlose Lieferung in Ihre Nähe', 'Optische & technische Aufbereitung', 'Mindestens 12 Monate gültige HU und AU', '1-Jahr-Premium-Garantie', 'Zulassung inklusive ', '14-Tage-Rückgaberecht', 'Markenunabhängige Inzahlungnahme ', 'Individuelle Finanzierungen zu fairen Konditionen', ' ', 'HIER GEHT ES ZUR 360° - ANSICHT DES FAHRZEUGES:', ':', 'https://www.autohero.com/de/renault-clio-1-6-tce-energy-renault-sport-trophy/id/f7ca29bf-e005-453f-bbc9-8c6fe892dec6/', ' ', 'Haftungsausschluss', ':', 'Für Angaben vom Verkäufer, des Herstellers oder von Datenbankabfragen übernimmt Autohero keine Haftung. Änderungen, Zwischenverkauf und Irrtümer sind vorbehalten.\\n']     27\n",
       "['\\nPosibilidad de prueba del vehículo hasta 5 días. Consultar condiciones. PVP para particulares. Varias unidades y colores disponibles. Precios publicados para vehículos industriales (furgonetas) válidos para compradores autónomos o empresas, consultar condiciones para particulares. Las imágenes y kilómetros pueden no corresponder con el modelo anunciado. Para confirmar póngase en contacto con nuestro departamento comercial. Consulta las excepcionales condiciones de financiación que tenemos disponibles. Precio de venta final IVA y gastos de transferencia incluidos. Horario de atención al cliente: Lunes a Viernes de 09:00 a 18:00.\\n']                                                                                                                                                                                                                                                                                                                                                                                                                                                                                                                                                                                                                                                                                                                                                                                                                                                                                                                                                                                                                                                                                                                                                                                                                                                                                                                                                                                                                                                                                                                                                                                                                                                                                                                                                                                                                                                                                                                                                                                                                                                                                                                                                                                                                               27\n",
       "['\\nSichern Sie sich diesen RENAULT CLIO 1.2 LIMITED zum Top-Preis inklusive dem', 'AUTOHERO-RUNDUM-SORGLOS-PAKET', ' ', 'Infos:', ' 2.Hand, mindestens 12 Monate gültige HU und AU, deutsche Ausführung, unfallfrei ', ' ', 'Highlights', ' ', 'Audio-Navigationssystem mit Touchscreen-Farbdisplay', 'Komfort', ' ', 'Klimaanlage ', ' ', 'Multifunktionslenkrad in Leder ', ' ', 'Berganfahr-Assistent (HSA)', ' ', 'Fensterheber elektrisch vorn ', ' ', 'Geschwindigkeits-Regelanlage (Tempomat) ', ' ', 'Heckscheibe heizbar ', ' ', 'Sitz vorn links höhenverstellbar', ' ', 'Sitz vorn rechts umklappbar ', ' ', 'Stau-/Ablagefach im Laderaumboden ', ' ', 'Zentralverriegelung mit Fernbedienung ', 'Multimedia', ' ', 'Radio R&GO', ' ', 'Bluetooth Freisprechanlage ', ' ', 'USB-/AUX-Schnittstelle ', ' ', 'Bordcomputer', ' ', 'Licht und Sicht', ' ', 'Tagfahrlicht LED ', ' ', 'Außenspiegel elektrisch verstell- und heizbar', 'Sicherheit', ' ', 'Airbag für Fahrer und Beifahrer', ' ', 'Beifahrerairbag deaktivierbar ', ' ', 'Seitenairbags vorn ', ' ', 'Kopfairbagsystem', ' ', 'Anti-Blockier-System (ABS)', ' ', 'Elektronische Bremskraftverteilung ', ' ', 'Elektronische Stabilitäts-Programm (ESP) ', ' ', 'Reifen-Reparaturkit ', ' ', 'Reifendruck-Kontrollsystem ', ' ', 'Untersteuerungskontrolle (USC) ', ' ', 'ISOFIX Kindersitzverankerung ', 'Weiteres', ' ', 'Dachreling silber ', ' ', 'Look-Paket Chrom (außen) ', ' ', 'Look-Paket Grau (innen) ', ' ', 'R&GO-Paket ', ' ', 'Style-Paket ', ' Ihr ', 'AUTOHERO-RUNDUM-SORGLOS-PAKET', ' beinhaltet:', 'Kostenlose Lieferung in Ihre Nähe', 'Optische & technische Aufbereitung', 'Mindestens 12 Monate gültige HU und AU', '1-Jahr-Premium-Garantie', 'Zulassung inklusive ', '14-Tage-Rückgaberecht', 'Markenunabhängige Inzahlungnahme ', 'Individuelle Finanzierungen zu fairen Konditionen', ' ', 'HIER GEHT ES ZUR 360° - ANSICHT DES FAHRZEUGES:', ':', 'https://www.autohero.com/de/renault-clio-1-2-limited/id/30f99516-8785-47e7-a4a3-6cdac4d8e633/', ' ', 'Haftungsausschluss', ':', 'Für Angaben vom Verkäufer, des Herstellers oder von Datenbankabfragen übernimmt Autohero keine Haftung. Änderungen, Zwischenverkauf und Irrtümer sind vorbehalten.\\n']                                                                                                                                                                                                                                                                                                                                                                                                                                                                                                                                                                                                                                   27\n",
       "Name: Description, dtype: int64"
      ]
     },
     "execution_count": 31,
     "metadata": {},
     "output_type": "execute_result"
    }
   ],
   "source": [
    "df['Description'].astype(str).value_counts(dropna=False).head()"
   ]
  },
  {
   "cell_type": "code",
   "execution_count": 32,
   "id": "f8f63dde",
   "metadata": {},
   "outputs": [
    {
     "data": {
      "text/plain": [
       "<class 'list'>    15919\n",
       "Name: Description, dtype: int64"
      ]
     },
     "execution_count": 32,
     "metadata": {},
     "output_type": "execute_result"
    }
   ],
   "source": [
    "df['Description'].map(type).value_counts()"
   ]
  },
  {
   "cell_type": "code",
   "execution_count": 33,
   "id": "95c15e53",
   "metadata": {},
   "outputs": [],
   "source": [
    "# length of each row is very long and the data contains german expressions\n",
    "\n",
    "del df['Description']"
   ]
  },
  {
   "cell_type": "markdown",
   "id": "f3a87b90",
   "metadata": {},
   "source": [
    "<div class=\"alert alert-block alert-info\">\n",
    "\n",
    "<b>Body Type - Body</b></div>"
   ]
  },
  {
   "cell_type": "code",
   "execution_count": 34,
   "id": "482ed832",
   "metadata": {},
   "outputs": [
    {
     "data": {
      "text/plain": [
       "Sedans           7903\n",
       "Station wagon    3553\n",
       "Compact          3153\n",
       "Van               783\n",
       "Other             290\n",
       "Transporter        88\n",
       "NaN                60\n",
       "Off-Road           56\n",
       "Coupe              25\n",
       "Convertible         8\n",
       "Name: Body_Type, dtype: int64"
      ]
     },
     "execution_count": 34,
     "metadata": {},
     "output_type": "execute_result"
    }
   ],
   "source": [
    "# Body_Type Column\n",
    "\n",
    "df['Body_Type'].value_counts(dropna=False)"
   ]
  },
  {
   "cell_type": "code",
   "execution_count": 35,
   "id": "2522126b",
   "metadata": {},
   "outputs": [
    {
     "data": {
      "text/plain": [
       "['\\n', 'Sedans', '\\n']           7903\n",
       "['\\n', 'Station wagon', '\\n']    3553\n",
       "['\\n', 'Compact', '\\n']          3153\n",
       "['\\n', 'Van', '\\n']               783\n",
       "['\\n', 'Other', '\\n']             290\n",
       "['\\n', 'Transporter', '\\n']        88\n",
       "nan                                60\n",
       "['\\n', 'Off-Road', '\\n']           56\n",
       "['\\n', 'Coupe', '\\n']              25\n",
       "['\\n', 'Convertible', '\\n']         8\n",
       "Name: Body, dtype: int64"
      ]
     },
     "execution_count": 35,
     "metadata": {},
     "output_type": "execute_result"
    }
   ],
   "source": [
    "# Body Column\n",
    "\n",
    "df['Body'].astype(str).value_counts(dropna=False)"
   ]
  },
  {
   "cell_type": "code",
   "execution_count": 36,
   "id": "de80e060",
   "metadata": {},
   "outputs": [],
   "source": [
    "# the df.Body column contains exactly the same values as the df.Body_Type column\n",
    "\n",
    "del df['Body']"
   ]
  },
  {
   "cell_type": "markdown",
   "id": "7e7a1a63",
   "metadata": {},
   "source": [
    "<div class=\"alert alert-block alert-info\">\n",
    "\n",
    "<b>Price</b></div>"
   ]
  },
  {
   "cell_type": "code",
   "execution_count": 37,
   "id": "afbdd1d8",
   "metadata": {},
   "outputs": [],
   "source": [
    "# df.Price is the target column"
   ]
  },
  {
   "cell_type": "code",
   "execution_count": 38,
   "id": "7b8a263d",
   "metadata": {},
   "outputs": [
    {
     "data": {
      "text/plain": [
       "0        15770\n",
       "1        14500\n",
       "2        14640\n",
       "3        14500\n",
       "4        16790\n",
       "         ...  \n",
       "15914    39950\n",
       "15915    39885\n",
       "15916    39875\n",
       "15917    39700\n",
       "15918    40999\n",
       "Name: Price, Length: 15919, dtype: int64"
      ]
     },
     "execution_count": 38,
     "metadata": {},
     "output_type": "execute_result"
    }
   ],
   "source": [
    "df.Price"
   ]
  },
  {
   "cell_type": "code",
   "execution_count": 39,
   "id": "c2b30d61",
   "metadata": {},
   "outputs": [
    {
     "data": {
      "text/plain": [
       "<class 'int'>    15919\n",
       "Name: Price, dtype: int64"
      ]
     },
     "execution_count": 39,
     "metadata": {},
     "output_type": "execute_result"
    }
   ],
   "source": [
    "df.Price.map(type).value_counts()"
   ]
  },
  {
   "cell_type": "code",
   "execution_count": 40,
   "id": "9a914619",
   "metadata": {},
   "outputs": [
    {
     "data": {
      "text/plain": [
       "0"
      ]
     },
     "execution_count": 40,
     "metadata": {},
     "output_type": "execute_result"
    }
   ],
   "source": [
    "df.Price.isnull().sum()"
   ]
  },
  {
   "cell_type": "code",
   "execution_count": 41,
   "id": "0f465b70",
   "metadata": {},
   "outputs": [
    {
     "data": {
      "text/plain": [
       "count   15919.00\n",
       "mean    18019.90\n",
       "std      7386.17\n",
       "min        13.00\n",
       "25%     12850.00\n",
       "50%     16900.00\n",
       "75%     21900.00\n",
       "max     74600.00\n",
       "Name: Price, dtype: float64"
      ]
     },
     "execution_count": 41,
     "metadata": {},
     "output_type": "execute_result"
    }
   ],
   "source": [
    "df.Price.describe()"
   ]
  },
  {
   "cell_type": "code",
   "execution_count": 42,
   "id": "98c91b9d",
   "metadata": {},
   "outputs": [
    {
     "data": {
      "image/png": "[encoded data removed]",
      "text/plain": [
       "<Figure size 432x288 with 1 Axes>"
      ]
     },
     "metadata": {},
     "output_type": "display_data"
    }
   ],
   "source": [
    "sns.boxplot(df.Price);"
   ]
  },
  {
   "cell_type": "code",
   "execution_count": 43,
   "id": "9432ed69",
   "metadata": {},
   "outputs": [
    {
     "data": {
      "image/png": "[encoded data removed]",
      "text/plain": [
       "<Figure size 432x288 with 1 Axes>"
      ]
     },
     "metadata": {},
     "output_type": "display_data"
    }
   ],
   "source": [
    "sns.distplot(df.Price);"
   ]
  },
  {
   "cell_type": "markdown",
   "id": "0e5be54b",
   "metadata": {},
   "source": [
    "<div class=\"alert alert-block alert-info\">\n",
    "\n",
    "<b>Vat</b>\n",
    "    \n",
    "<br>The Value Added Tax, or VAT, in the European Union is a general, broadly based consumption tax assessed on the value added to goods and services. It applies more or less to all goods and services that are bought and sold for use or consumption in the European Union.</div>"
   ]
  },
  {
   "cell_type": "code",
   "execution_count": 44,
   "id": "316f93f9",
   "metadata": {},
   "outputs": [
    {
     "data": {
      "text/plain": [
       "VAT deductible      10980\n",
       "NaN                  4513\n",
       "Price negotiable      426\n",
       "Name: Vat, dtype: int64"
      ]
     },
     "execution_count": 44,
     "metadata": {},
     "output_type": "execute_result"
    }
   ],
   "source": [
    "df['Vat'].value_counts(dropna=False)"
   ]
  },
  {
   "cell_type": "code",
   "execution_count": 45,
   "id": "bce0eb42",
   "metadata": {},
   "outputs": [
    {
     "data": {
      "text/plain": [
       "<class 'str'>         11406\n",
       "<class 'NoneType'>     4513\n",
       "Name: Vat, dtype: int64"
      ]
     },
     "execution_count": 45,
     "metadata": {},
     "output_type": "execute_result"
    }
   ],
   "source": [
    "df.Vat.map(type).value_counts()"
   ]
  },
  {
   "cell_type": "code",
   "execution_count": 46,
   "id": "7368d4e2",
   "metadata": {},
   "outputs": [
    {
     "data": {
      "text/plain": [
       "28.349770714240847"
      ]
     },
     "execution_count": 46,
     "metadata": {},
     "output_type": "execute_result"
    }
   ],
   "source": [
    "df['Vat'].isnull().sum() / len(df.Vat)*100\n",
    "# df['Vat'].isnull().sum() / df.Vat.shape[0]*100"
   ]
  },
  {
   "cell_type": "markdown",
   "id": "c0c175b2",
   "metadata": {},
   "source": [
    "<div class=\"alert alert-block alert-info\">\n",
    "\n",
    "<b>Km</b></div>"
   ]
  },
  {
   "cell_type": "code",
   "execution_count": 47,
   "id": "417b0104",
   "metadata": {},
   "outputs": [
    {
     "data": {
      "text/plain": [
       "10 km        1045\n",
       "- km         1024\n",
       "1 km          367\n",
       "5 km          170\n",
       "50 km         148\n",
       "             ... \n",
       "67,469 km       1\n",
       "43,197 km       1\n",
       "10,027 km       1\n",
       "35,882 km       1\n",
       "57 km           1\n",
       "Name: Km, Length: 6690, dtype: int64"
      ]
     },
     "execution_count": 47,
     "metadata": {},
     "output_type": "execute_result"
    }
   ],
   "source": [
    "df['Km'].value_counts(dropna=False)"
   ]
  },
  {
   "cell_type": "code",
   "execution_count": 48,
   "id": "57f536e2",
   "metadata": {},
   "outputs": [
    {
     "data": {
      "text/plain": [
       "<class 'str'>    15919\n",
       "Name: Km, dtype: int64"
      ]
     },
     "execution_count": 48,
     "metadata": {},
     "output_type": "execute_result"
    }
   ],
   "source": [
    "df['Km'].map(type).value_counts()"
   ]
  },
  {
   "cell_type": "code",
   "execution_count": 49,
   "id": "a56dce01",
   "metadata": {},
   "outputs": [
    {
     "data": {
      "text/plain": [
       "0"
      ]
     },
     "execution_count": 49,
     "metadata": {},
     "output_type": "execute_result"
    }
   ],
   "source": [
    "df['Km'].isnull().sum()"
   ]
  },
  {
   "cell_type": "code",
   "execution_count": 50,
   "id": "8e7b33c5",
   "metadata": {},
   "outputs": [],
   "source": [
    "df['Km'] = df['Km'].str.replace(',', '').str.extract('(\\d+)').astype(float)\n",
    "\n",
    "# df[\"Km\"] = df.Km.str.replace(',','').str.extract('(\\d{1,8})')[0].astype('float')\n",
    "# Function of extract returns a dataframe"
   ]
  },
  {
   "cell_type": "code",
   "execution_count": 51,
   "id": "5eee8ded",
   "metadata": {},
   "outputs": [
    {
     "data": {
      "text/plain": [
       "10.00       1045\n",
       "NaN         1024\n",
       "1.00         367\n",
       "5.00         170\n",
       "50.00        148\n",
       "            ... \n",
       "67469.00       1\n",
       "43197.00       1\n",
       "10027.00       1\n",
       "35882.00       1\n",
       "57.00          1\n",
       "Name: Km, Length: 6690, dtype: int64"
      ]
     },
     "execution_count": 51,
     "metadata": {},
     "output_type": "execute_result"
    }
   ],
   "source": [
    "df['Km'].value_counts(dropna=False)"
   ]
  },
  {
   "cell_type": "code",
   "execution_count": 52,
   "id": "51fd3472",
   "metadata": {},
   "outputs": [
    {
     "data": {
      "text/plain": [
       "1024"
      ]
     },
     "execution_count": 52,
     "metadata": {},
     "output_type": "execute_result"
    }
   ],
   "source": [
    "df['Km'].isnull().sum()"
   ]
  },
  {
   "cell_type": "code",
   "execution_count": 53,
   "id": "83e3adbd",
   "metadata": {},
   "outputs": [
    {
     "data": {
      "text/plain": [
       "Type            First Registration\n",
       "Demonstration   2019                   33\n",
       "Employee's car  2018                    1\n",
       "                2019                    6\n",
       "                nan                     1\n",
       "New             2018                    1\n",
       "                2019                   14\n",
       "                nan                   834\n",
       "Pre-registered  2018                   27\n",
       "                2019                   90\n",
       "                nan                     1\n",
       "Used            2017                    1\n",
       "                2018                    9\n",
       "                2019                    4\n",
       "                nan                     1\n",
       "Name: Type, dtype: int64"
      ]
     },
     "execution_count": 53,
     "metadata": {},
     "output_type": "execute_result"
    }
   ],
   "source": [
    "df[df.Km.isnull()].groupby([df.Type.str[1], df['First Registration'].str[1].astype(str)]).Type.count()\n",
    "\n",
    "# Most of the null values can be considered as new and 0 km vehicles; the analysis about this will be done in the second part."
   ]
  },
  {
   "cell_type": "markdown",
   "id": "d96f3111",
   "metadata": {},
   "source": [
    "<div class=\"alert alert-block alert-info\">\n",
    "\n",
    "<b>Registration - First Registration</b></div>"
   ]
  },
  {
   "cell_type": "code",
   "execution_count": 54,
   "id": "6eb31e6e",
   "metadata": {},
   "outputs": [
    {
     "data": {
      "text/plain": [
       "-/-        1597\n",
       "03/2018     695\n",
       "02/2019     585\n",
       "05/2018     572\n",
       "03/2019     543\n",
       "01/2019     541\n",
       "04/2018     541\n",
       "02/2018     539\n",
       "03/2016     536\n",
       "04/2016     532\n",
       "Name: Registration, dtype: int64"
      ]
     },
     "execution_count": 54,
     "metadata": {},
     "output_type": "execute_result"
    }
   ],
   "source": [
    "df['Registration'].value_counts(dropna=False).head(10)"
   ]
  },
  {
   "cell_type": "code",
   "execution_count": 55,
   "id": "9e93fde6",
   "metadata": {},
   "outputs": [
    {
     "data": {
      "text/plain": [
       "<class 'str'>    15919\n",
       "Name: Registration, dtype: int64"
      ]
     },
     "execution_count": 55,
     "metadata": {},
     "output_type": "execute_result"
    }
   ],
   "source": [
    "df['Registration'].map(type).value_counts()"
   ]
  },
  {
   "cell_type": "code",
   "execution_count": 56,
   "id": "ee84ba53",
   "metadata": {},
   "outputs": [
    {
     "data": {
      "text/plain": [
       "0"
      ]
     },
     "execution_count": 56,
     "metadata": {},
     "output_type": "execute_result"
    }
   ],
   "source": [
    "df['Registration'].isnull().sum()"
   ]
  },
  {
   "cell_type": "markdown",
   "id": "fab94330",
   "metadata": {},
   "source": [
    "***"
   ]
  },
  {
   "cell_type": "code",
   "execution_count": 57,
   "id": "3724335c",
   "metadata": {},
   "outputs": [
    {
     "data": {
      "text/plain": [
       "['\\n', '2018', '\\n']    4522\n",
       "['\\n', '2016', '\\n']    3674\n",
       "['\\n', '2017', '\\n']    3273\n",
       "['\\n', '2019', '\\n']    2853\n",
       "nan                     1597\n",
       "Name: First Registration, dtype: int64"
      ]
     },
     "execution_count": 57,
     "metadata": {},
     "output_type": "execute_result"
    }
   ],
   "source": [
    "df['First Registration'].astype(str).value_counts(dropna=False)"
   ]
  },
  {
   "cell_type": "code",
   "execution_count": 58,
   "id": "26183f05",
   "metadata": {},
   "outputs": [
    {
     "data": {
      "text/plain": [
       "<class 'list'>     14322\n",
       "<class 'float'>     1597\n",
       "Name: First Registration, dtype: int64"
      ]
     },
     "execution_count": 58,
     "metadata": {},
     "output_type": "execute_result"
    }
   ],
   "source": [
    "df['First Registration'].map(type).value_counts()"
   ]
  },
  {
   "cell_type": "code",
   "execution_count": 59,
   "id": "93f39b5f",
   "metadata": {},
   "outputs": [],
   "source": [
    "df['First Registration'] = df['First Registration'].str[1].str.strip()"
   ]
  },
  {
   "cell_type": "code",
   "execution_count": 60,
   "id": "ddd95f1b",
   "metadata": {},
   "outputs": [
    {
     "data": {
      "text/plain": [
       "2018    4522\n",
       "2016    3674\n",
       "2017    3273\n",
       "2019    2853\n",
       "NaN     1597\n",
       "Name: First Registration, dtype: int64"
      ]
     },
     "execution_count": 60,
     "metadata": {},
     "output_type": "execute_result"
    }
   ],
   "source": [
    "df['First Registration'].value_counts(dropna=False)"
   ]
  },
  {
   "cell_type": "code",
   "execution_count": 61,
   "id": "826201fb",
   "metadata": {},
   "outputs": [
    {
     "data": {
      "text/html": [
       "<div>\n",
       "<style scoped>\n",
       "    .dataframe tbody tr th:only-of-type {\n",
       "        vertical-align: middle;\n",
       "    }\n",
       "\n",
       "    .dataframe tbody tr th {\n",
       "        vertical-align: top;\n",
       "    }\n",
       "\n",
       "    .dataframe thead th {\n",
       "        text-align: right;\n",
       "    }\n",
       "</style>\n",
       "<table border=\"1\" class=\"dataframe\">\n",
       "  <thead>\n",
       "    <tr style=\"text-align: right;\">\n",
       "      <th></th>\n",
       "      <th>Registration</th>\n",
       "      <th>First Registration</th>\n",
       "      <th>Km</th>\n",
       "    </tr>\n",
       "  </thead>\n",
       "  <tbody>\n",
       "    <tr>\n",
       "      <th>1174</th>\n",
       "      <td>-/-</td>\n",
       "      <td>NaN</td>\n",
       "      <td>22627.00</td>\n",
       "    </tr>\n",
       "    <tr>\n",
       "      <th>1288</th>\n",
       "      <td>-/-</td>\n",
       "      <td>NaN</td>\n",
       "      <td>22627.00</td>\n",
       "    </tr>\n",
       "    <tr>\n",
       "      <th>2395</th>\n",
       "      <td>-/-</td>\n",
       "      <td>NaN</td>\n",
       "      <td>11200.00</td>\n",
       "    </tr>\n",
       "    <tr>\n",
       "      <th>6237</th>\n",
       "      <td>-/-</td>\n",
       "      <td>NaN</td>\n",
       "      <td>85000.00</td>\n",
       "    </tr>\n",
       "    <tr>\n",
       "      <th>7370</th>\n",
       "      <td>-/-</td>\n",
       "      <td>NaN</td>\n",
       "      <td>68485.00</td>\n",
       "    </tr>\n",
       "    <tr>\n",
       "      <th>8794</th>\n",
       "      <td>-/-</td>\n",
       "      <td>NaN</td>\n",
       "      <td>81800.00</td>\n",
       "    </tr>\n",
       "    <tr>\n",
       "      <th>8869</th>\n",
       "      <td>-/-</td>\n",
       "      <td>NaN</td>\n",
       "      <td>39962.00</td>\n",
       "    </tr>\n",
       "    <tr>\n",
       "      <th>8937</th>\n",
       "      <td>-/-</td>\n",
       "      <td>NaN</td>\n",
       "      <td>39962.00</td>\n",
       "    </tr>\n",
       "    <tr>\n",
       "      <th>9253</th>\n",
       "      <td>-/-</td>\n",
       "      <td>NaN</td>\n",
       "      <td>32084.00</td>\n",
       "    </tr>\n",
       "    <tr>\n",
       "      <th>9254</th>\n",
       "      <td>-/-</td>\n",
       "      <td>NaN</td>\n",
       "      <td>20768.00</td>\n",
       "    </tr>\n",
       "    <tr>\n",
       "      <th>9260</th>\n",
       "      <td>-/-</td>\n",
       "      <td>NaN</td>\n",
       "      <td>34164.00</td>\n",
       "    </tr>\n",
       "    <tr>\n",
       "      <th>11117</th>\n",
       "      <td>-/-</td>\n",
       "      <td>NaN</td>\n",
       "      <td>89982.00</td>\n",
       "    </tr>\n",
       "    <tr>\n",
       "      <th>12450</th>\n",
       "      <td>-/-</td>\n",
       "      <td>NaN</td>\n",
       "      <td>11000.00</td>\n",
       "    </tr>\n",
       "    <tr>\n",
       "      <th>13686</th>\n",
       "      <td>-/-</td>\n",
       "      <td>NaN</td>\n",
       "      <td>89692.00</td>\n",
       "    </tr>\n",
       "    <tr>\n",
       "      <th>15501</th>\n",
       "      <td>-/-</td>\n",
       "      <td>NaN</td>\n",
       "      <td>19500.00</td>\n",
       "    </tr>\n",
       "  </tbody>\n",
       "</table>\n",
       "</div>"
      ],
      "text/plain": [
       "      Registration First Registration       Km\n",
       "1174           -/-                NaN 22627.00\n",
       "1288           -/-                NaN 22627.00\n",
       "2395           -/-                NaN 11200.00\n",
       "6237           -/-                NaN 85000.00\n",
       "7370           -/-                NaN 68485.00\n",
       "8794           -/-                NaN 81800.00\n",
       "8869           -/-                NaN 39962.00\n",
       "8937           -/-                NaN 39962.00\n",
       "9253           -/-                NaN 32084.00\n",
       "9254           -/-                NaN 20768.00\n",
       "9260           -/-                NaN 34164.00\n",
       "11117          -/-                NaN 89982.00\n",
       "12450          -/-                NaN 11000.00\n",
       "13686          -/-                NaN 89692.00\n",
       "15501          -/-                NaN 19500.00"
      ]
     },
     "execution_count": 61,
     "metadata": {},
     "output_type": "execute_result"
    }
   ],
   "source": [
    "# Some NaN values cannot be interpreted as new\n",
    "\n",
    "df[(df['First Registration'].isnull()) & (df['Km'] > 10000)][['Registration','First Registration', 'Km']]"
   ]
  },
  {
   "cell_type": "code",
   "execution_count": 62,
   "id": "f9b73e4d",
   "metadata": {},
   "outputs": [],
   "source": [
    "# values are belong to 2019 data so we can calculate their ages\n",
    "\n",
    "df['Age'] = 2019 - df['First Registration'].astype(float)"
   ]
  },
  {
   "cell_type": "code",
   "execution_count": 63,
   "id": "1670ac32",
   "metadata": {},
   "outputs": [
    {
     "data": {
      "text/plain": [
       "1.00    4522\n",
       "3.00    3674\n",
       "2.00    3273\n",
       "0.00    2853\n",
       "NaN     1597\n",
       "Name: Age, dtype: int64"
      ]
     },
     "execution_count": 63,
     "metadata": {},
     "output_type": "execute_result"
    }
   ],
   "source": [
    "df['Age'].value_counts(dropna=False)"
   ]
  },
  {
   "cell_type": "code",
   "execution_count": 64,
   "id": "ff53d66e",
   "metadata": {},
   "outputs": [],
   "source": [
    "# we don't need these columns anymore\n",
    "\n",
    "del df['First Registration'], df['Registration']"
   ]
  },
  {
   "cell_type": "markdown",
   "id": "addc8a2d",
   "metadata": {},
   "source": [
    "<div class=\"alert alert-block alert-info\">\n",
    "\n",
    "<b>Prev_Owner - Previous Owners</b></div>"
   ]
  },
  {
   "cell_type": "code",
   "execution_count": 65,
   "id": "604e6cd2",
   "metadata": {},
   "outputs": [
    {
     "data": {
      "text/plain": [
       "1 previous owner     8294\n",
       "NaN                  6828\n",
       "2 previous owners     778\n",
       "3 previous owners      17\n",
       "4 previous owners       2\n",
       "Name: Prev_Owner, dtype: int64"
      ]
     },
     "execution_count": 65,
     "metadata": {},
     "output_type": "execute_result"
    }
   ],
   "source": [
    "df['Prev_Owner'].value_counts(dropna=False)"
   ]
  },
  {
   "cell_type": "code",
   "execution_count": 66,
   "id": "627c1459",
   "metadata": {},
   "outputs": [
    {
     "data": {
      "text/plain": [
       "42.892141466172504"
      ]
     },
     "execution_count": 66,
     "metadata": {},
     "output_type": "execute_result"
    }
   ],
   "source": [
    "df['Prev_Owner'].isnull().sum() / len(df['Prev_Owner'])*100"
   ]
  },
  {
   "cell_type": "markdown",
   "id": "600c53e1",
   "metadata": {},
   "source": [
    "***"
   ]
  },
  {
   "cell_type": "code",
   "execution_count": 67,
   "id": "b086637b",
   "metadata": {},
   "outputs": [
    {
     "data": {
      "text/plain": [
       "\\n1\\n                                                                                                        8101\n",
       "nan                                                                                                          6640\n",
       "\\n2\\n                                                                                                         766\n",
       "\\n0\\n                                                                                                         163\n",
       "\\n3\\n                                                                                                          17\n",
       "                                                                                                             ... \n",
       "['\\n1\\n', '\\n111 g CO2/km (comb)\\n']                                                                            1\n",
       "['\\n1\\n', '\\nEuro 6\\n']                                                                                         1\n",
       "['\\n2\\n', '\\n119 g CO2/km (comb)\\n']                                                                            1\n",
       "['\\n1\\n', '\\n', '6.6 l/100 km (comb)', '\\n', '8.1 l/100 km (city)', '\\n', '5.7 l/100 km (country)', '\\n']       1\n",
       "['\\n2\\n', '\\n137 g CO2/km (comb)\\n']                                                                            1\n",
       "Name: Previous Owners, Length: 103, dtype: int64"
      ]
     },
     "execution_count": 67,
     "metadata": {},
     "output_type": "execute_result"
    }
   ],
   "source": [
    "df['Previous Owners'].astype(str).value_counts(dropna=False)"
   ]
  },
  {
   "cell_type": "code",
   "execution_count": 68,
   "id": "3ea98d4d",
   "metadata": {},
   "outputs": [
    {
     "data": {
      "text/plain": [
       "<class 'str'>      9049\n",
       "<class 'float'>    6640\n",
       "<class 'list'>      230\n",
       "Name: Previous Owners, dtype: int64"
      ]
     },
     "execution_count": 68,
     "metadata": {},
     "output_type": "execute_result"
    }
   ],
   "source": [
    "df['Previous Owners'].map(type).value_counts()"
   ]
  },
  {
   "cell_type": "code",
   "execution_count": 69,
   "id": "177af1b6",
   "metadata": {},
   "outputs": [
    {
     "name": "stdout",
     "output_type": "stream",
     "text": [
      "Number of Items in all Lists: {8, 1, 2}\n",
      "There is \u001b[34mno nested list\u001b[0m in this column\n"
     ]
    }
   ],
   "source": [
    "list_items('Previous Owners')"
   ]
  },
  {
   "cell_type": "code",
   "execution_count": 70,
   "id": "6fef4300",
   "metadata": {},
   "outputs": [
    {
     "name": "stdout",
     "output_type": "stream",
     "text": [
      "['\\n1\\n']\n",
      "['\\n1\\n']\n"
     ]
    }
   ],
   "source": [
    "# I can see the 2 and 8 item lists above but now I need to see the single item lists\n",
    "\n",
    "specified_lists('Previous Owners',1)"
   ]
  },
  {
   "cell_type": "code",
   "execution_count": 71,
   "id": "39930ed4",
   "metadata": {},
   "outputs": [],
   "source": [
    "df['Previous Owners'] = [x[0] if type(x)==list else x for x in df['Previous Owners']]"
   ]
  },
  {
   "cell_type": "code",
   "execution_count": 72,
   "id": "2acad5c9",
   "metadata": {},
   "outputs": [],
   "source": [
    "df['Previous Owners'] = df['Previous Owners'].str.strip()"
   ]
  },
  {
   "cell_type": "code",
   "execution_count": 73,
   "id": "bba68a06",
   "metadata": {},
   "outputs": [
    {
     "data": {
      "text/plain": [
       "1      8294\n",
       "NaN    6640\n",
       "2       778\n",
       "0       188\n",
       "3        17\n",
       "4         2\n",
       "Name: Previous Owners, dtype: int64"
      ]
     },
     "execution_count": 73,
     "metadata": {},
     "output_type": "execute_result"
    }
   ],
   "source": [
    "df['Previous Owners'].value_counts(dropna=False)"
   ]
  },
  {
   "cell_type": "code",
   "execution_count": 74,
   "id": "56e398d2",
   "metadata": {},
   "outputs": [
    {
     "data": {
      "text/plain": [
       "6640"
      ]
     },
     "execution_count": 74,
     "metadata": {},
     "output_type": "execute_result"
    }
   ],
   "source": [
    "# NaN values are exactly matching\n",
    "\n",
    "df[df[['Prev_Owner','Previous Owners']].isnull().all(axis=1)][['Prev_Owner','Previous Owners']].shape[0]"
   ]
  },
  {
   "cell_type": "code",
   "execution_count": 75,
   "id": "246c178c",
   "metadata": {},
   "outputs": [],
   "source": [
    "df.rename(columns={'Previous Owners': 'Previous_Owners'}, inplace=True)"
   ]
  },
  {
   "cell_type": "code",
   "execution_count": 76,
   "id": "3ad296e5",
   "metadata": {},
   "outputs": [],
   "source": [
    "del df['Prev_Owner']\n",
    "# df.drop(\"Prev_Owner\", axis = 1, inplace = True)"
   ]
  },
  {
   "cell_type": "markdown",
   "id": "c5bd7b01",
   "metadata": {},
   "source": [
    "<div class=\"alert alert-block alert-info\">\n",
    "\n",
    "<b>Hp</b></div>"
   ]
  },
  {
   "cell_type": "code",
   "execution_count": 77,
   "id": "57a42990",
   "metadata": {},
   "outputs": [
    {
     "data": {
      "text/plain": [
       "85 kW     2542\n",
       "66 kW     2122\n",
       "81 kW     1402\n",
       "100 kW    1308\n",
       "110 kW    1112\n",
       "Name: Hp, dtype: int64"
      ]
     },
     "execution_count": 77,
     "metadata": {},
     "output_type": "execute_result"
    }
   ],
   "source": [
    "df['Hp'].value_counts(dropna=False).head()"
   ]
  },
  {
   "cell_type": "code",
   "execution_count": 78,
   "id": "c815d3f2",
   "metadata": {},
   "outputs": [
    {
     "data": {
      "text/plain": [
       "<class 'str'>    15919\n",
       "Name: Hp, dtype: int64"
      ]
     },
     "execution_count": 78,
     "metadata": {},
     "output_type": "execute_result"
    }
   ],
   "source": [
    "df['Hp'].map(type).value_counts()"
   ]
  },
  {
   "cell_type": "code",
   "execution_count": 79,
   "id": "87a2ce8f",
   "metadata": {},
   "outputs": [
    {
     "data": {
      "text/plain": [
       "0"
      ]
     },
     "execution_count": 79,
     "metadata": {},
     "output_type": "execute_result"
    }
   ],
   "source": [
    "df['Hp'].isnull().sum()"
   ]
  },
  {
   "cell_type": "code",
   "execution_count": 80,
   "id": "65f15260",
   "metadata": {},
   "outputs": [],
   "source": [
    "df['Hp'] = df['Hp'].str.extract('(\\d+)').astype(float)\n",
    "\n",
    "#df.replace({\"Hp\" : {\" kW\" : \"\"}}, regex = True, inplace = True)\n",
    "#df[\"Hp_kw\"] = pd.to_numeric(df.Hp)"
   ]
  },
  {
   "cell_type": "code",
   "execution_count": 81,
   "id": "0f81f993",
   "metadata": {},
   "outputs": [
    {
     "data": {
      "text/plain": [
       "85.00     2542\n",
       "66.00     2122\n",
       "81.00     1402\n",
       "100.00    1308\n",
       "110.00    1112\n",
       "Name: Hp, dtype: int64"
      ]
     },
     "execution_count": 81,
     "metadata": {},
     "output_type": "execute_result"
    }
   ],
   "source": [
    "df['Hp'].value_counts(dropna=False).head()"
   ]
  },
  {
   "cell_type": "code",
   "execution_count": 82,
   "id": "4931f4c1",
   "metadata": {
    "scrolled": true
   },
   "outputs": [
    {
     "data": {
      "text/plain": [
       "80"
      ]
     },
     "execution_count": 82,
     "metadata": {},
     "output_type": "execute_result"
    }
   ],
   "source": [
    "df['Hp'].nunique()"
   ]
  },
  {
   "cell_type": "code",
   "execution_count": 83,
   "id": "0b4125e5",
   "metadata": {},
   "outputs": [
    {
     "data": {
      "text/plain": [
       "81"
      ]
     },
     "execution_count": 83,
     "metadata": {},
     "output_type": "execute_result"
    }
   ],
   "source": [
    "df['Hp'].unique().shape[0]"
   ]
  },
  {
   "cell_type": "code",
   "execution_count": 84,
   "id": "9e21dd8f",
   "metadata": {},
   "outputs": [
    {
     "data": {
      "text/plain": [
       "88"
      ]
     },
     "execution_count": 84,
     "metadata": {},
     "output_type": "execute_result"
    }
   ],
   "source": [
    "df['Hp'].isnull().sum()"
   ]
  },
  {
   "cell_type": "code",
   "execution_count": 85,
   "id": "80a51ad4",
   "metadata": {},
   "outputs": [],
   "source": [
    "df.columns = df.columns.map(lambda x : x + '_kW' if x =='Hp' else x)\n",
    "\n",
    "# df.rename(columns={'Hp': 'Hp_kW'}, inplace=True)\n",
    "# df['Hp_kW'] = df['Hp']  //  del df['Hp']  // * it will be placed in the last of the df"
   ]
  },
  {
   "cell_type": "markdown",
   "id": "7e40b92b",
   "metadata": {},
   "source": [
    "<div class=\"alert alert-block alert-info\">\n",
    "\n",
    "<b>Type</b></div>"
   ]
  },
  {
   "cell_type": "code",
   "execution_count": 86,
   "id": "4dc6d924",
   "metadata": {},
   "outputs": [
    {
     "ename": "TypeError",
     "evalue": "unhashable type: 'list'",
     "output_type": "error",
     "traceback": [
      "\u001b[1;31m---------------------------------------------------------------------------\u001b[0m",
      "\u001b[1;31mTypeError\u001b[0m                                 Traceback (most recent call last)",
      "\u001b[1;32mpandas\\_libs\\hashtable_class_helper.pxi\u001b[0m in \u001b[0;36mpandas._libs.hashtable.PyObjectHashTable.map_locations\u001b[1;34m()\u001b[0m\n",
      "\u001b[1;31mTypeError\u001b[0m: unhashable type: 'list'"
     ]
    },
    {
     "name": "stderr",
     "output_type": "stream",
     "text": [
      "Exception ignored in: 'pandas._libs.index.IndexEngine._call_map_locations'\n",
      "Traceback (most recent call last):\n",
      "  File \"pandas\\_libs\\hashtable_class_helper.pxi\", line 5231, in pandas._libs.hashtable.PyObjectHashTable.map_locations\n",
      "TypeError: unhashable type: 'list'\n"
     ]
    },
    {
     "data": {
      "text/plain": [
       "[, Used, , Diesel (Particulate Filter)]                                                                                 3475\n",
       "[, Used, , Diesel]                                                                                                      2516\n",
       "[, Used, , Gasoline]                                                                                                    2367\n",
       "[, Used, , Super 95]                                                                                                    1818\n",
       "[, Pre-registered, , Super 95]                                                                                           500\n",
       "                                                                                                                        ... \n",
       "[, New, , Regular/Benzine 91 / Super 95 / Super Plus 98 / Regular/Benzine E10 91 / Super Plus E10 98 / Super E10 95]       1\n",
       "[, Used, , Super 95 / Super Plus 98 / Super E10 95 / Super Plus E10 98 (Particulate Filter)]                               1\n",
       "[, Demonstration, , Super Plus 98]                                                                                         1\n",
       "[, New, , Super Plus E10 98]                                                                                               1\n",
       "[, Demonstration, , Regular/Benzine E10 91]                                                                                1\n",
       "Name: Type, Length: 170, dtype: int64"
      ]
     },
     "execution_count": 86,
     "metadata": {},
     "output_type": "execute_result"
    }
   ],
   "source": [
    "df['Type'].value_counts(dropna=False)"
   ]
  },
  {
   "cell_type": "code",
   "execution_count": 87,
   "id": "fc54175b",
   "metadata": {},
   "outputs": [
    {
     "data": {
      "text/plain": [
       "<class 'list'>     15917\n",
       "<class 'float'>        2\n",
       "Name: Type, dtype: int64"
      ]
     },
     "execution_count": 87,
     "metadata": {},
     "output_type": "execute_result"
    }
   ],
   "source": [
    "df['Type'].map(type).value_counts()"
   ]
  },
  {
   "cell_type": "code",
   "execution_count": 88,
   "id": "9058a387",
   "metadata": {},
   "outputs": [
    {
     "name": "stdout",
     "output_type": "stream",
     "text": [
      "Number of Items in all Lists: {4}\n",
      "There is \u001b[34mno nested list\u001b[0m in this column\n"
     ]
    }
   ],
   "source": [
    "list_items('Type')"
   ]
  },
  {
   "cell_type": "code",
   "execution_count": 89,
   "id": "b374f87f",
   "metadata": {},
   "outputs": [],
   "source": [
    "df['Type'] = df['Type'].str[1]"
   ]
  },
  {
   "cell_type": "code",
   "execution_count": 90,
   "id": "9d5746fa",
   "metadata": {},
   "outputs": [
    {
     "data": {
      "text/plain": [
       "Used              11096\n",
       "New                1650\n",
       "Pre-registered     1364\n",
       "Employee's car     1011\n",
       "Demonstration       796\n",
       "NaN                   2\n",
       "Name: Type, dtype: int64"
      ]
     },
     "execution_count": 90,
     "metadata": {},
     "output_type": "execute_result"
    }
   ],
   "source": [
    "df.Type.value_counts(dropna=False)"
   ]
  },
  {
   "cell_type": "markdown",
   "id": "5953462e",
   "metadata": {},
   "source": [
    "<div class=\"alert alert-block alert-info\">\n",
    "\n",
    "<b>Next Inspection - Inspection New</b></div>"
   ]
  },
  {
   "cell_type": "code",
   "execution_count": 91,
   "id": "40c90f5a",
   "metadata": {},
   "outputs": [
    {
     "data": {
      "text/plain": [
       "nan                                           12384\n",
       "\\n04/2022\\n                                      62\n",
       "\\n03/2021\\n                                      38\n",
       "\\n03/2022\\n                                      36\n",
       "\\n06/2021\\n                                      34\n",
       "                                              ...  \n",
       "['\\n12/2018\\n', '\\n97 g CO2/km (comb)\\n']         1\n",
       "['\\n03/2022\\n', '\\n1 (No sticker)\\n']             1\n",
       "['\\n05/2021\\n', '\\n93 g CO2/km (comb)\\n']         1\n",
       "['\\n06/2021\\n', '\\n93 g CO2/km (comb)\\n']         1\n",
       "['\\n01/2022\\n', '\\n168 g CO2/km (comb)\\n']        1\n",
       "Name: Next Inspection, Length: 1400, dtype: int64"
      ]
     },
     "execution_count": 91,
     "metadata": {},
     "output_type": "execute_result"
    }
   ],
   "source": [
    "df['Next Inspection'].astype(str).value_counts(dropna=False)"
   ]
  },
  {
   "cell_type": "code",
   "execution_count": 92,
   "id": "2991dc42",
   "metadata": {},
   "outputs": [
    {
     "data": {
      "text/plain": [
       "<class 'float'>    12384\n",
       "<class 'list'>      2825\n",
       "<class 'str'>        710\n",
       "Name: Next Inspection, dtype: int64"
      ]
     },
     "execution_count": 92,
     "metadata": {},
     "output_type": "execute_result"
    }
   ],
   "source": [
    "df['Next Inspection'].map(type).value_counts()"
   ]
  },
  {
   "cell_type": "code",
   "execution_count": 93,
   "id": "61e0f827",
   "metadata": {},
   "outputs": [
    {
     "name": "stdout",
     "output_type": "stream",
     "text": [
      "Number of Items in all Lists: {8, 1, 2, 6}\n",
      "There is \u001b[34mno nested list\u001b[0m in this column\n"
     ]
    }
   ],
   "source": [
    "list_items('Next Inspection')"
   ]
  },
  {
   "cell_type": "code",
   "execution_count": 94,
   "id": "2e60ea2d",
   "metadata": {},
   "outputs": [
    {
     "name": "stdout",
     "output_type": "stream",
     "text": [
      "['\\n04/2021\\n']\n",
      "['\\n04/2016\\n']\n",
      "['\\n10/2019\\n']\n",
      "['\\n04/2019\\n']\n",
      "['\\n04/2019\\n']\n",
      "['\\n08/2019\\n']\n",
      "['\\n01/2021\\n']\n",
      "['\\n04/2021\\n']\n",
      "['\\n09/2021\\n']\n",
      "['\\n07/2019\\n']\n",
      "['\\n03/2020\\n']\n",
      "['\\n05/2021\\n']\n",
      "['\\n05/2021\\n']\n",
      "['\\n06/2021\\n']\n",
      "['\\n06/2021\\n']\n",
      "['\\n06/2021\\n']\n",
      "['\\n06/2021\\n']\n",
      "['\\n06/2021\\n']\n",
      "['\\n06/2021\\n']\n",
      "['\\n06/2021\\n']\n"
     ]
    }
   ],
   "source": [
    "# I will check the lists that have only one item\n",
    "\n",
    "specified_lists('Next Inspection',1)"
   ]
  },
  {
   "cell_type": "code",
   "execution_count": 95,
   "id": "9ea93896",
   "metadata": {},
   "outputs": [
    {
     "name": "stdout",
     "output_type": "stream",
     "text": [
      "['\\n02/2021\\n', '\\n', '1.6 l/100 km (comb)', '\\n', '\\n', '\\n']\n",
      "['\\n04/2021\\n', '\\n', '5.4 l/100 km (comb)', '\\n', '\\n', '\\n']\n",
      "['\\n06/2021\\n', '\\n', '5.9 l/100 km (comb)', '\\n', '\\n', '\\n']\n"
     ]
    }
   ],
   "source": [
    "# lists with six items\n",
    "\n",
    "specified_lists('Next Inspection',6)"
   ]
  },
  {
   "cell_type": "code",
   "execution_count": 96,
   "id": "0f8f7823",
   "metadata": {},
   "outputs": [],
   "source": [
    "df['Next Inspection'] = [x[0] if type(x)==list else x for x in df['Next Inspection']]"
   ]
  },
  {
   "cell_type": "code",
   "execution_count": 97,
   "id": "d96710b7",
   "metadata": {},
   "outputs": [],
   "source": [
    "df['Next Inspection'] = df['Next Inspection'].str.strip()"
   ]
  },
  {
   "cell_type": "code",
   "execution_count": 98,
   "id": "270a2cff",
   "metadata": {},
   "outputs": [
    {
     "data": {
      "text/plain": [
       "NaN        12384\n",
       "06/2021      471\n",
       "03/2021      210\n",
       "05/2021      180\n",
       "04/2021      171\n",
       "Name: Next Inspection, dtype: int64"
      ]
     },
     "execution_count": 98,
     "metadata": {},
     "output_type": "execute_result"
    }
   ],
   "source": [
    "df['Next Inspection'].value_counts(dropna=False).head()"
   ]
  },
  {
   "cell_type": "code",
   "execution_count": 99,
   "id": "c93142f8",
   "metadata": {},
   "outputs": [
    {
     "data": {
      "text/plain": [
       "array(['06/2021', nan, '02/2020', '09/2019', '10/2019', '04/2020',\n",
       "       '07/2020', '12/2019', '05/2019', '07/2019', '02/2021', '06/2019',\n",
       "       '05/2020', '11/2019', '11/2020', '09/2021', '03/2020', '04/2021',\n",
       "       '04/2019', '07/2021', '01/2021', '05/2022', '06/2020', '01/2019',\n",
       "       '09/2020', '03/2021', '05/2021', '10/2020', '02/2019', '03/2019',\n",
       "       '08/2020', '08/2019', '05/2018', '10/2018', '08/2022', '07/2022',\n",
       "       '12/2020', '03/2022', '08/2021', '01/1999', '01/2020', '06/2018',\n",
       "       '02/2022', '01/2022', '11/2021', '10/2021', '12/2021', '04/2022',\n",
       "       '06/2022', '10/2022', '01/2018', '02/2023', '01/2023', '03/2023',\n",
       "       '12/2018', '08/2018', '01/1955', '04/2016', '05/2014', '04/2023',\n",
       "       '04/2017', '06/2016', '03/2017', '05/2016', '01/2001', '03/2018',\n",
       "       '02/2017', '09/2018', '11/2018', '05/2017', '07/2017', '12/2017',\n",
       "       '07/2018', '05/2023', '12/2022', '01/1921', '03/2024', '11/2022'],\n",
       "      dtype=object)"
      ]
     },
     "execution_count": 99,
     "metadata": {},
     "output_type": "execute_result"
    }
   ],
   "source": [
    "df['Next Inspection'].unique()"
   ]
  },
  {
   "cell_type": "code",
   "execution_count": 100,
   "id": "70e644de",
   "metadata": {},
   "outputs": [
    {
     "data": {
      "text/html": [
       "<div>\n",
       "<style scoped>\n",
       "    .dataframe tbody tr th:only-of-type {\n",
       "        vertical-align: middle;\n",
       "    }\n",
       "\n",
       "    .dataframe tbody tr th {\n",
       "        vertical-align: top;\n",
       "    }\n",
       "\n",
       "    .dataframe thead th {\n",
       "        text-align: right;\n",
       "    }\n",
       "</style>\n",
       "<table border=\"1\" class=\"dataframe\">\n",
       "  <thead>\n",
       "    <tr style=\"text-align: right;\">\n",
       "      <th></th>\n",
       "      <th>Next Inspection</th>\n",
       "      <th>Inspection New</th>\n",
       "    </tr>\n",
       "  </thead>\n",
       "  <tbody>\n",
       "    <tr>\n",
       "      <th>13332</th>\n",
       "      <td>01/1921</td>\n",
       "      <td>[\\nYes\\n, \\nEuro 6\\n]</td>\n",
       "    </tr>\n",
       "  </tbody>\n",
       "</table>\n",
       "</div>"
      ],
      "text/plain": [
       "      Next Inspection         Inspection New\n",
       "13332         01/1921  [\\nYes\\n, \\nEuro 6\\n]"
      ]
     },
     "execution_count": 100,
     "metadata": {},
     "output_type": "execute_result"
    }
   ],
   "source": [
    "# there are some incorrect data\n",
    "\n",
    "df[df['Next Inspection']=='01/1921'][['Next Inspection', 'Inspection New']]"
   ]
  },
  {
   "cell_type": "code",
   "execution_count": 101,
   "id": "359900fb",
   "metadata": {},
   "outputs": [
    {
     "data": {
      "text/plain": [
       "77.79383127080847"
      ]
     },
     "execution_count": 101,
     "metadata": {},
     "output_type": "execute_result"
    }
   ],
   "source": [
    "df['Next Inspection'].isnull().sum() / len(df['Next Inspection'])*100"
   ]
  },
  {
   "cell_type": "markdown",
   "id": "18c672f1",
   "metadata": {},
   "source": [
    "***"
   ]
  },
  {
   "cell_type": "code",
   "execution_count": 102,
   "id": "3928e7ac",
   "metadata": {},
   "outputs": [
    {
     "data": {
      "text/plain": [
       "nan                                                                                                            11987\n",
       "['\\nYes\\n', '\\nEuro 6\\n']                                                                                        523\n",
       "\\nYes\\n                                                                                                          362\n",
       "['\\nYes\\n', '\\n102 g CO2/km (comb)\\n']                                                                           174\n",
       "['\\nYes\\n', '\\n4 (Green)\\n']                                                                                     166\n",
       "                                                                                                               ...  \n",
       "['\\nYes\\n', '\\n', '6 l/100 km (comb)', '\\n', '8 l/100 km (city)', '\\n', '4.9 l/100 km (country)', '\\n']            1\n",
       "['\\nYes\\n', '\\n', '6.8 l/100 km (comb)', '\\n', '8.5 l/100 km (city)', '\\n', '6.1 l/100 km (country)', '\\n']        1\n",
       "['\\nYes\\n', '\\n', '4.1 l/100 km (comb)', '\\n', '7.5 l/100 km (city)', '\\n', '5.2 l/100 km (country)', '\\n']        1\n",
       "['\\nYes\\n', '\\n', '5.2 l/100 km (comb)', '\\n', '6.8 l/100 km (city)', '\\n', '4.3 l/100 km (country)', '\\n']        1\n",
       "['\\nYes\\n', '\\n172 g CO2/km (comb)\\n']                                                                             1\n",
       "Name: Inspection New, Length: 203, dtype: int64"
      ]
     },
     "execution_count": 102,
     "metadata": {},
     "output_type": "execute_result"
    }
   ],
   "source": [
    "df['Inspection New'].astype(str).value_counts(dropna=False)"
   ]
  },
  {
   "cell_type": "code",
   "execution_count": 103,
   "id": "9db75230",
   "metadata": {},
   "outputs": [
    {
     "data": {
      "text/plain": [
       "<class 'float'>    11987\n",
       "<class 'list'>      3570\n",
       "<class 'str'>        362\n",
       "Name: Inspection New, dtype: int64"
      ]
     },
     "execution_count": 103,
     "metadata": {},
     "output_type": "execute_result"
    }
   ],
   "source": [
    "df['Inspection New'].map(type).value_counts()"
   ]
  },
  {
   "cell_type": "code",
   "execution_count": 104,
   "id": "5b576d28",
   "metadata": {},
   "outputs": [
    {
     "name": "stdout",
     "output_type": "stream",
     "text": [
      "Number of Items in all Lists: {8, 1, 2, 6}\n",
      "There is \u001b[34mno nested list\u001b[0m in this column\n"
     ]
    }
   ],
   "source": [
    "list_items('Inspection New')"
   ]
  },
  {
   "cell_type": "code",
   "execution_count": 105,
   "id": "f2d792c2",
   "metadata": {},
   "outputs": [
    {
     "name": "stdout",
     "output_type": "stream",
     "text": [
      "['\\nYes\\n']\n",
      "['\\nYes\\n']\n",
      "['\\nYes\\n']\n",
      "['\\nYes\\n']\n",
      "['\\nYes\\n']\n",
      "['\\nYes\\n']\n",
      "['\\nYes\\n']\n",
      "['\\nYes\\n']\n",
      "['\\nYes\\n']\n",
      "['\\nYes\\n']\n",
      "['\\nYes\\n']\n",
      "['\\nYes\\n']\n",
      "['\\nYes\\n']\n",
      "['\\nYes\\n']\n",
      "['\\nYes\\n']\n",
      "['\\nYes\\n']\n",
      "['\\nYes\\n']\n",
      "['\\nYes\\n']\n",
      "['\\nYes\\n']\n",
      "['\\nYes\\n']\n"
     ]
    }
   ],
   "source": [
    "# lists that have only one element\n",
    "\n",
    "specified_lists('Inspection New',1)"
   ]
  },
  {
   "cell_type": "code",
   "execution_count": 106,
   "id": "e9276b43",
   "metadata": {},
   "outputs": [
    {
     "name": "stdout",
     "output_type": "stream",
     "text": [
      "['\\nYes\\n', '\\n', '4.9 l/100 km (comb)', '\\n', '\\n', '\\n']\n",
      "['\\nYes\\n', '\\n', '4.7 l/100 km (comb)', '\\n', '\\n', '\\n']\n",
      "['\\nYes\\n', '\\n', '6.3 l/100 km (comb)', '\\n', '\\n', '\\n']\n",
      "['\\nYes\\n', '\\n', '5.4 l/100 km (comb)', '\\n', '\\n', '\\n']\n",
      "['\\nYes\\n', '\\n', '5.8 l/100 km (comb)', '\\n', '\\n', '\\n']\n"
     ]
    }
   ],
   "source": [
    "# lists that have six elements\n",
    "\n",
    "specified_lists('Inspection New',6)"
   ]
  },
  {
   "cell_type": "code",
   "execution_count": 107,
   "id": "2373b2bd",
   "metadata": {},
   "outputs": [],
   "source": [
    "df['Inspection New'] = [x[0] if type(x)==list else x for x in df['Inspection New']]"
   ]
  },
  {
   "cell_type": "code",
   "execution_count": 108,
   "id": "9253643d",
   "metadata": {},
   "outputs": [],
   "source": [
    "df['Inspection New'] = df['Inspection New'].str.strip()"
   ]
  },
  {
   "cell_type": "code",
   "execution_count": 109,
   "id": "dbf072c3",
   "metadata": {},
   "outputs": [
    {
     "data": {
      "text/plain": [
       "NaN    11987\n",
       "Yes     3932\n",
       "Name: Inspection New, dtype: int64"
      ]
     },
     "execution_count": 109,
     "metadata": {},
     "output_type": "execute_result"
    }
   ],
   "source": [
    "df['Inspection New'].value_counts(dropna=False)"
   ]
  },
  {
   "cell_type": "code",
   "execution_count": 110,
   "id": "ce1cc517",
   "metadata": {},
   "outputs": [
    {
     "data": {
      "text/plain": [
       "75.29995602738866"
      ]
     },
     "execution_count": 110,
     "metadata": {},
     "output_type": "execute_result"
    }
   ],
   "source": [
    "df['Inspection New'].isnull().sum() / len(df['Inspection New'])*100"
   ]
  },
  {
   "cell_type": "code",
   "execution_count": 111,
   "id": "1d85f745",
   "metadata": {},
   "outputs": [],
   "source": [
    "df.rename(columns={'Inspection New': 'Inspection_New'}, inplace=True)"
   ]
  },
  {
   "cell_type": "code",
   "execution_count": 112,
   "id": "b2f91fa8",
   "metadata": {},
   "outputs": [],
   "source": [
    "del df['Next Inspection']\n",
    "# df.drop(\"Next Inspection\", axis = 1, inplace = True)"
   ]
  },
  {
   "cell_type": "markdown",
   "id": "59d52ee1",
   "metadata": {},
   "source": [
    "<div class=\"alert alert-block alert-info\">\n",
    "\n",
    "<b>Warranty</b></div>"
   ]
  },
  {
   "cell_type": "code",
   "execution_count": 113,
   "id": "aab4998f",
   "metadata": {},
   "outputs": [
    {
     "data": {
      "text/plain": [
       "nan                                                                                                                5420\n",
       "['\\n', '\\n', '\\nEuro 6\\n']                                                                                         1868\n",
       "\\n12 months\\n                                                                                                      1177\n",
       "\\n                                                                                                                  979\n",
       "\\n24 months\\n                                                                                                       566\n",
       "                                                                                                                   ... \n",
       "['\\n72 months\\n', '\\n125 g CO2/km (comb)\\n']                                                                          1\n",
       "['\\n60 months\\n', '\\n14 g CO2/km (comb)\\n']                                                                           1\n",
       "['\\n24 months\\n', '\\n121 g CO2/km (comb)\\n']                                                                          1\n",
       "['\\n12 months\\n', '\\nEuro 6d\\n']                                                                                      1\n",
       "['\\n36 months\\n', '\\n', '7.4 l/100 km (comb)', '\\n', '9.6 l/100 km (city)', '\\n', '6 l/100 km (country)', '\\n']       1\n",
       "Name: Warranty, Length: 516, dtype: int64"
      ]
     },
     "execution_count": 113,
     "metadata": {},
     "output_type": "execute_result"
    }
   ],
   "source": [
    "df['Warranty'].astype(str).value_counts(dropna=False)"
   ]
  },
  {
   "cell_type": "code",
   "execution_count": 114,
   "id": "c4d39fd3",
   "metadata": {},
   "outputs": [
    {
     "data": {
      "text/plain": [
       "<class 'list'>     7463\n",
       "<class 'float'>    5420\n",
       "<class 'str'>      3036\n",
       "Name: Warranty, dtype: int64"
      ]
     },
     "execution_count": 114,
     "metadata": {},
     "output_type": "execute_result"
    }
   ],
   "source": [
    "df['Warranty'].map(type).value_counts()"
   ]
  },
  {
   "cell_type": "code",
   "execution_count": 115,
   "id": "4b80eadd",
   "metadata": {},
   "outputs": [
    {
     "name": "stdout",
     "output_type": "stream",
     "text": [
      "Number of Items in all Lists: {1, 2, 3, 4, 6, 8, 9}\n",
      "There is \u001b[34mno nested list\u001b[0m in this column\n"
     ]
    }
   ],
   "source": [
    "list_items('Warranty')"
   ]
  },
  {
   "cell_type": "code",
   "execution_count": 116,
   "id": "ae6e6f09",
   "metadata": {},
   "outputs": [],
   "source": [
    "df['Warranty'] = [x[0] if type(x)==list else x for x in df['Warranty']]"
   ]
  },
  {
   "cell_type": "code",
   "execution_count": 117,
   "id": "5fdcca48",
   "metadata": {},
   "outputs": [],
   "source": [
    "df['Warranty'] = df['Warranty'].str.strip().str.extract('(\\d+)').astype(float)"
   ]
  },
  {
   "cell_type": "code",
   "execution_count": 118,
   "id": "733836a0",
   "metadata": {},
   "outputs": [
    {
     "data": {
      "text/plain": [
       "NaN      11066\n",
       "12.00     2594\n",
       "24.00     1118\n",
       "60.00      401\n",
       "36.00      279\n",
       "Name: Warranty, dtype: int64"
      ]
     },
     "execution_count": 118,
     "metadata": {},
     "output_type": "execute_result"
    }
   ],
   "source": [
    "df['Warranty'].value_counts(dropna=False).head()"
   ]
  },
  {
   "cell_type": "code",
   "execution_count": 119,
   "id": "b3c8cc51",
   "metadata": {},
   "outputs": [
    {
     "data": {
      "text/plain": [
       "69.51441673471952"
      ]
     },
     "execution_count": 119,
     "metadata": {},
     "output_type": "execute_result"
    }
   ],
   "source": [
    "df['Warranty'].isnull().sum() / len(df['Warranty'])*100"
   ]
  },
  {
   "cell_type": "code",
   "execution_count": 120,
   "id": "8e5d0e11",
   "metadata": {},
   "outputs": [],
   "source": [
    "df.rename(columns={'Warranty': 'Warranty (Months)'}, inplace=True)"
   ]
  },
  {
   "cell_type": "markdown",
   "id": "1eb1069c",
   "metadata": {},
   "source": [
    "<div class=\"alert alert-block alert-info\">\n",
    "\n",
    "<b>Full Service</b></div>"
   ]
  },
  {
   "cell_type": "code",
   "execution_count": 121,
   "id": "70aa88c2",
   "metadata": {},
   "outputs": [
    {
     "data": {
      "text/plain": [
       "nan                                        7704\n",
       "['\\n', '\\n', '\\n4 (Green)\\n']              2235\n",
       "['\\n', '\\n', '\\nEuro 6\\n']                 2097\n",
       "['\\n', '\\n']                               1702\n",
       "['\\n', '\\n', '\\nEuro 6d-TEMP\\n']            399\n",
       "\\n                                          283\n",
       "['\\n', '\\n', '\\n120 g CO2/km (comb)\\n']     105\n",
       "['\\n', '\\n', '\\n126 g CO2/km (comb)\\n']      84\n",
       "['\\n', '\\n', '\\n104 g CO2/km (comb)\\n']      77\n",
       "['\\n', '\\n', '\\n97 g CO2/km (comb)\\n']       76\n",
       "Name: Full Service, dtype: int64"
      ]
     },
     "execution_count": 121,
     "metadata": {},
     "output_type": "execute_result"
    }
   ],
   "source": [
    "df['Full Service'].astype(str).value_counts(dropna=False).head(10)"
   ]
  },
  {
   "cell_type": "code",
   "execution_count": 122,
   "id": "41a5141f",
   "metadata": {},
   "outputs": [
    {
     "data": {
      "text/plain": [
       "<class 'list'>     7932\n",
       "<class 'float'>    7704\n",
       "<class 'str'>       283\n",
       "Name: Full Service, dtype: int64"
      ]
     },
     "execution_count": 122,
     "metadata": {},
     "output_type": "execute_result"
    }
   ],
   "source": [
    "df['Full Service'].map(type).value_counts()"
   ]
  },
  {
   "cell_type": "code",
   "execution_count": 123,
   "id": "d3285e29",
   "metadata": {},
   "outputs": [
    {
     "data": {
      "text/plain": [
       "\\n    283\n",
       "Name: Full Service, dtype: int64"
      ]
     },
     "execution_count": 123,
     "metadata": {},
     "output_type": "execute_result"
    }
   ],
   "source": [
    "df.loc[df['Full Service'].map(type) == str]['Full Service'].value_counts()"
   ]
  },
  {
   "cell_type": "code",
   "execution_count": 124,
   "id": "f9bfa9a6",
   "metadata": {},
   "outputs": [
    {
     "name": "stdout",
     "output_type": "stream",
     "text": [
      "Number of Items in all Lists: {9, 2, 3, 7}\n",
      "There is \u001b[34mno nested list\u001b[0m in this column\n"
     ]
    }
   ],
   "source": [
    "list_items('Full Service')"
   ]
  },
  {
   "cell_type": "code",
   "execution_count": 125,
   "id": "26c970ad",
   "metadata": {},
   "outputs": [
    {
     "data": {
      "text/plain": [
       "959                [\\n, \\n, \\n4 (Green)\\n]\n",
       "14838                 [\\n, \\n, \\nEuro 6\\n]\n",
       "11486              [\\n, \\n, \\n4 (Green)\\n]\n",
       "5981                  [\\n, \\n, \\nEuro 6\\n]\n",
       "6534               [\\n, \\n, \\n4 (Green)\\n]\n",
       "1413     [\\n, \\n, \\n102 g CO2/km (comb)\\n]\n",
       "10481                 [\\n, \\n, \\nEuro 6\\n]\n",
       "10480                             [\\n, \\n]\n",
       "1345               [\\n, \\n, \\n4 (Green)\\n]\n",
       "4443               [\\n, \\n, \\n4 (Green)\\n]\n",
       "90                 [\\n, \\n, \\n4 (Green)\\n]\n",
       "3047                  [\\n, \\n, \\nEuro 6\\n]\n",
       "7447     [\\n, \\n, \\n128 g CO2/km (comb)\\n]\n",
       "8128                              [\\n, \\n]\n",
       "15520              [\\n, \\n, \\n4 (Green)\\n]\n",
       "14418    [\\n, \\n, \\n140 g CO2/km (comb)\\n]\n",
       "3264                  [\\n, \\n, \\nEuro 6\\n]\n",
       "1337                              [\\n, \\n]\n",
       "8502                  [\\n, \\n, \\nEuro 6\\n]\n",
       "6116               [\\n, \\n, \\n4 (Green)\\n]\n",
       "Name: Full Service, dtype: object"
      ]
     },
     "execution_count": 125,
     "metadata": {},
     "output_type": "execute_result"
    }
   ],
   "source": [
    "df.loc[df['Full Service'].map(type) == list]['Full Service'].sample(20)"
   ]
  },
  {
   "cell_type": "code",
   "execution_count": 126,
   "id": "705a0bec",
   "metadata": {},
   "outputs": [],
   "source": [
    "# this column doesn't have any information about full-service\n",
    "\n",
    "del df['Full Service']"
   ]
  },
  {
   "cell_type": "markdown",
   "id": "8f659c1d",
   "metadata": {},
   "source": [
    "<div class=\"alert alert-block alert-info\">\n",
    "\n",
    "<b>Non-Smoking Vehicle</b></div>"
   ]
  },
  {
   "cell_type": "code",
   "execution_count": 127,
   "id": "372236b8",
   "metadata": {},
   "outputs": [
    {
     "data": {
      "text/plain": [
       "nan                                        8742\n",
       "['\\n', '\\n']                               3647\n",
       "['\\n', '\\n', '\\n4 (Green)\\n']              1240\n",
       "['\\n', '\\n', '\\nEuro 6\\n']                 1127\n",
       "['\\n', '\\n', '\\nEuro 6d-TEMP\\n']            345\n",
       "\\n                                           70\n",
       "['\\n', '\\n', '\\n120 g CO2/km (comb)\\n']      63\n",
       "['\\n', '\\n', '\\n85 g CO2/km (comb)\\n']       46\n",
       "['\\n', '\\n', '\\n104 g CO2/km (comb)\\n']      36\n",
       "['\\n', '\\n', '\\n107 g CO2/km (comb)\\n']      36\n",
       "Name: Non-Smoking Vehicle, dtype: int64"
      ]
     },
     "execution_count": 127,
     "metadata": {},
     "output_type": "execute_result"
    }
   ],
   "source": [
    "df['Non-Smoking Vehicle'].astype(str).value_counts(dropna=False).head(10)"
   ]
  },
  {
   "cell_type": "code",
   "execution_count": 128,
   "id": "8b20e3ac",
   "metadata": {},
   "outputs": [
    {
     "data": {
      "text/plain": [
       "<class 'float'>    8742\n",
       "<class 'list'>     7107\n",
       "<class 'str'>        70\n",
       "Name: Non-Smoking Vehicle, dtype: int64"
      ]
     },
     "execution_count": 128,
     "metadata": {},
     "output_type": "execute_result"
    }
   ],
   "source": [
    "df['Non-Smoking Vehicle'].map(type).value_counts()"
   ]
  },
  {
   "cell_type": "code",
   "execution_count": 129,
   "id": "a9f194fc",
   "metadata": {},
   "outputs": [
    {
     "data": {
      "text/plain": [
       "\\n    70\n",
       "Name: Non-Smoking Vehicle, dtype: int64"
      ]
     },
     "execution_count": 129,
     "metadata": {},
     "output_type": "execute_result"
    }
   ],
   "source": [
    "df.loc[df['Non-Smoking Vehicle'].map(type) == str]['Non-Smoking Vehicle'].value_counts()"
   ]
  },
  {
   "cell_type": "code",
   "execution_count": 130,
   "id": "0ab0e857",
   "metadata": {},
   "outputs": [
    {
     "name": "stdout",
     "output_type": "stream",
     "text": [
      "Number of Items in all Lists: {9, 2, 3, 7}\n",
      "There is \u001b[34mno nested list\u001b[0m in this column\n"
     ]
    }
   ],
   "source": [
    "list_items('Non-Smoking Vehicle')"
   ]
  },
  {
   "cell_type": "code",
   "execution_count": 131,
   "id": "b0615b99",
   "metadata": {},
   "outputs": [
    {
     "data": {
      "text/plain": [
       "6593                              [\\n, \\n]\n",
       "13970                             [\\n, \\n]\n",
       "2873                              [\\n, \\n]\n",
       "10025                             [\\n, \\n]\n",
       "568                [\\n, \\n, \\n4 (Green)\\n]\n",
       "8164                              [\\n, \\n]\n",
       "5619     [\\n, \\n, \\n114 g CO2/km (comb)\\n]\n",
       "12071                             [\\n, \\n]\n",
       "6616               [\\n, \\n, \\n4 (Green)\\n]\n",
       "3961                              [\\n, \\n]\n",
       "7358                  [\\n, \\n, \\nEuro 6\\n]\n",
       "10845                             [\\n, \\n]\n",
       "10060         [\\n, \\n, \\n1 (No sticker)\\n]\n",
       "8701                              [\\n, \\n]\n",
       "2608            [\\n, \\n, \\nEuro 6d-TEMP\\n]\n",
       "4467                  [\\n, \\n, \\nEuro 6\\n]\n",
       "6300                              [\\n, \\n]\n",
       "1099                              [\\n, \\n]\n",
       "3943                  [\\n, \\n, \\nEuro 6\\n]\n",
       "9885            [\\n, \\n, \\nEuro 6d-TEMP\\n]\n",
       "Name: Non-Smoking Vehicle, dtype: object"
      ]
     },
     "execution_count": 131,
     "metadata": {},
     "output_type": "execute_result"
    }
   ],
   "source": [
    "df.loc[df['Non-Smoking Vehicle'].map(type) == list]['Non-Smoking Vehicle'].sample(20)"
   ]
  },
  {
   "cell_type": "code",
   "execution_count": 132,
   "id": "a60e4b0d",
   "metadata": {},
   "outputs": [],
   "source": [
    "# this column doesn't have any information about Non-Smoking Vehicle\n",
    "\n",
    "del df['Non-Smoking Vehicle']"
   ]
  },
  {
   "cell_type": "markdown",
   "id": "b0cef5d7",
   "metadata": {},
   "source": [
    "<div class=\"alert alert-block alert-info\">\n",
    "\n",
    "<b>Null</b></div>"
   ]
  },
  {
   "cell_type": "code",
   "execution_count": 133,
   "id": "b6cd0756",
   "metadata": {},
   "outputs": [
    {
     "data": {
      "text/plain": [
       "[]    15919\n",
       "Name: Null, dtype: int64"
      ]
     },
     "execution_count": 133,
     "metadata": {},
     "output_type": "execute_result"
    }
   ],
   "source": [
    "df['Null'].astype(str).value_counts(dropna=False)"
   ]
  },
  {
   "cell_type": "code",
   "execution_count": 134,
   "id": "a5b28675",
   "metadata": {},
   "outputs": [],
   "source": [
    "# this column is empty\n",
    "\n",
    "del df['Null']"
   ]
  },
  {
   "cell_type": "markdown",
   "id": "2a84be97",
   "metadata": {},
   "source": [
    "<div class=\"alert alert-block alert-info\">\n",
    "\n",
    "<b>Offer Number</b></div>"
   ]
  },
  {
   "cell_type": "code",
   "execution_count": 135,
   "id": "8ee6812f",
   "metadata": {},
   "outputs": [
    {
     "data": {
      "text/plain": [
       "nan                                                 3175\n",
       "['\\nLT67679\\n']                                       27\n",
       "['\\nUN89904\\n']                                       27\n",
       "['\\nXJ38068\\n']                                       27\n",
       "['\\nJV03654\\n']                                       27\n",
       "                                                    ... \n",
       "['\\n160_dcbb6c3e-a6da-43a3-8754-ccd994cec93b\\n']       1\n",
       "['\\n6701576\\n']                                        1\n",
       "['\\n6701569\\n']                                        1\n",
       "['\\n158121\\n']                                         1\n",
       "['\\nRe_30000008029\\n']                                 1\n",
       "Name: Offer Number, Length: 11441, dtype: int64"
      ]
     },
     "execution_count": 135,
     "metadata": {},
     "output_type": "execute_result"
    }
   ],
   "source": [
    "df['Offer Number'].astype(str).value_counts(dropna=False)"
   ]
  },
  {
   "cell_type": "code",
   "execution_count": 136,
   "id": "cdf2d258",
   "metadata": {},
   "outputs": [
    {
     "data": {
      "text/plain": [
       "<class 'list'>     12744\n",
       "<class 'float'>     3175\n",
       "Name: Offer Number, dtype: int64"
      ]
     },
     "execution_count": 136,
     "metadata": {},
     "output_type": "execute_result"
    }
   ],
   "source": [
    "df['Offer Number'].map(type).value_counts()"
   ]
  },
  {
   "cell_type": "code",
   "execution_count": 137,
   "id": "eac11d78",
   "metadata": {},
   "outputs": [
    {
     "name": "stdout",
     "output_type": "stream",
     "text": [
      "Number of Items in all Lists: {1}\n",
      "There is \u001b[34mno nested list\u001b[0m in this column\n"
     ]
    }
   ],
   "source": [
    "list_items('Offer Number')"
   ]
  },
  {
   "cell_type": "code",
   "execution_count": 138,
   "id": "2792ea60",
   "metadata": {},
   "outputs": [
    {
     "data": {
      "text/plain": [
       "11441"
      ]
     },
     "execution_count": 138,
     "metadata": {},
     "output_type": "execute_result"
    }
   ],
   "source": [
    "df['Offer Number'].str[0].nunique(dropna=False)"
   ]
  },
  {
   "cell_type": "code",
   "execution_count": 139,
   "id": "b423aeb0",
   "metadata": {},
   "outputs": [],
   "source": [
    "# this column has too many unique values\n",
    "\n",
    "del df['Offer Number']"
   ]
  },
  {
   "cell_type": "markdown",
   "id": "b58bf4e3",
   "metadata": {},
   "source": [
    "<div class=\"alert alert-block alert-info\">\n",
    "\n",
    "<b>Body Color</b></div>"
   ]
  },
  {
   "cell_type": "code",
   "execution_count": 140,
   "id": "b4f68276",
   "metadata": {},
   "outputs": [
    {
     "data": {
      "text/plain": [
       "['\\n', 'Black', '\\n']     3745\n",
       "['\\n', 'Grey', '\\n']      3505\n",
       "['\\n', 'White', '\\n']     3406\n",
       "['\\n', 'Silver', '\\n']    1647\n",
       "['\\n', 'Blue', '\\n']      1431\n",
       "['\\n', 'Red', '\\n']        957\n",
       "nan                        597\n",
       "['\\n', 'Brown', '\\n']      289\n",
       "['\\n', 'Green', '\\n']      154\n",
       "['\\n', 'Beige', '\\n']      108\n",
       "['\\n', 'Yellow', '\\n']      51\n",
       "['\\n', 'Violet', '\\n']      18\n",
       "['\\n', 'Bronze', '\\n']       6\n",
       "['\\n', 'Orange', '\\n']       3\n",
       "['\\n', 'Gold', '\\n']         2\n",
       "Name: Body Color, dtype: int64"
      ]
     },
     "execution_count": 140,
     "metadata": {},
     "output_type": "execute_result"
    }
   ],
   "source": [
    "df['Body Color'].astype(str).value_counts(dropna=False)"
   ]
  },
  {
   "cell_type": "code",
   "execution_count": 141,
   "id": "40a6333e",
   "metadata": {},
   "outputs": [],
   "source": [
    "df['Body Color'] = df['Body Color'].str[1]"
   ]
  },
  {
   "cell_type": "code",
   "execution_count": 142,
   "id": "7ac78831",
   "metadata": {},
   "outputs": [
    {
     "data": {
      "text/plain": [
       "Black     3745\n",
       "Grey      3505\n",
       "White     3406\n",
       "Silver    1647\n",
       "Blue      1431\n",
       "Red        957\n",
       "NaN        597\n",
       "Brown      289\n",
       "Green      154\n",
       "Beige      108\n",
       "Yellow      51\n",
       "Violet      18\n",
       "Bronze       6\n",
       "Orange       3\n",
       "Gold         2\n",
       "Name: Body Color, dtype: int64"
      ]
     },
     "execution_count": 142,
     "metadata": {},
     "output_type": "execute_result"
    }
   ],
   "source": [
    "df['Body Color'].value_counts(dropna=False)"
   ]
  },
  {
   "cell_type": "code",
   "execution_count": 143,
   "id": "8837ae8c",
   "metadata": {},
   "outputs": [],
   "source": [
    "df.rename(columns={'Body Color': 'Body_Color'}, inplace=True)"
   ]
  },
  {
   "cell_type": "markdown",
   "id": "aec33899",
   "metadata": {},
   "source": [
    "<div class=\"alert alert-block alert-info\">\n",
    "\n",
    "<b>Body Color Original</b></div>"
   ]
  },
  {
   "cell_type": "code",
   "execution_count": 144,
   "id": "e53ce504",
   "metadata": {},
   "outputs": [
    {
     "data": {
      "text/plain": [
       "nan                                      3759\n",
       "['\\nOnyx Schwarz\\n']                      338\n",
       "['\\nBianco\\n']                            282\n",
       "['\\nMythosschwarz Metallic\\n']            238\n",
       "['\\nBrillantschwarz\\n']                   216\n",
       "                                         ... \n",
       "['\\nRouge-Braun (G0Y)\\n']                   1\n",
       "['\\nVARI COLRI DISPONIBILI\\n']              1\n",
       "['\\nKokosnussbraun Metallic\\n']             1\n",
       "['\\nFarbe frei wählbar\\n']                  1\n",
       "['\\nPerlmutt-Weiß Metallic (Weiß)\\n']       1\n",
       "Name: Body Color Original, Length: 1928, dtype: int64"
      ]
     },
     "execution_count": 144,
     "metadata": {},
     "output_type": "execute_result"
    }
   ],
   "source": [
    "df['Body Color Original'].astype(str).value_counts(dropna=False)"
   ]
  },
  {
   "cell_type": "code",
   "execution_count": 145,
   "id": "d853d04a",
   "metadata": {},
   "outputs": [
    {
     "data": {
      "text/plain": [
       "<class 'list'>     12160\n",
       "<class 'float'>     3759\n",
       "Name: Body Color Original, dtype: int64"
      ]
     },
     "execution_count": 145,
     "metadata": {},
     "output_type": "execute_result"
    }
   ],
   "source": [
    "df['Body Color Original'].map(type).value_counts()"
   ]
  },
  {
   "cell_type": "code",
   "execution_count": 146,
   "id": "c1eb1a22",
   "metadata": {},
   "outputs": [
    {
     "name": "stdout",
     "output_type": "stream",
     "text": [
      "Number of Items in all Lists: {1}\n",
      "There is \u001b[34mno nested list\u001b[0m in this column\n"
     ]
    }
   ],
   "source": [
    "list_items('Body Color Original')"
   ]
  },
  {
   "cell_type": "code",
   "execution_count": 147,
   "id": "9be560ca",
   "metadata": {},
   "outputs": [],
   "source": [
    "df['Body Color Original'] = df['Body Color Original'].str[0].str.strip()"
   ]
  },
  {
   "cell_type": "code",
   "execution_count": 148,
   "id": "fc8cff41",
   "metadata": {},
   "outputs": [
    {
     "data": {
      "text/plain": [
       "NaN                       3759\n",
       "Onyx Schwarz               338\n",
       "Bianco                     282\n",
       "Mythosschwarz Metallic     238\n",
       "Brillantschwarz            216\n",
       "Gris                       204\n",
       "Quarz Grau                 201\n",
       "Nero                       196\n",
       "Grigio                     191\n",
       "Blanco                     155\n",
       "Name: Body Color Original, dtype: int64"
      ]
     },
     "execution_count": 148,
     "metadata": {},
     "output_type": "execute_result"
    }
   ],
   "source": [
    "df['Body Color Original'].value_counts(dropna=False).head(10)"
   ]
  },
  {
   "cell_type": "code",
   "execution_count": 149,
   "id": "fd7b0a9d",
   "metadata": {},
   "outputs": [
    {
     "data": {
      "text/plain": [
       "1928"
      ]
     },
     "execution_count": 149,
     "metadata": {},
     "output_type": "execute_result"
    }
   ],
   "source": [
    "df['Body Color Original'].nunique(dropna=False)"
   ]
  },
  {
   "cell_type": "code",
   "execution_count": 150,
   "id": "8d4bfacb",
   "metadata": {},
   "outputs": [],
   "source": [
    "del df['Body Color Original']\n",
    "# df.drop(\"Body Color Original\", axis=1, inplace=True)"
   ]
  },
  {
   "cell_type": "markdown",
   "id": "0a3e8021",
   "metadata": {},
   "source": [
    "<div class=\"alert alert-block alert-info\">\n",
    "\n",
    "<b>Paint Type</b></div>"
   ]
  },
  {
   "cell_type": "code",
   "execution_count": 151,
   "id": "71dca99d",
   "metadata": {},
   "outputs": [
    {
     "data": {
      "text/plain": [
       "['\\nMetallic\\n']       9794\n",
       "nan                    5772\n",
       "['\\nUni/basic\\n']       347\n",
       "['\\nPerl effect\\n']       6\n",
       "Name: Paint Type, dtype: int64"
      ]
     },
     "execution_count": 151,
     "metadata": {},
     "output_type": "execute_result"
    }
   ],
   "source": [
    "df['Paint Type'].astype(str).value_counts(dropna=False)"
   ]
  },
  {
   "cell_type": "code",
   "execution_count": 152,
   "id": "f1dfdffd",
   "metadata": {},
   "outputs": [],
   "source": [
    "df['Paint Type'] = df['Paint Type'].str[0].str.strip()"
   ]
  },
  {
   "cell_type": "code",
   "execution_count": 153,
   "id": "b6a2ea5e",
   "metadata": {},
   "outputs": [
    {
     "data": {
      "text/plain": [
       "Metallic       9794\n",
       "NaN            5772\n",
       "Uni/basic       347\n",
       "Perl effect       6\n",
       "Name: Paint Type, dtype: int64"
      ]
     },
     "execution_count": 153,
     "metadata": {},
     "output_type": "execute_result"
    }
   ],
   "source": [
    "df['Paint Type'].value_counts(dropna=False)"
   ]
  },
  {
   "cell_type": "code",
   "execution_count": 154,
   "id": "9f793951",
   "metadata": {},
   "outputs": [
    {
     "data": {
      "text/plain": [
       "36.25855895470821"
      ]
     },
     "execution_count": 154,
     "metadata": {},
     "output_type": "execute_result"
    }
   ],
   "source": [
    "df['Paint Type'].isnull().sum() / len(df['Paint Type']) * 100"
   ]
  },
  {
   "cell_type": "code",
   "execution_count": 155,
   "id": "66d75f48",
   "metadata": {},
   "outputs": [],
   "source": [
    "df.rename(columns={'Paint Type': 'Paint_Type'}, inplace=True)"
   ]
  },
  {
   "cell_type": "markdown",
   "id": "8beb823f",
   "metadata": {},
   "source": [
    "<div class=\"alert alert-block alert-info\">\n",
    "\n",
    "<b>Upholstery</b></div>"
   ]
  },
  {
   "cell_type": "code",
   "execution_count": 156,
   "id": "f2f9c6d3",
   "metadata": {},
   "outputs": [
    {
     "data": {
      "text/plain": [
       "['\\nCloth, Black\\n']           5821\n",
       "nan                            3720\n",
       "['\\nPart leather, Black\\n']    1121\n",
       "['\\nCloth\\n']                  1005\n",
       "['\\nCloth, Grey\\n']             891\n",
       "['\\nCloth, Other\\n']            639\n",
       "['\\nFull leather, Black\\n']     575\n",
       "['\\nBlack\\n']                   491\n",
       "['\\nGrey\\n']                    273\n",
       "['\\nOther, Other\\n']            182\n",
       "['\\nPart leather\\n']            140\n",
       "['\\nFull leather\\n']            139\n",
       "['\\nFull leather, Brown\\n']     116\n",
       "['\\nPart leather, Grey\\n']      116\n",
       "['\\nOther, Black\\n']            110\n",
       "['\\nFull leather, Other\\n']      72\n",
       "['\\nFull leather, Grey\\n']       67\n",
       "['\\nPart leather, Other\\n']      65\n",
       "['\\nOther\\n']                    56\n",
       "['\\nPart leather, Brown\\n']      50\n",
       "['\\nalcantara, Black\\n']         47\n",
       "['\\nVelour, Black\\n']            36\n",
       "['\\nFull leather, Beige\\n']      36\n",
       "['\\nCloth, Brown\\n']             28\n",
       "['\\nVelour\\n']                   16\n",
       "['\\nOther, Grey\\n']              15\n",
       "['\\nCloth, Beige\\n']             13\n",
       "['\\nBrown\\n']                    12\n",
       "['\\nCloth, Blue\\n']              12\n",
       "['\\nVelour, Grey\\n']              8\n",
       "['\\nCloth, White\\n']              8\n",
       "['\\nalcantara, Grey\\n']           6\n",
       "['\\nCloth, Red\\n']                5\n",
       "['\\nOther, Yellow\\n']             4\n",
       "['\\nPart leather, Red\\n']         3\n",
       "['\\nBeige\\n']                     3\n",
       "['\\nPart leather, White\\n']       2\n",
       "['\\nFull leather, Blue\\n']        2\n",
       "['\\nalcantara, Other\\n']          2\n",
       "['\\nalcantara\\n']                 2\n",
       "['\\nWhite\\n']                     2\n",
       "['\\nPart leather, Beige\\n']       2\n",
       "['\\nBlue\\n']                      2\n",
       "['\\nCloth, Orange\\n']             1\n",
       "['\\nFull leather, Red\\n']         1\n",
       "['\\nOther, Brown\\n']              1\n",
       "['\\nFull leather, White\\n']       1\n",
       "Name: Upholstery, dtype: int64"
      ]
     },
     "execution_count": 156,
     "metadata": {},
     "output_type": "execute_result"
    }
   ],
   "source": [
    "df['Upholstery'].astype(str).value_counts(dropna=False)"
   ]
  },
  {
   "cell_type": "code",
   "execution_count": 157,
   "id": "a4ba4a2d",
   "metadata": {},
   "outputs": [],
   "source": [
    "upholstery_type = ['Cloth', 'Part leather', 'Full leather', 'alcantara', 'Velour', 'Other']\n",
    "upholstery_color = ['Black', 'Grey', 'Brown', 'Beige', 'Blue', 'White', 'Red', 'Yellow', 'Orange', 'Other']"
   ]
  },
  {
   "cell_type": "code",
   "execution_count": 158,
   "id": "bf6a89af",
   "metadata": {},
   "outputs": [],
   "source": [
    "def uphols_type(x):\n",
    "    \n",
    "    if type(x) == list:\n",
    "        if x[0].strip().split(', ')[0] in upholstery_type: return x[0].strip().split(', ')[0]\n",
    "        else: return None\n",
    "    else:\n",
    "        return None"
   ]
  },
  {
   "cell_type": "code",
   "execution_count": 159,
   "id": "09e7d308",
   "metadata": {},
   "outputs": [],
   "source": [
    "def uphols_color(x):\n",
    "\n",
    "    if type(x) == list:\n",
    "        if x[0].strip().split(', ')[-1] in upholstery_color: return x[0].strip().split(', ')[-1]\n",
    "        else: return None\n",
    "    else:\n",
    "        return None"
   ]
  },
  {
   "cell_type": "code",
   "execution_count": 160,
   "id": "ded7b477",
   "metadata": {},
   "outputs": [],
   "source": [
    "df['Upholstery_Type'] = df['Upholstery'].apply(uphols_type)"
   ]
  },
  {
   "cell_type": "code",
   "execution_count": 161,
   "id": "40efde0f",
   "metadata": {},
   "outputs": [],
   "source": [
    "df['Upholstery_Color'] = df['Upholstery'].apply(uphols_color)"
   ]
  },
  {
   "cell_type": "code",
   "execution_count": 162,
   "id": "2e2982f5",
   "metadata": {},
   "outputs": [
    {
     "data": {
      "text/plain": [
       "Cloth           8423\n",
       "NaN             4503\n",
       "Part leather    1499\n",
       "Full leather    1009\n",
       "Other            368\n",
       "Velour            60\n",
       "alcantara         57\n",
       "Name: Upholstery_Type, dtype: int64"
      ]
     },
     "execution_count": 162,
     "metadata": {},
     "output_type": "execute_result"
    }
   ],
   "source": [
    "df['Upholstery_Type'].value_counts(dropna=False)"
   ]
  },
  {
   "cell_type": "code",
   "execution_count": 163,
   "id": "ccab8fe8",
   "metadata": {},
   "outputs": [
    {
     "data": {
      "text/plain": [
       "Black     8201\n",
       "NaN       5022\n",
       "Grey      1376\n",
       "Other     1016\n",
       "Brown      207\n",
       "Beige       54\n",
       "Blue        16\n",
       "White       13\n",
       "Red          9\n",
       "Yellow       4\n",
       "Orange       1\n",
       "Name: Upholstery_Color, dtype: int64"
      ]
     },
     "execution_count": 163,
     "metadata": {},
     "output_type": "execute_result"
    }
   ],
   "source": [
    "df['Upholstery_Color'].value_counts(dropna=False)"
   ]
  },
  {
   "cell_type": "code",
   "execution_count": 164,
   "id": "30a043cb",
   "metadata": {},
   "outputs": [],
   "source": [
    "del df['Upholstery']\n",
    "# df.drop(\"Upholstery\", axis=1, inplace=True)"
   ]
  },
  {
   "cell_type": "markdown",
   "id": "7331d625",
   "metadata": {},
   "source": [
    "<div class=\"alert alert-block alert-info\">\n",
    "\n",
    "<b>Nr. Of Doors</b></div>"
   ]
  },
  {
   "cell_type": "code",
   "execution_count": 165,
   "id": "4a0eb91a",
   "metadata": {},
   "outputs": [
    {
     "data": {
      "text/plain": [
       "['\\n5\\n']    11575\n",
       "['\\n4\\n']     3079\n",
       "['\\n3\\n']      832\n",
       "['\\n2\\n']      219\n",
       "nan            212\n",
       "['\\n1\\n']        1\n",
       "['\\n7\\n']        1\n",
       "Name: Nr. Of Doors, dtype: int64"
      ]
     },
     "execution_count": 165,
     "metadata": {},
     "output_type": "execute_result"
    }
   ],
   "source": [
    "df['Nr. Of Doors'].astype(str).value_counts(dropna=False)"
   ]
  },
  {
   "cell_type": "code",
   "execution_count": 166,
   "id": "ee45df6c",
   "metadata": {},
   "outputs": [],
   "source": [
    "df['Nr. Of Doors'] = df['Nr. Of Doors'].str[0].str.strip()"
   ]
  },
  {
   "cell_type": "code",
   "execution_count": 167,
   "id": "2d78acbf",
   "metadata": {},
   "outputs": [
    {
     "data": {
      "text/plain": [
       "5      11575\n",
       "4       3079\n",
       "3        832\n",
       "2        219\n",
       "NaN      212\n",
       "1          1\n",
       "7          1\n",
       "Name: Nr. Of Doors, dtype: int64"
      ]
     },
     "execution_count": 167,
     "metadata": {},
     "output_type": "execute_result"
    }
   ],
   "source": [
    "df['Nr. Of Doors'].value_counts(dropna=False)  # associated with the body type column"
   ]
  },
  {
   "cell_type": "code",
   "execution_count": 168,
   "id": "7ea82efc",
   "metadata": {},
   "outputs": [],
   "source": [
    "df.rename(columns={'Nr. Of Doors': 'Nr.OfDoors'}, inplace=True)"
   ]
  },
  {
   "cell_type": "markdown",
   "id": "c95bab47",
   "metadata": {},
   "source": [
    "<div class=\"alert alert-block alert-info\">\n",
    "\n",
    "<b>Nr. Of Seats</b></div>"
   ]
  },
  {
   "cell_type": "code",
   "execution_count": 169,
   "id": "f9b6ff33",
   "metadata": {},
   "outputs": [
    {
     "data": {
      "text/plain": [
       "['\\n5\\n']    13336\n",
       "['\\n4\\n']     1125\n",
       "nan            977\n",
       "['\\n7\\n']      362\n",
       "['\\n2\\n']      116\n",
       "['\\n6\\n']        2\n",
       "['\\n3\\n']        1\n",
       "Name: Nr. Of Seats, dtype: int64"
      ]
     },
     "execution_count": 169,
     "metadata": {},
     "output_type": "execute_result"
    }
   ],
   "source": [
    "df['Nr. Of Seats'].astype(str).value_counts(dropna=False)"
   ]
  },
  {
   "cell_type": "code",
   "execution_count": 170,
   "id": "78bc6479",
   "metadata": {},
   "outputs": [],
   "source": [
    "df['Nr. Of Seats'] = df['Nr. Of Seats'].str[0].str.strip()"
   ]
  },
  {
   "cell_type": "code",
   "execution_count": 171,
   "id": "f60cd2f8",
   "metadata": {},
   "outputs": [
    {
     "data": {
      "text/plain": [
       "5      13336\n",
       "4       1125\n",
       "NaN      977\n",
       "7        362\n",
       "2        116\n",
       "6          2\n",
       "3          1\n",
       "Name: Nr. Of Seats, dtype: int64"
      ]
     },
     "execution_count": 171,
     "metadata": {},
     "output_type": "execute_result"
    }
   ],
   "source": [
    "df['Nr. Of Seats'].value_counts(dropna=False)"
   ]
  },
  {
   "cell_type": "code",
   "execution_count": 172,
   "id": "1ba0a980",
   "metadata": {},
   "outputs": [],
   "source": [
    "df.rename(columns={'Nr. Of Seats': 'Nr.OfSeats'}, inplace=True)"
   ]
  },
  {
   "cell_type": "markdown",
   "id": "68192888",
   "metadata": {},
   "source": [
    "<div class=\"alert alert-block alert-info\">\n",
    "\n",
    "<b>Model Code</b></div>"
   ]
  },
  {
   "cell_type": "code",
   "execution_count": 173,
   "id": "519720f2",
   "metadata": {},
   "outputs": [
    {
     "data": {
      "text/plain": [
       "nan                 10941\n",
       "['\\n0035/BCB\\n']      268\n",
       "['\\n0588/BNO\\n']      245\n",
       "['\\n0588/BDB\\n']      206\n",
       "['\\n0588/BHX\\n']      188\n",
       "                    ...  \n",
       "['\\n0035/AVN\\n']        1\n",
       "['\\n0035/BEM\\n']        1\n",
       "['\\n0035/BAG\\n']        1\n",
       "['\\n0035/BAA\\n']        1\n",
       "['\\n3333/BKG\\n']        1\n",
       "Name: Model Code, Length: 233, dtype: int64"
      ]
     },
     "execution_count": 173,
     "metadata": {},
     "output_type": "execute_result"
    }
   ],
   "source": [
    "df['Model Code'].astype(str).value_counts(dropna=False)"
   ]
  },
  {
   "cell_type": "code",
   "execution_count": 174,
   "id": "74261373",
   "metadata": {},
   "outputs": [
    {
     "data": {
      "text/plain": [
       "<class 'float'>    10941\n",
       "<class 'list'>      4978\n",
       "Name: Model Code, dtype: int64"
      ]
     },
     "execution_count": 174,
     "metadata": {},
     "output_type": "execute_result"
    }
   ],
   "source": [
    "df['Model Code'].map(type).value_counts()"
   ]
  },
  {
   "cell_type": "code",
   "execution_count": 175,
   "id": "1f245d5d",
   "metadata": {},
   "outputs": [
    {
     "name": "stdout",
     "output_type": "stream",
     "text": [
      "Number of Items in all Lists: {1}\n",
      "There is \u001b[34mno nested list\u001b[0m in this column\n"
     ]
    }
   ],
   "source": [
    "list_items('Model Code')"
   ]
  },
  {
   "cell_type": "code",
   "execution_count": 176,
   "id": "faa617c0",
   "metadata": {},
   "outputs": [],
   "source": [
    "df['Model Code'] = df['Model Code'].str[0].str.strip()"
   ]
  },
  {
   "cell_type": "code",
   "execution_count": 177,
   "id": "8863f20c",
   "metadata": {},
   "outputs": [
    {
     "data": {
      "text/plain": [
       "NaN         10941\n",
       "0035/BCB      268\n",
       "0588/BNO      245\n",
       "0588/BDB      206\n",
       "0588/BHX      188\n",
       "0588/BDF      175\n",
       "1844/ADJ      175\n",
       "0588/BCV      139\n",
       "3333/BAJ      122\n",
       "3333/BEF      118\n",
       "Name: Model Code, dtype: int64"
      ]
     },
     "execution_count": 177,
     "metadata": {},
     "output_type": "execute_result"
    }
   ],
   "source": [
    "df['Model Code'].value_counts(dropna=False).head(10)"
   ]
  },
  {
   "cell_type": "code",
   "execution_count": 178,
   "id": "593458c4",
   "metadata": {},
   "outputs": [
    {
     "data": {
      "text/plain": [
       "68.72919153213142"
      ]
     },
     "execution_count": 178,
     "metadata": {},
     "output_type": "execute_result"
    }
   ],
   "source": [
    "df['Model Code'].isnull().sum() / len(df['Model Code'])*100"
   ]
  },
  {
   "cell_type": "code",
   "execution_count": 179,
   "id": "50f18990",
   "metadata": {},
   "outputs": [
    {
     "data": {
      "text/html": [
       "<div>\n",
       "<style scoped>\n",
       "    .dataframe tbody tr th:only-of-type {\n",
       "        vertical-align: middle;\n",
       "    }\n",
       "\n",
       "    .dataframe tbody tr th {\n",
       "        vertical-align: top;\n",
       "    }\n",
       "\n",
       "    .dataframe thead th {\n",
       "        text-align: right;\n",
       "    }\n",
       "</style>\n",
       "<table border=\"1\" class=\"dataframe\">\n",
       "  <thead>\n",
       "    <tr style=\"text-align: right;\">\n",
       "      <th></th>\n",
       "      <th>Model Code</th>\n",
       "      <th>Make_Model</th>\n",
       "      <th>Body_Type</th>\n",
       "    </tr>\n",
       "  </thead>\n",
       "  <tbody>\n",
       "    <tr>\n",
       "      <th>14974</th>\n",
       "      <td>3333/BDR</td>\n",
       "      <td>Renault Espace</td>\n",
       "      <td>Station wagon</td>\n",
       "    </tr>\n",
       "    <tr>\n",
       "      <th>14977</th>\n",
       "      <td>3333/BDR</td>\n",
       "      <td>Renault Espace</td>\n",
       "      <td>Station wagon</td>\n",
       "    </tr>\n",
       "    <tr>\n",
       "      <th>15015</th>\n",
       "      <td>3333/BDR</td>\n",
       "      <td>Renault Espace</td>\n",
       "      <td>Van</td>\n",
       "    </tr>\n",
       "    <tr>\n",
       "      <th>15100</th>\n",
       "      <td>3333/BDR</td>\n",
       "      <td>Renault Espace</td>\n",
       "      <td>Station wagon</td>\n",
       "    </tr>\n",
       "    <tr>\n",
       "      <th>15178</th>\n",
       "      <td>3333/BDR</td>\n",
       "      <td>Renault Espace</td>\n",
       "      <td>Van</td>\n",
       "    </tr>\n",
       "    <tr>\n",
       "      <th>15184</th>\n",
       "      <td>3333/BDR</td>\n",
       "      <td>Renault Espace</td>\n",
       "      <td>Van</td>\n",
       "    </tr>\n",
       "    <tr>\n",
       "      <th>15199</th>\n",
       "      <td>3333/BDR</td>\n",
       "      <td>Renault Espace</td>\n",
       "      <td>Van</td>\n",
       "    </tr>\n",
       "    <tr>\n",
       "      <th>15204</th>\n",
       "      <td>3333/BDR</td>\n",
       "      <td>Renault Espace</td>\n",
       "      <td>Station wagon</td>\n",
       "    </tr>\n",
       "    <tr>\n",
       "      <th>15442</th>\n",
       "      <td>3333/BDR</td>\n",
       "      <td>Renault Espace</td>\n",
       "      <td>Station wagon</td>\n",
       "    </tr>\n",
       "    <tr>\n",
       "      <th>15548</th>\n",
       "      <td>3333/BDR</td>\n",
       "      <td>Renault Espace</td>\n",
       "      <td>Van</td>\n",
       "    </tr>\n",
       "    <tr>\n",
       "      <th>15585</th>\n",
       "      <td>3333/BDR</td>\n",
       "      <td>Renault Espace</td>\n",
       "      <td>Van</td>\n",
       "    </tr>\n",
       "    <tr>\n",
       "      <th>15613</th>\n",
       "      <td>3333/BDR</td>\n",
       "      <td>Renault Espace</td>\n",
       "      <td>Van</td>\n",
       "    </tr>\n",
       "    <tr>\n",
       "      <th>15681</th>\n",
       "      <td>3333/BDR</td>\n",
       "      <td>Renault Espace</td>\n",
       "      <td>Van</td>\n",
       "    </tr>\n",
       "    <tr>\n",
       "      <th>15682</th>\n",
       "      <td>3333/BDR</td>\n",
       "      <td>Renault Espace</td>\n",
       "      <td>Van</td>\n",
       "    </tr>\n",
       "    <tr>\n",
       "      <th>15902</th>\n",
       "      <td>3333/BDR</td>\n",
       "      <td>Renault Espace</td>\n",
       "      <td>Sedans</td>\n",
       "    </tr>\n",
       "  </tbody>\n",
       "</table>\n",
       "</div>"
      ],
      "text/plain": [
       "      Model Code      Make_Model      Body_Type\n",
       "14974   3333/BDR  Renault Espace  Station wagon\n",
       "14977   3333/BDR  Renault Espace  Station wagon\n",
       "15015   3333/BDR  Renault Espace            Van\n",
       "15100   3333/BDR  Renault Espace  Station wagon\n",
       "15178   3333/BDR  Renault Espace            Van\n",
       "15184   3333/BDR  Renault Espace            Van\n",
       "15199   3333/BDR  Renault Espace            Van\n",
       "15204   3333/BDR  Renault Espace  Station wagon\n",
       "15442   3333/BDR  Renault Espace  Station wagon\n",
       "15548   3333/BDR  Renault Espace            Van\n",
       "15585   3333/BDR  Renault Espace            Van\n",
       "15613   3333/BDR  Renault Espace            Van\n",
       "15681   3333/BDR  Renault Espace            Van\n",
       "15682   3333/BDR  Renault Espace            Van\n",
       "15902   3333/BDR  Renault Espace         Sedans"
      ]
     },
     "execution_count": 179,
     "metadata": {},
     "output_type": "execute_result"
    }
   ],
   "source": [
    "# Sample\n",
    "\n",
    "df[df['Model Code']=='3333/BDR'][['Model Code','Make_Model', 'Body_Type']]"
   ]
  },
  {
   "cell_type": "code",
   "execution_count": 180,
   "id": "4aa4fa5f",
   "metadata": {},
   "outputs": [
    {
     "data": {
      "text/plain": [
       "array([\"['\\\\n', 'Automatic', '\\\\n']\", \"['\\\\n', 'Manual', '\\\\n']\",\n",
       "       \"['\\\\n', 'Semi-automatic', '\\\\n']\"], dtype=object)"
      ]
     },
     "execution_count": 180,
     "metadata": {},
     "output_type": "execute_result"
    }
   ],
   "source": [
    "# Sample\n",
    "\n",
    "df[df['Model Code'] == '0035/BCB']['Gearing Type'].astype(str).unique()"
   ]
  },
  {
   "cell_type": "code",
   "execution_count": 181,
   "id": "e75f27ad",
   "metadata": {},
   "outputs": [
    {
     "data": {
      "text/plain": [
       "array([nan], dtype=object)"
      ]
     },
     "execution_count": 181,
     "metadata": {},
     "output_type": "execute_result"
    }
   ],
   "source": [
    "df[df.Body_Type.isnull()]['Model Code'].unique()"
   ]
  },
  {
   "cell_type": "code",
   "execution_count": 182,
   "id": "303d2c7f",
   "metadata": {},
   "outputs": [],
   "source": [
    "# it doesn't look like to be useful\n",
    "\n",
    "del df['Model Code']\n",
    "# df.drop(\"Model_Code\", axis=1, inplace=True)"
   ]
  },
  {
   "cell_type": "markdown",
   "id": "26f2eed1",
   "metadata": {},
   "source": [
    "<div class=\"alert alert-block alert-info\">\n",
    "\n",
    "<b>Gearing Type</b></div>"
   ]
  },
  {
   "cell_type": "code",
   "execution_count": 183,
   "id": "10a632cb",
   "metadata": {},
   "outputs": [
    {
     "data": {
      "text/plain": [
       "['\\n', 'Manual', '\\n']            8153\n",
       "['\\n', 'Automatic', '\\n']         7297\n",
       "['\\n', 'Semi-automatic', '\\n']     469\n",
       "Name: Gearing Type, dtype: int64"
      ]
     },
     "execution_count": 183,
     "metadata": {},
     "output_type": "execute_result"
    }
   ],
   "source": [
    "df['Gearing Type'].astype(str).value_counts(dropna=False)"
   ]
  },
  {
   "cell_type": "code",
   "execution_count": 184,
   "id": "c3fbcec0",
   "metadata": {},
   "outputs": [],
   "source": [
    "df['Gearing Type'] = df['Gearing Type'].str[1]"
   ]
  },
  {
   "cell_type": "code",
   "execution_count": 185,
   "id": "39d432bc",
   "metadata": {},
   "outputs": [
    {
     "data": {
      "text/plain": [
       "Manual            8153\n",
       "Automatic         7297\n",
       "Semi-automatic     469\n",
       "Name: Gearing Type, dtype: int64"
      ]
     },
     "execution_count": 185,
     "metadata": {},
     "output_type": "execute_result"
    }
   ],
   "source": [
    "df['Gearing Type'].value_counts(dropna=False)"
   ]
  },
  {
   "cell_type": "code",
   "execution_count": 186,
   "id": "a9d80907",
   "metadata": {},
   "outputs": [],
   "source": [
    "df.rename(columns={'Gearing Type': 'Gearing_Type'}, inplace=True)"
   ]
  },
  {
   "cell_type": "markdown",
   "id": "8f18debd",
   "metadata": {},
   "source": [
    "<div class=\"alert alert-block alert-info\">\n",
    "\n",
    "<b>Displacement</b>\n",
    "    \n",
    "<br>Engine displacement is the measure of the cylinder volume swept by all of the pistons of a piston engine, excluding the combustion chambers. It is commonly used as an expression of an engine's size, and by extension as a loose indicator of the power an engine might be capable of producing and the amount of fuel it should be expected to consume. \n",
    "\n",
    "Engine displacement is determined by calculating the engine cylinder bore area multiplied by the stroke of the crankshaft, and then multiplied by the number of cylinders.</div>"
   ]
  },
  {
   "cell_type": "code",
   "execution_count": 187,
   "id": "b198c079",
   "metadata": {},
   "outputs": [
    {
     "data": {
      "text/plain": [
       "['\\n1,598 cc\\n']    4761\n",
       "['\\n999 cc\\n']      2438\n",
       "['\\n1,398 cc\\n']    1314\n",
       "['\\n1,399 cc\\n']     749\n",
       "['\\n1,229 cc\\n']     677\n",
       "['\\n1,956 cc\\n']     670\n",
       "['\\n1,461 cc\\n']     595\n",
       "['\\n1,490 cc\\n']     559\n",
       "nan                  496\n",
       "['\\n1,422 cc\\n']     467\n",
       "Name: Displacement, dtype: int64"
      ]
     },
     "execution_count": 187,
     "metadata": {},
     "output_type": "execute_result"
    }
   ],
   "source": [
    "df['Displacement'].astype(str).value_counts(dropna=False).head(10)"
   ]
  },
  {
   "cell_type": "code",
   "execution_count": 188,
   "id": "7fb792ad",
   "metadata": {},
   "outputs": [
    {
     "data": {
      "text/plain": [
       "<class 'list'>     15423\n",
       "<class 'float'>      496\n",
       "Name: Displacement, dtype: int64"
      ]
     },
     "execution_count": 188,
     "metadata": {},
     "output_type": "execute_result"
    }
   ],
   "source": [
    "df['Displacement'].map(type).value_counts()"
   ]
  },
  {
   "cell_type": "code",
   "execution_count": 189,
   "id": "7620d43e",
   "metadata": {},
   "outputs": [
    {
     "name": "stdout",
     "output_type": "stream",
     "text": [
      "Number of Items in all Lists: {1}\n",
      "There is \u001b[34mno nested list\u001b[0m in this column\n"
     ]
    }
   ],
   "source": [
    "list_items('Displacement')"
   ]
  },
  {
   "cell_type": "code",
   "execution_count": 190,
   "id": "680c50da",
   "metadata": {},
   "outputs": [],
   "source": [
    "df['Displacement'] = df['Displacement'].str[0].str.strip().str.replace(',', '').str.extract('(\\d+)').astype(float)"
   ]
  },
  {
   "cell_type": "code",
   "execution_count": 191,
   "id": "caf7708a",
   "metadata": {},
   "outputs": [
    {
     "data": {
      "text/plain": [
       "1598.00    4761\n",
       "999.00     2438\n",
       "1398.00    1314\n",
       "1399.00     749\n",
       "1229.00     677\n",
       "1956.00     670\n",
       "1461.00     595\n",
       "1490.00     559\n",
       "NaN         496\n",
       "1422.00     467\n",
       "Name: Displacement, dtype: int64"
      ]
     },
     "execution_count": 191,
     "metadata": {},
     "output_type": "execute_result"
    }
   ],
   "source": [
    "df['Displacement'].value_counts(dropna=False).head(10)"
   ]
  },
  {
   "cell_type": "code",
   "execution_count": 192,
   "id": "e5779a91",
   "metadata": {},
   "outputs": [],
   "source": [
    "df.rename(columns={'Displacement': 'Displacement_cc'}, inplace=True)"
   ]
  },
  {
   "cell_type": "markdown",
   "id": "eb4aa980",
   "metadata": {},
   "source": [
    "<div class=\"alert alert-block alert-info\">\n",
    "\n",
    "<b>Cylinders</b></div>"
   ]
  },
  {
   "cell_type": "code",
   "execution_count": 193,
   "id": "ffda567b",
   "metadata": {},
   "outputs": [
    {
     "data": {
      "text/plain": [
       "['\\n4\\n']    8105\n",
       "nan          5680\n",
       "['\\n3\\n']    2104\n",
       "['\\n5\\n']      22\n",
       "['\\n6\\n']       3\n",
       "['\\n8\\n']       2\n",
       "['\\n2\\n']       2\n",
       "['\\n1\\n']       1\n",
       "Name: Cylinders, dtype: int64"
      ]
     },
     "execution_count": 193,
     "metadata": {},
     "output_type": "execute_result"
    }
   ],
   "source": [
    "df['Cylinders'].astype(str).value_counts(dropna=False)"
   ]
  },
  {
   "cell_type": "code",
   "execution_count": 194,
   "id": "fc6a4605",
   "metadata": {},
   "outputs": [],
   "source": [
    "df['Cylinders'] = df['Cylinders'].str[0].str.strip()"
   ]
  },
  {
   "cell_type": "code",
   "execution_count": 195,
   "id": "40a9255c",
   "metadata": {},
   "outputs": [
    {
     "data": {
      "text/plain": [
       "4      8105\n",
       "NaN    5680\n",
       "3      2104\n",
       "5        22\n",
       "6         3\n",
       "8         2\n",
       "2         2\n",
       "1         1\n",
       "Name: Cylinders, dtype: int64"
      ]
     },
     "execution_count": 195,
     "metadata": {},
     "output_type": "execute_result"
    }
   ],
   "source": [
    "df['Cylinders'].value_counts(dropna=False)"
   ]
  },
  {
   "cell_type": "code",
   "execution_count": 196,
   "id": "008ad647",
   "metadata": {},
   "outputs": [
    {
     "data": {
      "text/plain": [
       "35.68063320560337"
      ]
     },
     "execution_count": 196,
     "metadata": {},
     "output_type": "execute_result"
    }
   ],
   "source": [
    "df['Cylinders'].isnull().sum() / len(df['Cylinders'])*100"
   ]
  },
  {
   "cell_type": "markdown",
   "id": "9e6e0c28",
   "metadata": {},
   "source": [
    "<div class=\"alert alert-block alert-info\">\n",
    "\n",
    "<b>Weight</b></div>"
   ]
  },
  {
   "cell_type": "code",
   "execution_count": 197,
   "id": "6c6fc380",
   "metadata": {},
   "outputs": [
    {
     "data": {
      "text/plain": [
       "nan                 6974\n",
       "['\\n1,163 kg\\n']     574\n",
       "['\\n1,360 kg\\n']     356\n",
       "['\\n1,165 kg\\n']     301\n",
       "['\\n1,335 kg\\n']     242\n",
       "                    ... \n",
       "['\\n1,960 kg\\n']       1\n",
       "['\\n1,258 kg\\n']       1\n",
       "['\\n1,167 kg\\n']       1\n",
       "['\\n1,331 kg\\n']       1\n",
       "['\\n2,037 kg\\n']       1\n",
       "Name: Weight, Length: 435, dtype: int64"
      ]
     },
     "execution_count": 197,
     "metadata": {},
     "output_type": "execute_result"
    }
   ],
   "source": [
    "df['Weight'].astype(str).value_counts(dropna=False)"
   ]
  },
  {
   "cell_type": "code",
   "execution_count": 198,
   "id": "94949f4b",
   "metadata": {},
   "outputs": [
    {
     "data": {
      "text/plain": [
       "<class 'list'>     8945\n",
       "<class 'float'>    6974\n",
       "Name: Weight, dtype: int64"
      ]
     },
     "execution_count": 198,
     "metadata": {},
     "output_type": "execute_result"
    }
   ],
   "source": [
    "df['Weight'].map(type).value_counts()"
   ]
  },
  {
   "cell_type": "code",
   "execution_count": 199,
   "id": "a812a911",
   "metadata": {},
   "outputs": [
    {
     "name": "stdout",
     "output_type": "stream",
     "text": [
      "Number of Items in all Lists: {1}\n",
      "There is \u001b[34mno nested list\u001b[0m in this column\n"
     ]
    }
   ],
   "source": [
    "list_items('Weight')"
   ]
  },
  {
   "cell_type": "code",
   "execution_count": 200,
   "id": "12603895",
   "metadata": {},
   "outputs": [],
   "source": [
    "df['Weight'] = df['Weight'].str[0].str.strip().str.replace(',', '').str.extract('(\\d+)').astype(float)"
   ]
  },
  {
   "cell_type": "code",
   "execution_count": 201,
   "id": "2ebb3449",
   "metadata": {},
   "outputs": [],
   "source": [
    "df.rename(columns={'Weight': 'Weight_kg'}, inplace=True)"
   ]
  },
  {
   "cell_type": "code",
   "execution_count": 202,
   "id": "4fd8bada",
   "metadata": {},
   "outputs": [
    {
     "data": {
      "text/plain": [
       "NaN        6974\n",
       "1163.00     574\n",
       "1360.00     356\n",
       "1165.00     301\n",
       "1335.00     242\n",
       "           ... \n",
       "1960.00       1\n",
       "1258.00       1\n",
       "1167.00       1\n",
       "1331.00       1\n",
       "2037.00       1\n",
       "Name: Weight_kg, Length: 435, dtype: int64"
      ]
     },
     "execution_count": 202,
     "metadata": {},
     "output_type": "execute_result"
    }
   ],
   "source": [
    "df['Weight_kg'].value_counts(dropna=False)"
   ]
  },
  {
   "cell_type": "code",
   "execution_count": 203,
   "id": "8ce0f047",
   "metadata": {},
   "outputs": [
    {
     "data": {
      "text/plain": [
       "43.80928450279541"
      ]
     },
     "execution_count": 203,
     "metadata": {},
     "output_type": "execute_result"
    }
   ],
   "source": [
    "df['Weight_kg'].isnull().sum() / len(df['Weight_kg'])*100"
   ]
  },
  {
   "cell_type": "markdown",
   "id": "7c6d52ed",
   "metadata": {},
   "source": [
    "<div class=\"alert alert-block alert-info\">\n",
    "\n",
    "<b>Drive Chain</b></div>"
   ]
  },
  {
   "cell_type": "code",
   "execution_count": 204,
   "id": "b011fa70",
   "metadata": {},
   "outputs": [
    {
     "data": {
      "text/plain": [
       "['\\nfront\\n']    8886\n",
       "nan              6858\n",
       "['\\n4WD\\n']       171\n",
       "['\\nrear\\n']        4\n",
       "Name: Drive Chain, dtype: int64"
      ]
     },
     "execution_count": 204,
     "metadata": {},
     "output_type": "execute_result"
    }
   ],
   "source": [
    "df['Drive Chain'].astype(str).value_counts(dropna=False)"
   ]
  },
  {
   "cell_type": "code",
   "execution_count": 205,
   "id": "6809dff0",
   "metadata": {},
   "outputs": [],
   "source": [
    "df['Drive Chain'] = df['Drive Chain'].str[0].str.strip()"
   ]
  },
  {
   "cell_type": "code",
   "execution_count": 206,
   "id": "9a6263cf",
   "metadata": {},
   "outputs": [
    {
     "data": {
      "text/plain": [
       "front    8886\n",
       "NaN      6858\n",
       "4WD       171\n",
       "rear        4\n",
       "Name: Drive Chain, dtype: int64"
      ]
     },
     "execution_count": 206,
     "metadata": {},
     "output_type": "execute_result"
    }
   ],
   "source": [
    "df['Drive Chain'].value_counts(dropna=False)"
   ]
  },
  {
   "cell_type": "code",
   "execution_count": 207,
   "id": "79ae3c04",
   "metadata": {},
   "outputs": [
    {
     "data": {
      "text/plain": [
       "43.08059551479364"
      ]
     },
     "execution_count": 207,
     "metadata": {},
     "output_type": "execute_result"
    }
   ],
   "source": [
    "df['Drive Chain'].isnull().sum() / len(df['Drive Chain'])*100"
   ]
  },
  {
   "cell_type": "code",
   "execution_count": 208,
   "id": "00f3af40",
   "metadata": {},
   "outputs": [],
   "source": [
    "df.rename(columns={'Drive Chain': 'Drive_Chain'}, inplace=True)"
   ]
  },
  {
   "cell_type": "markdown",
   "id": "1e58bbd8",
   "metadata": {},
   "source": [
    "<div class=\"alert alert-block alert-info\">\n",
    "\n",
    "<b>Fuel</b></div>"
   ]
  },
  {
   "cell_type": "code",
   "execution_count": 209,
   "id": "18734339",
   "metadata": {},
   "outputs": [
    {
     "ename": "TypeError",
     "evalue": "unhashable type: 'list'",
     "output_type": "error",
     "traceback": [
      "\u001b[1;31m---------------------------------------------------------------------------\u001b[0m",
      "\u001b[1;31mTypeError\u001b[0m                                 Traceback (most recent call last)",
      "\u001b[1;32mpandas\\_libs\\hashtable_class_helper.pxi\u001b[0m in \u001b[0;36mpandas._libs.hashtable.PyObjectHashTable.map_locations\u001b[1;34m()\u001b[0m\n",
      "\u001b[1;31mTypeError\u001b[0m: unhashable type: 'list'"
     ]
    },
    {
     "name": "stderr",
     "output_type": "stream",
     "text": [
      "Exception ignored in: 'pandas._libs.index.IndexEngine._call_map_locations'\n",
      "Traceback (most recent call last):\n",
      "  File \"pandas\\_libs\\hashtable_class_helper.pxi\", line 5231, in pandas._libs.hashtable.PyObjectHashTable.map_locations\n",
      "TypeError: unhashable type: 'list'\n"
     ]
    },
    {
     "data": {
      "text/plain": [
       "[\\n, Diesel (Particulate Filter), \\n]                4315\n",
       "[\\n, Super 95, \\n]                                   3338\n",
       "[\\n, Gasoline, \\n]                                   3175\n",
       "[\\n, Diesel, \\n]                                     2984\n",
       "[\\n, Super 95 / Regular/Benzine 91, \\n]               424\n",
       "[\\n, Regular/Benzine 91, \\n]                          354\n",
       "[\\n, Super E10 95, \\n]                                331\n",
       "[\\n, Super 95 (Particulate Filter), \\n]               268\n",
       "[\\n, Super 95 / Super E10 95, \\n]                     131\n",
       "[\\n, Regular/Benzine 91 (Particulate Filter), \\n]     100\n",
       "Name: Fuel, dtype: int64"
      ]
     },
     "execution_count": 209,
     "metadata": {},
     "output_type": "execute_result"
    }
   ],
   "source": [
    "df.Fuel.value_counts(dropna=False).head(10)"
   ]
  },
  {
   "cell_type": "code",
   "execution_count": 210,
   "id": "a336eff2",
   "metadata": {},
   "outputs": [
    {
     "data": {
      "text/plain": [
       "<class 'list'>    15919\n",
       "Name: Fuel, dtype: int64"
      ]
     },
     "execution_count": 210,
     "metadata": {},
     "output_type": "execute_result"
    }
   ],
   "source": [
    "df.Fuel.map(type).value_counts()"
   ]
  },
  {
   "cell_type": "code",
   "execution_count": 211,
   "id": "64759da4",
   "metadata": {},
   "outputs": [
    {
     "name": "stdout",
     "output_type": "stream",
     "text": [
      "Number of Items in all Lists: {3}\n",
      "There is \u001b[34mno nested list\u001b[0m in this column\n"
     ]
    }
   ],
   "source": [
    "list_items('Fuel')"
   ]
  },
  {
   "cell_type": "code",
   "execution_count": 212,
   "id": "dd07afff",
   "metadata": {},
   "outputs": [
    {
     "data": {
      "text/plain": [
       "['Diesel (Particulate Filter)',\n",
       " 'Gasoline',\n",
       " 'Super 95',\n",
       " 'Regular/Benzine 91',\n",
       " 'Diesel',\n",
       " 'Regular/Benzine 91 / Super Plus 98 / Regular/Benzine E10 91 / Super 95 / Super E10 95 / Super Plus E10 98',\n",
       " 'Super E10 95',\n",
       " 'Super 95 (Particulate Filter)',\n",
       " 'Super 95 / Regular/Benzine 91',\n",
       " 'Super 95 / Super Plus 98 / Super E10 95 / Super Plus E10 98',\n",
       " 'Super E10 95 / Super 95',\n",
       " 'Super 95 / Regular/Benzine 91 / Super Plus 98',\n",
       " 'Super 95 / Super Plus 98 / Super E10 95',\n",
       " 'Super 95 / Super Plus 98',\n",
       " 'Super 95 / Regular/Benzine 91 / Super E10 95 / Super Plus E10 98 / Super Plus 98 / Regular/Benzine E10 91',\n",
       " 'Others',\n",
       " 'Super 95 / Super E10 95',\n",
       " 'Gasoline (Particulate Filter)',\n",
       " 'Regular/Benzine E10 91 / Regular/Benzine 91 / Super 95 / Super Plus 98 / Super E10 95 / Super Plus E10 98',\n",
       " 'Super E10 95 / Super 95 / Super Plus 98 / Super Plus E10 98 (Particulate Filter)',\n",
       " 'Regular/Benzine E10 91',\n",
       " 'Super 95 / Super Plus 98 / Super Plus E10 98 / Super E10 95',\n",
       " 'Regular/Benzine 91 (Particulate Filter)',\n",
       " 'Super E10 95 (Particulate Filter)',\n",
       " 'Super Plus 98',\n",
       " 'CNG',\n",
       " 'Electric/Gasoline',\n",
       " 'CNG (Particulate Filter)',\n",
       " 'Others (Particulate Filter)',\n",
       " 'Super 95 / Super E10 95 (Particulate Filter)',\n",
       " 'Biogas',\n",
       " 'Super 95 / Biodiesel',\n",
       " 'Regular/Benzine 91 / Super 95 / Super Plus 98 / Regular/Benzine E10 91 / Super Plus E10 98 / Super E10 95',\n",
       " 'Super E10 95 / Super 95 / Super Plus 98 / Super Plus E10 98',\n",
       " 'Regular/Benzine 91 / Super 95 / Super Plus 98 / Super Plus E10 98 / Super E10 95 / Regular/Benzine E10 91 (Particulate Filter)',\n",
       " 'Regular/Benzine 91 / Super 95 / Super Plus 98',\n",
       " 'Regular/Benzine 91 / Super 95',\n",
       " 'Regular/Benzine 91 / Super 95 / Super Plus 98 / Regular/Benzine E10 91 / Super E10 95 / Super Plus E10 98',\n",
       " 'Super 95 / Regular/Benzine 91 / Super Plus 98 / Regular/Benzine E10 91 / Super E10 95 / Super Plus E10 98',\n",
       " 'Domestic gas H',\n",
       " 'Super 95 / Super E10 95 / Super Plus E10 98 / Super Plus 98',\n",
       " 'Regular/Benzine 91 / Regular/Benzine E10 91',\n",
       " 'Super E10 95 / Regular/Benzine 91 / Super 95 / Super Plus 98 / Regular/Benzine E10 91 / Super Plus E10 98',\n",
       " 'Super Plus E10 98 / Super 95 / Super Plus 98 / Super E10 95',\n",
       " 'Super 95 / Super Plus 98 (Particulate Filter)',\n",
       " 'Super Plus 98 / Super 95 / Super E10 95',\n",
       " 'Super 95 / Super Plus 98 / Super E10 95 / Super Plus E10 98 (Particulate Filter)',\n",
       " 'Super Plus E10 98',\n",
       " 'Regular/Benzine 91 / Super 95 / Regular/Benzine E10 91',\n",
       " 'Super Plus 98 / Super E10 95',\n",
       " 'Regular/Benzine 91 / Super 95 / Regular/Benzine E10 91 / Super E10 95 / Super Plus 98 / Super Plus E10 98',\n",
       " 'Super 95 / Regular/Benzine 91 / Super Plus 98 / Regular/Benzine E10 91 / Super Plus E10 98 / Super E10 95',\n",
       " 'LPG',\n",
       " 'Liquid petroleum gas (LPG)',\n",
       " 'Super 95 / Regular/Benzine 91 / Super E10 95 / Super Plus E10 98 / Super Plus 98',\n",
       " 'Regular/Benzine E10 91 / Super E10 95 / Super Plus E10 98 / Super Plus 98 / Super 95 / Regular/Benzine 91',\n",
       " 'Regular/Benzine 91 / Super 95 / Super E10 95',\n",
       " 'Super 95 / Regular/Benzine E10 91 / Super E10 95',\n",
       " 'Regular/Benzine 91 / Super 95 / Super E10 95 / Regular/Benzine E10 91',\n",
       " 'Super E10 95 / Super Plus E10 98',\n",
       " 'Super 95 / Regular/Benzine 91 / Super E10 95 / Super Plus 98 / Super Plus E10 98 / Regular/Benzine E10 91',\n",
       " 'Super E10 95 / Super 95 / Super Plus 98',\n",
       " 'Super E10 95 / Regular/Benzine 91 / Regular/Benzine E10 91 / Super 95',\n",
       " 'Super 95 / Regular/Benzine E10 91',\n",
       " 'Regular/Benzine 91 / Super 95 / Super Plus E10 98 / Super E10 95 / Regular/Benzine E10 91 / Super Plus 98',\n",
       " 'Regular/Benzine 91 / Super 95 / Super Plus 98 / Super Plus E10 98 / Super E10 95 / Regular/Benzine E10 91',\n",
       " 'Super 95 / Super E10 95 / Super Plus E10 98',\n",
       " 'Regular/Benzine 91 / Super 95 / Super E10 95 / Super Plus E10 98 / Super Plus 98 / Regular/Benzine E10 91',\n",
       " 'Super 95 / Super Plus 98 / Regular/Benzine E10 91 / Super Plus E10 98 / Super E10 95 / Regular/Benzine 91',\n",
       " 'Super Plus 98 / Regular/Benzine 91',\n",
       " 'Super 95 / Regular/Benzine 91 (Particulate Filter)',\n",
       " 'Super 95 / Super E10 95 / Regular/Benzine 91',\n",
       " 'Super 95 / Super E10 95 / Super Plus 98',\n",
       " 'Electric',\n",
       " 'Super E10 95 / Regular/Benzine 91',\n",
       " 'Super 95 / Super Plus 98 / Super Plus E10 98',\n",
       " 'Super Plus 98 / Super 95 / Super Plus E10 98']"
      ]
     },
     "execution_count": 212,
     "metadata": {},
     "output_type": "execute_result"
    }
   ],
   "source": [
    "df.Fuel.str[1].unique().tolist()"
   ]
  },
  {
   "cell_type": "code",
   "execution_count": 213,
   "id": "b3965085",
   "metadata": {},
   "outputs": [],
   "source": [
    "df.Fuel = [x.split(' (')[0].split('/')[0].strip() for x in df.Fuel.str[1]]"
   ]
  },
  {
   "cell_type": "code",
   "execution_count": 214,
   "id": "b3f7e577",
   "metadata": {},
   "outputs": [
    {
     "data": {
      "text/plain": [
       "Diesel                  7299\n",
       "Super 95                4368\n",
       "Gasoline                3252\n",
       "Regular                  503\n",
       "Super E10 95             409\n",
       "CNG                       36\n",
       "LPG                       16\n",
       "Super Plus 98             11\n",
       "Liquid petroleum gas      10\n",
       "Others                     6\n",
       "Electric                   5\n",
       "Super Plus E10 98          2\n",
       "Biogas                     1\n",
       "Domestic gas H             1\n",
       "Name: Fuel, dtype: int64"
      ]
     },
     "execution_count": 214,
     "metadata": {},
     "output_type": "execute_result"
    }
   ],
   "source": [
    "df.Fuel.value_counts(dropna=False)"
   ]
  },
  {
   "cell_type": "code",
   "execution_count": 215,
   "id": "75e0465c",
   "metadata": {},
   "outputs": [],
   "source": [
    "benzine = ['Gasoline','Super 95','Regular','Super E10 95','Super Plus 98','Super Plus E10 98','Others']\n",
    "lpg = ['LPG','Liquid petroleum gas','CNG','Biogas','Domestic gas H']"
   ]
  },
  {
   "cell_type": "code",
   "execution_count": 216,
   "id": "1862124d",
   "metadata": {},
   "outputs": [],
   "source": [
    "def fueltype(x):\n",
    "    \n",
    "    if x in benzine: return 'Benzine'\n",
    "    elif x in lpg: return 'LPG/CNG'\n",
    "    else: return x"
   ]
  },
  {
   "cell_type": "code",
   "execution_count": 217,
   "id": "9e525dd1",
   "metadata": {},
   "outputs": [],
   "source": [
    "df.Fuel = df.Fuel.apply(fueltype)"
   ]
  },
  {
   "cell_type": "code",
   "execution_count": 218,
   "id": "d7acde73",
   "metadata": {},
   "outputs": [
    {
     "data": {
      "text/plain": [
       "Benzine     8551\n",
       "Diesel      7299\n",
       "LPG/CNG       64\n",
       "Electric       5\n",
       "Name: Fuel, dtype: int64"
      ]
     },
     "execution_count": 218,
     "metadata": {},
     "output_type": "execute_result"
    }
   ],
   "source": [
    "df.Fuel.value_counts(dropna=False)"
   ]
  },
  {
   "cell_type": "markdown",
   "id": "0a96b254",
   "metadata": {},
   "source": [
    "<div class=\"alert alert-block alert-info\">\n",
    "\n",
    "<b>Consumption</b></div>"
   ]
  },
  {
   "cell_type": "code",
   "execution_count": 219,
   "id": "5b0f141b",
   "metadata": {},
   "outputs": [
    {
     "data": {
      "text/plain": [
       "nan                                                                                                 1906\n",
       "[['3.9 l/100 km (comb)'], ['4.1 l/100 km (city)'], ['3.7 l/100 km (country)']]                       304\n",
       "[['4.2 l/100 km (comb)'], ['5 l/100 km (city)'], ['3.7 l/100 km (country)']]                         276\n",
       "[['5.4 l/100 km (comb)'], ['6.8 l/100 km (city)'], ['4.5 l/100 km (country)']]                       257\n",
       "[['3.8 l/100 km (comb)'], ['4.3 l/100 km (city)'], ['3.5 l/100 km (country)']]                       253\n",
       "                                                                                                    ... \n",
       "[['4.2 l/100 km (comb)'], ['5.3 l/100 km (city)'], ['3.6 l/100 km (country)']]                         1\n",
       "['\\n', '5.1 l/100 km (comb)', '\\n', '6.4 l/100 km (city)', '\\n', '4.3 l/100 km (country)', '\\n']       1\n",
       "[['4.6 l/100 km (comb)'], ['5.4 l/100 km (city)'], ['6.7 l/100 km (country)']]                         1\n",
       "['\\n', '6.3 l/100 km (comb)', '\\n', '\\n', '\\n']                                                        1\n",
       "['\\n', '7.4 l/100 km (comb)', '\\n', '9.6 l/100 km (city)', '\\n', '6 l/100 km (country)', '\\n']         1\n",
       "Name: Consumption, Length: 882, dtype: int64"
      ]
     },
     "execution_count": 219,
     "metadata": {},
     "output_type": "execute_result"
    }
   ],
   "source": [
    "df.Consumption.astype(str).value_counts(dropna=False)"
   ]
  },
  {
   "cell_type": "code",
   "execution_count": 220,
   "id": "69b7a86d",
   "metadata": {},
   "outputs": [
    {
     "data": {
      "text/plain": [
       "<class 'list'>     14013\n",
       "<class 'float'>     1906\n",
       "Name: Consumption, dtype: int64"
      ]
     },
     "execution_count": 220,
     "metadata": {},
     "output_type": "execute_result"
    }
   ],
   "source": [
    "df.Consumption.map(type).value_counts()"
   ]
  },
  {
   "cell_type": "code",
   "execution_count": 221,
   "id": "989cba79",
   "metadata": {},
   "outputs": [
    {
     "name": "stdout",
     "output_type": "stream",
     "text": [
      "Number of Items in all Lists: {3, 5, 7}\n",
      "This column has \u001b[31mnested list/lists\u001b[0m\n"
     ]
    }
   ],
   "source": [
    "list_items('Consumption')"
   ]
  },
  {
   "cell_type": "code",
   "execution_count": 222,
   "id": "8f8c9cea",
   "metadata": {},
   "outputs": [
    {
     "name": "stdout",
     "output_type": "stream",
     "text": [
      "[['3.8 l/100 km (comb)'], ['4.3 l/100 km (city)'], ['3.5 l/100 km (country)']]\n",
      "[['5.6 l/100 km (comb)'], ['7.1 l/100 km (city)'], ['4.7 l/100 km (country)']]\n",
      "[['3.8 l/100 km (comb)'], ['4.4 l/100 km (city)'], ['3.4 l/100 km (country)']]\n",
      "[['3.8 l/100 km (comb)'], ['4.3 l/100 km (city)'], ['3.5 l/100 km (country)']]\n",
      "[['4.1 l/100 km (comb)'], ['4.6 l/100 km (city)'], ['3.8 l/100 km (country)']]\n",
      "[['3.5 l/100 km (comb)'], ['4.3 l/100 km (city)'], ['3.1 l/100 km (country)']]\n",
      "[['3.7 l/100 km (comb)'], ['4.3 l/100 km (city)'], ['3.4 l/100 km (country)']]\n",
      "[['3.7 l/100 km (comb)'], ['4.2 l/100 km (city)'], ['3.4 l/100 km (country)']]\n",
      "[['3.7 l/100 km (comb)'], ['4.3 l/100 km (city)'], ['3.4 l/100 km (country)']]\n",
      "[['4 l/100 km (comb)'], ['4.6 l/100 km (city)'], ['3.6 l/100 km (country)']]\n",
      "[['4.9 l/100 km (comb)'], ['6.2 l/100 km (city)'], ['4.2 l/100 km (country)']]\n",
      "[['4.9 l/100 km (comb)'], ['6.2 l/100 km (city)'], ['4.2 l/100 km (country)']]\n",
      "[['4.2 l/100 km (comb)'], ['5 l/100 km (city)'], ['3.7 l/100 km (country)']]\n",
      "[['3.7 l/100 km (comb)'], ['4.3 l/100 km (city)'], ['3.4 l/100 km (country)']]\n",
      "[['3.5 l/100 km (comb)'], ['4.3 l/100 km (city)'], ['3.1 l/100 km (country)']]\n",
      "[['3.8 l/100 km (comb)'], ['4.3 l/100 km (city)'], ['3.5 l/100 km (country)']]\n",
      "[['4.5 l/100 km (comb)'], ['5.5 l/100 km (city)'], ['3.9 l/100 km (country)']]\n",
      "[['3.8 l/100 km (comb)'], ['4.6 l/100 km (city)'], ['3.3 l/100 km (country)']]\n",
      "[['4 l/100 km (comb)'], ['4.6 l/100 km (city)'], ['3.6 l/100 km (country)']]\n",
      "[['4.9 l/100 km (comb)'], ['6.2 l/100 km (city)'], ['4.2 l/100 km (country)']]\n"
     ]
    }
   ],
   "source": [
    "specified_lists('Consumption', 3)"
   ]
  },
  {
   "cell_type": "code",
   "execution_count": 223,
   "id": "7c4270c5",
   "metadata": {},
   "outputs": [
    {
     "name": "stdout",
     "output_type": "stream",
     "text": [
      "['\\n', '1.6 l/100 km (comb)', '\\n', '\\n', '\\n']\n",
      "['\\n', '1.6 l/100 km (comb)', '\\n', '\\n', '\\n']\n",
      "['\\n', '1.6 l/100 km (comb)', '\\n', '\\n', '\\n']\n",
      "['\\n', '5.4 l/100 km (comb)', '\\n', '\\n', '\\n']\n",
      "['\\n', '4.9 l/100 km (comb)', '\\n', '\\n', '\\n']\n",
      "['\\n', '5.9 l/100 km (comb)', '\\n', '\\n', '\\n']\n",
      "['\\n', '4.7 l/100 km (comb)', '\\n', '\\n', '\\n']\n",
      "['\\n', '6.3 l/100 km (comb)', '\\n', '\\n', '\\n']\n",
      "['\\n', '5.4 l/100 km (comb)', '\\n', '\\n', '\\n']\n",
      "['\\n', '5.4 l/100 km (comb)', '\\n', '\\n', '\\n']\n",
      "['\\n', '5.4 l/100 km (comb)', '\\n', '\\n', '\\n']\n",
      "['\\n', '5.4 l/100 km (comb)', '\\n', '\\n', '\\n']\n",
      "['\\n', '5.4 l/100 km (comb)', '\\n', '\\n', '\\n']\n",
      "['\\n', '5.8 l/100 km (comb)', '\\n', '\\n', '\\n']\n"
     ]
    }
   ],
   "source": [
    "specified_lists('Consumption', 5)"
   ]
  },
  {
   "cell_type": "code",
   "execution_count": 224,
   "id": "afd9e514",
   "metadata": {},
   "outputs": [
    {
     "name": "stdout",
     "output_type": "stream",
     "text": [
      "['\\n', '4.4 l/100 km (comb)', '\\n', '5.2 l/100 km (city)', '\\n', '3.9 l/100 km (country)', '\\n']\n",
      "['\\n', '5 l/100 km (comb)', '\\n', '6.2 l/100 km (city)', '\\n', '4.3 l/100 km (country)', '\\n']\n",
      "['\\n', '4.9 l/100 km (comb)', '\\n', '6.2 l/100 km (city)', '\\n', '4.2 l/100 km (country)', '\\n']\n",
      "['\\n', '4.9 l/100 km (comb)', '\\n', '6.2 l/100 km (city)', '\\n', '4.2 l/100 km (country)', '\\n']\n",
      "['\\n', '4.9 l/100 km (comb)', '\\n', '6.2 l/100 km (city)', '\\n', '4.2 l/100 km (country)', '\\n']\n",
      "['\\n', '4.4 l/100 km (comb)', '\\n', '5.4 l/100 km (city)', '\\n', '3.8 l/100 km (country)', '\\n']\n",
      "['\\n', '4.6 l/100 km (comb)', '\\n', '5.6 l/100 km (city)', '\\n', '4 l/100 km (country)', '\\n']\n",
      "['\\n', '4.9 l/100 km (comb)', '\\n', '6.2 l/100 km (city)', '\\n', '4.2 l/100 km (country)', '\\n']\n",
      "['\\n', '5.2 l/100 km (comb)', '\\n', '6.7 l/100 km (city)', '\\n', '4.4 l/100 km (country)', '\\n']\n",
      "['\\n', '4.4 l/100 km (comb)', '\\n', '5.2 l/100 km (city)', '\\n', '3.9 l/100 km (country)', '\\n']\n",
      "['\\n', '4.9 l/100 km (comb)', '\\n', '6.2 l/100 km (city)', '\\n', '4.2 l/100 km (country)', '\\n']\n",
      "['\\n', '4.7 l/100 km (comb)', '\\n', '5.8 l/100 km (city)', '\\n', '4.1 l/100 km (country)', '\\n']\n",
      "['\\n', '4.9 l/100 km (comb)', '\\n', '6.2 l/100 km (city)', '\\n', '4.2 l/100 km (country)', '\\n']\n",
      "['\\n', '4.4 l/100 km (comb)', '\\n', '5.4 l/100 km (city)', '\\n', '3.8 l/100 km (country)', '\\n']\n",
      "['\\n', '4.4 l/100 km (comb)', '\\n', '5.4 l/100 km (city)', '\\n', '3.8 l/100 km (country)', '\\n']\n",
      "['\\n', '4.4 l/100 km (comb)', '\\n', '5.4 l/100 km (city)', '\\n', '3.8 l/100 km (country)', '\\n']\n",
      "['\\n', '4.4 l/100 km (comb)', '\\n', '5.4 l/100 km (city)', '\\n', '3.8 l/100 km (country)', '\\n']\n",
      "['\\n', '4.4 l/100 km (comb)', '\\n', '5.2 l/100 km (city)', '\\n', '3.9 l/100 km (country)', '\\n']\n",
      "['\\n', '4.6 l/100 km (comb)', '\\n', '5.6 l/100 km (city)', '\\n', '4 l/100 km (country)', '\\n']\n",
      "['\\n', '4.2 l/100 km (comb)', '\\n', '5 l/100 km (city)', '\\n', '3.7 l/100 km (country)', '\\n']\n"
     ]
    }
   ],
   "source": [
    "specified_lists('Consumption', 7)"
   ]
  },
  {
   "cell_type": "code",
   "execution_count": 225,
   "id": "7ff37e6e",
   "metadata": {},
   "outputs": [],
   "source": [
    "def cons_comb(x):\n",
    "    \n",
    "    if type(x)==list and len(x)==3:\n",
    "        if x[0] != []: return x[0][0]\n",
    "        else: return None\n",
    "        \n",
    "    if type(x)==list and len(x)==5:\n",
    "        return x[1]\n",
    "    \n",
    "    if type(x)==list and len(x)==7:\n",
    "        return x[1]\n",
    "    \n",
    "    else:\n",
    "        return None"
   ]
  },
  {
   "cell_type": "code",
   "execution_count": 226,
   "id": "0395bc6c",
   "metadata": {},
   "outputs": [],
   "source": [
    "def cons_city(x):\n",
    "    \n",
    "    if type(x)==list and len(x)==3:\n",
    "        if x[1] != []: return x[1][0]\n",
    "        else: return None\n",
    "        \n",
    "    if type(x)==list and len(x)==5:\n",
    "        return None\n",
    "    \n",
    "    if type(x)==list and len(x)==7:\n",
    "        return x[3]\n",
    "    \n",
    "    else:\n",
    "        return None"
   ]
  },
  {
   "cell_type": "code",
   "execution_count": 227,
   "id": "00d2c9d7",
   "metadata": {},
   "outputs": [],
   "source": [
    "def cons_country(x):\n",
    "    \n",
    "    if type(x)==list and len(x)==3:\n",
    "        if x[2] != []: return x[2][0]\n",
    "        else: return None\n",
    "        \n",
    "    if type(x)==list and len(x)==5:\n",
    "        return None\n",
    "    \n",
    "    if type(x)==list and len(x)==7:\n",
    "        return x[5]\n",
    "    \n",
    "    else:\n",
    "        return None"
   ]
  },
  {
   "cell_type": "code",
   "execution_count": 228,
   "id": "aec36f81",
   "metadata": {},
   "outputs": [],
   "source": [
    "df['Cons_Comb (l/100 km)'] = df.Consumption.apply(cons_comb).str.extract('(\\S+)').astype(float)\n",
    "df['Cons_City (l/100 km)'] = df.Consumption.apply(cons_city).str.extract('(\\S+)').astype(float)\n",
    "df['Cons_Country (l/100 km)'] = df.Consumption.apply(cons_country).str.extract('(\\S+)').astype(float)"
   ]
  },
  {
   "cell_type": "code",
   "execution_count": 229,
   "id": "70af128f",
   "metadata": {},
   "outputs": [
    {
     "data": {
      "text/plain": [
       "NaN     2033\n",
       "5.40     770\n",
       "3.90     733\n",
       "4.00     713\n",
       "5.10     657\n",
       "Name: Cons_Comb (l/100 km), dtype: int64"
      ]
     },
     "execution_count": 229,
     "metadata": {},
     "output_type": "execute_result"
    }
   ],
   "source": [
    "df['Cons_Comb (l/100 km)'].value_counts(dropna=False).head()"
   ]
  },
  {
   "cell_type": "code",
   "execution_count": 230,
   "id": "0467394e",
   "metadata": {},
   "outputs": [
    {
     "data": {
      "text/plain": [
       "NaN     2436\n",
       "5.00     669\n",
       "5.80     633\n",
       "4.50     580\n",
       "4.30     533\n",
       "Name: Cons_City (l/100 km), dtype: int64"
      ]
     },
     "execution_count": 230,
     "metadata": {},
     "output_type": "execute_result"
    }
   ],
   "source": [
    "df['Cons_City (l/100 km)'].value_counts(dropna=False).head()"
   ]
  },
  {
   "cell_type": "code",
   "execution_count": 231,
   "id": "631e5ab0",
   "metadata": {},
   "outputs": [
    {
     "data": {
      "text/plain": [
       "NaN     2376\n",
       "4.20    1178\n",
       "3.70    1089\n",
       "4.40     898\n",
       "4.50     848\n",
       "Name: Cons_Country (l/100 km), dtype: int64"
      ]
     },
     "execution_count": 231,
     "metadata": {},
     "output_type": "execute_result"
    }
   ],
   "source": [
    "df['Cons_Country (l/100 km)'].value_counts(dropna=False).head()"
   ]
  },
  {
   "cell_type": "code",
   "execution_count": 232,
   "id": "9fd08d2b",
   "metadata": {},
   "outputs": [],
   "source": [
    "del df['Consumption']\n",
    "# df.drop('Consumption', axis=1,inplace=True)"
   ]
  },
  {
   "cell_type": "markdown",
   "id": "c3e5d2ab",
   "metadata": {},
   "source": [
    "<div class=\"alert alert-block alert-info\">\n",
    "\n",
    "<b>Co2 Emission</b></div>"
   ]
  },
  {
   "cell_type": "code",
   "execution_count": 233,
   "id": "d0e897e5",
   "metadata": {},
   "outputs": [
    {
     "data": {
      "text/plain": [
       "nan                              1808\n",
       "['\\n120 g CO2/km (comb)\\n']       740\n",
       "[[], [], []]                      628\n",
       "['\\n99 g CO2/km (comb)\\n']        545\n",
       "['\\n97 g CO2/km (comb)\\n']        537\n",
       "                                 ... \n",
       "['\\n14 g CO2/km (comb)\\n']          1\n",
       "['\\n1,060 g CO2/km (comb)\\n']       1\n",
       "['\\n51 g CO2/km (comb)\\n']          1\n",
       "['\\n165 g CO2/km (comb)\\n']         1\n",
       "['\\n193 g CO2/km (comb)\\n']         1\n",
       "Name: Co2 Emission, Length: 124, dtype: int64"
      ]
     },
     "execution_count": 233,
     "metadata": {},
     "output_type": "execute_result"
    }
   ],
   "source": [
    "df['Co2 Emission'].astype(str).value_counts(dropna=False)"
   ]
  },
  {
   "cell_type": "code",
   "execution_count": 234,
   "id": "ef580180",
   "metadata": {},
   "outputs": [
    {
     "data": {
      "text/plain": [
       "<class 'list'>     14111\n",
       "<class 'float'>     1808\n",
       "Name: Co2 Emission, dtype: int64"
      ]
     },
     "execution_count": 234,
     "metadata": {},
     "output_type": "execute_result"
    }
   ],
   "source": [
    "df['Co2 Emission'].map(type).value_counts()"
   ]
  },
  {
   "cell_type": "code",
   "execution_count": 235,
   "id": "08596513",
   "metadata": {},
   "outputs": [
    {
     "name": "stdout",
     "output_type": "stream",
     "text": [
      "Number of Items in all Lists: {1, 3}\n",
      "This column has \u001b[31mnested list/lists\u001b[0m\n"
     ]
    }
   ],
   "source": [
    "list_items('Co2 Emission')"
   ]
  },
  {
   "cell_type": "code",
   "execution_count": 236,
   "id": "7ec51a98",
   "metadata": {},
   "outputs": [
    {
     "name": "stdout",
     "output_type": "stream",
     "text": [
      "[[], [], []]\n",
      "[[], [], []]\n",
      "[[], [], []]\n",
      "[[], [], []]\n",
      "[[], [], []]\n",
      "[[], [], []]\n",
      "[[], [], []]\n",
      "[[], [], []]\n",
      "[[], [], []]\n",
      "[[], [], []]\n",
      "[[], [], []]\n",
      "[[], [], []]\n",
      "[[], [], []]\n",
      "[[], [], []]\n",
      "[[], [], []]\n",
      "[[], [], []]\n",
      "[[], [], []]\n",
      "[[], [], []]\n",
      "[[], [], []]\n",
      "[[], [], []]\n"
     ]
    }
   ],
   "source": [
    "specified_lists('Co2 Emission', 3)"
   ]
  },
  {
   "cell_type": "code",
   "execution_count": 237,
   "id": "7b50d03f",
   "metadata": {},
   "outputs": [],
   "source": [
    "df['Co2 Emission'] = df['Co2 Emission'].str[0].str.strip().str.replace(',', '').str.extract('(\\d+)').astype('float')"
   ]
  },
  {
   "cell_type": "code",
   "execution_count": 238,
   "id": "de3953ec",
   "metadata": {},
   "outputs": [],
   "source": [
    "df.rename(columns={'Co2 Emission': 'CO2_Emission (g/km CO2)'}, inplace=True)"
   ]
  },
  {
   "cell_type": "code",
   "execution_count": 239,
   "id": "41009264",
   "metadata": {},
   "outputs": [
    {
     "data": {
      "text/plain": [
       "NaN        2436\n",
       "120.00      740\n",
       "99.00       545\n",
       "97.00       537\n",
       "104.00      501\n",
       "           ... \n",
       "14.00         1\n",
       "1060.00       1\n",
       "51.00         1\n",
       "165.00        1\n",
       "193.00        1\n",
       "Name: CO2_Emission (g/km CO2), Length: 123, dtype: int64"
      ]
     },
     "execution_count": 239,
     "metadata": {},
     "output_type": "execute_result"
    }
   ],
   "source": [
    "df['CO2_Emission (g/km CO2)'].value_counts(dropna=False)"
   ]
  },
  {
   "cell_type": "markdown",
   "id": "29189b77",
   "metadata": {},
   "source": [
    "<div class=\"alert alert-block alert-info\">\n",
    "\n",
    "<b>Emission Class</b></div>"
   ]
  },
  {
   "cell_type": "code",
   "execution_count": 240,
   "id": "8d098690",
   "metadata": {},
   "outputs": [
    {
     "data": {
      "text/plain": [
       "['\\nEuro 6\\n']          10139\n",
       "nan                      3021\n",
       "['\\nEuro 6d-TEMP\\n']     1845\n",
       "[[], [], []]              607\n",
       "['\\nEuro 6c\\n']           127\n",
       "['\\nEuro 5\\n']             78\n",
       "['\\nEuro 6d\\n']            62\n",
       "['\\nEuro 4\\n']             40\n",
       "Name: Emission Class, dtype: int64"
      ]
     },
     "execution_count": 240,
     "metadata": {},
     "output_type": "execute_result"
    }
   ],
   "source": [
    "df['Emission Class'].astype(str).value_counts(dropna=False)"
   ]
  },
  {
   "cell_type": "code",
   "execution_count": 241,
   "id": "d1a0eed6",
   "metadata": {},
   "outputs": [],
   "source": [
    "df['Emission Class'] = df['Emission Class'].str[0].str.strip()"
   ]
  },
  {
   "cell_type": "code",
   "execution_count": 242,
   "id": "8b12bb4b",
   "metadata": {},
   "outputs": [],
   "source": [
    "df.rename(columns={'Emission Class': 'Emission_Class'}, inplace=True)"
   ]
  },
  {
   "cell_type": "code",
   "execution_count": 243,
   "id": "6aca5388",
   "metadata": {},
   "outputs": [
    {
     "data": {
      "text/plain": [
       "Euro 6          10139\n",
       "NaN              3628\n",
       "Euro 6d-TEMP     1845\n",
       "Euro 6c           127\n",
       "Euro 5             78\n",
       "Euro 6d            62\n",
       "Euro 4             40\n",
       "Name: Emission_Class, dtype: int64"
      ]
     },
     "execution_count": 243,
     "metadata": {},
     "output_type": "execute_result"
    }
   ],
   "source": [
    "df['Emission_Class'].value_counts(dropna=False)"
   ]
  },
  {
   "cell_type": "markdown",
   "id": "40d7acb7",
   "metadata": {},
   "source": [
    "<div class=\"alert alert-block alert-info\">\n",
    "\n",
    "<b>Comfort & Convenience</b></div>"
   ]
  },
  {
   "cell_type": "code",
   "execution_count": 244,
   "id": "3b3d2358",
   "metadata": {},
   "outputs": [
    {
     "data": {
      "text/plain": [
       "nan                                                                                                                                                                                                                                                                                                                                                                                                       920\n",
       "['Air conditioning', 'Electrical side mirrors', 'Hill Holder', 'Power windows']                                                                                                                                                                                                                                                                                                                           216\n",
       "['Air conditioning', 'Electrical side mirrors', 'Power windows']                                                                                                                                                                                                                                                                                                                                          134\n",
       "['Air conditioning', 'Power windows']                                                                                                                                                                                                                                                                                                                                                                     130\n",
       "['Air conditioning', 'Armrest', 'Automatic climate control', 'Cruise control', 'Electrical side mirrors', 'Leather steering wheel', 'Light sensor', 'Lumbar support', 'Multi-function steering wheel', 'Navigation system', 'Park Distance Control', 'Parking assist system sensors front', 'Parking assist system sensors rear', 'Power windows', 'Rain sensor', 'Seat heating', 'Start-stop system']    105\n",
       "['Air conditioning', 'Armrest', 'Automatic climate control', 'Cruise control', 'Electrical side mirrors', 'Hill Holder', 'Leather steering wheel', 'Light sensor', 'Multi-function steering wheel', 'Navigation system', 'Park Distance Control', 'Parking assist system sensors rear', 'Power windows', 'Rain sensor', 'Seat heating', 'Start-stop system']                                               92\n",
       "['Air conditioning', 'Automatic climate control', 'Cruise control', 'Multi-function steering wheel', 'Park Distance Control', 'Power windows']                                                                                                                                                                                                                                                             89\n",
       "['Air conditioning', 'Power windows', 'Seat ventilation', 'Split rear seats']                                                                                                                                                                                                                                                                                                                              82\n",
       "['Air conditioning']                                                                                                                                                                                                                                                                                                                                                                                       79\n",
       "['Air conditioning', 'Seat ventilation', 'Split rear seats']                                                                                                                                                                                                                                                                                                                                               79\n",
       "Name: Comfort & Convenience, dtype: int64"
      ]
     },
     "execution_count": 244,
     "metadata": {},
     "output_type": "execute_result"
    }
   ],
   "source": [
    "df['Comfort & Convenience'].astype(str).value_counts(dropna=False).head(10)"
   ]
  },
  {
   "cell_type": "code",
   "execution_count": 245,
   "id": "ba5916c0",
   "metadata": {},
   "outputs": [
    {
     "data": {
      "text/plain": [
       "<class 'list'>     14999\n",
       "<class 'float'>      920\n",
       "Name: Comfort & Convenience, dtype: int64"
      ]
     },
     "execution_count": 245,
     "metadata": {},
     "output_type": "execute_result"
    }
   ],
   "source": [
    "df['Comfort & Convenience'].apply(type).value_counts()"
   ]
  },
  {
   "cell_type": "code",
   "execution_count": 246,
   "id": "d7989622",
   "metadata": {},
   "outputs": [],
   "source": [
    "df['Comfort & Convenience'] = [','.join(item) if type(item)==list else item for item in df['Comfort & Convenience']]"
   ]
  },
  {
   "cell_type": "code",
   "execution_count": 247,
   "id": "039eb142",
   "metadata": {},
   "outputs": [
    {
     "data": {
      "text/plain": [
       "0        Air conditioning,Armrest,Automatic climate con...\n",
       "1        Air conditioning,Automatic climate control,Hil...\n",
       "2        Air conditioning,Cruise control,Electrical sid...\n",
       "3        Air suspension,Armrest,Auxiliary heating,Elect...\n",
       "4        Air conditioning,Armrest,Automatic climate con...\n",
       "                               ...                        \n",
       "15914    Air conditioning,Automatic climate control,Cru...\n",
       "15915    Air conditioning,Automatic climate control,Cru...\n",
       "15916    Air conditioning,Armrest,Automatic climate con...\n",
       "15917    Air conditioning,Automatic climate control,Cru...\n",
       "15918    Air conditioning,Automatic climate control,Cru...\n",
       "Name: Comfort & Convenience, Length: 15919, dtype: object"
      ]
     },
     "execution_count": 247,
     "metadata": {},
     "output_type": "execute_result"
    }
   ],
   "source": [
    "df['Comfort & Convenience']"
   ]
  },
  {
   "cell_type": "markdown",
   "id": "d168b25f",
   "metadata": {},
   "source": [
    "<div class=\"alert alert-block alert-info\">\n",
    "\n",
    "<b>Entertainment & Media</b></div>"
   ]
  },
  {
   "cell_type": "code",
   "execution_count": 248,
   "id": "50e4caae",
   "metadata": {},
   "outputs": [
    {
     "data": {
      "text/plain": [
       "nan                                                                                               1374\n",
       "['Bluetooth', 'Hands-free equipment', 'On-board computer', 'Radio', 'USB']                        1282\n",
       "['Bluetooth', 'Hands-free equipment', 'MP3', 'On-board computer', 'Radio', 'USB']                  982\n",
       "['Bluetooth', 'CD player', 'Hands-free equipment', 'MP3', 'On-board computer', 'Radio', 'USB']     783\n",
       "['On-board computer', 'Radio']                                                                     487\n",
       "['Radio']                                                                                          477\n",
       "['Bluetooth', 'CD player', 'Hands-free equipment', 'On-board computer', 'Radio', 'USB']            465\n",
       "['On-board computer']                                                                              461\n",
       "['Bluetooth', 'CD player', 'Hands-free equipment', 'MP3', 'On-board computer', 'Radio']            404\n",
       "['Bluetooth', 'On-board computer', 'Radio']                                                        397\n",
       "Name: Entertainment & Media, dtype: int64"
      ]
     },
     "execution_count": 248,
     "metadata": {},
     "output_type": "execute_result"
    }
   ],
   "source": [
    "df['Entertainment & Media'].astype(str).value_counts(dropna=False).head(10)"
   ]
  },
  {
   "cell_type": "code",
   "execution_count": 249,
   "id": "62562309",
   "metadata": {},
   "outputs": [
    {
     "data": {
      "text/plain": [
       "<class 'list'>     14545\n",
       "<class 'float'>     1374\n",
       "Name: Entertainment & Media, dtype: int64"
      ]
     },
     "execution_count": 249,
     "metadata": {},
     "output_type": "execute_result"
    }
   ],
   "source": [
    "df['Entertainment & Media'].map(type).value_counts()"
   ]
  },
  {
   "cell_type": "code",
   "execution_count": 250,
   "id": "a8ee2610",
   "metadata": {},
   "outputs": [
    {
     "data": {
      "text/plain": [
       "3274                                   [On-board computer]\n",
       "8982                                                   NaN\n",
       "8583                                               [Radio]\n",
       "7550       [Bluetooth, MP3, On-board computer, Radio, USB]\n",
       "6502     [Bluetooth, CD player, Hands-free equipment, M...\n",
       "730      [Bluetooth, CD player, Hands-free equipment, M...\n",
       "14882                           [On-board computer, Radio]\n",
       "15698    [Bluetooth, Hands-free equipment, MP3, Radio, ...\n",
       "12757    [Bluetooth, Digital radio, Hands-free equipmen...\n",
       "7279     [Bluetooth, Hands-free equipment, On-board com...\n",
       "11144    [Bluetooth, CD player, Hands-free equipment, O...\n",
       "11773                  [Bluetooth, On-board computer, USB]\n",
       "11449    [Bluetooth, Hands-free equipment, On-board com...\n",
       "3984                                           [Bluetooth]\n",
       "12059    [Bluetooth, Digital radio, Hands-free equipmen...\n",
       "7880                        [Bluetooth, On-board computer]\n",
       "14607      [Bluetooth, MP3, On-board computer, Radio, USB]\n",
       "2974                                                   NaN\n",
       "12385    [Bluetooth, Hands-free equipment, On-board com...\n",
       "15605    [Bluetooth, Hands-free equipment, On-board com...\n",
       "Name: Entertainment & Media, dtype: object"
      ]
     },
     "execution_count": 250,
     "metadata": {},
     "output_type": "execute_result"
    }
   ],
   "source": [
    "df['Entertainment & Media'].sample(20)"
   ]
  },
  {
   "cell_type": "code",
   "execution_count": 251,
   "id": "d7f4c386",
   "metadata": {},
   "outputs": [],
   "source": [
    "df['Entertainment & Media'] = [','.join(item) if type(item)==list else item for item in df['Entertainment & Media']]"
   ]
  },
  {
   "cell_type": "code",
   "execution_count": 252,
   "id": "4633b62b",
   "metadata": {},
   "outputs": [
    {
     "data": {
      "text/plain": [
       "0        Bluetooth,Hands-free equipment,On-board comput...\n",
       "1        Bluetooth,Hands-free equipment,On-board comput...\n",
       "2                                    MP3,On-board computer\n",
       "3        Bluetooth,CD player,Hands-free equipment,MP3,O...\n",
       "4        Bluetooth,CD player,Hands-free equipment,MP3,O...\n",
       "                               ...                        \n",
       "15914    Bluetooth,Digital radio,Hands-free equipment,O...\n",
       "15915    Bluetooth,Digital radio,Hands-free equipment,R...\n",
       "15916    Bluetooth,Hands-free equipment,On-board comput...\n",
       "15917                    Bluetooth,Digital radio,Radio,USB\n",
       "15918                                                  USB\n",
       "Name: Entertainment & Media, Length: 15919, dtype: object"
      ]
     },
     "execution_count": 252,
     "metadata": {},
     "output_type": "execute_result"
    }
   ],
   "source": [
    "df['Entertainment & Media']"
   ]
  },
  {
   "cell_type": "markdown",
   "id": "b6463c82",
   "metadata": {},
   "source": [
    "<div class=\"alert alert-block alert-info\">\n",
    "\n",
    "<b>Extras</b></div>"
   ]
  },
  {
   "cell_type": "code",
   "execution_count": 253,
   "id": "769a2f12",
   "metadata": {},
   "outputs": [
    {
     "ename": "TypeError",
     "evalue": "unhashable type: 'list'",
     "output_type": "error",
     "traceback": [
      "\u001b[1;31m---------------------------------------------------------------------------\u001b[0m",
      "\u001b[1;31mTypeError\u001b[0m                                 Traceback (most recent call last)",
      "\u001b[1;32mpandas\\_libs\\hashtable_class_helper.pxi\u001b[0m in \u001b[0;36mpandas._libs.hashtable.PyObjectHashTable.map_locations\u001b[1;34m()\u001b[0m\n",
      "\u001b[1;31mTypeError\u001b[0m: unhashable type: 'list'"
     ]
    },
    {
     "name": "stderr",
     "output_type": "stream",
     "text": [
      "Exception ignored in: 'pandas._libs.index.IndexEngine._call_map_locations'\n",
      "Traceback (most recent call last):\n",
      "  File \"pandas\\_libs\\hashtable_class_helper.pxi\", line 5231, in pandas._libs.hashtable.PyObjectHashTable.map_locations\n",
      "TypeError: unhashable type: 'list'\n"
     ]
    },
    {
     "data": {
      "text/plain": [
       "[Alloy wheels]                                   3245\n",
       "NaN                                              2962\n",
       "[Alloy wheels, Touch screen]                      697\n",
       "[Alloy wheels, Voice Control]                     577\n",
       "[Alloy wheels, Touch screen, Voice Control]       541\n",
       "[Alloy wheels, Roof rack]                         385\n",
       "[Alloy wheels, Sport seats]                       380\n",
       "[Roof rack]                                       337\n",
       "[Alloy wheels, Catalytic Converter]               271\n",
       "[Alloy wheels, Sport seats, Sport suspension]     234\n",
       "Name: Extras, dtype: int64"
      ]
     },
     "execution_count": 253,
     "metadata": {},
     "output_type": "execute_result"
    }
   ],
   "source": [
    "df['Extras'].value_counts(dropna=False).head(10)"
   ]
  },
  {
   "cell_type": "code",
   "execution_count": 254,
   "id": "4caa5de5",
   "metadata": {},
   "outputs": [
    {
     "data": {
      "text/plain": [
       "<class 'list'>     12957\n",
       "<class 'float'>     2962\n",
       "Name: Extras, dtype: int64"
      ]
     },
     "execution_count": 254,
     "metadata": {},
     "output_type": "execute_result"
    }
   ],
   "source": [
    "df['Extras'].map(type).value_counts()"
   ]
  },
  {
   "cell_type": "code",
   "execution_count": 255,
   "id": "7e27f650",
   "metadata": {},
   "outputs": [
    {
     "data": {
      "text/plain": [
       "6492                             [Alloy wheels, Roof rack]\n",
       "11954            [Alloy wheels, Sport seats, Touch screen]\n",
       "2824     [Alloy wheels, Roof rack, Touch screen, Winter...\n",
       "10337                                                  NaN\n",
       "82       [Alloy wheels, Catalytic Converter, Sport seat...\n",
       "5775              [Roof rack, Touch screen, Voice Control]\n",
       "238             [Alloy wheels, Sport seats, Voice Control]\n",
       "9975                                                   NaN\n",
       "15848          [Alloy wheels, Touch screen, Voice Control]\n",
       "9143                          [Alloy wheels, Touch screen]\n",
       "12286    [Alloy wheels, Roof rack, Touch screen, Voice ...\n",
       "11675                                                  NaN\n",
       "12081    [Alloy wheels, Roof rack, Sport package, Sport...\n",
       "1592                           [Alloy wheels, Sport seats]\n",
       "5358                                        [Alloy wheels]\n",
       "12157    [Alloy wheels, Roof rack, Sport seats, Sport s...\n",
       "14698                                          [Roof rack]\n",
       "9744                          [Alloy wheels, Touch screen]\n",
       "13246                         [Alloy wheels, Touch screen]\n",
       "2368                           [Alloy wheels, Sport seats]\n",
       "Name: Extras, dtype: object"
      ]
     },
     "execution_count": 255,
     "metadata": {},
     "output_type": "execute_result"
    }
   ],
   "source": [
    "df['Extras'].sample(20)"
   ]
  },
  {
   "cell_type": "code",
   "execution_count": 256,
   "id": "80351ce9",
   "metadata": {},
   "outputs": [],
   "source": [
    "df['Extras'] = [','.join(item) if type(item)==list else item for item in df['Extras']]"
   ]
  },
  {
   "cell_type": "code",
   "execution_count": 257,
   "id": "1782e68c",
   "metadata": {},
   "outputs": [
    {
     "data": {
      "text/plain": [
       "0           Alloy wheels,Catalytic Converter,Voice Control\n",
       "1        Alloy wheels,Sport seats,Sport suspension,Voic...\n",
       "2                               Alloy wheels,Voice Control\n",
       "3                   Alloy wheels,Sport seats,Voice Control\n",
       "4        Alloy wheels,Sport package,Sport suspension,Vo...\n",
       "                               ...                        \n",
       "15914                            Alloy wheels,Touch screen\n",
       "15915              Alloy wheels,Touch screen,Voice Control\n",
       "15916                                         Alloy wheels\n",
       "15917                            Alloy wheels,Touch screen\n",
       "15918                            Alloy wheels,Touch screen\n",
       "Name: Extras, Length: 15919, dtype: object"
      ]
     },
     "execution_count": 257,
     "metadata": {},
     "output_type": "execute_result"
    }
   ],
   "source": [
    "df['Extras']"
   ]
  },
  {
   "cell_type": "markdown",
   "id": "5bb5ac87",
   "metadata": {},
   "source": [
    "<div class=\"alert alert-block alert-info\">\n",
    "\n",
    "<b>Safety & Security</b></div>"
   ]
  },
  {
   "cell_type": "code",
   "execution_count": 258,
   "id": "3c4ea767",
   "metadata": {},
   "outputs": [
    {
     "ename": "TypeError",
     "evalue": "unhashable type: 'list'",
     "output_type": "error",
     "traceback": [
      "\u001b[1;31m---------------------------------------------------------------------------\u001b[0m",
      "\u001b[1;31mTypeError\u001b[0m                                 Traceback (most recent call last)",
      "\u001b[1;32mpandas\\_libs\\hashtable_class_helper.pxi\u001b[0m in \u001b[0;36mpandas._libs.hashtable.PyObjectHashTable.map_locations\u001b[1;34m()\u001b[0m\n",
      "\u001b[1;31mTypeError\u001b[0m: unhashable type: 'list'"
     ]
    },
    {
     "name": "stderr",
     "output_type": "stream",
     "text": [
      "Exception ignored in: 'pandas._libs.index.IndexEngine._call_map_locations'\n",
      "Traceback (most recent call last):\n",
      "  File \"pandas\\_libs\\hashtable_class_helper.pxi\", line 5231, in pandas._libs.hashtable.PyObjectHashTable.map_locations\n",
      "TypeError: unhashable type: 'list'\n"
     ]
    },
    {
     "data": {
      "text/plain": [
       "NaN                                                                                                                                                                                                                                                                       982\n",
       "[ABS, Central door lock, Daytime running lights, Driver-side airbag, Electronic stability control, Fog lights, Immobilizer, Isofix, Passenger-side airbag, Power steering, Side airbag, Tire pressure monitoring system, Traction control]                                538\n",
       "[ABS, Central door lock, Daytime running lights, Driver-side airbag, Electronic stability control, Immobilizer, Isofix, Passenger-side airbag, Power steering, Side airbag, Tire pressure monitoring system, Traction control]                                            480\n",
       "[ABS, Central door lock, Daytime running lights, Driver-side airbag, Electronic stability control, Immobilizer, Isofix, Passenger-side airbag, Power steering, Side airbag, Tire pressure monitoring system, Traction control, Xenon headlights]                          275\n",
       "[ABS, Central door lock, Daytime running lights, Driver-side airbag, Electronic stability control, Fog lights, Immobilizer, Isofix, LED Daytime Running Lights, Passenger-side airbag, Power steering, Side airbag, Tire pressure monitoring system, Traction control]    272\n",
       "[ABS, Central door lock, Daytime running lights, Driver-side airbag, Electronic stability control, Immobilizer, Isofix, LED Daytime Running Lights, Passenger-side airbag, Power steering, Side airbag, Tire pressure monitoring system, Traction control]                228\n",
       "[ABS, Central door lock, Daytime running lights, Driver-side airbag, Electronic stability control, Fog lights, Immobilizer, Isofix, Passenger-side airbag, Power steering, Side airbag, Tire pressure monitoring system, Traction control, Xenon headlights]              220\n",
       "[ABS, Central door lock, Daytime running lights, Driver-side airbag, Electronic stability control, Isofix, Passenger-side airbag, Power steering, Side airbag, Tire pressure monitoring system, Traction control]                                                         174\n",
       "[ABS, Central door lock, Daytime running lights, Driver-side airbag, Electronic stability control, Fog lights, Isofix, Passenger-side airbag, Power steering, Side airbag, Tire pressure monitoring system, Traction control]                                             123\n",
       "[ABS, Central door lock, Daytime running lights, Driver-side airbag, Electronic stability control, Fog lights, Isofix, Passenger-side airbag, Power steering, Side airbag, Tire pressure monitoring system]                                                               114\n",
       "Name: Safety & Security, dtype: int64"
      ]
     },
     "execution_count": 258,
     "metadata": {},
     "output_type": "execute_result"
    }
   ],
   "source": [
    "df['Safety & Security'].value_counts(dropna=False).head(10)"
   ]
  },
  {
   "cell_type": "code",
   "execution_count": 259,
   "id": "75b6142e",
   "metadata": {},
   "outputs": [
    {
     "data": {
      "text/plain": [
       "<class 'list'>     14937\n",
       "<class 'float'>      982\n",
       "Name: Safety & Security, dtype: int64"
      ]
     },
     "execution_count": 259,
     "metadata": {},
     "output_type": "execute_result"
    }
   ],
   "source": [
    "df['Safety & Security'].map(type).value_counts()"
   ]
  },
  {
   "cell_type": "code",
   "execution_count": 260,
   "id": "47ddcc59",
   "metadata": {},
   "outputs": [],
   "source": [
    "df['Safety & Security'] = [','.join(item) if type(item)==list else item for item in df['Safety & Security']]"
   ]
  },
  {
   "cell_type": "code",
   "execution_count": 261,
   "id": "c58063dd",
   "metadata": {},
   "outputs": [
    {
     "data": {
      "text/plain": [
       "0        ABS,Central door lock,Daytime running lights,D...\n",
       "1        ABS,Central door lock,Central door lock with r...\n",
       "2        ABS,Central door lock,Daytime running lights,D...\n",
       "3        ABS,Alarm system,Central door lock with remote...\n",
       "4        ABS,Central door lock,Driver-side airbag,Elect...\n",
       "                               ...                        \n",
       "15914    ABS,Central door lock,Central door lock with r...\n",
       "15915    ABS,Adaptive Cruise Control,Blind spot monitor...\n",
       "15916    ABS,Adaptive Cruise Control,Blind spot monitor...\n",
       "15917    ABS,Blind spot monitor,Driver-side airbag,Elec...\n",
       "15918    ABS,Blind spot monitor,Daytime running lights,...\n",
       "Name: Safety & Security, Length: 15919, dtype: object"
      ]
     },
     "execution_count": 261,
     "metadata": {},
     "output_type": "execute_result"
    }
   ],
   "source": [
    "df['Safety & Security']"
   ]
  },
  {
   "cell_type": "markdown",
   "id": "6476bc54",
   "metadata": {},
   "source": [
    "<div class=\"alert alert-block alert-info\">\n",
    "\n",
    "<b>Emission Label</b></div>"
   ]
  },
  {
   "cell_type": "code",
   "execution_count": 262,
   "id": "9af3d461",
   "metadata": {},
   "outputs": [
    {
     "data": {
      "text/plain": [
       "nan                       11934\n",
       "['\\n4 (Green)\\n']          3553\n",
       "['\\n1 (No sticker)\\n']      381\n",
       "[[], [], []]                 40\n",
       "['\\n5 (Blue)\\n']              8\n",
       "['\\n3 (Yellow)\\n']            2\n",
       "['\\n2 (Red)\\n']               1\n",
       "Name: Emission Label, dtype: int64"
      ]
     },
     "execution_count": 262,
     "metadata": {},
     "output_type": "execute_result"
    }
   ],
   "source": [
    "df['Emission Label'].astype(str).value_counts(dropna=False)"
   ]
  },
  {
   "cell_type": "code",
   "execution_count": 263,
   "id": "f6921db1",
   "metadata": {},
   "outputs": [],
   "source": [
    "df['Emission Label'] = df['Emission Label'].str[0].str.strip()"
   ]
  },
  {
   "cell_type": "code",
   "execution_count": 264,
   "id": "9adecc1c",
   "metadata": {},
   "outputs": [
    {
     "data": {
      "text/plain": [
       "NaN               11974\n",
       "4 (Green)          3553\n",
       "1 (No sticker)      381\n",
       "5 (Blue)              8\n",
       "3 (Yellow)            2\n",
       "2 (Red)               1\n",
       "Name: Emission Label, dtype: int64"
      ]
     },
     "execution_count": 264,
     "metadata": {},
     "output_type": "execute_result"
    }
   ],
   "source": [
    "df['Emission Label'].value_counts(dropna=False)"
   ]
  },
  {
   "cell_type": "code",
   "execution_count": 265,
   "id": "028fea41",
   "metadata": {},
   "outputs": [
    {
     "data": {
      "text/plain": [
       "75.2182926063195"
      ]
     },
     "execution_count": 265,
     "metadata": {},
     "output_type": "execute_result"
    }
   ],
   "source": [
    "df['Emission Label'].isnull().sum() / len(df['Emission Label'])*100"
   ]
  },
  {
   "cell_type": "code",
   "execution_count": 266,
   "id": "4aa43abc",
   "metadata": {},
   "outputs": [
    {
     "data": {
      "text/plain": [
       "Emission Label  Emission_Class\n",
       "1 (No sticker)  Euro 5               2\n",
       "                Euro 6             194\n",
       "                Euro 6d              1\n",
       "                Euro 6d-TEMP        57\n",
       "                nan                  0\n",
       "2 (Red)         nan                  0\n",
       "3 (Yellow)      Euro 6d-TEMP         1\n",
       "                nan                  0\n",
       "4 (Green)       Euro 4               3\n",
       "                Euro 5               9\n",
       "                Euro 6            1952\n",
       "                Euro 6c             34\n",
       "                Euro 6d             14\n",
       "                Euro 6d-TEMP       788\n",
       "                nan                  0\n",
       "5 (Blue)        Euro 6               4\n",
       "                nan                  0\n",
       "Name: Emission_Class, dtype: int64"
      ]
     },
     "execution_count": 266,
     "metadata": {},
     "output_type": "execute_result"
    }
   ],
   "source": [
    "df.groupby(['Emission Label', df['Emission_Class'].astype(str)])['Emission_Class'].count()"
   ]
  },
  {
   "cell_type": "code",
   "execution_count": 267,
   "id": "4758a661",
   "metadata": {},
   "outputs": [],
   "source": [
    "del df['Emission Label']\n",
    "# df.drop(\"Emission Label\", axis=1, inplace=True)"
   ]
  },
  {
   "cell_type": "markdown",
   "id": "39513680",
   "metadata": {},
   "source": [
    "<div class=\"alert alert-block alert-info\">\n",
    "\n",
    "<b>Gears</b></div>"
   ]
  },
  {
   "cell_type": "code",
   "execution_count": 268,
   "id": "b0391bc6",
   "metadata": {},
   "outputs": [
    {
     "data": {
      "text/plain": [
       "['\\n6\\n']     5822\n",
       "nan           4712\n",
       "['\\n5\\n']     3239\n",
       "['\\n7\\n']     1908\n",
       "['\\n8\\n']      224\n",
       "['\\n9\\n']        6\n",
       "['\\n1\\n']        2\n",
       "['\\n3\\n']        2\n",
       "['\\n4\\n']        2\n",
       "['\\n2\\n']        1\n",
       "['\\n50\\n']       1\n",
       "Name: Gears, dtype: int64"
      ]
     },
     "execution_count": 268,
     "metadata": {},
     "output_type": "execute_result"
    }
   ],
   "source": [
    "df.Gears.astype(str).value_counts(dropna=False)"
   ]
  },
  {
   "cell_type": "code",
   "execution_count": 269,
   "id": "bea52008",
   "metadata": {},
   "outputs": [],
   "source": [
    "df.Gears = df.Gears.str[0].str.strip()"
   ]
  },
  {
   "cell_type": "code",
   "execution_count": 270,
   "id": "8f74b771",
   "metadata": {},
   "outputs": [
    {
     "data": {
      "text/plain": [
       "6      5822\n",
       "NaN    4712\n",
       "5      3239\n",
       "7      1908\n",
       "8       224\n",
       "9         6\n",
       "1         2\n",
       "3         2\n",
       "4         2\n",
       "2         1\n",
       "50        1\n",
       "Name: Gears, dtype: int64"
      ]
     },
     "execution_count": 270,
     "metadata": {},
     "output_type": "execute_result"
    }
   ],
   "source": [
    "df.Gears.value_counts(dropna=False)"
   ]
  },
  {
   "cell_type": "code",
   "execution_count": 271,
   "id": "63ec88ee",
   "metadata": {},
   "outputs": [
    {
     "data": {
      "text/plain": [
       "29.599849236761106"
      ]
     },
     "execution_count": 271,
     "metadata": {},
     "output_type": "execute_result"
    }
   ],
   "source": [
    "df.Gears.isnull().sum() / len(df.Gears)*100"
   ]
  },
  {
   "cell_type": "markdown",
   "id": "42efa020",
   "metadata": {},
   "source": [
    "<div class=\"alert alert-block alert-info\">\n",
    "\n",
    "<b>Country Version</b></div>"
   ]
  },
  {
   "cell_type": "code",
   "execution_count": 272,
   "id": "7c871114",
   "metadata": {},
   "outputs": [
    {
     "data": {
      "text/plain": [
       "nan                       8333\n",
       "['\\nGermany\\n']           4502\n",
       "['\\nItaly\\n']             1038\n",
       "['\\nEuropean Union\\n']     507\n",
       "['\\nNetherlands\\n']        464\n",
       "['\\nSpain\\n']              325\n",
       "['\\nBelgium\\n']            314\n",
       "['\\nAustria\\n']            208\n",
       "['\\nCzech Republic\\n']      52\n",
       "['\\nPoland\\n']              49\n",
       "['\\nFrance\\n']              38\n",
       "['\\nDenmark\\n']             33\n",
       "['\\nHungary\\n']             28\n",
       "['\\nJapan\\n']                8\n",
       "['\\nSlovakia\\n']             4\n",
       "['\\nCroatia\\n']              4\n",
       "['\\nSweden\\n']               3\n",
       "['\\nRomania\\n']              2\n",
       "['\\nBulgaria\\n']             2\n",
       "['\\nLuxembourg\\n']           1\n",
       "['\\nSwitzerland\\n']          1\n",
       "['\\nSlovenia\\n']             1\n",
       "['\\nEgypt\\n']                1\n",
       "['\\nSerbia\\n']               1\n",
       "Name: Country Version, dtype: int64"
      ]
     },
     "execution_count": 272,
     "metadata": {},
     "output_type": "execute_result"
    }
   ],
   "source": [
    "df['Country Version'].astype(str).value_counts(dropna=False)"
   ]
  },
  {
   "cell_type": "code",
   "execution_count": 273,
   "id": "e22265f5",
   "metadata": {},
   "outputs": [
    {
     "data": {
      "text/plain": [
       "52.346252905333245"
      ]
     },
     "execution_count": 273,
     "metadata": {},
     "output_type": "execute_result"
    }
   ],
   "source": [
    "df['Country Version'].isnull().sum() / len(df['Country Version'])*100"
   ]
  },
  {
   "cell_type": "code",
   "execution_count": 274,
   "id": "752b32f7",
   "metadata": {},
   "outputs": [],
   "source": [
    "del df['Country Version']\n",
    "# df.drop(\"Country Version\", axis=1, inplace=True)"
   ]
  },
  {
   "cell_type": "markdown",
   "id": "4038fe57",
   "metadata": {},
   "source": [
    "***"
   ]
  },
  {
   "cell_type": "markdown",
   "id": "2e9f437f",
   "metadata": {},
   "source": [
    "<div class=\"alert alert-block alert-danger\">\n",
    "    \n",
    "<b>Cleaned Data</b>\n",
    "    \n",
    "</div>"
   ]
  },
  {
   "cell_type": "code",
   "execution_count": 275,
   "id": "b7f86527",
   "metadata": {},
   "outputs": [
    {
     "data": {
      "text/plain": [
       "Index(['Make_Model', 'Body_Type', 'Price', 'Vat', 'Km', 'Hp_kW', 'Type',\n",
       "       'Previous_Owners', 'Inspection_New', 'Warranty (Months)', 'Body_Color',\n",
       "       'Paint_Type', 'Nr.OfDoors', 'Nr.OfSeats', 'Gearing_Type',\n",
       "       'Displacement_cc', 'Cylinders', 'Weight_kg', 'Drive_Chain', 'Fuel',\n",
       "       'CO2_Emission (g/km CO2)', 'Emission_Class', 'Comfort & Convenience',\n",
       "       'Entertainment & Media', 'Extras', 'Safety & Security', 'Gears', 'Age',\n",
       "       'Upholstery_Type', 'Upholstery_Color', 'Cons_Comb (l/100 km)',\n",
       "       'Cons_City (l/100 km)', 'Cons_Country (l/100 km)'],\n",
       "      dtype='object')"
      ]
     },
     "execution_count": 275,
     "metadata": {},
     "output_type": "execute_result"
    }
   ],
   "source": [
    "df.columns"
   ]
  },
  {
   "cell_type": "code",
   "execution_count": 276,
   "id": "9dfed786",
   "metadata": {},
   "outputs": [],
   "source": [
    "df = df.reindex(columns=['Make_Model','Body_Type','Price','Vat','Age','Type','Km','Previous_Owners','Inspection_New' \\\n",
    "                  ,'Warranty (Months)','Body_Color','Paint_Type','Nr.OfDoors','Nr.OfSeats','Upholstery_Type' \\\n",
    "                  ,'Upholstery_Color','Fuel','Drive_Chain','Gearing_Type','Gears','Hp_kW','Displacement_cc' \\\n",
    "                  ,'Cylinders','Weight_kg','Cons_Comb (l/100 km)','Cons_City (l/100 km)','Cons_Country (l/100 km)' \\\n",
    "                  ,'CO2_Emission (g/km CO2)','Emission_Class','Comfort & Convenience','Entertainment & Media','Extras' \\\n",
    "                  ,'Safety & Security'])"
   ]
  },
  {
   "cell_type": "code",
   "execution_count": 277,
   "id": "a6adcfc9",
   "metadata": {},
   "outputs": [
    {
     "data": {
      "text/plain": [
       "Index(['Make_Model', 'Body_Type', 'Price', 'Vat', 'Age', 'Type', 'Km',\n",
       "       'Previous_Owners', 'Inspection_New', 'Warranty (Months)', 'Body_Color',\n",
       "       'Paint_Type', 'Nr.OfDoors', 'Nr.OfSeats', 'Upholstery_Type',\n",
       "       'Upholstery_Color', 'Fuel', 'Drive_Chain', 'Gearing_Type', 'Gears',\n",
       "       'Hp_kW', 'Displacement_cc', 'Cylinders', 'Weight_kg',\n",
       "       'Cons_Comb (l/100 km)', 'Cons_City (l/100 km)',\n",
       "       'Cons_Country (l/100 km)', 'CO2_Emission (g/km CO2)', 'Emission_Class',\n",
       "       'Comfort & Convenience', 'Entertainment & Media', 'Extras',\n",
       "       'Safety & Security'],\n",
       "      dtype='object')"
      ]
     },
     "execution_count": 277,
     "metadata": {},
     "output_type": "execute_result"
    }
   ],
   "source": [
    "df.columns"
   ]
  },
  {
   "cell_type": "code",
   "execution_count": 278,
   "id": "2ea6ca94",
   "metadata": {},
   "outputs": [
    {
     "data": {
      "text/plain": [
       "33"
      ]
     },
     "execution_count": 278,
     "metadata": {},
     "output_type": "execute_result"
    }
   ],
   "source": [
    "len(df.columns)"
   ]
  },
  {
   "cell_type": "code",
   "execution_count": 279,
   "id": "c5fa962d",
   "metadata": {},
   "outputs": [
    {
     "data": {
      "text/plain": [
       "525327"
      ]
     },
     "execution_count": 279,
     "metadata": {},
     "output_type": "execute_result"
    }
   ],
   "source": [
    "df.size"
   ]
  },
  {
   "cell_type": "code",
   "execution_count": 280,
   "id": "581c8df1",
   "metadata": {},
   "outputs": [
    {
     "data": {
      "text/html": [
       "<div>\n",
       "<style scoped>\n",
       "    .dataframe tbody tr th:only-of-type {\n",
       "        vertical-align: middle;\n",
       "    }\n",
       "\n",
       "    .dataframe tbody tr th {\n",
       "        vertical-align: top;\n",
       "    }\n",
       "\n",
       "    .dataframe thead th {\n",
       "        text-align: right;\n",
       "    }\n",
       "</style>\n",
       "<table border=\"1\" class=\"dataframe\">\n",
       "  <thead>\n",
       "    <tr style=\"text-align: right;\">\n",
       "      <th></th>\n",
       "      <th>Make_Model</th>\n",
       "      <th>Body_Type</th>\n",
       "      <th>Price</th>\n",
       "      <th>Vat</th>\n",
       "      <th>Age</th>\n",
       "      <th>Type</th>\n",
       "      <th>Km</th>\n",
       "      <th>Previous_Owners</th>\n",
       "      <th>Inspection_New</th>\n",
       "      <th>Warranty (Months)</th>\n",
       "      <th>Body_Color</th>\n",
       "      <th>Paint_Type</th>\n",
       "      <th>Nr.OfDoors</th>\n",
       "      <th>Nr.OfSeats</th>\n",
       "      <th>Upholstery_Type</th>\n",
       "      <th>Upholstery_Color</th>\n",
       "      <th>Fuel</th>\n",
       "      <th>Drive_Chain</th>\n",
       "      <th>Gearing_Type</th>\n",
       "      <th>Gears</th>\n",
       "      <th>Hp_kW</th>\n",
       "      <th>Displacement_cc</th>\n",
       "      <th>Cylinders</th>\n",
       "      <th>Weight_kg</th>\n",
       "      <th>Cons_Comb (l/100 km)</th>\n",
       "      <th>Cons_City (l/100 km)</th>\n",
       "      <th>Cons_Country (l/100 km)</th>\n",
       "      <th>CO2_Emission (g/km CO2)</th>\n",
       "      <th>Emission_Class</th>\n",
       "      <th>Comfort &amp; Convenience</th>\n",
       "      <th>Entertainment &amp; Media</th>\n",
       "      <th>Extras</th>\n",
       "      <th>Safety &amp; Security</th>\n",
       "    </tr>\n",
       "  </thead>\n",
       "  <tbody>\n",
       "    <tr>\n",
       "      <th>3821</th>\n",
       "      <td>Audi A3</td>\n",
       "      <td>Sedans</td>\n",
       "      <td>21550</td>\n",
       "      <td>VAT deductible</td>\n",
       "      <td>1.00</td>\n",
       "      <td>Used</td>\n",
       "      <td>16630.00</td>\n",
       "      <td>NaN</td>\n",
       "      <td>NaN</td>\n",
       "      <td>12.00</td>\n",
       "      <td>Grey</td>\n",
       "      <td>Metallic</td>\n",
       "      <td>5</td>\n",
       "      <td>5</td>\n",
       "      <td>None</td>\n",
       "      <td>None</td>\n",
       "      <td>Diesel</td>\n",
       "      <td>front</td>\n",
       "      <td>Automatic</td>\n",
       "      <td>7</td>\n",
       "      <td>85.00</td>\n",
       "      <td>1598.00</td>\n",
       "      <td>4</td>\n",
       "      <td>1285.00</td>\n",
       "      <td>3.80</td>\n",
       "      <td>4.30</td>\n",
       "      <td>3.50</td>\n",
       "      <td>99.00</td>\n",
       "      <td>Euro 6</td>\n",
       "      <td>Air conditioning,Armrest,Automatic climate con...</td>\n",
       "      <td>Bluetooth,Hands-free equipment,On-board comput...</td>\n",
       "      <td>Alloy wheels</td>\n",
       "      <td>ABS,Central door lock,Driver-side airbag,Elect...</td>\n",
       "    </tr>\n",
       "    <tr>\n",
       "      <th>842</th>\n",
       "      <td>Audi A1</td>\n",
       "      <td>Coupe</td>\n",
       "      <td>13950</td>\n",
       "      <td>VAT deductible</td>\n",
       "      <td>3.00</td>\n",
       "      <td>Used</td>\n",
       "      <td>27300.00</td>\n",
       "      <td>2</td>\n",
       "      <td>NaN</td>\n",
       "      <td>NaN</td>\n",
       "      <td>Black</td>\n",
       "      <td>Metallic</td>\n",
       "      <td>2</td>\n",
       "      <td>4</td>\n",
       "      <td>None</td>\n",
       "      <td>None</td>\n",
       "      <td>Benzine</td>\n",
       "      <td>NaN</td>\n",
       "      <td>Manual</td>\n",
       "      <td>5</td>\n",
       "      <td>70.00</td>\n",
       "      <td>999.00</td>\n",
       "      <td>3</td>\n",
       "      <td>1010.00</td>\n",
       "      <td>4.20</td>\n",
       "      <td>5.00</td>\n",
       "      <td>3.70</td>\n",
       "      <td>97.00</td>\n",
       "      <td>Euro 6</td>\n",
       "      <td>Air conditioning,Cruise control,Electrically h...</td>\n",
       "      <td>Bluetooth,CD player,Hands-free equipment,On-bo...</td>\n",
       "      <td>Alloy wheels,Catalytic Converter</td>\n",
       "      <td>ABS,Adaptive Cruise Control,Central door lock,...</td>\n",
       "    </tr>\n",
       "    <tr>\n",
       "      <th>13734</th>\n",
       "      <td>Renault Clio</td>\n",
       "      <td>Compact</td>\n",
       "      <td>6900</td>\n",
       "      <td>VAT deductible</td>\n",
       "      <td>3.00</td>\n",
       "      <td>Used</td>\n",
       "      <td>124000.00</td>\n",
       "      <td>NaN</td>\n",
       "      <td>NaN</td>\n",
       "      <td>12.00</td>\n",
       "      <td>White</td>\n",
       "      <td>NaN</td>\n",
       "      <td>5</td>\n",
       "      <td>5</td>\n",
       "      <td>None</td>\n",
       "      <td>Black</td>\n",
       "      <td>Diesel</td>\n",
       "      <td>front</td>\n",
       "      <td>Manual</td>\n",
       "      <td>5</td>\n",
       "      <td>55.00</td>\n",
       "      <td>1461.00</td>\n",
       "      <td>4</td>\n",
       "      <td>1087.00</td>\n",
       "      <td>3.30</td>\n",
       "      <td>3.50</td>\n",
       "      <td>3.10</td>\n",
       "      <td>85.00</td>\n",
       "      <td>Euro 6</td>\n",
       "      <td>Air conditioning,Cruise control,Hill Holder,Mu...</td>\n",
       "      <td>Bluetooth,On-board computer</td>\n",
       "      <td>NaN</td>\n",
       "      <td>ABS,Central door lock,Daytime running lights,D...</td>\n",
       "    </tr>\n",
       "    <tr>\n",
       "      <th>5653</th>\n",
       "      <td>Audi A3</td>\n",
       "      <td>Sedans</td>\n",
       "      <td>25489</td>\n",
       "      <td>VAT deductible</td>\n",
       "      <td>NaN</td>\n",
       "      <td>New</td>\n",
       "      <td>20.00</td>\n",
       "      <td>NaN</td>\n",
       "      <td>NaN</td>\n",
       "      <td>NaN</td>\n",
       "      <td>Grey</td>\n",
       "      <td>Metallic</td>\n",
       "      <td>5</td>\n",
       "      <td>5</td>\n",
       "      <td>Cloth</td>\n",
       "      <td>Black</td>\n",
       "      <td>Benzine</td>\n",
       "      <td>front</td>\n",
       "      <td>Manual</td>\n",
       "      <td>6</td>\n",
       "      <td>110.00</td>\n",
       "      <td>1498.00</td>\n",
       "      <td>4</td>\n",
       "      <td>NaN</td>\n",
       "      <td>5.50</td>\n",
       "      <td>6.90</td>\n",
       "      <td>4.60</td>\n",
       "      <td>124.00</td>\n",
       "      <td>Euro 6</td>\n",
       "      <td>Air conditioning,Automatic climate control,Cru...</td>\n",
       "      <td>Bluetooth,Hands-free equipment,USB</td>\n",
       "      <td>NaN</td>\n",
       "      <td>ABS,Central door lock,Daytime running lights,D...</td>\n",
       "    </tr>\n",
       "    <tr>\n",
       "      <th>14609</th>\n",
       "      <td>Renault Clio</td>\n",
       "      <td>Compact</td>\n",
       "      <td>10490</td>\n",
       "      <td>None</td>\n",
       "      <td>1.00</td>\n",
       "      <td>Used</td>\n",
       "      <td>17000.00</td>\n",
       "      <td>1</td>\n",
       "      <td>NaN</td>\n",
       "      <td>NaN</td>\n",
       "      <td>Black</td>\n",
       "      <td>NaN</td>\n",
       "      <td>5</td>\n",
       "      <td>5</td>\n",
       "      <td>Cloth</td>\n",
       "      <td>Black</td>\n",
       "      <td>Diesel</td>\n",
       "      <td>front</td>\n",
       "      <td>Manual</td>\n",
       "      <td>5</td>\n",
       "      <td>55.00</td>\n",
       "      <td>1461.00</td>\n",
       "      <td>4</td>\n",
       "      <td>1162.00</td>\n",
       "      <td>4.00</td>\n",
       "      <td>4.50</td>\n",
       "      <td>3.50</td>\n",
       "      <td>104.00</td>\n",
       "      <td>Euro 6</td>\n",
       "      <td>Air conditioning,Automatic climate control,Cru...</td>\n",
       "      <td>Bluetooth,Digital radio,Hands-free equipment,O...</td>\n",
       "      <td>Catalytic Converter,Touch screen,Voice Control</td>\n",
       "      <td>ABS,Central door lock,Central door lock with r...</td>\n",
       "    </tr>\n",
       "    <tr>\n",
       "      <th>12901</th>\n",
       "      <td>Opel Insignia</td>\n",
       "      <td>Station wagon</td>\n",
       "      <td>25845</td>\n",
       "      <td>VAT deductible</td>\n",
       "      <td>NaN</td>\n",
       "      <td>New</td>\n",
       "      <td>NaN</td>\n",
       "      <td>NaN</td>\n",
       "      <td>Yes</td>\n",
       "      <td>NaN</td>\n",
       "      <td>NaN</td>\n",
       "      <td>NaN</td>\n",
       "      <td>5</td>\n",
       "      <td>5</td>\n",
       "      <td>Cloth</td>\n",
       "      <td>Other</td>\n",
       "      <td>Diesel</td>\n",
       "      <td>front</td>\n",
       "      <td>Manual</td>\n",
       "      <td>6</td>\n",
       "      <td>81.00</td>\n",
       "      <td>1598.00</td>\n",
       "      <td>4</td>\n",
       "      <td>1522.00</td>\n",
       "      <td>4.60</td>\n",
       "      <td>5.40</td>\n",
       "      <td>4.20</td>\n",
       "      <td>121.00</td>\n",
       "      <td>Euro 6d-TEMP</td>\n",
       "      <td>Air conditioning,Armrest,Automatic climate con...</td>\n",
       "      <td>Bluetooth,Digital radio,On-board computer,Radi...</td>\n",
       "      <td>Alloy wheels,Catalytic Converter,Roof rack,Tou...</td>\n",
       "      <td>ABS,Adaptive Cruise Control,Central door lock,...</td>\n",
       "    </tr>\n",
       "    <tr>\n",
       "      <th>13738</th>\n",
       "      <td>Renault Clio</td>\n",
       "      <td>Sedans</td>\n",
       "      <td>6900</td>\n",
       "      <td>VAT deductible</td>\n",
       "      <td>3.00</td>\n",
       "      <td>Used</td>\n",
       "      <td>28500.00</td>\n",
       "      <td>2</td>\n",
       "      <td>NaN</td>\n",
       "      <td>NaN</td>\n",
       "      <td>White</td>\n",
       "      <td>NaN</td>\n",
       "      <td>5</td>\n",
       "      <td>5</td>\n",
       "      <td>None</td>\n",
       "      <td>None</td>\n",
       "      <td>Benzine</td>\n",
       "      <td>NaN</td>\n",
       "      <td>Manual</td>\n",
       "      <td>5</td>\n",
       "      <td>54.00</td>\n",
       "      <td>1149.00</td>\n",
       "      <td>4</td>\n",
       "      <td>1052.00</td>\n",
       "      <td>5.60</td>\n",
       "      <td>7.20</td>\n",
       "      <td>4.70</td>\n",
       "      <td>133.00</td>\n",
       "      <td>Euro 6</td>\n",
       "      <td>Cruise control,Electrical side mirrors,Hill Ho...</td>\n",
       "      <td>NaN</td>\n",
       "      <td>NaN</td>\n",
       "      <td>ABS,Central door lock,Central door lock with r...</td>\n",
       "    </tr>\n",
       "    <tr>\n",
       "      <th>5004</th>\n",
       "      <td>Audi A3</td>\n",
       "      <td>Sedans</td>\n",
       "      <td>26188</td>\n",
       "      <td>VAT deductible</td>\n",
       "      <td>NaN</td>\n",
       "      <td>New</td>\n",
       "      <td>10.00</td>\n",
       "      <td>NaN</td>\n",
       "      <td>Yes</td>\n",
       "      <td>NaN</td>\n",
       "      <td>Grey</td>\n",
       "      <td>Metallic</td>\n",
       "      <td>5</td>\n",
       "      <td>5</td>\n",
       "      <td>Cloth</td>\n",
       "      <td>None</td>\n",
       "      <td>Benzine</td>\n",
       "      <td>front</td>\n",
       "      <td>Automatic</td>\n",
       "      <td>NaN</td>\n",
       "      <td>110.00</td>\n",
       "      <td>1498.00</td>\n",
       "      <td>NaN</td>\n",
       "      <td>1345.00</td>\n",
       "      <td>5.20</td>\n",
       "      <td>6.40</td>\n",
       "      <td>4.40</td>\n",
       "      <td>117.00</td>\n",
       "      <td>Euro 6d-TEMP</td>\n",
       "      <td>Air conditioning,Armrest,Automatic climate con...</td>\n",
       "      <td>Bluetooth,CD player,Hands-free equipment,MP3,O...</td>\n",
       "      <td>Alloy wheels,Roof rack,Sport suspension</td>\n",
       "      <td>ABS,Central door lock,Daytime running lights,D...</td>\n",
       "    </tr>\n",
       "    <tr>\n",
       "      <th>15654</th>\n",
       "      <td>Renault Espace</td>\n",
       "      <td>Van</td>\n",
       "      <td>35146</td>\n",
       "      <td>None</td>\n",
       "      <td>NaN</td>\n",
       "      <td>New</td>\n",
       "      <td>NaN</td>\n",
       "      <td>NaN</td>\n",
       "      <td>NaN</td>\n",
       "      <td>NaN</td>\n",
       "      <td>NaN</td>\n",
       "      <td>NaN</td>\n",
       "      <td>5</td>\n",
       "      <td>5</td>\n",
       "      <td>None</td>\n",
       "      <td>None</td>\n",
       "      <td>Diesel</td>\n",
       "      <td>front</td>\n",
       "      <td>Automatic</td>\n",
       "      <td>6</td>\n",
       "      <td>118.00</td>\n",
       "      <td>1997.00</td>\n",
       "      <td>4</td>\n",
       "      <td>1659.00</td>\n",
       "      <td>5.00</td>\n",
       "      <td>5.00</td>\n",
       "      <td>4.00</td>\n",
       "      <td>NaN</td>\n",
       "      <td>NaN</td>\n",
       "      <td>NaN</td>\n",
       "      <td>NaN</td>\n",
       "      <td>NaN</td>\n",
       "      <td>NaN</td>\n",
       "    </tr>\n",
       "    <tr>\n",
       "      <th>15067</th>\n",
       "      <td>Renault Espace</td>\n",
       "      <td>Van</td>\n",
       "      <td>25490</td>\n",
       "      <td>None</td>\n",
       "      <td>2.00</td>\n",
       "      <td>Used</td>\n",
       "      <td>66984.00</td>\n",
       "      <td>NaN</td>\n",
       "      <td>NaN</td>\n",
       "      <td>12.00</td>\n",
       "      <td>Black</td>\n",
       "      <td>NaN</td>\n",
       "      <td>5</td>\n",
       "      <td>NaN</td>\n",
       "      <td>None</td>\n",
       "      <td>None</td>\n",
       "      <td>Diesel</td>\n",
       "      <td>NaN</td>\n",
       "      <td>Automatic</td>\n",
       "      <td>NaN</td>\n",
       "      <td>118.00</td>\n",
       "      <td>NaN</td>\n",
       "      <td>NaN</td>\n",
       "      <td>NaN</td>\n",
       "      <td>46.00</td>\n",
       "      <td>NaN</td>\n",
       "      <td>NaN</td>\n",
       "      <td>NaN</td>\n",
       "      <td>NaN</td>\n",
       "      <td>Sunroof</td>\n",
       "      <td>NaN</td>\n",
       "      <td>NaN</td>\n",
       "      <td>NaN</td>\n",
       "    </tr>\n",
       "  </tbody>\n",
       "</table>\n",
       "</div>"
      ],
      "text/plain": [
       "           Make_Model      Body_Type  Price             Vat  Age  Type  \\\n",
       "3821          Audi A3         Sedans  21550  VAT deductible 1.00  Used   \n",
       "842           Audi A1          Coupe  13950  VAT deductible 3.00  Used   \n",
       "13734    Renault Clio        Compact   6900  VAT deductible 3.00  Used   \n",
       "5653          Audi A3         Sedans  25489  VAT deductible  NaN   New   \n",
       "14609    Renault Clio        Compact  10490            None 1.00  Used   \n",
       "12901   Opel Insignia  Station wagon  25845  VAT deductible  NaN   New   \n",
       "13738    Renault Clio         Sedans   6900  VAT deductible 3.00  Used   \n",
       "5004          Audi A3         Sedans  26188  VAT deductible  NaN   New   \n",
       "15654  Renault Espace            Van  35146            None  NaN   New   \n",
       "15067  Renault Espace            Van  25490            None 2.00  Used   \n",
       "\n",
       "             Km Previous_Owners Inspection_New  Warranty (Months) Body_Color  \\\n",
       "3821   16630.00             NaN            NaN              12.00       Grey   \n",
       "842    27300.00               2            NaN                NaN      Black   \n",
       "13734 124000.00             NaN            NaN              12.00      White   \n",
       "5653      20.00             NaN            NaN                NaN       Grey   \n",
       "14609  17000.00               1            NaN                NaN      Black   \n",
       "12901       NaN             NaN            Yes                NaN        NaN   \n",
       "13738  28500.00               2            NaN                NaN      White   \n",
       "5004      10.00             NaN            Yes                NaN       Grey   \n",
       "15654       NaN             NaN            NaN                NaN        NaN   \n",
       "15067  66984.00             NaN            NaN              12.00      Black   \n",
       "\n",
       "      Paint_Type Nr.OfDoors Nr.OfSeats Upholstery_Type Upholstery_Color  \\\n",
       "3821    Metallic          5          5            None             None   \n",
       "842     Metallic          2          4            None             None   \n",
       "13734        NaN          5          5            None            Black   \n",
       "5653    Metallic          5          5           Cloth            Black   \n",
       "14609        NaN          5          5           Cloth            Black   \n",
       "12901        NaN          5          5           Cloth            Other   \n",
       "13738        NaN          5          5            None             None   \n",
       "5004    Metallic          5          5           Cloth             None   \n",
       "15654        NaN          5          5            None             None   \n",
       "15067        NaN          5        NaN            None             None   \n",
       "\n",
       "          Fuel Drive_Chain Gearing_Type Gears  Hp_kW  Displacement_cc  \\\n",
       "3821    Diesel       front    Automatic     7  85.00          1598.00   \n",
       "842    Benzine         NaN       Manual     5  70.00           999.00   \n",
       "13734   Diesel       front       Manual     5  55.00          1461.00   \n",
       "5653   Benzine       front       Manual     6 110.00          1498.00   \n",
       "14609   Diesel       front       Manual     5  55.00          1461.00   \n",
       "12901   Diesel       front       Manual     6  81.00          1598.00   \n",
       "13738  Benzine         NaN       Manual     5  54.00          1149.00   \n",
       "5004   Benzine       front    Automatic   NaN 110.00          1498.00   \n",
       "15654   Diesel       front    Automatic     6 118.00          1997.00   \n",
       "15067   Diesel         NaN    Automatic   NaN 118.00              NaN   \n",
       "\n",
       "      Cylinders  Weight_kg  Cons_Comb (l/100 km)  Cons_City (l/100 km)  \\\n",
       "3821          4    1285.00                  3.80                  4.30   \n",
       "842           3    1010.00                  4.20                  5.00   \n",
       "13734         4    1087.00                  3.30                  3.50   \n",
       "5653          4        NaN                  5.50                  6.90   \n",
       "14609         4    1162.00                  4.00                  4.50   \n",
       "12901         4    1522.00                  4.60                  5.40   \n",
       "13738         4    1052.00                  5.60                  7.20   \n",
       "5004        NaN    1345.00                  5.20                  6.40   \n",
       "15654         4    1659.00                  5.00                  5.00   \n",
       "15067       NaN        NaN                 46.00                   NaN   \n",
       "\n",
       "       Cons_Country (l/100 km)  CO2_Emission (g/km CO2) Emission_Class  \\\n",
       "3821                      3.50                    99.00         Euro 6   \n",
       "842                       3.70                    97.00         Euro 6   \n",
       "13734                     3.10                    85.00         Euro 6   \n",
       "5653                      4.60                   124.00         Euro 6   \n",
       "14609                     3.50                   104.00         Euro 6   \n",
       "12901                     4.20                   121.00   Euro 6d-TEMP   \n",
       "13738                     4.70                   133.00         Euro 6   \n",
       "5004                      4.40                   117.00   Euro 6d-TEMP   \n",
       "15654                     4.00                      NaN            NaN   \n",
       "15067                      NaN                      NaN            NaN   \n",
       "\n",
       "                                   Comfort & Convenience  \\\n",
       "3821   Air conditioning,Armrest,Automatic climate con...   \n",
       "842    Air conditioning,Cruise control,Electrically h...   \n",
       "13734  Air conditioning,Cruise control,Hill Holder,Mu...   \n",
       "5653   Air conditioning,Automatic climate control,Cru...   \n",
       "14609  Air conditioning,Automatic climate control,Cru...   \n",
       "12901  Air conditioning,Armrest,Automatic climate con...   \n",
       "13738  Cruise control,Electrical side mirrors,Hill Ho...   \n",
       "5004   Air conditioning,Armrest,Automatic climate con...   \n",
       "15654                                                NaN   \n",
       "15067                                            Sunroof   \n",
       "\n",
       "                                   Entertainment & Media  \\\n",
       "3821   Bluetooth,Hands-free equipment,On-board comput...   \n",
       "842    Bluetooth,CD player,Hands-free equipment,On-bo...   \n",
       "13734                        Bluetooth,On-board computer   \n",
       "5653                  Bluetooth,Hands-free equipment,USB   \n",
       "14609  Bluetooth,Digital radio,Hands-free equipment,O...   \n",
       "12901  Bluetooth,Digital radio,On-board computer,Radi...   \n",
       "13738                                                NaN   \n",
       "5004   Bluetooth,CD player,Hands-free equipment,MP3,O...   \n",
       "15654                                                NaN   \n",
       "15067                                                NaN   \n",
       "\n",
       "                                                  Extras  \\\n",
       "3821                                        Alloy wheels   \n",
       "842                     Alloy wheels,Catalytic Converter   \n",
       "13734                                                NaN   \n",
       "5653                                                 NaN   \n",
       "14609     Catalytic Converter,Touch screen,Voice Control   \n",
       "12901  Alloy wheels,Catalytic Converter,Roof rack,Tou...   \n",
       "13738                                                NaN   \n",
       "5004             Alloy wheels,Roof rack,Sport suspension   \n",
       "15654                                                NaN   \n",
       "15067                                                NaN   \n",
       "\n",
       "                                       Safety & Security  \n",
       "3821   ABS,Central door lock,Driver-side airbag,Elect...  \n",
       "842    ABS,Adaptive Cruise Control,Central door lock,...  \n",
       "13734  ABS,Central door lock,Daytime running lights,D...  \n",
       "5653   ABS,Central door lock,Daytime running lights,D...  \n",
       "14609  ABS,Central door lock,Central door lock with r...  \n",
       "12901  ABS,Adaptive Cruise Control,Central door lock,...  \n",
       "13738  ABS,Central door lock,Central door lock with r...  \n",
       "5004   ABS,Central door lock,Daytime running lights,D...  \n",
       "15654                                                NaN  \n",
       "15067                                                NaN  "
      ]
     },
     "execution_count": 280,
     "metadata": {},
     "output_type": "execute_result"
    }
   ],
   "source": [
    "df.sample(10)"
   ]
  },
  {
   "cell_type": "code",
   "execution_count": 281,
   "id": "712dfe75",
   "metadata": {},
   "outputs": [
    {
     "name": "stdout",
     "output_type": "stream",
     "text": [
      "<class 'pandas.core.frame.DataFrame'>\n",
      "RangeIndex: 15919 entries, 0 to 15918\n",
      "Data columns (total 33 columns):\n",
      " #   Column                   Non-Null Count  Dtype  \n",
      "---  ------                   --------------  -----  \n",
      " 0   Make_Model               15919 non-null  object \n",
      " 1   Body_Type                15859 non-null  object \n",
      " 2   Price                    15919 non-null  int64  \n",
      " 3   Vat                      11406 non-null  object \n",
      " 4   Age                      14322 non-null  float64\n",
      " 5   Type                     15917 non-null  object \n",
      " 6   Km                       14895 non-null  float64\n",
      " 7   Previous_Owners          9279 non-null   object \n",
      " 8   Inspection_New           3932 non-null   object \n",
      " 9   Warranty (Months)        4853 non-null   float64\n",
      " 10  Body_Color               15322 non-null  object \n",
      " 11  Paint_Type               10147 non-null  object \n",
      " 12  Nr.OfDoors               15707 non-null  object \n",
      " 13  Nr.OfSeats               14942 non-null  object \n",
      " 14  Upholstery_Type          11416 non-null  object \n",
      " 15  Upholstery_Color         10897 non-null  object \n",
      " 16  Fuel                     15919 non-null  object \n",
      " 17  Drive_Chain              9061 non-null   object \n",
      " 18  Gearing_Type             15919 non-null  object \n",
      " 19  Gears                    11207 non-null  object \n",
      " 20  Hp_kW                    15831 non-null  float64\n",
      " 21  Displacement_cc          15423 non-null  float64\n",
      " 22  Cylinders                10239 non-null  object \n",
      " 23  Weight_kg                8945 non-null   float64\n",
      " 24  Cons_Comb (l/100 km)     13886 non-null  float64\n",
      " 25  Cons_City (l/100 km)     13483 non-null  float64\n",
      " 26  Cons_Country (l/100 km)  13543 non-null  float64\n",
      " 27  CO2_Emission (g/km CO2)  13483 non-null  float64\n",
      " 28  Emission_Class           12291 non-null  object \n",
      " 29  Comfort & Convenience    14999 non-null  object \n",
      " 30  Entertainment & Media    14545 non-null  object \n",
      " 31  Extras                   12957 non-null  object \n",
      " 32  Safety & Security        14937 non-null  object \n",
      "dtypes: float64(10), int64(1), object(22)\n",
      "memory usage: 4.0+ MB\n"
     ]
    }
   ],
   "source": [
    "df.info()"
   ]
  },
  {
   "cell_type": "code",
   "execution_count": 282,
   "id": "2a72ee96",
   "metadata": {},
   "outputs": [
    {
     "data": {
      "text/plain": [
       "object     22\n",
       "float64    10\n",
       "int64       1\n",
       "dtype: int64"
      ]
     },
     "execution_count": 282,
     "metadata": {},
     "output_type": "execute_result"
    }
   ],
   "source": [
    "df.dtypes.value_counts()"
   ]
  },
  {
   "cell_type": "markdown",
   "id": "b6f15012",
   "metadata": {},
   "source": [
    "***"
   ]
  },
  {
   "cell_type": "markdown",
   "id": "5a49936e",
   "metadata": {},
   "source": [
    "### RESULT\n",
    "\n",
    "***1. The data in all columns were analyzed one by one***\n",
    "\n",
    "***2. Empty columns were removed***\n",
    "\n",
    "***3. Some columns were removed because they contain many missing values***\n",
    "\n",
    "***4. Unwanted observations (irrelevant and duplicated observations) were removed***\n",
    "\n",
    "***5. Relevant data were separated from irrelevant ones***\n",
    "\n",
    "***6. Some columns were split into parts due to the discrete data in***\n",
    "\n",
    "***7. Some columns datatypes were changed (some data converted to a numeric type) and columns were renamed***"
   ]
  },
  {
   "cell_type": "markdown",
   "id": "a58ef01f",
   "metadata": {},
   "source": [
    "***"
   ]
  },
  {
   "cell_type": "code",
   "execution_count": 283,
   "id": "d7ccf461",
   "metadata": {},
   "outputs": [],
   "source": [
    "df.to_csv('scoutcar_cleaned.csv', index=False)"
   ]
  },
  {
   "cell_type": "code",
   "execution_count": null,
   "id": "6f9bd744",
   "metadata": {},
   "outputs": [],
   "source": []
  }
 ],
 "metadata": {
  "kernelspec": {
   "display_name": "Python 3 (ipykernel)",
   "language": "python",
   "name": "python3"
  },
  "language_info": {
   "codemirror_mode": {
    "name": "ipython",
    "version": 3
   },
   "file_extension": ".py",
   "mimetype": "text/x-python",
   "name": "python",
   "nbconvert_exporter": "python",
   "pygments_lexer": "ipython3",
   "version": "3.9.6"
  }
 },
 "nbformat": 4,
 "nbformat_minor": 5
}
